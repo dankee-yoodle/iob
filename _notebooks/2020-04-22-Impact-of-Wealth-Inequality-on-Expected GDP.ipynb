{
 "cells": [
  {
   "cell_type": "markdown",
   "metadata": {},
   "source": [
    "# \"Impact of Varying Wealth Inequality on Expected GDP Growth Rate\"\n",
    "> \"Exploring how an increasing Gini Index impacts expected GDP growth rate under the assumption that consumer behavior is motivated by the distribution of available consumption opportunities. Pay no attention to the missing second half -- haha, you can't\"\n",
    "- toc: true\n",
    "- branch: master\n",
    "- badges: true\n",
    "- comments: true\n",
    "- categories: [economics, inequality]\n",
    "- image: images/some_folder/your_image.png\n",
    "- hide: false\n",
    "- search_exclude: true\n",
    "- metadata_key1: metadata_value1\n",
    "- metadata_key2: metadata_value2"
   ]
  },
  {
   "cell_type": "markdown",
   "metadata": {},
   "source": [
    "This note explores the effect of varying wealth inequality on expected GDP growth rate in a simplified economy, under the assumption that consumer behavior is motivated by the local distribution of available consumption opportunities. First, I introduce a theoretical framework for estimating expected GDP growth rate given a distribution of wealth and a distribution of available consumption opportunities. Second, I apply the framework to explore how expected GDP growth rate varies with wealth inequality and distribution of opportunity.\n",
    "\n",
    "Consider a simple economy with no taxes or subsidies, composed of M discrete units of wealth distributed among N economic agents. Taking the value-added perspective, the increase of the GDP of the economy over a time period $\\delta t$ - the GDP growth rate - can be written as the total wealth added through productive processes by the agents during the time period $\\delta t$.\n",
    "\n",
    "$$\\delta GDP=\\sum_{i=1}^{N} p_{i}-c_{i}$$\n",
    "\n",
    "Where $p_{i}$ is the wealth produced by the productive processes completed during $\\delta t$ by economic agent $i$ and $c_{i}$ is the wealth consumed by the same agent in the the same processes. Assuming a constant, uniform return on investment $r$ such that  $p_{i} = (1+r)c_{i}$, the growth rate can be written as \n",
    "\n",
    "$$\\delta GDP=\\sum_{i=1}^{N} rc_{i}$$\n",
    "\n",
    "Where the product $rc_{i}$ is the surplus value produced by economic agent $i$ during $\\delta t$. Consequently the expected $GDP$ growth rate can be written as\n",
    "\n",
    "$$E[\\delta GDP]=r\\sum_{i=1}^{N}E[c_{i}]$$\n",
    "\n",
    "Assuming that the amount of wealth consumed by an economic agent during time period $\\delta t$ is a random variable with a probability distribution characterized by the agent's wealth, such that the expected amounts consumed by agents of identical wealth are identical; and that an economic agent can only consume as much wealth as it has, expected GDP growth rate can be written as\n",
    "\n",
    "$$E[\\delta GDP]=r\\sum_{w=0}^{M}N(w)\\sum_{c=0}^{w} cP(c,w)$$\n",
    "\n",
    "Where $N(w)$ is the number of economic agents having wealth $w$, the inner sum is over all possible amounts of wealth an economic agent of wealth $w$ can consume, and $P(c,w)$ is the probability that an economic agent with wealth $w$ will consume amount of wealth $c$.\n",
    "\n",
    "Assuming that the probability an agent with wealth $w$ consumes an amount $c$ is the number of opportunities to consume amount $c$ relative to the total number of consumption opportunities available to an agent with wealth $w$, $P(c,w)$ can be written as\n",
    "\n",
    "$$P(c,w) = \\frac{O(c)}{\\sum_{c=0}^{w}O(c)}=\\frac{O(c)}{O_{a}(w)}$$\n",
    "\n",
    "Where $O(c)$ is the number of opportunities to consume amount of wealth $c$, and $O_{a}(w)$ is the total number of consumption opportunities available to an economic agent of wealth $w$. The expected GDP growth rate is then\n",
    "\n",
    "$$E[\\delta GDP]=r\\sum_{w=0}^{M}\\frac{N(w)}{O_{a}(w)}\\sum_{c=0}^{w}cO(c)$$\n",
    "\n",
    "Given a wealth distribution $N(w)$ and an opportunity distribution $O(c)$, the expected GDP growth rate can be easily computed."
   ]
  },
  {
   "cell_type": "markdown",
   "metadata": {},
   "source": [
    "put second half of note here later"
   ]
  },
  {
   "cell_type": "code",
   "execution_count": null,
   "metadata": {},
   "outputs": [],
   "source": []
  }
 ],
 "metadata": {
  "kernelspec": {
   "display_name": "Python 3",
   "language": "python",
   "name": "python3"
  },
  "language_info": {
   "codemirror_mode": {
    "name": "ipython",
    "version": 3
   },
   "file_extension": ".py",
   "mimetype": "text/x-python",
   "name": "python",
   "nbconvert_exporter": "python",
   "pygments_lexer": "ipython3",
   "version": "3.7.3"
  },
  "latex_envs": {
   "LaTeX_envs_menu_present": true,
   "autoclose": false,
   "autocomplete": true,
   "bibliofile": "biblio.bib",
   "cite_by": "apalike",
   "current_citInitial": 1,
   "eqLabelWithNumbers": true,
   "eqNumInitial": 1,
   "hotkeys": {
    "equation": "Ctrl-E",
    "itemize": "Ctrl-I"
   },
   "labels_anchors": false,
   "latex_user_defs": false,
   "report_style_numbering": false,
   "user_envs_cfg": false
  }
 },
 "nbformat": 4,
 "nbformat_minor": 2
}
