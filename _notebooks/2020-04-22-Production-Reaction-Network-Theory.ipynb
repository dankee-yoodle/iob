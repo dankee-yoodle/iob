{
 "cells": [
  {
   "cell_type": "markdown",
   "metadata": {},
   "source": [
    "# \"Production Reaction Network Theory\"\n",
    "> \"How the economics of Sraffa and Von Neumann can be recovered through chemical reaction network theory, and how Sraffa's income distribution can be extended to account for other wage-like factors. Sloppy work in progressish, as usual. Accepting pull requests.\"\n",
    "- toc: true\n",
    "- branch: master\n",
    "- badges: true\n",
    "- comments: true\n",
    "- categories: [economics]\n",
    "- image: images/some_folder/your_image.png\n",
    "- hide: false\n",
    "- search_exclude: true\n",
    "- metadata_key1: metadata_value1\n",
    "- metadata_key2: metadata_value2"
   ]
  },
  {
   "cell_type": "markdown",
   "metadata": {},
   "source": [
    "## Abstract"
   ]
  },
  {
   "cell_type": "markdown",
   "metadata": {},
   "source": [
    "In this note, I apply the methodology of chemical reaction network theory in order to reproduce the Von Neumann-Sraffa uniform growth society profit-price relations and the Sraffa income distribution. Then, I generalize the Sraffa income distribution to account for taxation and corruption. Throughout, I identify how the chemical reaction network perspective might be used to differentiate between the structural and evolutionary constraints imposed on commodity abundance dynamics in a society, and how any questions of distribution must be considered in the context of those constraints."
   ]
  },
  {
   "cell_type": "markdown",
   "metadata": {},
   "source": [
    "## Chemical Reaction Network Theory"
   ]
  },
  {
   "cell_type": "markdown",
   "metadata": {},
   "source": [
    "Assume the dynamics of the state of a solution can be described by $J$ different chemical reactions, where upon occurrence each reaction consumes some combination of $K$ different chemicals in order to produce another. If $a_{jk}$ is the number of units of chemical $k$ consumed by reaction $j$, $b_{jk}$ is the number of units of chemical $k$ produced by reaction $j$, and $q_j$ is the number of times reaction $j$ occurs per unit-time, then the solution's chemical reaction network can be represented as\n",
    "\n",
    "$$a_{11}+a_{12}+\\dots+a_{1K} \\overset{q_1}{\\rightarrow} b_{11}+b_{12}+\\dots+b_{1K}$$\n",
    "$$a_{21}+a_{22}+\\dots+a_{2K} \\overset{q_2}{\\rightarrow} b_{21}+b_{22}+\\dots+b_{2K}$$\n",
    "$$\\vdots$$\n",
    "$$a_{J1}+a_{J2}+\\dots+a_{JK} \\overset{q_J}{\\rightarrow} b_{J1}+b_{J2}+\\dots+b_{JK}$$\n",
    "\n",
    "\n",
    "Define the abundance - the number of units - of chemical $k$ in the solution at time $t$ as $C_k(t)$. Chemical reaction network theory seeks to connect the dynamics of the functions $C_k(t)$, $k=1...K$ to the structure of the network defined by the available chemical reactions.  "
   ]
  },
  {
   "cell_type": "markdown",
   "metadata": {},
   "source": [
    "### Structural Constraints on Solution Dynamics"
   ]
  },
  {
   "cell_type": "markdown",
   "metadata": {},
   "source": [
    "[If a solution is isolated][], meaning there are no chemical flows in or out, such that the set of available chemical reactions is the only means by which the state of the solution may change in composition, then the rate of change of the abundance of chemical $k$ is given by the sum over all reactions $j=1...J$ of the the product of the difference between the number of units of chemical $k$ produced and consumed by reaction $j$ and the number of times reaction $j$ occurs per unit-time.\n",
    "\n",
    "$$\\frac{dC_k(t)}{dt}=q_1(b_{1k}-a_{1k})+q_2(b_{2k}-a_{2k})+\\dots+q_J(b_{Jk}-a_{Jk})$$\n",
    "\n",
    "Generalizing from the single chemical equation, defining $\\vec{C(t)}$ as the $K$x$1$-dimensional vector of chemical abundances, $A$ as the $J$x$K$-dimensional matrix with entries $[A]_{jk}=a_{jk}$, and $B$ as the $J$x$K$-dimensional matrix with entries $[B]_{jk}=b_{jk}$, the rate of change of the abundances of the chemicals in the solution can be written as\n",
    "\n",
    "$$\\frac{d\\vec{C(t)}}{dt}=(B-A)^T\\vec{q}$$\n",
    "\n",
    "Where the superscript $T$ refers to the matrix transpose and $\\vec{q}$ is the $J$x$1$-dimensional vector of reaction rates defined in the chemical reaction network. This equation is the traditional chemical reaction network theory representation of the dynamics of chemical abundances. \n",
    "\n",
    "Because the reactions are assumed to be the only way the state of the solution may change, the span of the matrix $(B-A)^T$ imposes inherent limitations on the dynamics of the solution; it is not possible for the state of the solution to move in a direction not prescribed by the available reactions. This is a structural constraint imposed on the dynamics of the state of the solution by the chemical reaction network.\n",
    "\n",
    "[If a solution is isolated]:#4\n",
    "\n"
   ]
  },
  {
   "cell_type": "markdown",
   "metadata": {},
   "source": [
    "## Evolutionary Constraints on Solution Dynamics"
   ]
  },
  {
   "cell_type": "markdown",
   "metadata": {},
   "source": [
    "No matter how the state of the solution evolves over time, it must obey the structural constraint. That said, there are an infinite number of ways the solution might evolve while still obeying the structural constraint. There is room to define an additional constraint, one which determines how the state of the solution will actually evolve within the structure of the available chemical network. \n",
    "\n",
    "In general, the additional constraint can be any arbitrary vector function which exists in the span of the structural constraint. For a particular example, if the state of the solution is assumed to be stable, such that the amount of each chemical in the solution is conserved over time, then there exists the additional evolutionary constraint\n",
    "\n",
    "\n",
    "$$\\frac{d\\vec{C(t)}}{dt}=\\vec{0}$$\n",
    "\n",
    "\n",
    "Evolutionary constraints exists entirely independently of structural constraints, and combining the structural and evolutionary constraints imposed on a solution determines the set of permissible reaction rates that can sustain the assumed solution.\n",
    "\n",
    "If it is assumed that there are no chemical flows in or out of the solution, such that the available chemical reactions are the only means by which the state of the solution may change, then combining the structural and stable evolutionary constraints leads to the equality\n",
    "\n",
    "\n",
    "$$(B-A)^T\\vec{q}=\\vec{0}$$\n",
    "\n",
    "\n",
    "The reaction rate vectors that solve this equation are the reaction rate vectors which are physically permissable in a stable solution having access to the given chemical reaction network"
   ]
  },
  {
   "cell_type": "markdown",
   "metadata": {},
   "source": [
    "## Conservation of Mass\n"
   ]
  },
  {
   "cell_type": "markdown",
   "metadata": {},
   "source": [
    "If the chemical reaction network is assumed to be conservative, such that no reaction creates or destroys mass, then for each reaction $j$ it must be true that\n",
    "\n",
    "$$m_1a_{j1}+m_2a_{j2}+\\dots+m_Ka_{jK} = m_1b_{j1}+m_2b_{j2}+\\dots+m_Kb_{jK}$$\n",
    "\n",
    "Where $m_k$ is the mass per unit-amount of chemical $k$, such that each term in the equation has units of mass. Traditionally, chemistry works with relative masses. One chemical is defined as having a unit-amount of mass, and the masses of the other chemicals are defined relative to that unit-amount. Specifically, traditionally, one molecule of carbon-12 is defined as having the unit amount of mass, and the masses of the other chemicals are measured relative to the that unit amount, called a \"mole\" for short. \n",
    "\n",
    "\n",
    "Generalizing from the single reaction case and rearranging, if the chemical reaction network is conservative, then it must be true that\n",
    "\n",
    "\n",
    "$$(B-A)\\vec{m}=\\vec{0}$$\n",
    "\n",
    "\n",
    "Where $\\vec{m}$ is the $k$-dimensional vector of chemical masses.\n"
   ]
  },
  {
   "cell_type": "markdown",
   "metadata": {},
   "source": [
    "## Mass and Exchange-Value"
   ]
  },
  {
   "cell_type": "markdown",
   "metadata": {},
   "source": [
    "Under the assumption of conservative chemical reactions, if one bundle of chemicals can be transformed into another, then the two bundles of chemicals must have equal mass. Analogously, under the assumption of a fair market(?), [if one bundle of commodities can be exchanged for another, then the two bundles of commodities must have equal exchange-value][]$^1$. The fair market assumption  can be written as\n",
    "\n",
    "$$p_1A_{1}+p_2A_{2}+\\dots+p_KA_{K} = p_1B_{1}+p_2B_{2}+\\dots+p_KB_{K}$$\n",
    "\n",
    "Where $a_k$ is the amount of the $k$th commodity in the initial bundle, $b_k$ is the amount of the $k$th commodity in the final bundle, and $p_k$ is the exchange-value per unit-amount of the $k$th commodity. Traditionally, economics works with relative exchange-values. One commodity is defined as having a unit-amount of exchange-value, and the exchange-values of the other commodities are defined relative to that unit-amount. Specifically, in the United States, for example, a decorated piece of paper is defined as having the unit amount of exchange-value, and the exchange-values of the other commodities are measured relative to the that unit amount, called a \"dollar\" for short. \n",
    "\n",
    "In the next section, I'll demonstrate how the grammar of chemical reaction network theory can be adapted to define a \"production reaction network theory\". Production reaction network theory casts methods of production as chemical reactions, and describes the dynamics of the abundances of commodities in a society in the same way that chemical reaction network theory does the abundances of chemicals in a solution.\n",
    "\n",
    "Applying the tools of chemical reaction network theory to basic economic theory leads to a set of equations which can be solved for the set of commodity values that allow a society, subject to designated structural constraints and evolutionary goals, to sustain itself. This system of equations happens to be equivalent to the Sraffa system of equations and the equality aspect of the Von Nuemann price inequalities.\n",
    "\n",
    "[if one bundle of commodities can be exchanged for another, then the two bundles of commodities must have equal exchange-value]:#1\n"
   ]
  },
  {
   "cell_type": "markdown",
   "metadata": {},
   "source": [
    "## Production Reaction Network Theory"
   ]
  },
  {
   "cell_type": "markdown",
   "metadata": {},
   "source": [
    "Assume the dynamics of the state of a society can be described by $J$ different methods of production, where upon execution each method consumes some combination of $K$ different commodities in order to produce another. If $a_{jk}$ is the number of units of commodity $k$ consumed by method $j$, $b_{jk}$ is the number of units of commodity $k$ produced by method $j$, and $q_j$ is the number of times method $j$ is executed per unit-time, then the society's $j$th method of production - the $j$th \"production reaction\" - can be represented as:\n",
    "\n",
    "$$P_j: \\sum_{k=1}^{K} a_{jk}c_k \\xrightarrow[]{q_j} \\sum_{k=1}^{K} b_{jk}c_k$$\n",
    "\n",
    "Which is exactly Von Neumann's symbolic representation of the productive process. This is perhaps not surprising, given that he initially studied chemical engineering."
   ]
  },
  {
   "cell_type": "markdown",
   "metadata": {},
   "source": [
    "### Structural Constraints on Societal Dynamics"
   ]
  },
  {
   "cell_type": "markdown",
   "metadata": {},
   "source": [
    "If a society is isolated, meaning there are no commodity flows in or out, and executing the available production reactions is the only means by which the abundances of the commodities of the society may change in composition, then the rate of change of the abundance of commodity $k$ in the society is given by\n",
    "\n",
    "$$\\frac{d\\vec{C(t)}}{dt}=(B-A)^T\\vec{q}$$\n",
    "\n",
    "Where $\\vec{C(t)}$ is the $K$x$1$-dimensional vector of commodity abundances, $\\vec{q}$ is the $J$x$1$-dimensional vector of [production reaction rates][], $A$ as the $J$x$K$-dimensional matrix with entries $[A]_{jk}=a_{jk}$, and $B$ as the $J$x$K$-dimensional matrix with entries $[B]_{jk}=b_{jk}$.\n",
    "\n",
    "[production reaction rates]:#1\n",
    "\n",
    "Because execution of the methods of production is assumed to be the only means by which the abundances of commodities in society may change, the span of the matrix $(B-A)^T$ imposes inherent limitations on the dynamics of society; it is not possible for the state of the society to evolve in a direction other than those prescribed by the methods.\n",
    "\n",
    "This is a structural constraint imposed on the dynamics of the state of the society by the production reaction network.\n"
   ]
  },
  {
   "cell_type": "markdown",
   "metadata": {},
   "source": [
    "### Evolutionary Constraints on Societal Dynamics"
   ]
  },
  {
   "cell_type": "markdown",
   "metadata": {},
   "source": [
    "No matter how the state of the society evolves over time, it must obey its structural constraint. That said, there are an infinite number of ways the society might evolve while still obeying its structural constraint. There is room to define an additional constraint, one which determines how the state of the society will actually evolve within the structure of the available production reaction network. \n",
    "\n",
    "For example, if the state of the society is assumed to be stable, such that the abundance of each commodity in the society is conserved, then there exists the evolutionary constraint\n",
    "\n",
    "$$\\frac{d\\vec{C(t)}}{dt}=\\vec{0}$$\n",
    "\n",
    "This is an evolutionary constraint imposed on society: a requirement that any commodity abundance dynamic must meet if the society is to subsist. Combining the general structural constraint and the stable evolutionary constraint leads to the equality\n",
    "\n",
    "$$(B-A)^T\\vec{q}=\\vec{0}$$\n",
    "\n",
    "The reaction rate vectors that solve this equation are the reaction rate vectors which sustain a stable society having access to the given production reaction network."
   ]
  },
  {
   "cell_type": "markdown",
   "metadata": {},
   "source": [
    "### Conservation of Value"
   ]
  },
  {
   "cell_type": "markdown",
   "metadata": {},
   "source": [
    "Under the fair-market assumption, in a stable society it must also be true that\n",
    "\n",
    "$$(B-A)\\vec{p}=\\vec{0}$$\n",
    "\n",
    "Where $\\vec{p}$ is the $K$-dimensional vector of commodity exchange-values which the $K$ commodities must be exchanged at in order to sustain a stable society"
   ]
  },
  {
   "cell_type": "markdown",
   "metadata": {},
   "source": [
    "## Uniform Growth Societies in Production Reaction Network Theory"
   ]
  },
  {
   "cell_type": "markdown",
   "metadata": {},
   "source": [
    "If a society is assumed to be in a state of uniform commodity growth, such that, in the words of Sraffa and Champernowne, respectively, for each commodity \"the rate by which the quantity produced exceeds the quantity used up in production is the same\" and \"thus if in any period the output of one particular good doubles, so then does the output of every other good double in that period\", then the rate of change of the abundance of the $k$th commodity in the society can be written as\n",
    "\n",
    "\n",
    "$$\\frac{dC_k(t)}{dt}=\\pi (q_1A_{1k}+q_2A_{2k}+\\dots+q_JA_{Jk})$$\n",
    "\n",
    "Where $\\pi$ is the rate by which the quantity of the commodity produced exceeds the quantity consumed - the growth rate. Generalizing from the single-commodity equation, the rate of change of the abundances of the commodities in a uniform growth society can be written as\n",
    "\n",
    "\n",
    "$$\\frac{d\\vec{C(t)}}{dt}=\\pi A^T \\vec{q}$$\n",
    "\n",
    "\n",
    "This is recognizable as an evolutionary constraint. Combining this uniform growth evolutionary constraint with the isolated structural constraint leads to the equality \n",
    "\n",
    "\n",
    "$$(B-A)^T\\vec{q}=\\pi A^T \\vec{q}$$\n",
    "\n",
    "Which when rearranged reads\n",
    "\n",
    "$$[B-(1+\\pi)A]^T\\vec{q}=\\vec{0}$$\n",
    "\n",
    "\n",
    "This equation is equivalent to Sraffa's \"q-system\" of equations and the equality aspect of Von Nuemann's activity inequalities. Asserting that the matrix $[B-(1+\\pi)A]^T$ is represents a set of production reactions in a \"growth-augmented\" stable society with a fair market leads to the following equation\n",
    "\n",
    "\n",
    "$$[B-(1+\\pi)A]\\vec{p}=\\vec{0}$$\n",
    "\n",
    "\n",
    "where $\\vec{p}$ is the vector of commodity values allowing a society subject to the isolated structural and uniform growth evolutionary constraints to subsist. Rearranging again, this equation reads\n",
    "\n",
    "\n",
    "$$(1+\\pi)A\\vec{p}=B\\vec{p}$$\n",
    "\n",
    "\n",
    "Which is Sraffa's surplus profit system of price equations, and the equality aspect of the Von Neumann price inequalities."
   ]
  },
  {
   "cell_type": "markdown",
   "metadata": {},
   "source": [
    "### Income Distributions in Uniform Growth Societies"
   ]
  },
  {
   "cell_type": "markdown",
   "metadata": {},
   "source": [
    "Generally speaking, the income distribution in a society depends on the parameterization imposed on the evolutionary constraint. To recover Sraffa's uniform growth society income distribution, for example, requires paratermizating the evolutionary constraint growth rate as\n",
    "\n",
    "$$\\pi = \\frac{r}{1-w}$$\n",
    "\n",
    "Where $r$ is taken to be the profit rate earned by those who own the commodities and $w$ is taken to be the share of the surplus afforded to workers. For example, with $\\pi=.25$, $w=.1$, and $r=.225$, a production reaction requiring a bundle of commodities of exchange-value $X$ outputs a bundle of commodities of exchange-value $1.25X$, and of the surplus $.25X$ created, the workers recieve $.025X$, leaving the capitalists with the remaining $1.225X$ of the output bundle exchange-value. \n",
    "\n",
    "Traditionally, $w$ is restricted to the domain $0<=w<=1$, implying that between none and all of the surplus can be apportioned to the workers. Inserting this parameterization into the system of price equations and rearranging leads to the equation\n",
    "\n",
    "\n",
    "$$(1+r)A\\vec{p}+w(B-A)\\vec{p}=B\\vec{p}$$\n",
    "\n",
    "\n",
    "This is, of course, the Sraffa income distribution equation, though slightly concealed; a few more assumptions are necessary before it reveals itself entirely. First, assume that the surplus value produced per unit-time is equal to one.\n",
    "\n",
    "\n",
    "$$\\vec{q}^T(B-A)\\vec{p}=1$$\n",
    "\n",
    "\n",
    "Second, assume there exists a vector $\\vec{l}$ such that $\\vec{q}^T\\vec{l}=1$. This leads to the equality\n",
    "\n",
    "\n",
    "$$\\vec{q}^T\\vec{l}=\\vec{q}^T(B-A)\\vec{p}$$\n",
    "\n",
    "\n",
    "Left multiplying both sides by the $Jx1$ dimensional vector of ones $\\vec{1}$ and defining $Q=\\vec{1}\\vec{q}^T$ as the $JxJ$-dimensional diagonal matrix of reaction rates leads to\n",
    "\n",
    "\n",
    "$$Q\\vec{l}=Q(B-A)\\vec{p}$$\n",
    "\n",
    "\n",
    "This is a system of $J$ equations which indicates that the amount of surplus exchange-value added by the $j$th reaction is equal to $l_j$. Sraffa identifies the vector $\\vec{l}$ as the vector of labor quantities used in the reaction, which defines the amount of surplus exchange-value being added by each method of production as the amount of labor consumed by it. That the relative exchange-values of commodities are in proportion to their relative physical labor costs when $w=1$ is, under Sraffa's interpretation of $\\vec{l}$, a trivial result.\n",
    "\n",
    "It is worth mentioning that there is no inherent, physically motivated reason why the vector $l$ must be identified as the vector of labor inputs. In fact, there is reason not to - if each component of $\\vec{l}$ represents an amount of labor, then no amount of labor is used in the methods of production. That is, treating components of $\\vec{l}$ as amounts of labor precludes the possibility of any commodity which can be identified as labor entering the methods of production. If something uniquely identifiable as labor were to enter into the methods of production, then amounts of it would be accounted for in the vector $(B-A)\\vec{p}$, and the unit-amount of labor would be defined as a linear combination of amounts of commodities including the amount of labor, which would be a self-contradiction.\n",
    "\n",
    "Left-multiplying both sides of the system of price equations by $Q$ and inserting the system of surplus-exchange value equations, the system of price equations become\n",
    "\n",
    "\n",
    "$$Q[(1+r)A\\vec{p}+w\\vec{l}]=QB\\vec{p}$$\n",
    "\n",
    "\n",
    "This is the matrix representation of a system of $J$ equations, where the $j$th equation takes the form\n",
    "\n",
    "\n",
    "$$q_j[(p_1A_{j1}+p_2A_{j2}+...+p_KA_{JK})(1+r)+l_jw]=q_j(p_1B_{j1}+p_2B_{j2}+...+p_KB_{jK})$$\n",
    "\n",
    "\n",
    "Which is Sraffas general system of price equations on [page 24][], generalized to the case of joint production.\n",
    "\n",
    "Wages and profits are not the only uses for a surplus, of course. It is easy to imagine a uniform growth society where, in addition to  wages, some part of the surplus goes to taxation and another to corruption. Defining $t$ as the proportion of the surplus which goes to taxes and $c$ as the proportion of the surplus which goes to corruption, the income distribution of such a society can be identified by parameterizing the profit rate as\n",
    "\n",
    "[page 24]:#3\n",
    "\n",
    "\n",
    "$$\\pi = \\frac{r}{1-w-t-c}$$\n",
    "\n",
    "\n",
    "Where $0<=w+t+c<=1$. The eventual system of price equations under this parameterization becomes\n",
    "\n",
    "\n",
    "$$Q[(1+r)A\\vec{p}+(w+t+c)\\vec{l}]=QB\\vec{p}$$\n",
    "\n",
    "\n",
    "When wages, taxes, and corruption are all 0, the profit rate is at its maximum level, $\\pi$. Whenever wages, taxes, or corruption increase, the profit rate decreases. Obviously, with three surplus-proportion parameters, the effect of varying the surplus-proportion parameters on profits and relative prices becomes difficult to visualize. But, for any combination of them such that two of three are zero - or $n$ of $n+1$, in general, for this form of parameterization - the effect on profits and relative prices of varying the non-zero parameter is identical to that of varying Sraffa's wage.\n"
   ]
  },
  {
   "cell_type": "markdown",
   "metadata": {},
   "source": [
    "## Footnotes"
   ]
  },
  {
   "cell_type": "markdown",
   "metadata": {},
   "source": [
    "###### 1\n",
    "Von Neumann's comment \"in equilibrium no profit can be made on any process Pi (or else prices or the rate of interest would rise-it is clear how this abstraction is to be understood)\" is relevant. Of course, in reality, even ignoring the question of profit, there is always waste. This is where accounting for thermodynamics becomes necessary. http://piketty.pse.ens.fr/files/VonNeumann1945.pdf \n",
    "\n",
    "(tie in *Economics and Thermodynamics: New Perspectives on Economic Analysis* edited by Burley and Foster)"
   ]
  },
  {
   "cell_type": "markdown",
   "metadata": {},
   "source": [
    "###### 2\n",
    "A traditional assumption in chemical reaction network theory is that reaction rate $j$ takes the form $q_j=r_j\\prod_{k}^{K}C_k(t)^{a_{jk}}$ such that the rate at which a reaction occurs depends on the abundance of each required chemical. Despite the temptation, this note makes no attempt to explore the fact that this assumption takes the same mathematical form as the generalized Cobb-Douglas production function, and stops at speculating that the generalized Cobb-Douglas production function might be interpreted as representing a single-method society with an arbitrary number of commodities, and that the traditional Cobb-Douglas production function as representing a single-method society with two commodities, labor and capital.\n"
   ]
  },
  {
   "cell_type": "markdown",
   "metadata": {},
   "source": [
    "###### 3\n",
    "\n",
    "https://www.nuevatribuna.es/media/nuevatribuna/files/2013/04/15/production_of_commodities_by_means_of_commodities.pdf"
   ]
  },
  {
   "cell_type": "markdown",
   "metadata": {},
   "source": [
    "###### 4\n",
    "If the reactions are not the only way the state of the solution may change - if there are inflows from another solution or outflows to another solution - then the structural constraint takes the form\n",
    "\n",
    "$$\\frac{d\\vec{C(t)}}{dt}=(B-A)^T\\vec{q} + \\vec{f}$$\n",
    "\n",
    "where $\\vec{f}$ is the $Kx1$-dimensional vector of chemical fluxes."
   ]
  },
  {
   "cell_type": "code",
   "execution_count": null,
   "metadata": {},
   "outputs": [],
   "source": []
  }
 ],
 "metadata": {
  "kernelspec": {
   "display_name": "Python 3",
   "language": "python",
   "name": "python3"
  },
  "language_info": {
   "codemirror_mode": {
    "name": "ipython",
    "version": 3
   },
   "file_extension": ".py",
   "mimetype": "text/x-python",
   "name": "python",
   "nbconvert_exporter": "python",
   "pygments_lexer": "ipython3",
   "version": "3.7.3"
  },
  "latex_envs": {
   "LaTeX_envs_menu_present": true,
   "autoclose": false,
   "autocomplete": true,
   "bibliofile": "biblio.bib",
   "cite_by": "apalike",
   "current_citInitial": 1,
   "eqLabelWithNumbers": true,
   "eqNumInitial": 1,
   "hotkeys": {
    "equation": "Ctrl-E",
    "itemize": "Ctrl-I"
   },
   "labels_anchors": false,
   "latex_user_defs": false,
   "report_style_numbering": false,
   "user_envs_cfg": false
  }
 },
 "nbformat": 4,
 "nbformat_minor": 2
}
