{
 "cells": [
  {
   "cell_type": "markdown",
   "metadata": {},
   "source": [
    "# \"Production Reaction Network Theory\"\n",
    "> \"PCMC + CRNT = PRNT\"\n",
    "- toc: true\n",
    "- branch: master\n",
    "- badges: true\n",
    "- comments: true\n",
    "- categories: []\n",
    "- image: images/some_folder/your_image.png\n",
    "- hide: false\n",
    "- search_exclude: true\n",
    "- metadata_key1: metadata_value1\n",
    "- metadata_key2: metadata_value2"
   ]
  },
  {
   "cell_type": "markdown",
   "metadata": {},
   "source": [
    "## Abstract"
   ]
  },
  {
   "cell_type": "markdown",
   "metadata": {},
   "source": [
    "In this note, I review the formalism and ideas of Chemical Reaction Network Theory; review the formalism and ideas of Sraffa's Production of Commodities by Means of Commodities; identify how aspects of Production of Commodities by Means of Commodities can be reintepreted as special cases of Chemical Reaction Network Theory; and finally suggest how ideas from Chemical Reaction Network Theory might be applied in an economic setting I define as Production Reaction Network Theory."
   ]
  },
  {
   "cell_type": "markdown",
   "metadata": {},
   "source": [
    "## Chemical Reaction Network Theory"
   ]
  },
  {
   "cell_type": "markdown",
   "metadata": {},
   "source": [
    "Assume there exists a solution of $K$ different chemicals in a chemical reactor. Assume the composition of the solution - the abundances of the chemicals in the reactor - can change over time as a result of chemical reactions occuring in the solution or chemical flows into the reactor. Assume the solution exists in a world allowing for $J$ different chemical reactions, where each reaction occurs at some rate and upon occurrence consumes some combination of the $K$ different chemicals to produce another. \n",
    "\n",
    "If $a_{jk}$ is the number of molecules of chemical $k$ consumed by reaction $j$, $b_{jk}$ is the number of molecules of chemical $k$ produced by reaction $j$, and $q_j$ is the number of times reaction $j$ occurs per unit-time, then the solution's \"chemical reaction network\" can be represented as\n",
    "\n",
    "$$a_{11}+a_{12}+\\dots+a_{1K} \\overset{q_1}{\\rightarrow} b_{11}+b_{12}+\\dots+b_{1K}$$\n",
    "$$a_{21}+a_{22}+\\dots+a_{2K} \\overset{q_2}{\\rightarrow} b_{21}+b_{22}+\\dots+b_{2K}$$\n",
    "$$\\vdots$$\n",
    "$$a_{J1}+a_{J2}+\\dots+a_{JK} \\overset{q_J}{\\rightarrow} b_{J1}+b_{J2}+\\dots+b_{JK}$$\n",
    "\n",
    "Chemical Reaction Network Theory (CRNT) seeks to understand and predict the dynamics of the composition of the solution by studying the constraints imposed by the available chemical reaction network. More specifically, defining the abundance - the number of molecules - of chemical $k$ in the solution at time $t$ as $C_k(t)$, CRNT seeks to connect the time-evolution of the functions $C_k(t)$, $k=1...K$ to the structure of the network defined by the available chemical reactions and the rates at which they occur.\n",
    "\n",
    "This section will review some of the ideas and formalism of CRNT that are be useful in reintepreting Sraffa's framework as a special case of CRNT."
   ]
  },
  {
   "cell_type": "markdown",
   "metadata": {},
   "source": [
    "### Structural Constraints on Dynamics"
   ]
  },
  {
   "cell_type": "markdown",
   "metadata": {},
   "source": [
    "The structure of the available chemical reaction network - defined by the specific forms of the available chemical reactions, the rates at which those reactions occur, and the chemical flow into the reactor - constrains the dynamics of the chemical abundances.\n",
    "\n",
    "If a solution is isolated, meaning there are no chemical flows in or out of the reactor, such that the set of available chemical reactions is the only means by which the composition of the solution may change over time, then the rate of change of the abundance of chemical $k$ is given by the sum over all reactions $j=1...J$ of the the product of the difference between the number of molecules of chemical $k$ produced and consumed by reaction $j$ and the number of times reaction $j$ occurs per unit-time.\n",
    "\n",
    "$$\\frac{dC_k(t)}{dt}=q_1(b_{1k}-a_{1k})+q_2(b_{2k}-a_{2k})+\\dots+q_J(b_{Jk}-a_{Jk})$$\n",
    "\n",
    "Generalizing from the single chemical equation, defining $\\vec{C(t)}$ as the $K$x$1$-dimensional vector of chemical abundances, $A$ as the $J$x$K$-dimensional matrix with entries $[A]_{jk}=a_{jk}$, and $B$ as the $J$x$K$-dimensional matrix with entries $[B]_{jk}=b_{jk}$, the rate of change of the abundances of the chemicals in the solution can be written as\n",
    "\n",
    "$$\\frac{d\\vec{C(t)}}{dt}=(B-A)^T\\vec{q}$$\n",
    "\n",
    "Where the superscript $T$ refers to the matrix transpose and $\\vec{q}$ is the $J$x$1$-dimensional vector of reaction rates defined in the chemical reaction network. If the solution is not isolated, meaning there are chemical flows in or out of the solution, then the structural constraint takes the form\n",
    "\n",
    "$$\\frac{d\\vec{C(t)}}{dt}=(B-A)^T\\vec{q} + \\vec{f}$$\n",
    "\n",
    "where $\\vec{f}$ is the $Kx1$-dimensional vector of chemical fluxes. The structural constraint imposes inherent limitations on the dynamics of the composition of the solution: in an isolated system it is not possible for the composition to move in a direction not in the span of the vector representing the available reactions, and in a non-isolated system it is not possible for the composition to move in a direction not spanned by the the sum of the vector representing the available reactions and the vector representing the chemical flux."
   ]
  },
  {
   "cell_type": "markdown",
   "metadata": {},
   "source": [
    "### Evolutionary Constraints on Dynamics"
   ]
  },
  {
   "cell_type": "markdown",
   "metadata": {},
   "source": [
    "The evolution of the composition of the solution over time must obey the structural constraint. That said, there are an infinite number of ways the solution might evolve while still obeying the structural constraint - there is room to define an additional constraint, one which dictates how the composition of the solution will actually evolve within the structure of the available chemical reaction network. \n",
    "\n",
    "In general, the additional constraint can be any vector function which exists in the span of the structural constraint. For a particular example, if the composition of the solution is assumed to be stable, such that the amount of each chemical in the solution is conserved over time, then there exists an evolutionary constraint\n",
    "\n",
    "$$\\frac{d\\vec{C(t)}}{dt}=\\vec{0}$$\n",
    "\n",
    "For another particular example, if the composition of the solution is assumed to have uniform chemical growth, such that for each chemical, in the words of Sraffa, the rate by which the quantity produced exceeds the quantity used up in production is the same, then there exists an evolutionary constraint\n",
    "\n",
    "$$\\frac{d\\vec{C(t)}}{dt}=\\pi A^T \\vec{q}$$ \n",
    "\n",
    "which represents a system of $K$ equations where the $k$th equation is\n",
    "\n",
    "$$\\frac{dC_k(t)}{dt}=\\pi (q_1A_{1k}+q_2A_{2k}+\\dots+q_JA_{Jk})$$\n",
    "\n",
    "which implies that $q_1A_{1k}+q_2A_{2k}+\\dots+q_JA_{Jk}$ is the amount of chemical $k$ used up in production each unit-time and ($q_1A_{1k}+q_2A_{2k}+\\dots+q_JA_{Jk})(1+\\pi)$ is the amount of chemical $k$ produced each unit-time for each chemical $k=1...K$."
   ]
  },
  {
   "cell_type": "markdown",
   "metadata": {},
   "source": [
    "### Conservation of Mass"
   ]
  },
  {
   "cell_type": "markdown",
   "metadata": {},
   "source": [
    "The total mass of the chemical reactor system must be conserved, where the chemical reactor system includes the solution in the reactor and all mass sources and sinks that interact with the solution in the reactor. \n",
    "\n",
    "Under the assumption that the only possible mass sources and sinks are the chemical flow into the solution and the chemical reactions themselves, conservation of mass requires that the change in mass of the solution must equal the change in mass caused by the chemical reactions plus the change of mass caused by the chemical flow into the system. Or, in other words, the change in mass per-unit-time implied by the evolutionary constraint must match the change in mass per-unit-time implied by the structural constraint.\n",
    "\n",
    "$$\\vec{m} \\cdot \\left[ \\frac{dC_k(t)}{dt}\\right ]_{evolutionary} = \\vec{m} \\cdot \\left[ \\frac{dC_k(t)}{dt}\\right ]_{structural}$$\n",
    "\n",
    "where $\\vec{m}$ is a vector of chemical masses; $m_k$ is the mass of one molecule of chemical $k$. Chemistry tends to work with relative masses. One chemical is defined as having the unit-amount of mass, and the masses of the other chemicals are defined relative to that unit-amount. Traditionally, one molecule of carbon-12 is defined as having the unit-amount of mass, and the masses of the other chemicals are measured relative to the that unit-amount, called a \"mole\" for short. \n",
    "\n",
    "Plugging specific structural and evolutionary constraints into this equation leads to a system that can be used to determine the vectors of reaction rates and chemical masses that permit the solution to evolve in the specified way given the specifed structure of the reaction network.\n",
    "\n",
    "For example, if the system is assumed to have an isolated structural constraint and a stable evolutionary constraint, then \n",
    "\n",
    "$$\\vec{m} \\cdot (B-A)^T\\vec{q} = \\vec{m} \\cdot \\vec{0}$$\n",
    "\n",
    "$$\\vec{m} \\cdot (B-A)^T\\vec{q} = 0$$\n",
    "\n",
    "Under the assumption that both $\\vec{m}$ and $\\vec{q}$ are non-negative, this equation will be satisfied if either $(B-A)^T\\vec{q}=\\vec{0}$ or $(B-A)\\vec{m}=\\vec{0}$. \n",
    "\n",
    "For another example, if the system is assumed to have an isolated structural constraint and a uniform growth evolutionary constraint, then \n",
    "\n",
    "$$\\vec{m} \\cdot (B-A)^T\\vec{q} = \\vec{m} \\cdot \\pi A^T \\vec{q}$$\n",
    "\n",
    "$$\\vec{m} \\cdot [B-(1+\\pi)A]^T\\vec{q} = 0$$\n",
    "\n",
    "Under the same assumption of non-negativity, this equation will be satisfied if either $[B-(1+\\pi)A]^T\\vec{q}=\\vec{0}$ or $[B-(1+\\pi)A]\\vec{m}=\\vec{0}$.\n",
    "\n",
    "It is generally safe to assume that each chemical has a non-negative mass; and it is usually convenient to assume that each reaction rate is non-negative. If the only solution to the $\\vec{q}$ equation involves negative reaction rates, then those reaction rates can be made positive by switching the sets of chemicals which are consumed and produced; a negative reaction rate can be thought of as implying that the reaction must be reversed."
   ]
  },
  {
   "cell_type": "markdown",
   "metadata": {},
   "source": [
    "## Production of Commodities by Means of Commodities"
   ]
  },
  {
   "cell_type": "markdown",
   "metadata": {},
   "source": [
    "This section will review the aspects of Sraffa's Production of Commodities by Means of Commodities (PCMC) which can be reinterpreted as special cases of CRNT."
   ]
  },
  {
   "cell_type": "markdown",
   "metadata": {},
   "source": [
    "### PCMC $\\S$ 1"
   ]
  },
  {
   "cell_type": "markdown",
   "metadata": {},
   "source": [
    "In section $1$, Sraffa asks us to consider an extremely simple society which produces just enough to maintain itself. In this society seperate commodities are produced by separate indistries and are exchanged for one another at a market held after the harvest. Every year, 400 quarters of wheat and 20 tons of iron are consumed to produce 400 quarters of wheat and 20 tons of iron through execution of the following methods of production.\n",
    "\n",
    "$$280qr. wood + 12t. iron \\rightarrow 400qr. wood$$\n",
    "$$120qr. wood + 8t. iron \\rightarrow 20t. iron$$\n",
    "\n",
    "Nothing is added by production to the possessions of society; but each commodity, which initially was distributed between the individuals according to their needs, is found at the end of the year to be entirely concentrated in the hands of its producer. In this society, there is a unique set of exchange values which if adopted by the market restores the original distribution of the products and makes it possible for the process to be repeated; such values spring directly from the methods of production. In this particular example, the exchange values required are $10 qr. wheat = 1t. iron$."
   ]
  },
  {
   "cell_type": "markdown",
   "metadata": {},
   "source": [
    "### PCMC $\\S$ 3"
   ]
  },
  {
   "cell_type": "markdown",
   "metadata": {},
   "source": [
    "In section three, generalizing from the specific cases already presented, Sraffa states the general conditions of production which must be satisfied by the commodity exchange values if they are to allow for the restoration of the initial distribution of commodities when adopted by the market. These conditions of production are as follows:\n",
    "\n",
    "$$(A_{a}p_a+B_{a}p_{a}+\\dots+K_{a}p_{k}) = A p_{a}$$\n",
    "$$(A_{b}p_a+B_{b}p_{b}+\\dots+K_{b}p_{k}) = B p_{b}$$\n",
    "$$\\vdots$$\n",
    "$$(A_{k}p_a+B_{k}p_{a}+\\dots+K_{k}p_{k}) = K p_{k}$$\n",
    "\n",
    "which indicates that each of the $K$ commodities *'a'*, *'b'*,..., *'k'* are produced by a seperate industry; that the quantity of *'a'* anually produced is $A$, etc; and that $A_a$, $B_a$,...,$K_a$ are the quantities of *'a'*, *'b'*,..., *'k'* annually consumed by the industry which produces $A$, etc.\n",
    "\n",
    "Plugging the methods of production of the extremely simple society described in section 1 into these conditions of production and simplifying leads to the system of equations \n",
    "\n",
    "$$280p_W + 12p_I = 400p_w \\rightarrow 120p_W = 12p_I \\rightarrow 10p_W=1p_I$$\n",
    "$$120p_W + 8p_I = 20p_I \\rightarrow 120p_W = 12P_I \\rightarrow 10p_W=1p_I$$\n",
    "\n",
    "which implies that the commodity exchange values which if adopted by the market restore the original distribution of products and makes it possible for the process to be repeated must satisfy $10p_W=1p_I$, which matches the solution asserted by Sraffa in section 1."
   ]
  },
  {
   "cell_type": "markdown",
   "metadata": {},
   "source": [
    "### PCMC $\\S$ 4"
   ]
  },
  {
   "cell_type": "markdown",
   "metadata": {},
   "source": [
    "In section $4$, Sraffa asks us to consider a society that produces more than the minimum necessary for replacement and thus has a surplus at the end of each harvest which must be distributed. He assumes that the surplus (or profit) must be distributed in proportion to the means of production (or capital) advanced in each industry; and that such a proportion (the rate of profit) cannot be determined before we know the prices of the commodities. Accordingly, he adds the rate of profit (which he asserts must be uniform for all industries) to the methods of production as an unknown which he calls $r$, and the system becomes\n",
    "\n",
    "$$(A_{a}p_a+B_{a}p_{a}+\\dots+K_{a}p_{k})(1+r) = A p_{a}$$\n",
    "$$(A_{b}p_a+B_{b}p_{b}+\\dots+K_{b}p_{k})(1+r) = B p_{b}$$\n",
    "$$\\vdots$$\n",
    "$$(A_{k}p_a+B_{k}p_{a}+\\dots+K_{k}p_{k})(1+r) = K p_{k}$$\n",
    "\n",
    "\n",
    "This additional distributional assumption is necessary, because, as Sraffa says, without it the system becomes self-contradictory - if you apply the conditions of production defined in $\\S 3$, then you find an inconsistant system of equations for the distribution-restoring commodity exchange values. The addition of an additional variable which characterizes the surplus resolves the inconsistency. \n",
    "\n",
    "It is worth noting that the additional variable $r$ is added only to the conditions of production, not to the methods of production. That is, Sraffa does not assume that $(1+r)A_a$ units of commodity *'a'* are actually used by the industry which produces $A$ units of *'a'*, etc."
   ]
  },
  {
   "cell_type": "markdown",
   "metadata": {},
   "source": [
    "### PCMC $\\S$ 5"
   ]
  },
  {
   "cell_type": "markdown",
   "metadata": {},
   "source": [
    "In section $5$, as en example to which we might apply the general price system described above, Sraffa asks us to consider an adjusted version of the two-commodity society considered in section one. \n",
    "\n",
    "$$280qr. wood + 12t. iron \\rightarrow 575qr. wood$$\n",
    "\n",
    "$$120qr. wood + 8t. iron \\rightarrow 20t. iron$$\n",
    "\n",
    "This society produces a social surplus of $175qr. wood$ every year. Sraffa then asserts that the exchange-ratio which enables the advances to be replaced and the profits to be distributed to both industries in proportion to their advances is $15qr. wood$ for $1t. iron$ and that the corresponding rate of profits in each industry is 25%. He then does the arithmatic for the iron industry to demonstrate that this exchange-ratio and profit rate satisfy the distributional assertions.\n",
    "\n",
    "To demonstrate how the price system becomes self-contradictory without the additional distributional assumption, consider the system of equations which results from plugging these methods of production into the conditions of production described in $\\S 3$:\n",
    "\n",
    "$$280p_W + 12p_I = 575p_w \\rightarrow 295p_W = 12p_I \\rightarrow \\frac{295}{12}p_W=1p_I$$\n",
    "\n",
    "$$120p_W + 8p_I = 20p_I \\rightarrow 120p_W = 12P_I \\rightarrow 10p_W=1p_I$$\n",
    "\n",
    "There is no pair of exchange values $p_W$ and $p_I$ which can satisfy both $\\frac{295}{12}p_W=1p_I$ and $10p_W=1p_I$ simultaniously. The conditions of production described in section 3 will lead to inconsistency in any system that produces a surplus, so they must be modified when considering societies that produce more than the minimum necessary for replacement. Plugging the methods of production into the modified conditions of production described in section 4 leads to the price system and profit rate asserted by Sraffa in this section."
   ]
  },
  {
   "cell_type": "markdown",
   "metadata": {},
   "source": [
    "### PCMC $\\S$ 10"
   ]
  },
  {
   "cell_type": "markdown",
   "metadata": {},
   "source": [
    "In section 10, Sraffa intriduces an explicit representation of the quantities of labor used by each industry. He calls $L_a, L_b,..., L_k$ the annual quantities of labor respectively employed in the industries producing $A$, $B$,..., $K$; and he defines them as fractions of the total annual labor of society, which he takes as unity, so that\n",
    "\n",
    "$$L_a+ L_b+...+L_k=1$$\n",
    "\n",
    "He concludes the section by defining $w$ as the wage per unit of labor, which like prices will be expressed in terms of the chosen standard. Adding to his distributional assumptions, Sraffa presumes the wage is to be payed after the harvest each year as a share of the national product, meaning that $w$ can take values between $0$ and $1$.\n",
    "\n",
    "Sraffa treats these labor quantities as known variables in the same way that he treats the quantities of each commodity annually consumed and produced by each industry as known variables; and he asserts that they actually appear in the methods of production in the same way that those quantities do. That is, using the society introduced in $\\S 5$, Sraffa appears to be assuming that the actual methods of production are\n",
    "\n",
    "$$280qr. wood + 12t. iron + L_w UnitsOfLabour \\rightarrow 575qr. wood$$\n",
    "\n",
    "$$120qr. wood + 8t. iron + L_I UnitsOfLabour \\rightarrow 20t. iron$$\n",
    "\n",
    "where $L_W$ and $L_I$ are the given quantities of units of labour used by the wood and iron industries, respectively."
   ]
  },
  {
   "cell_type": "markdown",
   "metadata": {},
   "source": [
    "### PCMC $\\S$ 11"
   ]
  },
  {
   "cell_type": "markdown",
   "metadata": {},
   "source": [
    "In secion 11, on the basis of the distributional assumptions of the previous section, Sraffa updates the conditions of production considered in $\\S 4$ to\n",
    "\n",
    "$$(A_{a}p_a+B_{a}p_{a}+\\dots+K_{a}p_{k})(1+r) + L_a w = A p_{a}\\\\\n",
    "(A_{b}p_a+B_{b}p_{b}+\\dots+K_{b}p_{k})(1+r) + L_b w = B p_{b}\\\\\n",
    "\\vdots\\\\\n",
    "(A_{k}p_a+B_{k}p_{a}+\\dots+K_{k}p_{k})(1+r) + L_k w = K p_{k}$$\n",
    "\n",
    "where, as in the earlier cases, the system is assumed to be in a self-replicating state, such that $A_a + A_b +...+ A_k \\leq A$, etc."
   ]
  },
  {
   "cell_type": "markdown",
   "metadata": {},
   "source": [
    "### PCMC $\\S$ 12"
   ]
  },
  {
   "cell_type": "markdown",
   "metadata": {},
   "source": [
    "In this section, Sraffa defines the national income of the society - the commodities which are left over after subtracting from the national product the commodities consumed by the industries to produce it - as the standard in terms of which the wage and commodity prices are expressed. This definition leads to the equation\n",
    "\n",
    "$$[A-(A_a + A_b +...+A_k)]p_a + [B-(B_a + B_b +...+B_k)]p_b +...+[K-(K_a + K_b +...+K_K)]p_k=1$$\n",
    "\n",
    "This equation takes the place of that which results from defining some arbitrary individual commodity as the standard in terms of which the wage and commodity prices are expressed.\n",
    "\n",
    "The addition of this equation to the conditions of production forms a system of $k+1$ equations with $k+2$ unknown variables ($k$ prices, the wage $w$, and the rate of profits $r$). The system can therefore move with one degree of freedom; choosing one of the wage or the rate of profits as the free variable, and observing how varying that variable impacts the variation of the prices of commodities, allows one to study how shifting the distribution of the surplus can impacts the prices of commodities."
   ]
  },
  {
   "cell_type": "markdown",
   "metadata": {},
   "source": [
    "### PCMC $\\S$ 23"
   ]
  },
  {
   "cell_type": "markdown",
   "metadata": {},
   "source": [
    "In section 23, Sraffa identifies a complication to the study of distribution-shift induced price movements which results from expressing the prices of commodities in terms of one which is arbitrarily chosen as standard. Specifically, he identifies the fact that it is impossible to tell of any particular price-fluctuation whether it arises from the peculiarities of the commodity which is being measured or from those of the measuring standard.\n",
    "\n",
    "Reacting to this complication, he suggests that if we could discover some standard commodity which assures that price-fluctuations arise from the peculiarities of the commodity which is being measured, not those of the standard itself, then we could use it in the study of distribution-shift induced price-movements to isolate the price-movements of individual commodities such that they could be studied in a vacuum."
   ]
  },
  {
   "cell_type": "markdown",
   "metadata": {},
   "source": [
    "### PCMC $\\S$ 24"
   ]
  },
  {
   "cell_type": "markdown",
   "metadata": {},
   "source": [
    "In section 24, Sraffa argues that it is unlikely that an individual commodity could be found which possessed even approximately the necessary requisites to be such a standard commodity. He then posits that a mixture of commodities intepreted as a \"composite commodity\" might possess the necessary requisites; and in particular he suggests that a composite commodity which consists of the same commodities (combined in the same proportions) as does the aggregate of its own means of production would fulfill the requirements to the letter."
   ]
  },
  {
   "cell_type": "markdown",
   "metadata": {},
   "source": [
    "### PCMC $\\S$ 33"
   ]
  },
  {
   "cell_type": "markdown",
   "metadata": {},
   "source": [
    "In this section, Sraffa begins to state the problem of constructing a Standard commodity in general terms. The first step is finding a set of $k$ suitable multipliers - which may be called $q_a, q_b,...,q_k$ - to be applied respectively to the production-equations of commodities *'a'*, *'b'*,..., *'k'* such that the percentage by which the output of a commodity exceeds the quantity of it entering the aggregate means of production is equal for all commodities.\n",
    "\n",
    "Sraffa identifies this percentage as the Standard Ratio, and denotes it as $R$. To represent this first step, he introduces what he refers to as the \"q-system\" of equations \n",
    "\n",
    "$$(A_{a}q_a+A_{b}q_{a}+\\dots+A_{k}q_{k})(1+R) = A q_{a}$$\n",
    "$$(B_{a}q_a+B_{b}q_{b}+\\dots+B_{k}q_{k})(1+R) = B q_{b}$$\n",
    "$$\\vdots$$\n",
    "$$(K_{a}q_a+K_{b}q_{b}+\\dots+K_{k}q_{k})(1+R) = K q_{k}$$\n",
    "\n",
    "To complete this system of $k$ equations and $k+1$ ($q_a, q_b,...,q_k$ and $r$) unknowns, Sraffa defines an additional equation\n",
    "\n",
    "$$L_a q_a + L_b q_b + ... + L_k q_k = 1$$\n",
    "\n",
    "Sraffa identifies the role of this equation as defining the unit in which the multipliers are expressed in a way that assures the quantity of labor employed in the standard system is the same as that employed in the actual system of $\\S 26$."
   ]
  },
  {
   "cell_type": "markdown",
   "metadata": {},
   "source": [
    "### PCMC $\\S$ 34"
   ]
  },
  {
   "cell_type": "markdown",
   "metadata": {},
   "source": [
    "In section 34, Sraffa defines the multipliers which solve the q-system as $q_{a}^{'}, q_{b}^{'},...,q_{k}^{'}$ and asserts that the system described in $\\S 11$ can be transformed into a standard system by applying those multipliers to the production equations as follows:\n",
    "\n",
    "$$q_{a}^{'}[(A_{a}p_a+B_{a}p_{a}+\\dots+K_{a}p_{k})(1+r) + L_a w] = q_{a}^{'}A p_{a}$$\n",
    "$$q_{b}^{'}[(A_{b}p_a+B_{b}p_{b}+\\dots+K_{b}p_{k})(1+r) + L_b w] = q_{b}^{'}B p_{b}$$\n",
    "$$\\vdots$$\n",
    "$$q_{k}^{'}[(A_{k}p_a+B_{k}p_{a}+\\dots+K_{k}p_{k})(1+r) + L_k w] = q_{k}^{'}K p_{k}$$\n",
    "\n",
    "From this standard system he derives the Standard national income which he henceforth adopts as the unit of wages and prices in the original system of production. The adoption is represented mathematically by replaceing the unit-defining equation of $\\S 12$ with the equation\n",
    "\n",
    "$$[q_{a}^{'}A-(q_{a}^{'}A_a + q_{b}^{'}A_b +...+q_{k}^{'}A_k)]p_a + [q_{b}^{'}B-(q_{a}^{'}B_a + q_{b}^{'}B_b +...+q_{k}^{'}B_k)]p_b +...+[q_{k}^{'}K-(q_{a}^{'}K_a + q_{b}^{'}K_b +...+K_K)]p_k=1$$\n",
    "\n",
    "this equation also represents the composite commodity which possesses the necessary requisites to serve as the Standard commodity described in $\\S 23$."
   ]
  },
  {
   "cell_type": "markdown",
   "metadata": {},
   "source": [
    "### PCMC $\\S$ 50"
   ]
  },
  {
   "cell_type": "markdown",
   "metadata": {},
   "source": [
    "In section 50, Sraffa introduces joint production. Joint production implies a system in which each method of production is allowed to produce more than one type of commodity and each type of commodity can be produced by more than one method of production.\n",
    "\n",
    "In transitioning to a consideration of joint production, Sraffa identifies that each method of production is no longer conveniently understood as its own industry.\n"
   ]
  },
  {
   "cell_type": "markdown",
   "metadata": {},
   "source": [
    "### PCMC $\\S$ 51"
   ]
  },
  {
   "cell_type": "markdown",
   "metadata": {},
   "source": [
    "In section 51, Sraffa identifies that each production-process is characterized no longer by the commodity which it produces, but by the proportions in which it uses and the proportions in which it produces, the various commodities. \n",
    "\n",
    "As such, he introduces new notation, distinguishing process by arbitrarily assigned numbers $1,2,...,k$ instead of by their products *'a'*, *'b'*,..., *'k'*. Thus, $A_1$, $B_1$,...,$K_1$ denotes the quantities of the various goods *'a'*, *'b'*,..., *'k'* which are used as means of production in the first process, etc. Further, to distinguish the quantities produced by each process from the means of production, Sraffa encloses their suffixes in parenthesis; thus $A_{(1)}$, $B_{(1)}$,...,$K_{(1)}$ denotes the quantities of the various goods *'a'*, *'b'*,..., *'k'* which are produced the first process, etc.\n",
    "\n",
    "Applying this notation, Sraffa then asserts the conditions of production for the general case of joint production as \n",
    "\n",
    "$$(A_{1}p_a+B_{1}p_{a}+\\dots+K_{1}p_{k})(1+r) + L_1 w = A_{(1)}p_a+B_{(1)}p_{a}+\\dots+K_{(1)}p_{k}$$\n",
    "$$(A_{2}p_a+B_{2}p_{a}+\\dots+K_{2}p_{k})(1+r) + L_2 w = A_{(2)}p_a+B_{(2)}p_{a}+\\dots+K_{(2)}p_{k}$$\n",
    "$$\\vdots$$\n",
    "$$(A_{k}p_a+B_{k}p_{a}+\\dots+K_{k}p_{k})(1+r) + L_k w = A_{(k)}p_a+B_{(k)}p_{a}+\\dots+K_{(k)}p_{k}$$"
   ]
  },
  {
   "cell_type": "markdown",
   "metadata": {},
   "source": [
    "### PCMC $\\S$ 52"
   ]
  },
  {
   "cell_type": "markdown",
   "metadata": {},
   "source": [
    "In section 52, Sraffa asserts that the standard commodity in the case of joint production can be constructed using the same method as was done in the single-product case; by finding a set of multipliers which, applied to the $k$ production equations, will result in the quantity of each commodity in the aggregate means of production of the system bearing to the quantity of the same commodity in the aggregate product a ratio which is equal for all commodities."
   ]
  },
  {
   "cell_type": "markdown",
   "metadata": {},
   "source": [
    "### PCMC $\\S$ 53"
   ]
  },
  {
   "cell_type": "markdown",
   "metadata": {},
   "source": [
    "In section 53, Sraffa identifies that, when constructing a standard system from a system with joint production, it will frequently happen that some of the $q$ multipliers will be negative."
   ]
  },
  {
   "cell_type": "markdown",
   "metadata": {},
   "source": [
    "### PCMC $\\S$ 56"
   ]
  },
  {
   "cell_type": "markdown",
   "metadata": {},
   "source": [
    "In section 56, Sraffa asserts as a consequence of the existence of negative multipliers the impossibility of visualizing the Standard syestem in the case of joint production as a conceivable rearrangement of the actual processes. He asserts that no meaning can be attached to the 'negative industries' which such multipliers entail, and that we must therefore in the case of joint production be content with the system of abstract equations, transformed by  appropriate multipliers, without trying to think of it as having a bodily existence.\n",
    "\n",
    "Nevertheless, because the purpose of the Standard system is to construct the Standard commodity, and negative multipliers can be intepreted as implying an incurred debt in the context of the Standard commodity, Sraffa finds that this systemic unphysicality does not contribute negatively to the propriety of using the Standard commodity to express the wage and commodity prices in the physical system the Standard system is constructed from."
   ]
  },
  {
   "cell_type": "markdown",
   "metadata": {},
   "source": [
    "## From PCMC to CRNT"
   ]
  },
  {
   "cell_type": "markdown",
   "metadata": {},
   "source": [
    "Sraffa's conditions of production for the general case of joint production can be recovered by 1) parameterizing the growth rate of a solution with a uniform-growth evolutionary constraint and an isolated structural constraint as $\\pi = \\frac{r}{1-w}$ and 2) assuming the mass added to the solution by the $j$th chemical reaction is $L_j$ for $j=1...J$.\n",
    "\n",
    "The mass flow constraint requires that either $[B-(1+\\pi)A]^T\\vec{q}=\\vec{0}$ or $[B-(1+\\pi)A]\\vec{m}=\\vec{0}$. Inserting the growth rate parameterization into the mass vector requirement and rearranging leads to the system of equations\n",
    "\n",
    "$$(1+r)A\\vec{m}+w(B-A)\\vec{m}=B\\vec{m}$$\n",
    "\n",
    "The mass-addition assumption can be represented by the system of equations $(B-A)\\vec{m}=\\vec{L}$ (If you assume mass is conserved in chemical reactions you have the system $(B-A)\\vec{m}=\\vec{0}$). Inserting this system of equations into the mass vector requirement results in\n",
    "\n",
    "$$(1+r)A\\vec{m}+w\\vec{L}=B\\vec{m}$$\n",
    "\n",
    "Intepreting chemical reactions as methods of production and chemical masses as commodity exchange values, this equation is mathematically equivelant to the matrix form of Sraffa's conditions of production for the general case of joint production as presented in $\\S 51$.\n",
    "\n",
    "Sraffa identifies the vector $\\vec{L}$ as the vector of quantities of labor required for each method of production. He assumes that the quantities of labor have their own unit of measurement, and that the quantities directly enter into the methods of production. He then inteprets the parameter $w$ as the exchange-value per unit of labor, such that the term $w\\vec{L}$ has units of exchange value.\n",
    "\n",
    "Starting from the CRNT perspective, these identifications, assumptions, and intepretations are misguided. The vector $\\vec{L}$ is the vector of mass-additions, and therefore has units of mass. Analogizing to exchange values, each component of $\\vec{L}$ has units of exchange-value, not labor. Further, the the quantities of exchange-value $L_j$ cannot enter into the methods of production - if they were included in the methods of production, then units of exchange value would be found in the entries of the matricies $A$ and $B$, and the system of equations $(B-A)\\vec{m}=\\vec{L}$ would be condtradictory by dimensional analysis. The parameter $w$ must also be unitless when starting from the CRNT perspective, just like $r$. If it weren't, the conditions of production would be contradictory by dimensional analysis as not all terms would have units of exchange value.\n",
    "\n",
    "Rearranging the reaction rate vector requirement of the mass flow constraint leads to the system of equations \n",
    "\n",
    "$$(1+\\pi)A^T\\vec{q}=B^T\\vec{q}$$\n",
    "\n",
    "This system of equations is mathematically equivelant to the matrix form of Saffa's joint production q-system of $\\S 63$, ignoring the difference between his Basic equations and his productive processes. Intepreting the chemical growth rate as the maximum rate of profits and chemical reaction rates as q-multipliers, this equivelance suggests that the act of identifying a standard commodity can be understood as identifying the method of production execution rates that assure uniform commodity growth. Further, solutions involving negative q-multipliers can be understood as requiring a reversal of the negative-multiplier processes in order for a physically permissable solution to exist.\n",
    "\n",
    "Sraffa inteprets the q-system as a non-physical system with no direct relation to the physical system that motivates the conditions of production. From the CRNT perspective, the q-system represents the same physical system that motivates the conditions of production (only half true, ignoring subtlties of standard commodity because time. The systems appear linked by the assumed amount of mass generated by the reactions per unit time, see sections $\\S 10+\\S 12$, $\\S 33+\\S 34$). Sraffa's q-multipliers are the reaction rates which permit uniform commodity growth given the specified methods of production; his original system implicitly assumes $\\vec{q}=\\vec{1}$.\n",
    "\n",
    "Given the notion that distributional assumptions can be incorporated through parameterization of the commodity growth rate, Sraffa's conditions of producuction can easily be extended beyond the basic capitalist + worker society. For example, consider a society which, in addition to the capitalists that profit on their commidity investments and the workers which recieve a portion of the surplus, has a government that taxes the surplus and corrupt government officials that steal from the surplus. If the tax rate and corruption rate are considered to be portions of the surplus in the same sense as wages, then this distributional assumption can be captured by the growth rate parameterization \n",
    "\n",
    "$$\\pi = \\frac{r}{1-w-t-c}$$\n",
    "\n",
    "\n",
    "where $0<=w+t+c<=1$. The eventual Sraffian conditions of production under this parameterization become\n",
    "\n",
    "\n",
    "$$(1+r)A\\vec{p}+(w+t+c)\\vec{L}=B\\vec{p}$$\n",
    "\n",
    "\n",
    "When wages, taxes, and corruption are all 0, the profit rate is at its maximum level, $\\pi$. Whenever wages, taxes, or corruption increase, the profit rate decreases. Obviously, with three surplus-proportion parameters, the effect of varying the surplus-proportion parameters on the profit rate and commodity prices becomes difficult to visualize. But, for any combination of them such that two of three are zero - or $n$ of $n+1$, in general, for this form of parameterization - the effect on profits and relative prices of varying the non-zero parameter is identical to that of varying Sraffa's wage. The Standard Commodity will have the same properties in this society as it does in the basic capitalist + worker one, in the PCMC $\\S 23$ sense."
   ]
  },
  {
   "cell_type": "markdown",
   "metadata": {},
   "source": [
    "## From CRNT to Production Reaction Network Theory"
   ]
  },
  {
   "cell_type": "markdown",
   "metadata": {},
   "source": [
    "Assume there exists a culture of $K$ different commodities in a society. Assume the composition of the culture - the abundances of the commodities in the society - can change over time as a result of production reactions occuring in the society or commodity flows into the society. Assume the culture exists in a world allowing for $J$ different production reactions, where each reaction occurs at some rate and upon occurrence consumes some combination of the $K$ different commodities to produce another. \n",
    "\n",
    "If $a_{jk}$ is the number of units of commodity $k$ consumed by reaction $j$, $b_{jk}$ is the number of units of commodity $k$ produced by reaction $j$, $q_j$ is the number of times reaction $j$ occurs per unit-time, and $c_k$ is the chosen unit of commodity $k$ (tons of, quarters of, UnitsOf, etc), then the society's $j$th method of production - the $j$th \"production reaction\" - can be represented as:\n",
    "\n",
    "$$P_j: \\sum_{k=1}^{K} a_{jk}c_k \\xrightarrow[]{q_j} \\sum_{k=1}^{K} b_{jk}c_k$$\n",
    "\n",
    "(which is exactly Von Neumann's symbolic representation of the productive process - this is perhaps not surprising, given that he initially studied chemical engineering http://piketty.pse.ens.fr/files/VonNeumann1945.pdf). I choose to identify explorations of this reaction system using ideas borrowed from CRNT as Production Reaction Network Theory (PRNT).\n",
    "\n",
    "In this section I'll consider ideas that might be borrowed from CRNT and applied to PRNT. Specifically, I'll consider mass action kinetics, biological switches, and deficiency theorums."
   ]
  },
  {
   "cell_type": "markdown",
   "metadata": {},
   "source": [
    "### Mass Action Kinetics "
   ]
  },
  {
   "cell_type": "markdown",
   "metadata": {},
   "source": [
    "A typical assumption in CRNT is that reaction rate $j$ takes the form $q_j=r_j\\prod_{k}^{K}C_k(t)^{a_{jk}}$ such that the rate at which a reaction occurs depends on the abundance of each required chemical, with higher rates of occurance when the required chemicals are more abundant. This assumption assures that a reaction cannot occur unless all the required chemicals are present in the solution.\n",
    "\n",
    "This assumption takes the same mathematical form as the generalized Cobb-Douglas production function. Speculation naturally suggests that the basic Cobb-Douglas production function might be interpreted as representing a single-method society with two commodities, labor and capital.\n",
    "\n",
    "The PCMC framework can be thought of as involving an intentionally executed plan, where methods of production are executed at specified rates. In a CRNT setting the reactions occur without any planning or intention, at rates largeley dependent on the composition of the solution. Each reaction rate does include an arbitrary constant ($r_j$ for reaction rate $q_j$), so there is perhaps some room for planning in PRNT; but plans cannot be relied upon as completely determining the rate at which production reactions occur. In actual chemical engineering, the values of the arbitrary constants tend to be determined emperically.\n",
    "\n",
    "http://www-personal.umich.edu/~dsbaero/library/DSBCSMPapers/MassActionKinetics.pdf"
   ]
  },
  {
   "cell_type": "markdown",
   "metadata": {},
   "source": [
    "### Biological Switches"
   ]
  },
  {
   "cell_type": "markdown",
   "metadata": {},
   "source": [
    "Later in PCMC, Sraffa considers switches in the executed method of production that result from choosing to execute the most profitable method of production as the most profitable method of production changes with variation of the distributional parameters.\n",
    "\n",
    "In CRNT, there is the idea of biological switches. A biological switch occurs when the dominant chemical reaction changes as a result of the composition of the solution crossing some threshold, triggering some change in the macroscopically occuring biological behavior. This idea might be extended to PRNT to model how the methods of production actually being executed in a society depend on the dynamics of the culture of commodities in the society.\n",
    "\n",
    "https://journals.plos.org/ploscompbiol/article?id=10.1371/journal.pcbi.1002039"
   ]
  },
  {
   "cell_type": "markdown",
   "metadata": {},
   "source": [
    "### Deficiency Theorums"
   ]
  },
  {
   "cell_type": "markdown",
   "metadata": {},
   "source": [
    "In CRNT, deficiency theorums establish existence and uniqueness criteria for stable solutions in chemical reaction networks, based soley on the graph structure of the reaction network.\n",
    "\n",
    "This might be extended to PRNT to determine whether or not a given production reaction network allows for a stable solution, etc.\n",
    "\n",
    "https://www.springer.com/gp/book/9783030038571"
   ]
  }
 ],
 "metadata": {
  "kernelspec": {
   "display_name": "Python 3",
   "language": "python",
   "name": "python3"
  },
  "language_info": {
   "codemirror_mode": {
    "name": "ipython",
    "version": 3
   },
   "file_extension": ".py",
   "mimetype": "text/x-python",
   "name": "python",
   "nbconvert_exporter": "python",
   "pygments_lexer": "ipython3",
   "version": "3.7.3"
  },
  "latex_envs": {
   "LaTeX_envs_menu_present": true,
   "autoclose": false,
   "autocomplete": true,
   "bibliofile": "biblio.bib",
   "cite_by": "apalike",
   "current_citInitial": 1,
   "eqLabelWithNumbers": true,
   "eqNumInitial": 1,
   "hotkeys": {
    "equation": "Ctrl-E",
    "itemize": "Ctrl-I"
   },
   "labels_anchors": false,
   "latex_user_defs": false,
   "report_style_numbering": false,
   "user_envs_cfg": false
  }
 },
 "nbformat": 4,
 "nbformat_minor": 2
}
