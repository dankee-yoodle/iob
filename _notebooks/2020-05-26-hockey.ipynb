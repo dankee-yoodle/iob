{
 "cells": [
  {
   "cell_type": "markdown",
   "metadata": {},
   "source": [
    "# \"Markov Counting Process Description of a Sports League Applied to the National Hockey League\"\n",
    "> \"Wrote this so long ago I don't even know where the code is. Never finished it, naturally. Notation is probably confusing. Should probably try to replicate the analysis with better data or maybe using a method that makes sense. Feel free to do it for me. Derivations available if anyone is curious.\"\n",
    "- toc: true\n",
    "- branch: master\n",
    "- badges: true\n",
    "- comments: true\n",
    "- categories: [Markov chain, Poisson process, Sports, NHL]\n",
    "- image: images/some_folder/your_image.png\n",
    "- hide: false\n",
    "- search_exclude: true\n",
    "- metadata_key1: metadata_value1\n",
    "- metadata_key2: metadata_value2"
   ]
  },
  {
   "cell_type": "markdown",
   "metadata": {},
   "source": []
  },
  {
   "cell_type": "markdown",
   "metadata": {},
   "source": [
    "## Abstract "
   ]
  },
  {
   "cell_type": "markdown",
   "metadata": {},
   "source": [
    "In this note I develop a Markov Counting Processes (MCP) formalism for describing the evolution of the scoring totals and scoring rates of sports teams playing in leagues with discrete-scoring rules, then apply the Poisson distribution to the formalism to derive a formula for the probability a National Hockey League (NHL) team transitions to $v$ scores-for-per-game (SFg) at $n+m$ games from $u$ SFg at $n$ games. Using the last 10 NHL seasons of scoring outcomes taken from Hockeyreference.com as a sample population, I compare Monte Carlo transition probability estimations to the derived MCP transition probability formula for randomly generated parameter sets $(u,v,n,m)$ with a linear regression. The resulting fit parameters with 95% confidence interval were slope, intercept = $0.994±0.071$, $0.032±0.034$, the r-squared value was $.887$, and the residuals were approximately normally distributed with a mean and variance of close to zero. I intepret the fit parameters, degree of correlation, and residual characteristics as implying that that the derived MCP transition probabilities are equal to the NHL data transition probabilities plus noise resulting from limited data and estimations made in the model, suggesting that modeling sports leagues as MCPs is reasonable."
   ]
  },
  {
   "cell_type": "markdown",
   "metadata": {},
   "source": [
    "## Introduction"
   ]
  },
  {
   "cell_type": "markdown",
   "metadata": {},
   "source": [
    "Probabalistic descriptions of sports leagues are often developed as parts of efforts to inform predictions of the  outcomes of future league matchups. These efforts typically look to past league matchup outcomes and find strength estimates for each team in the league that, under the chosen model’s assumptions, maximize the likelihood of having observed those past league matchup outcomes. Once the most probable team strengths are determined, the probability one team beats another can be estimated using a function of the two team’s strengths, and the estimation can be used to inform a prediction. "
   ]
  },
  {
   "cell_type": "markdown",
   "metadata": {},
   "source": [
    "These team strengths are, at some level, reflections of team scoring rates – the more scores a team earns per game and the less scores a team allows per game, the stronger the team. In the NHL, for example, the amount of points a team earns in a season – which determines the rank of a team compared to the rest of its league - has been shown to strongly correlate with the difference in its $SFg$ and $SAg$. Further, if an $N$ game NHL season is simulated, as $N$ tends to infinity that correlation tends to one (something something different point-earning schemes as different sorting mechanisms blah blah. something something find the reward scheme that most reliably sorts teams by the end of an $N$ game season blah blah). Despite that fact, there seems to have been little theoretical work done to describe the expected evolution of team scoring rates over the course of a season. The question representing the knowledge gap this note aims fill is therefore, “If a team has scoring rate $u$ at $n$ games into its season, what is the probability it will have scoring rate $v$ at $n+m$ games into its season?”."
   ]
  },
  {
   "cell_type": "markdown",
   "metadata": {},
   "source": [
    "Section two begins to answer the representative question by introducing a MCP representation of the evolution of sports team scoring outcomes and defining formalism for describing the probability of observing scoring total outcome transitions. Section three extends the formalism to describe the probability of observing scoring rate outcome transitions. Section four specifies the Poisson distribution as an approximation of an NHL scoring total distribution, then presents the Poisson version of the developed formalism. Section five describes the method used to compare the Poisson MCP scoring rate transition probability estimations to observed-NHL-scoring-rate-based transition probability estimations for various parameter sets (u,v,n,m), then discusses the results of the comparison.\n"
   ]
  },
  {
   "cell_type": "markdown",
   "metadata": {},
   "source": [
    "## Scoring as a Markov Counting Process"
   ]
  },
  {
   "cell_type": "markdown",
   "metadata": {},
   "source": [
    "A time-domain Counting Process (CP) counts the number of events that occur during a period of time. The count, $C(t)$, defined as the total number of events that have occurred up until time $t$,  is non-decreasing and takes only integer values. The state of the process at time $t$ is $C(t)$, and the state space the process exists in is $C(t)$’s range. Consider, as an example, repeatedly rolling a regular die. The sum of the values of the roll outcomes can be considered a discrete CP: $C(1)$ – the count after the first roll – would be a random draw from $Uniform(1,6)$, the Uniform distribution that can take values between one and six; $C(2)$ would be the sum of two random draws from $Uniform(1,6)$; and $C(t)$ would be the sum of $t$ random draws from $Uniform(1,6)$. The state space the CP exists in would be the set of integers between $1t$ and $6t$, because $1$ and $6$ are the smallest and largest possible outcomes for a single roll, respectively. Because each roll of the die is an independent event, the probability $C(t+1)$ takes some value depends only on $C(t)$, and the die-rolling CP can be described by a Markov Counting Process. "
   ]
  },
  {
   "cell_type": "markdown",
   "metadata": {},
   "source": [
    "In many popular sports such as Football, Soccer, Basketball, Baseball, and Hockey, only a positive integer number of scores can be earned in a game. Additionally, the numbers scores earned by the same team in different games are assumed to be the outcomes of independent events. As a result, the sum of the scores a team has earned in a season can be represented by a MCP. Similarly, the sum of the scores a team allows in a season can be represented by its own MCP. Each game between two teams can be compared to rolling two die; one of the results is added to the first team’s scores-for ($SF$) total and the second team’s scores-against ($SA$) total, and the other is added to the first team’s $SA$ total and the second team’s $SF$ total."
   ]
  },
  {
   "cell_type": "markdown",
   "metadata": {},
   "source": [
    "Team $i$, for example, can be said to be in state $S_i^{n}$ at $n$ games into its season, where $S_i^{n}$ = \\[$S_{i,0}^n$, $S_{i,1}^n$\\] = \\[$SF_{i}^n$, $SA_{i}^n$\\] is the state with components equal to team $i$’s $SF$ and $SA$ totals $𝑛$ games into its season. Playing the $n$th game in its season transitions team $i$ from state $S_{i}^n$  to state $S_{i}^{n+1}$. For an $N$ game season, team $i$ ends its season in state $S_{i}^N$, and the components of that state vector are that team’s end of season $SF$ and $SA$ totals."
   ]
  },
  {
   "cell_type": "markdown",
   "metadata": {},
   "source": [
    "Consecutive state components are related by $S_{i,p}^{n+1} = S_{i,p}^n+X_{i,p}^n$ and state components separated by $m$ games are related by $S_{i,p}^{n+m} = S_{i,p}^n+\\sum_{l=n}^{n+m}X_{i,p}^l$, where $X_i^n$ = \\[ $X_{i,0}^n$,$X_{i,1}^n$\\] is a pair of random variables representing team $i$’s $n$th pair of MCP increments - the amount of scores it earns and allows in the $n$th game of its season. Therefore, The probability that component $p$ of team $i$’s scoring total transitions from state $u$ at game $n$ to state $v$ at game $n+1$ is\n",
    "\n",
    "$$P(S_{i,p}^{n+1} = v │ S_{i,p}^n = u) = P_{i,uv,p}^{n+1} = P(X_{i,p}^n=v-u)$$\n",
    "\n",
    "where $P(X_{i,p}^n=v-u)$ is the probability that team $i$ earns and allows $v-u$ scores in game $n$ for $p=0$ and $p=1$, respectively. The probability that component $p$ of team $i$'s scoring total transition from state $u$ at game $n$ to state $v$ at game $n+m$ is similarly\n",
    "\n",
    "$$P(S_{i,p}^{n+m} = v │ S_{i,p}^n = u) = P_{i,uv,p}^{n+m} = P(\\sum_{l=n}^{n+m}X_{i,p}^l = v-u)$$\n",
    "\n",
    "$P_{i,uv,p}^{n+m}$ can be interpreted as the entry in the $u$th row and $v$th column of a transition probability matrix. Over a season the total number of scores earned and allowed by a team can only increase, and hypothetically any positive integer number of scores can be earned, so the matrix with entries $P_{i,uv,p}^{n+m}$ is an infinite dimensional upper triangular matrix with each entry representing a point in $\\mathbb{Z}_{+}^2$."
   ]
  },
  {
   "cell_type": "markdown",
   "metadata": {},
   "source": [
    "The amount of scores a team earns and allows in a game are assumed to be independent random variables, as has been shown to be reasonable. The transition probability matrix representing the probability team $i$'s scorint total moves from state $S_{i}^n = u = [u_0, u_1]$ to state $S_i^{n+m}= v = [v_0, v_1]$ is then the outer product of the scoring total component transition probability matrices."
   ]
  },
  {
   "cell_type": "markdown",
   "metadata": {},
   "source": [
    "The set of states $[S_{i}^n ∀ n = 0...N]$ is a realization of a MCP and defines team $i$’s scoring total “path”. As an example of what realized MCP paths look like, figure 1 plots the scoring total paths of each team in the 2016-2017 NHL season, highlighting the Toronto Maple Leafs as a particular example."
   ]
  },
  {
   "cell_type": "markdown",
   "metadata": {},
   "source": [
    "put fig 1 here"
   ]
  },
  {
   "cell_type": "markdown",
   "metadata": {},
   "source": [
    "## Scoring Rate as a Markov Counting Process"
   ]
  },
  {
   "cell_type": "markdown",
   "metadata": {},
   "source": [
    "The rates-of-change of a team’s $SF$ total and of its $SA$ total are that team’s scores-for-per-game ($SFg$) and scores-against-per-game ($SAg$). The difference between a team’s $SFg$ and $SAg$ can be considered its “strength”, in the sense that the more scores a team earns per-game and the fewer scores a team allows per-game the stronger the team. In the NHL, for example, the amount of points a team earns in a season – which determines the rank of a team compared to the rest of its league - has been shown to strongly correlate with the difference in its SFg and SAg [3]. If an $N$ game NHL season is simulated, as $N$ tends to infinity that correlation tends to one. Something something different point-earning scheme as different sorting mechanisms blah blah. Something something find the point-earning scheme that most reliably sorts teams by the end of a finite length season blah blah."
   ]
  },
  {
   "cell_type": "markdown",
   "metadata": {},
   "source": [
    "A team’s scoring rate, being a ratio of a positive-integer-number of scores and a positive integer number of games, has a domain of $\\mathbb{Q}_{+}^2$.  If team $i$ is in total scoring state $S_{i}^n$, then that team’s scoring rate state is\n",
    "\n",
    "$$Sg_{i}^n = \\frac{S_{i}^n}{n} = [SFg_{i}^n, SAg_{i}^n]$$\n",
    "\n",
    "Consecutive scoring rate state components are related by the same random variable as consecutive total scoring state components\n",
    "\n",
    "$$Sg_{i,p}^{n+1} = \\frac{1}{n+1}[nSg_{i,p}^n+X_{i,p}^n]$$\n",
    "\n",
    "and, similarly, scoring rate components seperated by $m$ games are related by\n",
    "\n",
    "$$Sg_{i,p}^{n+m} = \\frac{1}{n+m}[nSg_{i,p}^n+\\sum_{l=n}^{n+m}X_{i,p}^l]$$\n",
    "\n",
    "Therefore, the probability that component $p$ of team $i$'s scoring rate transitions from state $u$ to state $v$ is\n",
    "\n",
    "$$P(Sg_{i,p}^{n+1} = v │ Sg_{i,p}^n = u) = Pg_{i,uv,p}^{n+1} = P(X_{i,p}^n=(n+1)v-nu )$$\n",
    "\n",
    "And the probability that component $p$ of team $i$'s scoring rate transition from state $u$ at game $n$ to state $v$ at game $n+m$ is similarly\n",
    "\n",
    "$$P(Sg_{i,p}^{n+m} = v │ Sg_{i,p}^n = u) = Pg_{i,uv,p}^{n+m} = P(\\sum_{l=n}^{n+m}X_{i,p}^l = (n+m)v-nu )$$\n",
    "\n",
    "$Pg_{i,uv,p}^{n+m}$ can be interpreted as the entry in the $u$th row and $v$th column of a transition probability matrix. Because scoring rates depend on the same independent random variables as scoring totals, the transition probability matrix representing the probability team $i$'s scoring rate moves from state $Sg_{i}^n = u = [u_0, u_1]$ to state $Sg_i^{n+m}= v = [v_0, v_1]$ is the outer product of the scoring rate component transition probability matrices."
   ]
  },
  {
   "cell_type": "markdown",
   "metadata": {},
   "source": [
    "Since each $Sg_{i,p}^{n+m}$  depends explicitly on $n$, the set of values $[Sg_{i,p}^{n}  ∀ 𝑛 = 0...𝑁]$ is a realization of a time-inhomogeneous Markov chain. As an example of what scoring rate Markov chains look like, figure 2 plots the scoring total paths of each team in the 2016-2017 NHL season, highlighting the Toronto Maple Leafs as a particular example."
   ]
  },
  {
   "cell_type": "markdown",
   "metadata": {},
   "source": [
    "put fig 2 here"
   ]
  },
  {
   "cell_type": "markdown",
   "metadata": {},
   "source": [
    "## Application of the Markov Counting Process Formalism to the NHL"
   ]
  },
  {
   "cell_type": "markdown",
   "metadata": {},
   "source": [
    "The formalism developed in sections two and three is not sport specific – the transition probabilities can be applied to any sport in which the number of scores earned in a game can be approximated as a draw from some positive-integer-domain probability distribution. To apply the formalism to a specific sport, the probability distribution representing the likelihood that a certain amount of scores are earned in a game for that sport must be inserted into the transition probabilities. "
   ]
  },
  {
   "cell_type": "markdown",
   "metadata": {},
   "source": [
    "Scoring in hockey has been shown to be approximately Poisson. That is, the number of goals a team scores and allows in a game can be approximated as random draws from independent Poisson distributions. That is,\n",
    "\n",
    "$$X_{i,p}^n ~ Poisson(\\mu_{i,p}^n)$$\n",
    "\n",
    "Where μ_(i,0)^n and μ_(i,1)^n represent the number of goals team i is expected to score and allow, respectively, in game n. Hockey is not a purely Poisson process, though, as expected scoring is not uniform over every slice of time in a game. Goals are scored at a disproportionately high rate at the ends of periods - especially at the end of the third period – and during odd man situations. "
   ]
  },
  {
   "cell_type": "markdown",
   "metadata": {},
   "source": [
    "Ignoring the NHL’s deviation from a purely Poisson process and dropping the component notation for clarity, the probability team $i$’s total scoring total transitions from state $u$ at game $n$ to state $v$ at game $n+1$ can be written as\n",
    "\n",
    "$$P(X_{i,p}^n=v-u) = \\frac{(\\mu_{i,p}^n)^{v-u}e^{-\\mu_{i,p}^n}}{(v-u)!}$$\n",
    "\n",
    "The sum of Poisson variables is a Poisson variable with a mean of the sum of the constituent variable means. Consequently, the probability team $i$’s total scoring total transitions from state $u$ at game $n$ to state $v$ at game $n+m$ can be written as\n",
    "\n",
    "$$P(\\sum_{l=n}^{n+m}X_{i,p}^l = v-u) = P_{i,uv,p}^{n+m} = \\frac{(\\sum_{l=n}^{n+m}\\mu_{i,p}^l)^{v-u}e^{-\\sum_{l=n}^{n+m}\\mu_{i,p}^l}}{(v-u)!}$$\n",
    "\n",
    "Scoring rate transition probabilities depend on the same Poisson random variable as scoring total transition probabilities. Therefore, the probability team i’s scoring rate transitions from state $u$ at game $n$ to state $v$ at game $n+m$ is\n",
    "\n",
    "$$P(\\sum_{l=n}^{n+m}X_{i,p}^l = (n+m)v-nu) = Pg_{i,uv,p}^{n+m} = \\frac{(\\sum_{l=n}^{n+m}\\mu_{i,p}^l)^{[(n+m)v-nu]}e^{-\\sum_{l=n}^{n+m}\\mu_{i,p}^l}}{[(n+m)v-nu]!}$$\n"
   ]
  },
  {
   "cell_type": "markdown",
   "metadata": {},
   "source": [
    "Applying these transition probabilities to the formalism defined above lets us answer the question “If an NHL team has scoring rate $u$ at $n$ games into its season, what is the probability it will have scoring rate $v$ at $n+m$ games into its season?\" for any set of parameters $(u,v,n,m)$."
   ]
  },
  {
   "cell_type": "markdown",
   "metadata": {},
   "source": [
    "## Comparing Markov Counting Process Transition Probabilities to Actual NHL Scoring Outcomes"
   ]
  },
  {
   "cell_type": "markdown",
   "metadata": {},
   "source": [
    "In order to determine if the derivied Markov chain transition probability $Pg_{i,uv,p}^{n+m}$ is a reasonable approximation of the probability an NHL team goes from scoring rate $u$ at game $n$ to scoring rate $v$ at game $n+m$, the values of $Pg_{i,uv,p}^{n+m}$ must be compared to transition probabilites estimated using actual NHL scoring outcomes. "
   ]
  },
  {
   "cell_type": "markdown",
   "metadata": {},
   "source": [
    "Ideally, the derived Markov chain probabilities could be directly compared to Monte-Carlo probabilities calculated using an NHL a scoring rate outcome sample population. For example, the set of $A$ NHL teams that had a scoring rate of $u$ at $n$ games and the subset of $B$ teams that subsequently had a scoring rate of $v$ at $n+m$ games could be counted, and the probability an NHL team reaches state $Sg^{n+m}=v$ given it was in state $Sg^{n}=u$ could then be estimated by $\\frac{B}{A}$. The estimated probability could then be directly compared to $Pg_{i,uv,p}^{n+m}$. "
   ]
  },
  {
   "cell_type": "markdown",
   "metadata": {},
   "source": [
    "Unfortunately, for most transitions, there haven’t been enough teams that reached the exact same final state from the exact same initial state for this direct comparison to be meaningful. Instead, I chose to allow a range of potential $u$ and $v$ values and recast the representative question as “If a team has a scoring rate in the range $u \\pm \\delta$ at $n$ games into its season, what is the probability it will have a scoring rate in the range $v \\pm \\delta$ at $n+m$ games into its season?”"
   ]
  },
  {
   "cell_type": "markdown",
   "metadata": {},
   "source": [
    "Allowing for a tolerance $\\delta$ in $u$ and $v$ results in the following method for estimating transition probabilities with NHL scoring rate outcomes: the set of $A$ NHL teams that had a scoring rate in the range $u \\pm \\delta$ at $n$ games and the subset of $B$ teams that subsequently had a scoring rate in the range $v \\pm \\delta$ at $n+m$ games could be counted, and the probability a team reaches a state $Sg^{n+m}=u$ in the range $u \\pm \\delta$ given it had a state $Sg^{n}=u$ in the range $v \\pm \\delta$ is then estimated by $\\frac{B}{A}$. Define probability estimates made using this method as $NHL(u,v,n,m,\\delta)$. \n",
    "\n",
    "These estimates made using NHL scoring outcomes can then be directly compared to a tolerance-modified version of the Markov chain transition probabilities, which I define as\n",
    "\n",
    "$$MC(u,v,n,m,\\delta) = \\frac{\\sum_{z}\\frac{e^{-n\\mu}(n\\mu)^{nz}}{(nz)!}\\sum_{x=(n+m)v-nz-\\delta(n+m)}^{(n+m)v-nz+\\delta(n+m)}\\frac{e^{-m\\mu}(m\\mu)^{x}}{x!}}{\\sum_{z}\\frac{e^{-n\\mu}(n\\mu)^{nz}}{(nz)!}}$$\n",
    "\n",
    "where the domain of $z$ is the set of permissable values of $Sg_{i}^n$ in the range $u \\pm \\delta$ and $\\mu$ is an approximation of the expected amount of scores earned in a game by the average NHL team, taken to be the average $SFg$ over the last 10 NHL seasons."
   ]
  },
  {
   "cell_type": "markdown",
   "metadata": {},
   "source": [
    "For example, in the last 10 NHL seasons there have been $52$ teams that had a $SFg$ in the range $3 \\pm .1$ at $41$ games into their season. Of those teams, $19$ subsequently had a GFg in the range $3 \\pm .1$ at $82$ games into their season. Therefore, the NHL scoring rate outcome transition probability estimate is $NHL(3,3,41,82,.1)=\\frac{19}{52}=.365$, and the Markov chain scoring rate transition probability estimate is $MC(3,3,41,82,.1)=.357$."
   ]
  },
  {
   "cell_type": "markdown",
   "metadata": {},
   "source": [
    "I repeatedly pseudo-randomly generated 100 parameter sets $\\theta = (u,v,n,m,\\delta)$, calculated $MC(\\theta)$ and $NHL(\\theta)$ for each, and ran a linear regression between the two resulting sets of transition probabilities. The fit takes the form\n",
    "\n",
    "$$MC(\\theta) = \\alpha NHL(\\theta) + \\beta + error(mean,variance)$$\n",
    "\n",
    "where $\\alpha$ and $\\beta$ are constants and the error term is normally distributed. If $MC(\\theta)$ were equal to $NHL(\\theta)$ for every parameter set, then the fit parameters would be $[\\alpha,\\beta]=[1,0]$, the r-squared value would be $1$, and the error distribution would have a mean and variance of zero. Only a finite number of NHL games have been played, $\\mu$ is only an approximation, and hockey is not a purely Poisson process, though, so both $MC(\\theta)$ and $NHL(\\theta)$ are expected to only be approximations of the true probability corresponding to the parameter set θ. As a result, some deviation of the data from the ideal fit parameters, an r-squared value less than 1, and non-zero error variance should be expected.\n",
    "\n",
    "The average values of the fit parameters were found to be $[\\alpha,\\beta]=[0.994,.032]$, the average r-squared value was found to be $.887$, and the errors were approximately Normally distributed with a mean of zero and a variance of $.0082$. The parameter results are only point estimates, but the true parameters are in the ranges $0.923≤\\alpha ≤1.065$ and $-.6002≤\\beta≤0.066$ with $95%$ confidence. These results suggest that $MC(θ)$ is equal to $NHL(θ)$ plus noise resulting from the imperfect approximations made in calculating the two predictions.\n",
    "\n",
    "insert figure 3 here\n",
    "\n",
    "Residual analysis of the linear fit suggests that, while the relation between $MC(θ)$ and $NHL(θ)$ is not perfectly linear, the linear fit is a reasonable approximation. The success of the Markov chain equations in modeling NHL data suggests that modeling the NHL as a set of Markov chains with Poisson transition probabilities is reasonable. "
   ]
  },
  {
   "cell_type": "code",
   "execution_count": null,
   "metadata": {},
   "outputs": [],
   "source": []
  }
 ],
 "metadata": {
  "kernelspec": {
   "display_name": "Python 3",
   "language": "python",
   "name": "python3"
  },
  "language_info": {
   "codemirror_mode": {
    "name": "ipython",
    "version": 3
   },
   "file_extension": ".py",
   "mimetype": "text/x-python",
   "name": "python",
   "nbconvert_exporter": "python",
   "pygments_lexer": "ipython3",
   "version": "3.7.3"
  }
 },
 "nbformat": 4,
 "nbformat_minor": 2
}
