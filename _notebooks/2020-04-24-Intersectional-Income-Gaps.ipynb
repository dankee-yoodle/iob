{
 "cells": [
  {
   "cell_type": "markdown",
   "metadata": {},
   "source": [
    "# \"Intersectional Income Gaps in the United States as Distances in Sectional-Cost Space\"\n",
    "> \"I introduce the idea that the magnitude of the discrimination faced by an individual having some identity is given by the percieved distance of that identity from the social reference identity, and do some not-at-all robust analysis suggesting the idea isn't entirely unreasonable in the context of income gaps in the United States\"\n",
    "- toc: true\n",
    "- branch: master\n",
    "- badges: true\n",
    "- comments: true\n",
    "- categories: [intersectionality, inequality]\n",
    "- image: images/some_folder/your_image.png\n",
    "- hide: false\n",
    "- search_exclude: true\n",
    "- metadata_key1: metadata_value1\n",
    "- metadata_key2: metadata_value2"
   ]
  },
  {
   "cell_type": "markdown",
   "metadata": {},
   "source": [
    "## Introduction"
   ]
  },
  {
   "cell_type": "markdown",
   "metadata": {},
   "source": [
    "In this note I introduce a method for predicting the income gap between people of a reference identity and people of a different race and sex from that reference identity, then applies that method to predict income gaps between white males and black, hispanic, and asian females in the United States from 1948 to 2018 using publicly available United States Census Bureau data."
   ]
  },
  {
   "cell_type": "markdown",
   "metadata": {},
   "source": [
    "## Model"
   ]
  },
  {
   "cell_type": "markdown",
   "metadata": {},
   "source": [
    "The model is most easily explained by giving a specific example then generalizing it. To that end, I'll first use the model to predict the income gap between white males and black females, then generalize the model to include the income gaps between white males and hispanic and asian females. "
   ]
  },
  {
   "cell_type": "markdown",
   "metadata": {},
   "source": [
    "### Predicting the White-Male Black-Female Income Gap"
   ]
  },
  {
   "cell_type": "markdown",
   "metadata": {},
   "source": [
    "For now, define an identity as a combination of race and sex, and define the reference identity as a white-male. The model then suggests that the income gap between a black-female and a white-male is predicted by the length of the hypotenuse of a right triangle with sides of lengths given by the income gap between a white-female and a white-male and the income gap between a black-male and a white-male.\n",
    "\n",
    "Representing the income of a white-male as $WM$, the income of a white-female as $WF$, the income of a black-male as $BM$ and the income of a black-female as $BF$; the example can be visualized as"
   ]
  },
  {
   "cell_type": "markdown",
   "metadata": {},
   "source": [
    "![](my_icons/intersectionality/triangle.PNG)"
   ]
  },
  {
   "cell_type": "markdown",
   "metadata": {},
   "source": [
    "For example, in 2017 the $WM-WF$ income gap was $\\$18720$ and the $WM-BM$ income gap was $\\$15724$. The predicted 2017 $WM-BF$ income gap is then $\\$24448$. The actual 2017 $WM-BF$ income gap was $\\$22197$, about 9\\% less than predicted.\n",
    "\n",
    "The United States Census Bureau has been collecting income data, including data partitioned by race and sex, since 1947. Making the above calculation for every year in that time range then plotting the resulting income gap predictions against the actual income gaps results in the following"
   ]
  },
  {
   "cell_type": "markdown",
   "metadata": {},
   "source": [
    "![](my_icons/intersectionality/bf.png)"
   ]
  },
  {
   "cell_type": "markdown",
   "metadata": {},
   "source": [
    "The correlation between the predicted and actual income gaps is $.998$, which is just silly. I'm probably doing something dumb. The slope and intercept of the linear fit are $.879$ and $296.39$, respectively. In a linear fit $y=mx+b+error$, if $m \\approx 1$, $b \\approx 0$, and $error \\approx N(0,0)$, then $y \\approx x$, so, though it systematically overestimates, the triangular combination of the cost of being female and the cost of being black appears to be an excellent estimation of the cost of being a black female, at least for the case of income in the United States. "
   ]
  },
  {
   "cell_type": "markdown",
   "metadata": {},
   "source": [
    "## Predicting the White-Male Black/Hispanic/Asian-Female Income Gap"
   ]
  },
  {
   "cell_type": "markdown",
   "metadata": {},
   "source": [
    "More generally, the income cost of having some identity is the distance of the identity from the origin in sectional-cost space. Sections of identity are orthogonal axis in a Euclidean space, and intersectional identities are those having multiple non-zero sectional coordinates. In two dimensional Euclidean space, the distance between two points can be calculated using the Pythagorean theorem, which is why I used a triangle to introduce the model."
   ]
  },
  {
   "cell_type": "markdown",
   "metadata": {},
   "source": [
    "![title](my_icons/intersectionality/space.png)"
   ]
  },
  {
   "cell_type": "markdown",
   "metadata": {},
   "source": [
    "The interpretation of the model is that the magnitude of the discrimination faced by an identity is the perceived \"distance\" of that identity from the social reference identity. The white-male white-female income gap is the perceived distance between maleness and femaleness; the white male black/hispanic/asian male income gap is the perceived distance between black/hispanic/asianness and whiteness. \n",
    "\n",
    "Hispanic-males are slightly closer to the origin than black-males, meaning hispanics are perceived as slightly less \"not white\" than blacks. It is potentially noteworthy that the white-male black/hispanic-male income gap has been increasing since 2016, aligning with the increased political rhetoric labeling blacks and hispanics as \"others\"."
   ]
  },
  {
   "cell_type": "markdown",
   "metadata": {},
   "source": [
    "![title](my_icons/intersectionality/bhaf.png)"
   ]
  },
  {
   "cell_type": "markdown",
   "metadata": {},
   "source": [
    "## Higher-dimensional Identities"
   ]
  },
  {
   "cell_type": "markdown",
   "metadata": {},
   "source": [
    "Of course, in reality, there are an uncountable number of dimensions of identity. Boiling identity down to x gender y race is a projection from this larger space onto two dimensions (principal compnent analysis is relevant here). Inevitably, this projection loses information. Identities which appear close to each other in two dimensions might actually be far apart in a more complete space, and identities which appear to be far apart might actually be close together. For example, disabled white males and able white males are identically positioned in race-sex sectional-cost space. If the space were extended to include ability, disabled white males might be closer to able white females than to able white males. \n",
    "\n",
    "\n",
    "Hypothetically, the space can be extended to include as many independent dimensions of identity as can be identified. While there will likely be diminishing returns in terms of predictive capacity, accounting for greater dimensionality of identity might reduce the noise in the predictions and account for some of the model's systematic overestimation. Or it might blow it up. We'll see."
   ]
  },
  {
   "cell_type": "code",
   "execution_count": null,
   "metadata": {},
   "outputs": [],
   "source": []
  }
 ],
 "metadata": {
  "kernelspec": {
   "display_name": "Python 3",
   "language": "python",
   "name": "python3"
  },
  "language_info": {
   "codemirror_mode": {
    "name": "ipython",
    "version": 3
   },
   "file_extension": ".py",
   "mimetype": "text/x-python",
   "name": "python",
   "nbconvert_exporter": "python",
   "pygments_lexer": "ipython3",
   "version": "3.7.3"
  }
 },
 "nbformat": 4,
 "nbformat_minor": 2
}
