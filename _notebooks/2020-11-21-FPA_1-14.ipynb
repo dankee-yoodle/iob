{
 "cells": [
  {
   "cell_type": "markdown",
   "metadata": {},
   "source": [
    "# \"Federalist Abridged 1-14 (12,511/26,513)\"\n",
    "> \"Goal is ~1/3rd of the length, ~9/10ths of the substance. Currently ~1/9 the length, and the substance in it remains to be seen. Paper # delination not super useful, might restructure. Bet I butchered your favorite.\"\n",
    "- toc: true\n",
    "- branch: master\n",
    "- badges: true\n",
    "- comments: true\n",
    "- categories: []\n",
    "- image: images/some_folder/your_image.png\n",
    "- hide: false\n",
    "- search_exclude: true\n",
    "- metadata_key1: metadata_value1\n",
    "- metadata_key2: metadata_value2"
   ]
  },
  {
   "cell_type": "markdown",
   "metadata": {},
   "source": [
    "## THE UTILITY OF THE UNION TO YOUR POLITICAL PROSPERITY"
   ]
  },
  {
   "cell_type": "markdown",
   "metadata": {},
   "source": [
    "### 1: General Introduction (Hamilton) (880/1583)"
   ]
  },
  {
   "cell_type": "markdown",
   "metadata": {},
   "source": [
    "AFTER an unequivocal experience of the inefficiency of the subsisting federal government, you are called upon to deliberate on a new Constitution for the United States of America. \n",
    "\n",
    "The subject speaks its own importance; comprehending in its consequences nothing less than the existence of the UNION, the safety and welfare of the parts of which it is composed, the fate of an empire in many respects the most interesting in the world. It seems to have been reserved to the people of this country, by their conduct and example, to decide the important question, whether societies of men are really capable or not of establishing good government from reflection and choice, or whether they are forever destined to depend for their political constitutions on accident and force. \n",
    "\n",
    "Happy will it be if our choice should be directed by a judicious estimate of our true interests, unperplexed and unbiased by considerations not connected with the public good. But this is a thing more ardently to be wished than seriously to be expected. \n",
    "\n",
    "Among the most formidable of the obstacles which the new Constitution will have to encounter may readily be distinguished the obvious interest of a certain class of men in every State to resist all changes which may hazard a diminution of the power, emolument, and consequence of the offices they hold under the State establishments; and the perverted ambition of another class of men, who will either hope to aggrandize themselves by the confusions of their country, or will flatter themselves with fairer prospects of elevation from the subdivision of the empire into several partial confederacies than from its union under one government.\n",
    "\n",
    "It is not, however, my design to dwell upon observations of this nature. I am well aware that it would be disingenuous to resolve indiscriminately the opposition of any set of men into interested or ambitious views. And a further reason for caution, in this respect, might be drawn from the reflection that in politics, as in religion, it is equally absurd to aim at making proselytes by fire and sword. Heresies in either can rarely be cured by persecution. \n",
    "\n",
    "And yet, a torrent of angry and malignant passions will be let loose. To judge from the conduct of the opposite parties, we shall be led to conclude that an enlightened zeal for the energy and efficiency of government will be stigmatized as the offspring of a temper fond of despotic power and hostile to the principles of liberty. On the other hand, it will be equally forgotten that the vigor of government is essential to the security of liberty; that, in the contemplation of a sound and well-informed judgment, their interest can never be separated; and that a dangerous ambition more often lurks behind the specious mask of zeal for the rights of the people than under the forbidden appearance of zeal for the firmness and efficiency of government. History will teach us that the former has been found a much more certain road to the introduction of despotism than the latter, and that of those men who have overturned the liberties of republics, the greatest number have begun their career by paying an obsequious court to the people; commencing demagogues, and ending tyrants.\n",
    "\n",
    "In the course of the preceding observations, I have had an eye, my fellow-citizens, to putting you upon your guard against all attempts to influence your decision by any impressions other than those which may result from the evidence of truth. You will no doubt have collected from the general scope of them, that they proceed from a source not unfriendly to the new Constitution. I am clearly of opinion it is your interest to adopt it. I shall not, however, multiply professions on this head. My motives must remain in the depository of my own breast. My arguments will be open to all, and may be judged of by all.\n",
    "\n",
    "I propose, in a series of papers, to discuss the following interesting particulars:\n",
    "\n",
    "THE UTILITY OF THE UNION TO YOUR POLITICAL PROSPERITY \n",
    "\n",
    "THE INSUFFICIENCY OF THE PRESENT CONFEDERATION TO PRESERVE THAT UNION\n",
    "\n",
    "THE NECESSITY OF A GOVERNMENT AT LEAST EQUALLY ENERGETIC WITH THE ONE PROPOSED, TO THE ATTAINMENT OF THIS OBJECT\n",
    "\n",
    "THE CONFORMITY OF THE PROPOSED CONSTITUTION TO THE TRUE PRINCIPLES OF REPUBLICAN GOVERNMENT\n",
    "\n",
    "ITS ANALOGY TO YOUR OWN STATE CONSTITUTION and lastly, \n",
    "\n",
    "THE ADDITIONAL SECURITY WHICH ITS ADOPTION WILL AFFORD TO THE PRESERVATION OF THAT SPECIES OF GOVERNMENT, TO LIBERTY, AND TO PROPERTY.\n",
    "\n",
    "It may perhaps be thought superfluous to offer arguments to prove the utility of the UNION, a point deeply engraved on the hearts of the great body of the people in every State. But the fact is, that we already hear it whispered in the private circles of those who oppose the new Constitution, that the thirteen States are of too great extent for any general system, and that we must of necessity resort to separate confederacies of distinct portions of the whole. \n",
    "\n",
    "This doctrine will, in all probability, be gradually propagated, till it has votaries enough to countenance an open avowal of it. It will therefore be of use to begin by examining the advantages of that Union, the certain evils, and the probable dangers, to which every State will be exposed from its dissolution."
   ]
  },
  {
   "cell_type": "markdown",
   "metadata": {},
   "source": [
    "### 2: Concerning Dangers from Foreign Force and Influence (Jay) (620/1662)"
   ]
  },
  {
   "cell_type": "markdown",
   "metadata": {},
   "source": [
    "Nothing is more certain than the indispensable necessity of government, and it is equally undeniable, that whenever and however it is instituted, the people must cede to it some of their natural rights in order to vest it with requisite powers. \n",
    "\n",
    "It is well worthy of consideration therefore, whether it would conduce more to the interest of the people of America that they should, to all general purposes, be one nation, under one federal government, or that they should divide themselves into separate confederacies, and give to the head of each the same kind of powers which they are advised to place in one national government.\n",
    "\n",
    "It has until lately been a received and uncontradicted opinion that the prosperity of the people of America depended on their continuing firmly united. But politicians now appear, who insist that this opinion is erroneous, and that instead of looking for safety and happiness in union, we ought to seek it in a division of the States into distinct confederacies or sovereignties. However extraordinary this new doctrine may appear, it nevertheless has its advocates.\n",
    "\n",
    "It has often given me pleasure to observe that a strong sense of the value and blessings of union induced the people, at a very early period, to institute a federal government to preserve and perpetuate it. They formed it almost as soon as they had a political existence; nay, at a time when their habitations were in flames, when many of their citizens were bleeding, and when the progress of hostility and desolation left little room for those calm and mature inquiries and reflections which must ever precede the formation of a wise and well-balanced government for a free people. \n",
    "\n",
    "It is not to be wondered at, that a government instituted in times so inauspicious, should on experiment be found greatly deficient and inadequate to the purpose it was intended to answer. This intelligent people perceived and regretted these defects. Still continuing no less attached to union than enamored of liberty, they as with one voice, convened the late convention at Philadelphia, to take that important subject under consideration. \n",
    "\n",
    "This convention composed of men who possessed the confidence of the people, in the mild season of peace, with minds unoccupied by other subjects, passed many months in cool, uninterrupted, and daily consultation; and finally, without having been awed by power, or influenced by any passions except love for their country, they presented and recommended to the people the plan produced by their joint and very unanimous councils. \n",
    "\n",
    "It is worthy of remark that not only the first, but every succeeding Congress, as well as the late convention, have invariably joined with the people in thinking that the prosperity of America depended on its Union. To preserve and perpetuate it was the great object of the people in forming that convention, and it is also the great object of the plan which the convention has advised them to adopt. With what propriety, therefore, or for what good purposes, are attempts at this particular period made by some men to depreciate the importance of the Union? Or why is it suggested that three or four confederacies would be better than one? \n",
    "\n",
    "I am persuaded in my own mind that the people have always thought right on this subject, and that their universal and uniform attachment to the cause of the Union rests on great and weighty reasons, which I shall endeavor to develop and explain in some ensuing papers.\n",
    "\n",
    "I sincerely wish that it may be as clearly foreseen by every good citizen, that whenever the dissolution of the Union arrives, America will have reason to exclaim, in the words of the poet: \"FAREWELL! A LONG FAREWELL TO ALL MY GREATNESS\"."
   ]
  },
  {
   "cell_type": "markdown",
   "metadata": {},
   "source": [
    "### 3: The Same Subject Continued: Concerning Dangers From Foreign Force and Influence (Jay) (796/1439)"
   ]
  },
  {
   "cell_type": "markdown",
   "metadata": {},
   "source": [
    "IT IS not a new observation that the people of America have long and uniformly entertained of the importance of their continuing firmly united under one federal government, vested with sufficient powers for all general and national purposes. The more attentively I consider and investigate the reasons which appear to have given birth to this opinion, the more I become convinced that they are cogent and conclusive. \n",
    "\n",
    "Among the many objects to which a wise and free people find it necessary to direct their attention, that of providing for their SAFETY seems to be the first. \n",
    "\n",
    "The SAFETY of the people doubtless has relation to a great variety of circumstances and considerations, and consequently affords great latitude to those who wish to define it precisely and comprehensively. At present I mean only to consider it as it respects security for the preservation of peace and tranquillity, as well as against dangers from FOREIGN ARMS AND INFLUENCE, as from dangers of the LIKE KIND arising from domestic causes. As the former of these comes first in order, it is proper it should be the first discussed. \n",
    "\n",
    "Let us therefore proceed to examine whether the people are not right in their opinion that a cordial Union, under an efficient national government, affords them the best security that can be devised against HOSTILITIES from abroad.\n",
    "\n",
    "The number of wars which have happened or will happen in the world will always be found to be in proportion to the number and weight of the causes, whether REAL or PRETENDED, which PROVOKE or INVITE them. If this remark be just, it becomes useful to inquire whether so many JUST causes of war are likely to be given by UNITED AMERICA as by DISUNITED America.\n",
    "\n",
    "The JUST causes of war, for the most part, arise either from violation of treaties or from direct violence. America has already formed treaties with no less than six foreign nations. It is of high importance to the peace of America that she observe the laws of nations towards all these powers, and to me it appears evident that this will be more perfectly and punctually done by one national government than it could be either by thirteen separate States or by three or four distinct confederaciess. Because, under the national government, treaties and articles of treaties, as well as the laws of nations, will always be expounded in one sense and executed in the same manner,--whereas, adjudications on the same points and questions, in thirteen States, or in three or four confederacies, will not always accord or be consistent.\n",
    "\n",
    "So far, therefore, as either designed or accidental violations of treaties and the laws of nations afford JUST causes of war, they are less to be apprehended under one general government than under several lesser ones, and in that respect the former most favors the SAFETY of the people.\n",
    "\n",
    "As to those just causes of war which proceed from direct and unlawful violence, it appears equally clear to me that one good national government affords vastly more security against dangers of that sort than can be derived from any other quarter. Because such violences are more frequently caused by the passions and interests of a part than of the whole; of one or two States than of the Union. Nothing can so effectually obviate that danger as a national government, whose wisdom and prudence will not be diminished by the passions which actuate the parties immediately interested. \n",
    "\n",
    "But not only fewer just causes of war will be given by the national government, but it will also be more in their power to accommodate and settle them amicably. \n",
    "\n",
    "They will be more temperate and cool, and in that respect, as well as in others, will be more in capacity to act advisedly than the offending State. The pride of states, as well as of men, naturally disposes them to justify all their actions, and opposes their acknowledging, correcting, or repairing their errors and offenses. The national government, in such cases, will not be affected by this pride, but will proceed with moderation and candor to consider and decide on the means most proper to extricate them from the difficulties which threaten them.\n",
    "\n",
    "Besides, it is well known that acknowledgments, explanations, and compensations are often accepted as satisfactory from a strong united nation, which would be rejected as unsatisfactory if offered by a State or confederacy of little consideration or power. \n",
    "\n",
    "In the year 1685, the state of Genoa having offended Louis XIV., endeavored to appease him. He demanded that they should send their Doge, or chief magistrate, accompanied by four of their senators, to FRANCE. Would he on any occasion either have demanded or have received the like humiliation from Spain, or Britain, or any other POWERFUL nation? "
   ]
  },
  {
   "cell_type": "markdown",
   "metadata": {},
   "source": [
    "### 4: The Same Subject Continued: Concerning Dangers From Foreign Force and Influence (Jay) (833/1627)"
   ]
  },
  {
   "cell_type": "markdown",
   "metadata": {},
   "source": [
    "MY LAST paper assigned several reasons why the safety of the people would be best secured by union against the danger it may be exposed to by JUST causes of war given to other nations; and those reasons show that such causes would not only be more rarely given, but would also be more easily accommodated, by a national government than either by the State governments or the proposed little confederacies.\n",
    "\n",
    "But the safety of the people of America against dangers from FOREIGN force depends not only on their forbearing to give JUST causes of war to other nations, but also on their placing and continuing themselves in such a situation as not to INVITE hostility or insult; for it need not be observed that there are PRETENDED as well as just causes of war.\n",
    "\n",
    "It is too true, however disgraceful it may be to human nature, that nations in general will make war whenever they have a prospect of getting anything by it; nay, absolute monarchs will often make war when their nations are to get nothing by it, but for the purposes and objects merely personal, such as thirst for military glory, revenge for personal affronts, ambition, or private compacts to aggrandize or support their particular families or partisans.\n",
    "\n",
    "The people of America are aware that inducements to war may arise out of these circumstances, as well as from others not so obvious at present. Wisely, therefore, do they consider union and a good national government as necessary to put and keep them in SUCH A SITUATION as, instead of INVITING war, will tend to repress and discourage it. That situation consists in the best possible state of defense, and necessarily depends on the government, the arms, and the resources of the country.\n",
    "\n",
    "As the safety of the whole is the interest of the whole, and cannot be provided for without government, either one or more or many, let us inquire whether one good government is not, relative to the object in question, more competent than any other given number whatever.\n",
    "\n",
    "One government can collect and avail itself of the talents and experience of the ablest men, in whatever part of the Union they may be found. It can move on uniform principles of policy. It can harmonize, assimilate, and protect the several parts and members, and extend the benefit of its foresight and precautions to each. It can apply the resources and power of the whole to the defense of any particular part, and that more easily and expeditiously than State governments or separate confederacies can possibly do, for want of concert and unity of system. \n",
    "\n",
    "It can place the militia under one plan of discipline, and, by putting their officers in a proper line of subordination to the Chief Magistrate, will, as it were, consolidate them into one corps, and thereby render them more efficient than if divided into thirteen or into three or four distinct independent companies.\n",
    "\n",
    "What would the militia of Britain be if the English militia obeyed the government of England, if the Scotch militia obeyed the government of Scotland, and if the Welsh militia obeyed the government of Wales? If one national government, had not so regulated the navigation of Britain as to make it a nursery for seamen--if one national government had not called forth all the national means and materials for forming fleets, their prowess and their thunder would never have been celebrated.\n",
    "\n",
    "Apply these facts to our own case. Leave America divided into thirteen or, if you please, into three or four independent governments--what armies could they raise and pay--what fleets could they ever hope to have? If one was attacked, would the others fly to its succor, and spend their blood and money in its defense? How, and when, and in what proportion shall aids of men and money be afforded? Who shall command the allied armies, and from which of them shall he receive his orders? Who shall settle the terms of peace, and in case of disputes what umpire shall decide between them and compel acquiescence? \n",
    "\n",
    "But whatever may be our situation, whether firmly united under one national government, or split into a number of confederacies, certain it is, that foreign nations will know and view it exactly as it is; and they will act toward us accordingly. \n",
    "\n",
    "If they see that our national government is efficient and well administered, our trade prudently regulated, our militia properly organized and disciplined, our resources and finances discreetly managed, our credit re-established, our people free, contented, and united, they will be much more disposed to cultivate our friendship than provoke our resentment.\n",
    "\n",
    "If, on the other hand, they find us either destitute of an effectual government or split into three or four independent and probably discordant republics or confederacies, what a poor, pitiful figure will America make in their eyes, and how soon would dear-bought experience proclaim that when a people or family so divide, it never fails to be against themselves. "
   ]
  },
  {
   "cell_type": "markdown",
   "metadata": {},
   "source": [
    "### 5: The Same Subject Continued: Concerning Dangers From Foreign Force and Influence (Jay) (577/1337)"
   ]
  },
  {
   "cell_type": "markdown",
   "metadata": {},
   "source": [
    "QUEEN ANNE, in her letter of the 1st July, 1706, to the Scotch Parliament, makes some observations on the importance of the UNION then forming between England and Scotland, which merit our attention. I shall present the public with one or two extracts from it: \n",
    "\n",
    "\"An entire and perfect union will be the solid foundation of lasting peace; and by this union the whole island, being joined in affection and free from all apprehensions of different interest, will be ENABLED TO RESIST ALL ITS ENEMIES\".\n",
    "\n",
    "\"We most earnestly recommend to you calmness and unanimity in this great and weighty affair, that the union may be brought to a happy conclusion, being the only EFFECTUAL way to secure our present and future happiness, and disappoint the designs of our and your enemies, who will doubtless, on this occasion, USE THEIR UTMOST ENDEAVORS TO PREVENT OR DELAY THIS UNION\".\n",
    "\n",
    "The history of Great Britain is the one with which we are in general the best acquainted, and it gives us many useful lessons. Although it seems obvious to common sense that the people of such an island should be but one nation, yet we find that they were for ages divided into three, and that those three were almost constantly embroiled in quarrels and wars with one another.\n",
    "\n",
    "Should the people of America divide themselves into three or four nations, would not the same thing happen? Like most other BORDERING nations, they would always be either involved in disputes and war, or live in the constant apprehension of them.\n",
    "\n",
    "The North is generally the region of strength, and many local circumstances render it probable that the most Northern of the proposed confederacies would, at a period not very distant, be unquestionably more formidable than any of the others. No sooner would this become evident than the NORTHERN HIVE would excite the same ideas and sensations in the more southern parts of America which it formerly did in the southern parts of Europe.\n",
    "\n",
    "They who well consider the history of similar divisions and confederacies will find abundant reason to apprehend that those in contemplation would in no other sense be neighbors than as they would be borderers; in short, that they would place us exactly in the situations in which some nations doubtless wish to see us, viz., FORMIDABLE ONLY TO EACH OTHER.\n",
    "\n",
    "From these considerations it appears that those gentlemen are greatly mistaken who suppose that alliances offensive and defensive might be formed between these confederacies, and would produce that combination and union of wills of arms and of resources, which would be necessary to put and keep them in a formidable state of defense against foreign enemies.\n",
    "\n",
    "Nay, it is far more probable that in America, as in Europe, neighboring nations, acting under the impulse of opposite interests and unfriendly passions, would frequently be found taking different sides. And here let us not forget how much more easy it is to receive foreign fleets into our ports, and foreign armies into our country, than it is to persuade or compel them to depart. How many conquests did the Romans and others make in the characters of allies, and what innovations did they under the same character introduce into the governments of those whom they pretended to protect? \n",
    "\n",
    "Let candid men judge, then, whether the division of America into any given number of independent sovereignties would tend to secure us against the hostilities and improper interference of foreign nations."
   ]
  },
  {
   "cell_type": "markdown",
   "metadata": {},
   "source": [
    "### 6: Concerning Dangers from Dissensions Between the States (Hamilton) (997/1938)"
   ]
  },
  {
   "cell_type": "markdown",
   "metadata": {},
   "source": [
    "THE three last numbers of this paper have been dedicated to an enumeration of the dangers to which we should be exposed, in a state of disunion, from the arms and arts of foreign nations. I shall now proceed to delineate dangers of a different and, perhaps, still more alarming kind--those which will in all probability flow from dissensions between the States themselves, and from domestic factions and convulsions.\n",
    "\n",
    "To presume a want of motives for such contests as an argument against their existence, would be to forget that men are ambitious, vindictive, and rapacious. To look for a continuation of harmony between a number of independent, unconnected sovereignties in the same neighborhood, would be to disregard the uniform course of human events.\n",
    "\n",
    "The causes of hostility among nations are innumerable. There are some which have a general and almost constant operation upon the collective bodies of society. Of this description are the love of power or the desire of pre-eminence and dominion--the jealousy of power, or the desire of equality and safety. There are others which have a more circumscribed though equally operative influence within their spheres. Such are the rivalships and competitions of commerce between commercial nations. And there are others, not less numerous than either of the former, which take their origin entirely in private passions; in the attachments, enmities, interests, hopes, and fears of leading individuals in the communities of which they are members.\n",
    "\n",
    "Men of this class, whether the favorites of a king or of a people, have in too many instances abused the confidence they possessed; and assuming the pretext of some public motive, have not scrupled to sacrifice the national tranquillity to personal advantage or personal gratification.\n",
    "\n",
    "To multiply examples of the agency of personal considerations in the production of great national events, either foreign or domestic, according to their direction, would be an unnecessary waste of time. Perhaps, however, a reference, tending to illustrate the general principle, may with propriety be made to a case which has lately happened among ourselves. If Shays had not been a DESPERATE DEBTOR, it is much to be doubted whether Massachusetts would have been plunged into a civil war.\n",
    "\n",
    "But notwithstanding the concurring testimony of experience, in this particular, there are still to be found visionary or designing men, who stand ready to advocate the paradox of perpetual peace between the States, though dismembered and alienated from each other. The genius of republics (say they) is pacific; the spirit of commerce has a tendency to soften the manners of men. Commercial republics, like ours, will never be disposed to waste themselves in ruinous contentions with each other. They will be governed by mutual interest, and will cultivate a spirit of mutual amity and concord. \n",
    "\n",
    "Is it not (we may ask these projectors in politics) the true interest of all nations to cultivate the same benevolent and philosophic spirit? If this be their true interest, have they in fact pursued it? Has it not, on the contrary, invariably been found that momentary passions, and immediate interest, have a more active and imperious control over human conduct than general or remote considerations of policy, utility or justice? Have republics in practice been less addicted to war than monarchies? Are not the former administered by MEN as well as the latter? Are there not aversions, predilections, rivalships, and desires of unjust acquisitions, that affect nations as well as kings? Are not popular assemblies frequently subject to the impulses of rage, resentment, jealousy, avarice, and of other irregular and violent propensities? Has commerce hitherto done anything more than change the objects of war? Let experience, the least fallible guide of human opinions, be appealed to for an answer to these inquiries.\n",
    "\n",
    "Sparta, Athens, Rome, and Carthage were all republics; two of them, Athens and Carthage, of the commercial kind. Yet were they as often engaged in wars, offensive and defensive, as the neighboring monarchies of the same times. Sparta was little better than a well-regulated camp; and Rome was never sated of carnage and conquest. Carthage, though a commercial republic, was the aggressor in the very war that ended in her destruction.\n",
    "\n",
    "Venice, in later times, figured more than once in wars of ambition, till Pope Julius II gave a deadly blow to the power and pride of this haughty republic. The provinces of Holland, till they were overwhelmed in debts and taxes, took a leading and conspicuous part in the wars of Europe. \n",
    "\n",
    "In the government of Britain the representatives of the people compose one branch of the national legislature. Commerce has been for ages the predominant pursuit of that country. Few nations, nevertheless, have been more frequently engaged in war; and the wars in which that kingdom has been engaged have, in numerous instances, proceeded from the people.\n",
    "\n",
    "From this summary of what has taken place in other countries, whose situations have borne the nearest resemblance to our own, what reason can we have to confide in those reveries which would seduce us into an expectation of peace and cordiality between the members of the present confederacy, in a state of separation? \n",
    "\n",
    "Have we not already seen enough of the fallacy and extravagance of those idle theories which have amused us with promises of an exemption from the imperfections, weaknesses and evils incident to society in every shape? Is it not time to awake from the deceitful dream of a golden age, and to adopt as a practical maxim for the direction of our political conduct that we, as well as the other inhabitants of the globe, are yet remote from the happy empire of perfect wisdom and perfect virtue?\n",
    "\n",
    "Let the point of extreme depression to which our national dignity and credit have sunk, let the inconveniences felt everywhere from a lax and ill administration of government, let the revolt of a part of the State of North Carolina, the late menacing disturbances in Pennsylvania, and the actual insurrections and rebellions in Massachusetts, declare--!"
   ]
  },
  {
   "cell_type": "markdown",
   "metadata": {},
   "source": [
    "### 7: The Same Subject Continued: Concerning Dangers from Dissensions Between the States (Hamilton) (594/2250)"
   ]
  },
  {
   "cell_type": "markdown",
   "metadata": {},
   "source": [
    "IT IS sometimes asked, with an air of seeming triumph, what inducements could the States have, if disunited, to make war upon each other? It would be a full answer to this question to say--precisely the same inducements which have, at different times, deluged in blood all the nations in the world. But, unfortunately for us, the question admits of a more particular answer.\n",
    "\n",
    "Territorial disputes have at all times been found one of the most fertile sources of hostility among nations. We have a vast tract of unsettled territory within the boundaries of the United States. There still are discordant and undecided claims between several of them, and the dissolution of the Union would lay a foundation for similar claims between them all. At present, a large part of the vacant Western territory is, by cession at least, if not by any anterior right, the common property of the Union. In the wide field of Western territory, therefore, we perceive an ample theatre for hostile pretensions, without any umpire or common judge to interpose between the contending parties. To reason from the past to the future, we shall have good ground to apprehend, that the sword would sometimes be appealed to as the arbiter of their differences. \n",
    "\n",
    "The competitions of commerce would be another fruitful source of contention. Each State, or separate confederacy, would pursue a system of commercial policy peculiar to itself. This would occasion distinctions, preferences, and exclusions, which would beget discontent. The infractions of these regulations, on one side, the efforts to prevent and repel them, on the other, would naturally lead to outrages, and these to reprisals and wars.\n",
    "\n",
    "The public debt of the Union would be a further cause of collision between the separate States or confederacies. The apportionment, in the first instance, and the progressive extinguishment afterward, would be alike productive of ill-humor and animosity. How would it be possible to agree upon a rule of apportionment satisfactory to all? There is scarcely any that can be proposed which is entirely free from real objections. These, as usual, would be exaggerated by the adverse interest of the parties. Suppose the difficulties of agreeing upon a rule surmounted, and the apportionment made. Delinquencies, from whatever causes, would be productive of complaints, recriminations, and quarrels. There is, perhaps, nothing more likely to disturb the tranquillity of nations than their being bound to mutual contributions for any common object that does not yield an equal and coincident benefit. For it is an observation, as true as it is trite, that there is nothing men differ so readily about as the payment of money.\n",
    "\n",
    "Laws in violation of private contracts, as they amount to aggressions on the rights of those States whose citizens are injured by them, may be considered as another probable source of hostility. We have observed the disposition to retaliation excited in Connecticut in consequence of the enormities perpetrated by the Legislature of Rhode Island; and we reasonably infer that, in similar cases, under other circumstances, a war, not of PARCHMENT, but of the sword, would chastise such atrocious breaches of moral obligation and social justice.\n",
    "\n",
    "From the view exhibited of this part of the subject, this conclusion is to be drawn, America, if not connected at all, or only by the feeble tie of a simple league, offensive and defensive, would, by the operation of such jarring alliances, be gradually entangled in all the pernicious labyrinths of European politics and wars. Divide et impera must be the motto of every nation that either hates or fears us."
   ]
  },
  {
   "cell_type": "markdown",
   "metadata": {},
   "source": [
    "### 8: The Consequences of Hostilities Between the States (Hamilton) (1184/1986)"
   ]
  },
  {
   "cell_type": "markdown",
   "metadata": {},
   "source": [
    "ASSUMING it therefore as an established truth that the several States, in case of disunion, or such combinations of them as might happen to be formed out of the wreck of the general Confederacy, would be subject to those vicissitudes of peace and war, of friendship and enmity, with each other, which have fallen to the lot of all neighboring nations not united under one government, let us enter into a concise detail of some of the consequences that would attend such a situation.\n",
    "\n",
    "War between the States, in the first period of their separate existence, would be accompanied with much greater distresses than it commonly is in those countries where regular military establishments have long obtained. The nations of Europe are encircled with chains of fortified places, which mutually obstruct invasion. The history of war, in that quarter of the globe, is no longer a history of nations subdued and empires overturned, but of towns taken and retaken; of battles that decide nothing; of retreats more beneficial than victories; of much effort and little acquisition. \n",
    "\n",
    "In this country the scene would be altogether reversed. The want of fortifications, leaving the frontiers of one state open to another, would facilitate inroads. The populous States would, with little difficulty, overrun their less populous neighbors. Conquests would be as easy to be made as difficult to be retained. War, therefore, would be desultory and predatory. PLUNDER and devastation ever march in the train of irregulars. The calamities of individuals would make the principal figure in the events which would characterize our military exploits. \n",
    "\n",
    "This picture is not too highly wrought; though, I confess, it would not long remain a just one. Safety from external danger is the most powerful director of national conduct. Even the ardent love of liberty will, after a time, give way to its dictates. The violent destruction of life and property incident to war, the continual effort and alarm attendant on a state of continual danger, will compel nations the most attached to liberty to resort for repose and security to institutions which have a tendency to destroy their civil and political rights. To be more safe, they at length become willing to run the risk of being less free.\n",
    "\n",
    "The institutions chiefly alluded to are STANDING ARMIES and the correspondent appendages of military establishments. Standing armies, it is said, are not provided against in the new Constitution; and it is therefore inferred that they may exist under it. Their existence, however, from the very terms of the proposition, is, at most, problematical and uncertain.\n",
    "\n",
    "But standing armies, it may be replied, must inevitably result from a dissolution of the Confederacy. Frequent war and constant apprehension, which require a state of as constant preparation, will infallibly produce them. The weaker States or confederacies would first have recourse to them, to put themselves upon an equality with their more potent neighbors. They would endeavor to supply the inferiority of population and resources by a more regular and effective system of defense, by disciplined troops, and by fortifications. They would, at the same time, be necessitated to strengthen the executive arm of government, in doing which their constitutions would acquire a progressive direction toward monarchy. It is of the nature of war to increase the executive at the expense of the legislative authority.\n",
    "\n",
    "Thus, we should, in a little time, see established in every part of this country the same engines of despotism which have been the scourge of the Old World. It may, perhaps, be asked, by way of objection to this, why did not standing armies spring up out of the contentions which so often distracted the ancient republics of Greece? The industrious habits of the people of the present day, absorbed in the pursuits of gain, are incompatible with the condition of a nation of soldiers, which was the true condition of the people of those republics. Modern times, concurring with the habits of nations, have produced an entire revolution in the system of war, and have rendered disciplined armies, distinct from the body of the citizens, the inseparable companions of frequent hostility.\n",
    "\n",
    "There is a wide difference, also, between military establishments in a country seldom exposed by its situation to internal invasions, and in one which is often subject to them, and always apprehensive of them.\n",
    "\n",
    "These armies being, in the first case, rarely, if at all, called into activity for interior defense, the people are in no danger of being broken to military subordination. The laws are not accustomed to relaxations, in favor of military exigencies; the civil state remains in full vigor, neither corrupted, nor confounded with the principles or propensities of the other state. The smallness of the army renders the natural strength of the community an over-match for it; and the citizens, not habituated to look up to the military power for protection, or to submit to its oppressions, neither love nor fear the soldiery; they view them with a spirit of jealous acquiescence in a necessary evil, and stand ready to resist a power which they suppose may be exerted to the prejudice of their rights. The army under such circumstances may usefully aid the magistrate to suppress a small faction, or an occasional mob, or insurrection; but it will be unable to enforce encroachments against the united efforts of the great body of the people.\n",
    "\n",
    "In a country in the predicament last described, the contrary of all this happens. The perpetual menacings of danger oblige the government to be always prepared to repel it; its armies must be numerous enough for instant defense. The continual necessity for their services enhances the importance of the soldier, and proportionably degrades the condition of the citizen. The military state becomes elevated above the civil. The inhabitants of territories, often the theatre of war, are unavoidably subjected to frequent infringements on their rights, which serve to weaken their sense of those rights; and by degrees the people are brought to consider the soldiery not only as their protectors, but as their superiors. The transition from this disposition to that of considering them masters, is neither remote nor difficult; but it is very difficult to prevail upon a people under such impressions, to make a bold or effectual resistance to usurpations supported by the military power.\n",
    "\n",
    "If we are wise enough to preserve the Union we may for ages enjoy an advantage similar to that of an insulated situation. Europe is at a great distance from us. Her colonies in our vicinity will be likely to continue too much disproportioned in strength to be able to give us any dangerous annoyance. Extensive military establishments cannot, in this position, be necessary to our security. \n",
    "\n",
    "But if we should be disunited, and the integral parts should either remain separated, or, which is most probable, should be thrown together into two or three confederacies, we should be, in a short course of time, in the predicament of the continental powers of Europe --our liberties would be a prey to the means of defending ourselves against the ambition and jealousy of each other."
   ]
  },
  {
   "cell_type": "markdown",
   "metadata": {},
   "source": [
    "### 9: The Union as a Safeguard Against Domestic Faction and Insurrection (Hamilton) (941/1974)"
   ]
  },
  {
   "cell_type": "markdown",
   "metadata": {},
   "source": [
    "A FIRM Union will be of the utmost moment to the peace and liberty of the States, as a barrier against domestic faction and insurrection. \n",
    "\n",
    "It is impossible to read the history of the petty republics of Greece and Italy without feeling sensations of horror and disgust at the rapid succession of revolutions by which they were kept in a state of perpetual vibration between the extremes of tyranny and anarchy. \n",
    "\n",
    "From the disorders that disfigure the annals of those republics the advocates of despotism have drawn arguments, not only against the forms of republican government, but against the very principles of civil liberty. They have decried all free government as inconsistent with the order of society. Happily for mankind, stupendous fabrics reared on the basis of liberty, which have flourished for ages, have, in a few glorious instances, refuted their gloomy sophisms.\n",
    "\n",
    "But it is not to be denied that the portraits they have sketched of republican government were too just copies of the originals from which they were taken. If it had been found impracticable to have devised models of a more perfect structure, the enlightened friends to liberty would have been obliged to abandon the cause of that species of government as indefensible. \n",
    "\n",
    "The science of politics, however, like most other sciences, has received great improvement. The efficacy of various principles is now well understood, which were either not known at all, or imperfectly known to the ancients. They are means, and powerful means, by which the excellences of republican government may be retained and its imperfections lessened or avoided. \n",
    "\n",
    "To this catalogue of circumstances that tend to the amelioration of popular systems of civil government, I shall venture, however novel it may appear to some, to add one more, on a principle which has been made the foundation of an objection to the new Constitution; I mean the ENLARGEMENT of the ORBIT within which such systems are to revolve.\n",
    "\n",
    "The opponents of the plan proposed have, with great assiduity, cited and circulated the observations of Montesquieu on the necessity of a contracted territory for a republican government. But they seem not to have been apprised of the sentiments of that great man expressed in another part of his work.\n",
    "\n",
    "So far are the suggestions of Montesquieu from standing in opposition to a general Union of the States, that he explicitly treats of a CONFEDERATE REPUBLIC as the expedient for extending the sphere of popular government, and reconciling the advantages of monarchy with those of republicanism. \n",
    "\n",
    "\"It is very probable\" (says he) \"that mankind would have been obliged at length to live constantly under the government of a single person, had they not contrived a kind of constitution that has all the internal advantages of a republican, together with the external force of a monarchical government. I mean a CONFEDERATE REPUBLIC\"\n",
    "\n",
    "\"It is a kind of assemblage of societies that constitute a new one, capable of increasing, by means of new associations, till they arrive to such a degree of power as to be able to provide for the security of the united body\"\n",
    "\n",
    "\"If a single member should attempt to usurp the supreme authority, he could not be supposed to have an equal authority and credit in all the confederate states. Were he to have too great influence over one, this would alarm the rest. Were he to subdue a part, that which would still remain free might oppose him with forces independent of those which he had usurped and overpower him before he could be settled in his usurpation.\"\n",
    "\n",
    "\"Should a popular insurrection happen in one of the confederate states the others are able to quell it. Should abuses creep into one part, they are reformed by those that remain sound. The state may be destroyed on one side, and not on the other; the confederacy may be dissolved, and the confederates preserve their sovereignty.\"\n",
    "\n",
    "I have thought it proper to quote at length these interesting passages, because they contain a luminous abridgment of the principal arguments in favor of the Union. They have, at the same time, an intimate connection with the more immediate design of this paper; which is, to illustrate the tendency of the Union to repress domestic faction and insurrection.\n",
    "\n",
    "A distinction, more subtle than accurate, has been raised between a CONFEDERACY and a CONSOLIDATION of the States. The essential characteristic of the first is said to be, the restriction of its authority to the members in their collective capacities, without reaching to the individuals of whom they are composed. It is contended that the national council ought to have no concern with any object of internal administration. An exact equality of suffrage between the members has also been insisted upon as a leading feature of a confederate government.\n",
    "\n",
    "In the Lycian confederacy, which consisted of twenty-three CITIES or republics, the largest were entitled to THREE votes in the COMMON COUNCIL, those of the middle class to TWO, and the smallest to ONE. The COMMON COUNCIL had the appointment of all the judges and magistrates of the respective CITIES. This was certainly the most, delicate species of interference in their internal administration; for if there be any thing that seems exclusively appropriated to the local jurisdictions, it is the appointment of their own officers. \n",
    "\n",
    "Yet Montesquieu, speaking of this association, says: \"Were I to give a model of an excellent Confederate Republic, it would be that of Lycia\". Thus we perceive that the distinctions insisted upon were not within the contemplation of this enlightened civilian; and we shall be led to conclude, that they are the novel refinements of an erroneous theory."
   ]
  },
  {
   "cell_type": "markdown",
   "metadata": {},
   "source": [
    "### 10: The Same Subject Continued: The Union as a Safeguard Against Domestic Faction and Insurrection (Madison) (1278/2994)"
   ]
  },
  {
   "cell_type": "markdown",
   "metadata": {},
   "source": [
    "AMONG the numerous advantages promised by a well constructed Union, none deserves to be more accurately developed than its tendency to break and control the violence of faction.\n",
    "\n",
    "By a faction, I understand a number of citizens, whether amounting to a majority or a minority of the whole, who are united and actuated by some common impulse of passion, or of interest, adversed to the rights of other citizens, or to the permanent and aggregate interests of the community.\n",
    "\n",
    "There are two methods of curing the mischiefs of faction: the one, by removing its causes; the other, by controlling its effects. \n",
    "\n",
    "There are again two methods of removing the causes of faction: the one, by destroying the liberty which is essential to its existence; the other, by giving to every citizen the same opinions, the same passions, and the same interests. \n",
    "\n",
    "It could never be more truly said than of the first remedy, that it was worse than the disease. Liberty is to faction what air is to fire, an aliment without which it instantly expires. But it could not be less folly to abolish liberty, which is essential to political life, because it nourishes faction, than it would be to wish the annihilation of air, which is essential to animal life, because it imparts to fire its destructive agency.\n",
    "\n",
    "The second expedient is as impracticable as the first would be unwise. As long as the reason of man continues fallible, and he is at liberty to exercise it, different opinions will be formed. The diversity in the faculties of men, from which the rights of property originate, is not less an insuperable obstacle to a uniformity of interests. The protection of these faculties is the first object of government. From the protection of different and unequal faculties of acquiring property, the possession of different degrees and kinds of property immediately results. The most common and durable source of factions has been the various and unequal distribution of property.\n",
    "\n",
    "The inference to which we are brought is, that the CAUSES of faction cannot be removed, and that relief is only to be sought in the means of controlling its EFFECTS. \n",
    "\n",
    "If a faction consists of less than a majority, relief is supplied by the republican principle, which enables the majority to defeat its sinister views by regular vote. It may clog the administration, it may convulse the society; but it will be unable to execute and mask its violence under the forms of the Constitution. When a majority is included in a faction, the form of popular government, on the other hand, enables it to sacrifice to its ruling passion or interest both the public good and the rights of other citizens. \n",
    "\n",
    "To secure the public good and private rights against the danger of such a faction, and at the same time to preserve the spirit and the form of popular government, is then the great object to which our inquiries are directed.\n",
    "\n",
    "By what means is this object attainable? Evidently by one of two only. Either the existence of the same passion or interest in a majority at the same time must be prevented, or the majority, having such coexistent passion or interest, must be rendered, by their number and local situation, unable to concert and carry into effect schemes of oppression.\n",
    "\n",
    "From this view of the subject it may be concluded that a pure democracy, by which I mean a society consisting of a small number of citizens, who assemble and administer the government in person, can admit of no cure for the mischiefs of faction. A common passion or interest will, in almost every case, be felt by a majority of the whole; a communication and concert result from the form of government itself; and there is nothing to check the inducements to sacrifice the weaker party or an obnoxious individual. Hence it is that such democracies have in general been as short in their lives as they have been violent in their deaths. Theoretic politicians, who have patronized this species of government, have erroneously supposed that by reducing mankind to a perfect equality in their political rights, they would, at the same time, be perfectly equalized and assimilated in their possessions, their opinions, and their passions. \n",
    "\n",
    "A republic, by which I mean a government in which the scheme of representation takes place, opens a different prospect, and promises the cure for which we are seeking. \n",
    "\n",
    "The two great points of difference between a democracy and a republic are: first, the delegation of the government, in the latter, to a small number of citizens elected by the rest; secondly, the greater number of citizens, and greater sphere of country, over which the latter may be extended. \n",
    "\n",
    "The effect of the first difference is, on the one hand that the public voice, pronounced by the representatives of the people, will be more consonant to the public good than if pronounced by the people themselves, convened for the purpose. On the other hand, the effect may be inverted. Men of factious tempers, of local prejudices, or of sinister designs, may, by intrigue, by corruption, or by other means, first obtain the suffrages, and then betray the interests, of the people. The question resulting is, whether small or extensive republics are more favorable to the election of proper guardians of the public weal. If the proportion of fit characters be not less in the large than in the small republic, the former will present a greater option, and consequently a greater probability of a fit choice. In the next place, as each representative will be chosen by a greater number of citizens in the large than in the small republic, it will be more difficult for unworthy candidates to practice with success the vicious arts by which elections are too often carried.\n",
    "\n",
    "The other point of difference is, the greater number of citizens and extent of territory which may be brought within the compass of republican than of democratic government; and it is this circumstance principally which renders factious combinations less to be dreaded in the former than in the latter. Extend the sphere, and you take in a greater variety of parties and interests; you make it less probable that a majority of the whole will have a common motive to invade the rights of other citizens; or if such a common motive exists, it will be more difficult for all who feel it to discover their own strength, and to act in unison with each other.\n",
    "\n",
    "Hence, it clearly appears, that the same advantage which a republic has over a democracy, in controlling the effects of faction, is enjoyed by a large over a small republic,--is enjoyed by the Union over the States composing it.\n",
    "\n",
    "The influence of factious leaders may kindle a flame within their particular States, but will be unable to spread a general conflagration through the other States. A religious sect may degenerate into a political faction in a part of the Confederacy; but the variety of sects dispersed over the entire face of it must secure the national councils against any danger from that source. A rage for paper money, for an abolition of debts, for an equal division of property, or for any other improper or wicked project, will be less apt to pervade the whole body of the Union than a particular member of it; in the same proportion as such a malady is more likely to taint a particular county or district, than an entire State. \n",
    "\n",
    "In the extent and proper structure of the Union, therefore, we behold a republican remedy for the diseases most incident to republican government."
   ]
  },
  {
   "cell_type": "markdown",
   "metadata": {},
   "source": [
    "### 11: The Utility of the Union in Respect to Commercial Relations and a Navy (Hamilton) (1115/2489)"
   ]
  },
  {
   "cell_type": "markdown",
   "metadata": {},
   "source": [
    "THE importance of the Union, in a commercial light, is one of those points which has, in fact, commanded the most general assent of men who have any acquaintance with the subject. This applies as well to our intercourse with foreign countries as with each other. \n",
    "\n",
    "The adventurous spirit, which distinguishes the commercial character of America, has already excited uneasy sensations in several of the maritime powers of Europe. They foresee the dangers that may threaten their American dominions from the neighborhood of States, which have all the dispositions, and would possess all the means, requisite to the creation of a powerful marine.\n",
    "\n",
    "Impressions of this kind will naturally indicate the policy of fostering divisions among us, and of depriving us, as far as possible, of an ACTIVE COMMERCE in our own bottoms. If we continue united, we may counteract a policy so unfriendly to our prosperity in a variety of ways. \n",
    "\n",
    "Suppose, for instance, we had a government in America, capable of excluding Great Britain (with whom we have at present no treaty of commerce) from all our ports; what would be the probable operation of this step upon her politics? Would it not enable us to negotiate, with the fairest prospect of success, for commercial privileges of the most valuable and extensive kind, in the dominions of that kingdom?\n",
    "\n",
    "A further resource for influencing the conduct of European nations toward us, in this respect, would arise from the establishment of a federal navy. The continuance of the Union under an efficient government would put it in our power, at a period not very distant, to create a navy which, if it could not vie with those of the great maritime powers, would at least be of respectable weight if thrown into the scale of either of two contending parties. A few ships of the line, sent opportunely to the reinforcement of either side, would often be sufficient to decide the fate of a campaign, on the event of which interests of the greatest magnitude were suspended.\n",
    "\n",
    "And if to this consideration we add that of the usefulness of supplies from this country, in the prosecution of military operations, it will readily be perceived that a situation so favorable would enable us to bargain with great advantage for commercial privileges. A price would be set not only upon our friendship, but upon our neutrality. \n",
    "\n",
    "By a steady adherence to the Union we may hope, erelong, to become the arbiter of Europe in America, and to be able to incline the balance of European competitions in this part of the world as our interest may dictate. But in the reverse of this eligible situation, we shall discover that the rivalships of the parts would make them checks upon each other. In a state so insignificant our commerce would be a prey to the wanton intermeddlings of all nations at war with each other; who, having nothing to fear from us, would with little scruple or remorse, supply their wants by depredations on our property as often as it fell in their way. The rights of neutrality will only be respected when they are defended by an adequate power.\n",
    "\n",
    "Under a vigorous national government, the natural strength and resources of the country, directed to a common interest, would baffle all the combinations of European jealousy to restrain our growth. This situation would even take away the motive to such combinations, by inducing an impracticability of success. But in a state of disunion, it would be in the power of the maritime nations, availing themselves of our universal impotence, to prescribe the conditions of our political existence.\n",
    "\n",
    "They would in all probability combine to embarrass our navigation in such a manner as would in effect destroy it, and confine us to a PASSIVE COMMERCE. We should then be compelled to content ourselves with the first price of our commodities, and to see the profits of our trade snatched from us to enrich our enemies and persecutors.\n",
    "\n",
    "An unrestrained intercourse between the States themselves will advance the trade of each by an interchange of their respective productions, not only for the supply of reciprocal wants at home, but for exportation to foreign markets. \n",
    "\n",
    "Commercial enterprise will have much greater scope, from the diversity in the productions of different States. The variety, not less than the value, of products for exportation contributes to the activity of foreign commerce. Particular articles may be in great demand at certain periods, and unsalable at others; but if there be a variety of articles, it can scarcely happen that they should all be at one time in the latter predicament. The speculative trader will at once perceive the force of these observations, and will acknowledge that the aggregate balance of the commerce of the United States would bid fair to be much more favorable than that of the thirteen States without union or with partial unions.\n",
    "\n",
    "There are other points of view in which this subject might be placed, of a striking and animating kind. But they would lead us too far into the regions of futurity, and would involve topics not proper for a newspaper discussion. I shall briefly observe, that our situation invites and our interests prompt us to aim at an ascendant in the system of American affairs.\n",
    "\n",
    "The world may politically, as well as geographically, be divided into four parts, each having a distinct set of interests. Unhappily for the other three, Europe, by her arms and by her negotiations, by force and by fraud, has, in different degrees, extended her dominion over them all. Africa, Asia, and America, have successively felt her domination.\n",
    "\n",
    "The superiority she has long maintained has tempted her to plume herself as the Mistress of the World, and to consider the rest of mankind as created for her benefit. Men admired as profound philosophers have, in direct terms, attributed to her inhabitants a physical superiority, and have gravely asserted that all animals, and with them the human species, degenerate in America--that even dogs cease to bark after having breathed awhile in our atmosphere. Facts have too long supported these arrogant pretensions of the Europeans. It belongs to us to vindicate the honor of the human race, and to teach that assuming brother, moderation. \n",
    "\n",
    "Union will enable us to do it. Disunion will will add another victim to his triumphs. Let Americans disdain to be the instruments of European greatness! Let the thirteen States, bound together in a strict and indissoluble Union, concur in erecting one great American system, superior to the control of all transatlantic force or influence, and able to dictate the terms of the connection between the old and the new world!"
   ]
  },
  {
   "cell_type": "markdown",
   "metadata": {},
   "source": [
    "### 12: The Utility of the Union In Respect to Revenue (Hamilton) (855/2141)"
   ]
  },
  {
   "cell_type": "markdown",
   "metadata": {},
   "source": [
    "THE effects of Union upon the commercial prosperity of the States have been sufficiently delineated. Its tendency to promote the interests of revenue will be the subject of our present inquiry.\n",
    "\n",
    "The ability of a country to pay taxes must always be proportioned, in a great degree, to the quantity of money in circulation, and to the celerity with which it circulates. Commerce, contributing to both these objects, must of necessity render the payment of taxes easier, and facilitate the requisite supplies to the treasury. \n",
    "\n",
    "But it is not in this aspect of the subject alone that Union will be seen to conduce to the purpose of revenue. There are other points of view, in which its influence will appear more immediate and decisive.\n",
    "\n",
    "It is evident from the state of the country, from the habits of the people, from the experience we have had on the point itself, that it is impracticable to raise any very considerable sums by direct taxation. The popular system of administration inherent in the nature of popular government, coinciding with the real scarcity of money incident to a languid and mutilated state of trade, has hitherto defeated every experiment for extensive collections, and has at length taught the different legislatures the folly of attempting them. \n",
    "\n",
    "No person acquainted with what happens in other countries will be surprised at this circumstance. In so opulent a nation as that of Britain, where direct taxes from superior wealth must be much more tolerable, and, from the vigor of the government, much more practicable, than in America, far the greatest part of the national revenue is derived from taxes of the indirect kind, from imposts, and from excises. Duties on imported articles form a large branch of this latter description. \n",
    "\n",
    "In America, it is evident that we must a long time depend for the means of revenue chiefly on such duties. In most parts of it, excises must be confined within a narrow compass. \n",
    "\n",
    "If these remarks have any foundation, that state of things which will best enable us to improve and extend so valuable a resource must be best adapted to our political welfare. And it cannot admit of a serious doubt, that this state of things must rest on the basis of a general Union. As far as this would be conducive to the interests of commerce, so far it must tend to the extension of the revenue to be drawn from that source.\n",
    "\n",
    "The relative situation of these States conspire to render an illicit trade between them a matter of little difficulty, and would insure frequent evasions of the commercial regulations of each other. The separate States or confederacies would be necessitated by mutual jealousy to avoid the temptations to that kind of trade by the lowness of their duties. The temper of our governments, for a long time to come, would not permit those rigorous precautions by which the European nations guard the avenues into their respective countries, as well by land as by water; and which, even there, are found insufficient obstacles to the adventurous stratagems of avarice. The arbitrary and vexatious powers with which the patrols are necessarily armed, would be intolerable in a free country.\n",
    "\n",
    "If, on the contrary, there be but one government pervading all the States, there will be, as to the principal part of our commerce, but ONE SIDE to guard--the ATLANTIC COAST. An ordinary degree of vigilance would be competent to the prevention of any material infractions upon the rights of the revenue. A few armed vessels, judiciously stationed at the entrances of our ports, might at a small expense be made useful sentinels of the laws.\n",
    "\n",
    "It is therefore evident, that one national government would be able, at much less expense, to extend the duties on imports, beyond comparison, further than would be practicable to the States separately, or to any partial confederacies. The single article of ardent spirits, under federal regulation, might be made to furnish a considerable revenue; if it should tend to diminish the consumption of it, such an effect would be equally favorable to the agriculture, to the economy, to the morals, and to the health of the society.\n",
    "\n",
    "What will be the consequence, if we are not able to avail ourselves of the resource in question in its full extent? \n",
    "\n",
    "A nation cannot long exist without revenues. In this country, if the principal part be not drawn from commerce, it must fall with oppressive weight upon land. And as, on the other hand, the wants of the government can never obtain an adequate supply, unless all the sources of revenue are open to its demands, the finances of the community, under such embarrassments, cannot be put into a situation consistent with its respectability or its security. \n",
    "\n",
    "Thus we shall not even have the consolations of a full treasury, to atone for the oppression of that valuable class of the citizens who are employed in the cultivation of the soil. But public and private distress will keep pace with each other in gloomy concert; and unite in deploring the infatuation of those counsels which led to disunion. "
   ]
  },
  {
   "cell_type": "markdown",
   "metadata": {},
   "source": [
    "### 13: Advantage of the Union in Respect to Economy in Government (Hamilton) (540/957)"
   ]
  },
  {
   "cell_type": "markdown",
   "metadata": {},
   "source": [
    "As CONNECTED with the subject of revenue, we may with propriety consider that of economy. The money saved from one object may be usefully applied to another, and there will be so much the less to be drawn from the pockets of the people. \n",
    "\n",
    "If the States are united under one government, there will be but one national civil list to support; if they are divided into several confederacies, there will be as many different national civil lists to be provided for--and each of them, as to the principal departments, coextensive with that which has been proposed by the convention. \n",
    "\n",
    "When the dimensions of a State attain to a certain magnitude, it requires the same energy of government and the same forms of administration which are requisite in one of much greater extent. This idea admits not of precise demonstration, because there is no rule by which we can measure the momentum of civil power necessary to the government of any given number of individuals; but civil power, properly organized and exerted, is capable of diffusing its force to a very great extent; and can, in a manner, reproduce itself in every part of a great empire by a judicious arrangement of subordinate institutions. \n",
    "\n",
    "If we attend carefully to geographical and commercial considerations, in conjunction with the habits and prejudices of the different States, we shall be led to conclude that in case of disunion they will most naturally league themselves under two governments. \n",
    "\n",
    "The more Southern States, from various circumstances, may prefer a system which would give unlimited scope to all nations to be the carriers as well as the purchasers of their commodities. Pennsylvania may not choose to confound her interests in a connection so adverse to her policy. As she must at all events be a frontier, she may deem it most consistent with her safety to have her exposed side turned towards the weaker power of the Southern, rather than towards the stronger power of the Northern, Confederacy. This would give her the fairest chance to avoid being the Flanders of America. Whatever may be the determination of Pennsylvania, if the Northern Confederacy includes New Jersey, there is no likelihood of more than one confederacy to the south of that State. \n",
    "\n",
    "Nothing can be more evident than that the thirteen States will be able to support a national government better than one half, or one third, or any number less than the whole. This reflection must have great weight in obviating that objection to the proposed plan, which is founded on the principle of expense.\n",
    "\n",
    "If, in addition to the consideration of a plurality of civil lists, we take into view the number of persons who must necessarily be employed to guard the inland communication between the different confederacies against illicit trade, and who in time will infallibly spring up out of the necessities of revenue; and if we also take into view the military establishments which it has been shown would unavoidably result from the jealousies and conflicts of the several nations into which the States would be divided, we shall clearly discover that a separation would be not less injurious to the economy, than to the tranquillity, commerce, revenue, and liberty of every part."
   ]
  },
  {
   "cell_type": "markdown",
   "metadata": {},
   "source": [
    "### 14: Objections to the Proposed Constitution From Extent of Territory Answered (Madison) (1301/2136)"
   ]
  },
  {
   "cell_type": "markdown",
   "metadata": {},
   "source": [
    "WE HAVE seen the necessity of the Union, as our bulwark against foreign danger, as the conservator of peace among ourselves, as the guardian of our commerce and other common interests, as the only substitute for those military establishments which have subverted the liberties of the Old World, and as the proper antidote for the diseases of faction, which have proved fatal to other popular governments, and of which alarming symptoms have been betrayed by our own. \n",
    "\n",
    "All that remains, within this branch of our inquiries, is to take notice of an objection that may be drawn from the great extent of country which the Union embraces. The adversaries of the new Constitution are availing themselves of the prevailing prejudice with regard to the practicable sphere of republican administration, in order to supply, by imaginary difficulties, the want of those solid objections which they endeavor in vain to find. \n",
    "\n",
    "The error which limits republican government to a narrow district has been unfolded and refuted in preceding papers. I remark here only that it seems to owe its rise and prevalence chiefly to the confounding of a republic with a democracy, applying to the former reasonings drawn from the nature of the latter. \n",
    "\n",
    "The true distinction between these forms was also adverted to on a former occasion. It is, that in a democracy, the people meet and exercise the government in person; in a republic, they assemble and administer it by their representatives and agents. A democracy, consequently, will be confined to a small spot. A republic may be extended over a large region. \n",
    "\n",
    "To this accidental source of the error may be added the artifice of some celebrated authors, whose writings have had a great share in forming the modern standard of political opinions. Being subjects either of an absolute or limited monarchy, they have endeavored to heighten the advantages, or palliate the evils of those forms, by placing in comparison the vices and defects of the republican, and by citing as specimens of the latter the turbulent democracies of ancient Greece and modern Italy.\n",
    "\n",
    "Even in modern Europe, to which we owe the great principle of representation, no example is seen of a government wholly popular, and founded, at the same time, wholly on that principle. If Europe has the merit of discovering this great mechanical power in government, by the simple agency of which the will of the largest political body may be concentred, and its force directed to any object which the public good requires, America can claim the merit of making the discovery the basis of unmixed and extensive republics.\n",
    "\n",
    "As the natural limit of a democracy is that distance from the central point which will just permit the most remote citizens to assemble as often as their public functions demand, and will include no greater number than can join in those functions; so the natural limit of a republic is that distance from the centre which will barely allow the representatives to meet as often as may be necessary for the administration of public affairs. Can it be said that the limits of the United States exceed this distance? In Great Britain, inferior as it may be in size, the representatives of the northern extremity of the island have as far to travel to the national council as will be required of those of the most remote parts of the Union. \n",
    "\n",
    "Favorable as this view of the subject may be, some observations remain which will place it in a light still more satisfactory. \n",
    "\n",
    "In the first place it is to be remembered that the general government is not to be charged with the whole power of making and administering laws. Its jurisdiction is limited to certain enumerated objects, which concern all the members of the republic, but which are not to be attained by the separate provisions of any. The subordinate governments, which can extend their care to all those other subjects which can be separately provided for, will retain their due authority and activity.\n",
    "\n",
    "A second observation to be made is that the immediate object of the federal Constitution is to secure the union of the thirteen primitive States, which we know to be practicable; and to add to them such other States as may arise in their own bosoms, or in their neighborhoods, which we cannot doubt to be equally practicable. The arrangements that may be necessary for those angles and fractions of our territory must be left to those whom further discoveries and experience will render more equal to the task. \n",
    "\n",
    "Let it be remarked, in the third place, that the intercourse throughout the Union will be facilitated by new improvements. Roads will everywhere be shortened, and kept in better order. Communication between different parts will be rendered more and more easy by those numerous canals which beneficence finds so little difficult to connect and complete. \n",
    "\n",
    "A fourth and still more important consideration is, that as almost every State will, on one side or other, be a frontier, and will thus find, in regard to its safety, an inducement to make some sacrifices for the sake of the general protection; so the States which lie at the greatest distance from the heart of the Union, and which, of course, may partake least of the ordinary circulation of its benefits, will derive greater benefit from it in other respects, and thus the proper equilibrium will be maintained throughout.\n",
    "\n",
    "I submit to you, my fellow-citizens, these considerations, in full confidence that the good sense which has so often marked your decisions will allow them their due weight and effect.\n",
    "\n",
    "Hearken not to the unnatural voice which tells you that the people of America, knit together as they are by so many cords of affection, can no longer be fellow-citizens of one great, respectable, and flourishing empire. Hearken not to the voice which petulantly tells you that the form of government recommended for your adoption is a novelty in the political world; that it has never yet had a place in the theories of the wildest projectors; that it rashly attempts what it is impossible to accomplish. Shut your hearts against the poison which it conveys; the kindred blood which flows in the veins of American citizens, the mingled blood which they have shed in defense of their sacred rights, consecrate their Union.\n",
    "\n",
    "Is it not the glory of the people of America, that, whilst they have paid a decent regard to the opinions of former times and other nations, they have not suffered a blind veneration for antiquity, for custom, or for names, to overrule the suggestions of their own good sense, the knowledge of their own situation, and the lessons of their own experience? \n",
    "\n",
    "Had no important step been taken by the leaders of the Revolution for which a precedent could not be discovered, the people of the United States might, at this moment, have been laboring under the weight of some of those forms which have crushed the liberties of the rest of mankind. Happily for America, happily, we trust, for the whole human race, they pursued a new and more noble course.\n",
    "\n",
    "They accomplished a revolution which has no parallel in the annals of human society. They reared the fabrics of governments which have no model on the face of the globe. They formed the design of a great Confederacy, which it is incumbent on their successors to improve and perpetuate. \n",
    "\n",
    "If their works betray imperfections, we wonder at the fewness of them. If they erred most in the structure of the Union, this was the work most difficult to be executed; this is the work which has been new modelled by the act of your convention, and it is that act on which you are now to deliberate and to decide."
   ]
  },
  {
   "cell_type": "code",
   "execution_count": null,
   "metadata": {},
   "outputs": [],
   "source": []
  }
 ],
 "metadata": {
  "kernelspec": {
   "display_name": "Python 3",
   "language": "python",
   "name": "python3"
  },
  "language_info": {
   "codemirror_mode": {
    "name": "ipython",
    "version": 3
   },
   "file_extension": ".py",
   "mimetype": "text/x-python",
   "name": "python",
   "nbconvert_exporter": "python",
   "pygments_lexer": "ipython3",
   "version": "3.7.3"
  }
 },
 "nbformat": 4,
 "nbformat_minor": 2
}
