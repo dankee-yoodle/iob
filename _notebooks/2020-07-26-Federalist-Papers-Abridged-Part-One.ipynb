{
 "cells": [
  {
   "cell_type": "markdown",
   "metadata": {},
   "source": [
    "# \"Federalist 2020 Part One (32,222/71,684)\"\n",
    "> \"First half of first draft of an abridged version of the Federalist Papers. Goal is ~1/3rd of the length, 9/10ths of the wisdom/foolishness. Currently ~4/9 the length, and the wisdom/foolishness in it remains to be seen. Paper # delination not super useful, might restructure. Did my best not to whitewash. Bet I butchered your favorite.\"\n",
    "- toc: true\n",
    "- branch: master\n",
    "- badges: true\n",
    "- comments: true\n",
    "- categories: [federalist papers]\n",
    "- image: images/some_folder/your_image.png\n",
    "- hide: false\n",
    "- search_exclude: true\n",
    "- metadata_key1: metadata_value1\n",
    "- metadata_key2: metadata_value2"
   ]
  },
  {
   "cell_type": "markdown",
   "metadata": {},
   "source": [
    "## THE UTILITY OF THE UNION TO YOUR POLITICAL PROSPERITY"
   ]
  },
  {
   "cell_type": "markdown",
   "metadata": {},
   "source": [
    "### Federalist 1: General Introduction (Hamilton) (804/1583)"
   ]
  },
  {
   "cell_type": "markdown",
   "metadata": {},
   "source": [
    "AFTER an unequivocal experience of the inefficiency of the subsisting federal government, you are called upon to deliberate on a new Constitution for the United States of America. \n",
    "\n",
    "The subject speaks its own importance; comprehending in its consequences nothing less than the existence of the UNION, the safety and welfare of the parts of which it is composed, the fate of an empire in many respects the most interesting in the world. Happy will it be if our choice should be directed by a judicious estimate of our true interests, unperplexed and unbiased by considerations not connected with the public good. But this is a thing more ardently to be wished than seriously to be expected.\n",
    "\n",
    "Among the most formidable of the obstacles which the new Constitution will have to encounter may readily be distinguished the obvious interest of a certain class of men in every State to resist all changes which may hazard a diminution of the power, emolument, and consequence of the offices they hold under the State establishments; and the perverted ambition of another class of men, who will either hope to aggrandize themselves by the confusions of their country, or will flatter themselves with fairer prospects of elevation from the subdivision of the empire into several partial confederacies than from its union under one government.\n",
    "\n",
    "It is not, however, my design to dwell upon observations of this nature. I am well aware that it would be disingenuous to resolve indiscriminately the opposition of any set of men. And a further reason for caution, in this respect, might be drawn from the reflection that in politics, as in religion, it is equally absurd to aim at making proselytes by fire and sword. Heresies in either can rarely be cured by persecution. \n",
    "\n",
    "And yet, a torrent of angry and malignant passions will be let loose. An enlightened zeal for the energy and efficiency of government will be stigmatized as the offspring of a temper fond of despotic power and hostile to the principles of liberty. On the other hand, it will be equally forgotten that the vigor of government is essential to the security of liberty; that, in the contemplation of a sound and well-informed judgment, their interest can never be separated; and that a dangerous ambition more often lurks behind the specious mask of zeal for the rights of the people than under the forbidden appearance of zeal for the firmness and efficiency of government. History will teach us that the former has been found a much more certain road to the introduction of despotism than the latter, and that of those men who have overturned the liberties of republics, the greatest number have begun their career by paying an obsequious court to the people; commencing demagogues, and ending tyrants.\n",
    "\n",
    "In the course of the preceding observations, I have had an eye, my fellow-citizens, to putting you upon your guard against all attempts to influence your decision by any impressions other than those which may result from the evidence of truth. You will, no doubt have collected from the general scope of them, that they proceed from a source not unfriendly to the new Constitution. I am clearly of opinion it is your interest to adopt it. I shall not, however, multiply professions on this head. My motives must remain in the depository of my own breast. My arguments will be open to all, and may be judged of by all.\n",
    "\n",
    "I propose, in a series of papers, to discuss the following interesting particulars:\n",
    "\n",
    "THE UTILITY OF THE UNION TO YOUR POLITICAL PROSPERITY \n",
    "\n",
    "THE INSUFFICIENCY OF THE PRESENT CONFEDERATION TO PRESERVE THAT UNION\n",
    "\n",
    "THE NECESSITY OF A GOVERNMENT AT LEAST EQUALLY ENERGETIC WITH THE ONE PROPOSED, TO THE ATTAINMENT OF THIS OBJECT\n",
    "\n",
    "THE CONFORMITY OF THE PROPOSED CONSTITUTION TO THE TRUE PRINCIPLES OF REPUBLICAN GOVERNMENT\n",
    "\n",
    "ITS ANALOGY TO YOUR OWN STATE CONSTITUTION and lastly, \n",
    "\n",
    "THE ADDITIONAL SECURITY WHICH ITS ADOPTION WILL AFFORD TO THE PRESERVATION OF THAT SPECIES OF GOVERNMENT, TO LIBERTY, AND TO PROPERTY.\n",
    "\n",
    "It may perhaps be thought superfluous to offer arguments to prove the utility of the UNION, a point deeply engraved on the hearts of the great body of the people in every State. But the fact is, that we already hear it whispered in the private circles of those who oppose the new Constitution, that the thirteen States are of too great extent for any general system, and that we must of necessity resort to separate confederacies of distinct portions of the whole. \n",
    "\n",
    "This doctrine will, in all probability, be gradually propagated, till it has votaries enough to countenance an open avowal of it. It will therefore be of use to begin by examining the advantages of that Union, the certain evils, and the probable dangers, to which every State will be exposed from its dissolution."
   ]
  },
  {
   "cell_type": "markdown",
   "metadata": {},
   "source": [
    "### Federalist 2: Concerning Dangers from Foreign Force and Influence (Jay) (561/1662)"
   ]
  },
  {
   "cell_type": "markdown",
   "metadata": {},
   "source": [
    "Nothing is more certain than the indispensable necessity of government, and it is equally undeniable, that whenever and however it is instituted, the people must cede to it some of their natural rights in order to vest it with requisite powers. It is well worthy of consideration therefore, whether it would conduce more to the interest of the people of America that they should, to all general purposes, be one nation, under one federal government, or that they should divide themselves into separate confederacies, and give to the head of each the same kind of powers which they are advised to place in one national government.\n",
    "\n",
    "It has until lately been a received and uncontradicted opinion that the prosperity of the people of America depended on their continuing firmly united. \n",
    "\n",
    "A strong sense of the value and blessings of union induced the people, at a very early period, to institute a federal government to preserve and perpetuate it. They formed it almost as soon as they had a political existence; nay, at a time when their habitations were in flames, when many of their citizens were bleeding, and when the progress of hostility and desolation left little room for those calm and mature inquiries and reflections which must ever precede the formation of a wise and well-balanced government for a free people. \n",
    "\n",
    "It is not to be wondered at, that a government instituted in times so inauspicious, should on experiment be found greatly deficient and inadequate to the purpose it was intended to answer. This intelligent people perceived and regretted these defects. Still continuing no less attached to union than enamored of liberty, they as with one voice, convened the late convention at Philadelphia, to take that important subject under consideration. \n",
    "\n",
    "This convention composed of men who possessed the confidence of the people, in the mild season of peace, with minds unoccupied by other subjects, passed many months in cool, uninterrupted, and daily consultation; and finally, without having been awed by power, or influenced by any passions except love for their country, they presented and recommended to the people the plan produced by their joint and very unanimous councils. \n",
    "\n",
    "It is worthy of remark that not only the first, but every succeeding Congress, as well as the late convention, have invariably joined with the people in thinking that the prosperity of America depended on its Union. To preserve and perpetuate it was the great object of the people in forming that convention, and it is also the great object of the plan which the convention has advised them to adopt. With what propriety, therefore, or for what good purposes, are attempts at this particular period made by some men to depreciate the importance of the Union? Or why is it suggested that three or four confederacies would be better than one? \n",
    "\n",
    "I am persuaded in my own mind that the people have always thought right on this subject, and that their universal and uniform attachment to the cause of the Union rests on great and weighty reasons, which I shall endeavor to develop and explain in some ensuing papers.\n",
    "\n",
    "I sincerely wish that it may be as clearly foreseen by every good citizen, that whenever the dissolution of the Union arrives, America will have reason to exclaim, in the words of the poet: \"FAREWELL! A LONG FAREWELL TO ALL MY GREATNESS\"."
   ]
  },
  {
   "cell_type": "markdown",
   "metadata": {},
   "source": [
    "### Federalist 3: The Same Subject Continued: Concerning Dangers From Foreign Force and Influence (Jay) (772/1439)"
   ]
  },
  {
   "cell_type": "markdown",
   "metadata": {},
   "source": [
    "Among the many objects to which a wise and free people find it necessary to direct their attention, that of providing for their SAFETY seems to be the first. \n",
    "\n",
    "The SAFETY of the people doubtless has relation to a great variety of circumstances and considerations, and consequently affords great latitude to those who wish to define it precisely and comprehensively. At present I mean only to consider it as it respects security for the preservation of peace and tranquillity, as well as against dangers from FOREIGN ARMS AND INFLUENCE, as from dangers of the LIKE KIND arising from domestic causes. As the former of these comes first in order, it is proper it should be the first discussed. \n",
    "\n",
    "Let us therefore proceed to examine whether the people are not right in their opinion that a cordial Union, under an efficient national government, affords them the best security that can be devised against HOSTILITIES from abroad.\n",
    "\n",
    "The number of wars which have happened or will happen in the world will always be found to be in proportion to the number and weight of the causes, whether REAL or PRETENDED, which PROVOKE or INVITE them. If this remark be just, it becomes useful to inquire whether so many JUST causes of war are likely to be given by UNITED AMERICA as by DISUNITED America.\n",
    "\n",
    "The JUST causes of war, for the most part, arise either from violation of treaties or from direct violence. America has already formed treaties with no less than six foreign nations. It is of high importance to the peace of America that she observe the laws of nations towards all these powers, and to me it appears evident that this will be more perfectly and punctually done by one national government than it could be either by thirteen separate States or by three or four distinct confederacies.\n",
    "\n",
    "The administration, the political counsels, and the judicial decisions of the national government will be more wise, systematical, and judicious than those of individual States, and consequently more satisfactory with respect to other nations, as well as more SAFE with respect to us. Because, under the national government, treaties and articles of treaties, as well as the laws of nations, will always be expounded in one sense and executed in the same manner,--whereas, adjudications on the same points and questions, in thirteen States, or in three or four confederacies, will not always accord or be consistent\n",
    "\n",
    "So far, therefore, as either designed or accidental violations of treaties and the laws of nations afford JUST causes of war, they are less to be apprehended under one general government than under several lesser ones, and in that respect the former most favors the SAFETY of the people.\n",
    "\n",
    "As to those just causes of war which proceed from direct and unlawful violence, it appears equally clear to me that one good national government affords vastly more security against dangers of that sort than can be derived from any other quarter. Because such violences are more frequently caused by the passions and interests of a part than of the whole; of one or two States than of the Union. Nothing can so effectually obviate that danger as a national government, whose wisdom and prudence will not be diminished by the passions which actuate the parties immediately interested. \n",
    "\n",
    "But not only fewer just causes of war will be given by the national government, but it will also be more in their power to accommodate and settle them amicably. \n",
    "\n",
    "They will be more temperate and cool, and in that respect, as well as in others, will be more in capacity to act advisedly than the offending State. The pride of states, as well as of men, naturally disposes them to justify all their actions, and opposes their acknowledging, correcting, or repairing their errors and offenses. The national government, in such cases, will not be affected by this pride, but will proceed with moderation and candor to consider and decide on the means most proper to extricate them from the difficulties which threaten them.\n",
    "\n",
    "Besides, it is well known that acknowledgments, explanations, and compensations are often accepted as satisfactory from a strong united nation, which would be rejected as unsatisfactory if offered by a State or confederacy of little consideration or power. \n",
    "\n",
    "In the year 1685, the state of Genoa having offended Louis XIV., endeavored to appease him. He demanded that they should send their Doge, or chief magistrate, accompanied by four of their senators, to FRANCE. Would he on any occasion either have demanded or have received the like humiliation from Spain, or Britain, or any other POWERFUL nation? "
   ]
  },
  {
   "cell_type": "markdown",
   "metadata": {},
   "source": [
    "### Federalist 4: The Same Subject Continued: Concerning Dangers From Foreign Force and Influence (Jay) (833/1627)"
   ]
  },
  {
   "cell_type": "markdown",
   "metadata": {},
   "source": [
    "MY LAST paper assigned several reasons why the safety of the people would be best secured by union against the danger it may be exposed to by JUST causes of war given to other nations; and those reasons show that such causes would not only be more rarely given, but would also be more easily accommodated, by a national government than either by the State governments or the proposed little confederacies.\n",
    "\n",
    "But the safety of the people of America against dangers from FOREIGN force depends not only on their forbearing to give JUST causes of war to other nations, but also on their placing and continuing themselves in such a situation as not to INVITE hostility or insult; for it need not be observed that there are PRETENDED as well as just causes of war.\n",
    "\n",
    "It is too true, however disgraceful it may be to human nature, that nations in general will make war whenever they have a prospect of getting anything by it; nay, absolute monarchs will often make war when their nations are to get nothing by it, but for the purposes and objects merely personal, such as thirst for military glory, revenge for personal affronts, ambition, or private compacts to aggrandize or support their particular families or partisans.\n",
    "\n",
    "The people of America are aware that inducements to war may arise out of these circumstances, as well as from others not so obvious at present. Wisely, therefore, do they consider union and a good national government as necessary to put and keep them in SUCH A SITUATION as, instead of INVITING war, will tend to repress and discourage it. That situation consists in the best possible state of defense, and necessarily depends on the government, the arms, and the resources of the country.\n",
    "\n",
    "As the safety of the whole is the interest of the whole, and cannot be provided for without government, either one or more or many, let us inquire whether one good government is not, relative to the object in question, more competent than any other given number whatever.\n",
    "\n",
    "One government can collect and avail itself of the talents and experience of the ablest men, in whatever part of the Union they may be found. It can move on uniform principles of policy. It can harmonize, assimilate, and protect the several parts and members, and extend the benefit of its foresight and precautions to each. It can apply the resources and power of the whole to the defense of any particular part, and that more easily and expeditiously than State governments or separate confederacies can possibly do, for want of concert and unity of system. \n",
    "\n",
    "It can place the militia under one plan of discipline, and, by putting their officers in a proper line of subordination to the Chief Magistrate, will, as it were, consolidate them into one corps, and thereby render them more efficient than if divided into thirteen or into three or four distinct independent companies.\n",
    "\n",
    "What would the militia of Britain be if the English militia obeyed the government of England, if the Scotch militia obeyed the government of Scotland, and if the Welsh militia obeyed the government of Wales? If one national government, had not so regulated the navigation of Britain as to make it a nursery for seamen--if one national government had not called forth all the national means and materials for forming fleets, their prowess and their thunder would never have been celebrated.\n",
    "\n",
    "Apply these facts to our own case. Leave America divided into thirteen or, if you please, into three or four independent governments--what armies could they raise and pay--what fleets could they ever hope to have? If one was attacked, would the others fly to its succor, and spend their blood and money in its defense? How, and when, and in what proportion shall aids of men and money be afforded? Who shall command the allied armies, and from which of them shall he receive his orders? Who shall settle the terms of peace, and in case of disputes what umpire shall decide between them and compel acquiescence? \n",
    "\n",
    "But whatever may be our situation, whether firmly united under one national government, or split into a number of confederacies, certain it is, that foreign nations will know and view it exactly as it is; and they will act toward us accordingly. \n",
    "\n",
    "If they see that our national government is efficient and well administered, our trade prudently regulated, our militia properly organized and disciplined, our resources and finances discreetly managed, our credit re-established, our people free, contented, and united, they will be much more disposed to cultivate our friendship than provoke our resentment.\n",
    "\n",
    "If, on the other hand, they find us either destitute of an effectual government or split into three or four independent and probably discordant republics or confederacies, what a poor, pitiful figure will America make in their eyes, and how soon would dear-bought experience proclaim that when a people or family so divide, it never fails to be against themselves. "
   ]
  },
  {
   "cell_type": "markdown",
   "metadata": {},
   "source": [
    "### Federalist 5: The Same Subject Continued: Concerning Dangers From Foreign Force and Influence (Jay) (543/1337)"
   ]
  },
  {
   "cell_type": "markdown",
   "metadata": {},
   "source": [
    "QUEEN ANNE, in her letter of the 1st July, 1706, to the Scotch Parliament, makes some observations on the importance of the UNION then forming between England and Scotland, which merit our attention. I shall present the public with one or two extracts from it: \n",
    "\n",
    "\"An entire and perfect union will be the solid foundation of lasting peace; and by this union the whole island, being joined in affection and free from all apprehensions of different interest, will be ENABLED TO RESIST ALL ITS ENEMIES\".\n",
    "\n",
    "\"We most earnestly recommend to you calmness and unanimity in this great and weighty affair, that the union may be brought to a happy conclusion, being the only EFFECTUAL way to secure our present and future happiness, and disappoint the designs of our and your enemies, who will doubtless, on this occasion, USE THEIR UTMOST ENDEAVORS TO PREVENT OR DELAY THIS UNION\".\n",
    "\n",
    "The history of Great Britain is the one with which we are in general the best acquainted, and it gives us many useful lessons. Although it seems obvious to common sense that the people of such an island should be but one nation, yet we find that they were for ages divided into three, and that those three were almost constantly embroiled in quarrels and wars with one another.\n",
    "\n",
    "Should the people of America divide themselves into three or four nations, would not the same thing happen? Like most other BORDERING nations, they would always be either involved in disputes and war, or live in the constant apprehension of them.\n",
    "\n",
    "The North is generally the region of strength, and many local circumstances render it probable that the most Northern of the proposed confederacies would, at a period not very distant, be unquestionably more formidable than any of the others. No sooner would this become evident than the NORTHERN HIVE would excite the same ideas and sensations in the more southern parts of America which it formerly did in the southern parts of Europe.\n",
    "\n",
    "They who well consider the history of similar divisions and confederacies will find abundant reason to apprehend that those in contemplation would in no other sense be neighbors than as they would be borderers; in short, that they would place us exactly in the situations in which some nations doubtless wish to see us, viz., FORMIDABLE ONLY TO EACH OTHER.\n",
    "\n",
    "From these considerations it appears that those gentlemen are greatly mistaken who suppose that alliances offensive and defensive might be formed between these confederacies, and would produce that combination and union of wills of arms and of resources, which would be necessary to put and keep them in a formidable state of defense against foreign enemies.\n",
    "\n",
    "Nay, it is far more probable that in America, as in Europe, neighboring nations, acting under the impulse of opposite interests and unfriendly passions, would frequently be found taking different sides. And here let us not forget how much more easy it is to receive foreign fleets into our ports, and foreign armies into our country, than it is to persuade or compel them to depart.\n",
    "\n",
    "Let candid men judge, then, whether the division of America into any given number of independent sovereignties would tend to secure us against the hostilities and improper interference of foreign nations."
   ]
  },
  {
   "cell_type": "markdown",
   "metadata": {},
   "source": [
    "### Federalist 6: Concerning Dangers from Dissensions Between the States (Hamilton) (971/1938)"
   ]
  },
  {
   "cell_type": "markdown",
   "metadata": {},
   "source": [
    "THE three last numbers of this paper have been dedicated to an enumeration of the dangers to which we should be exposed, in a state of disunion, from the arms and arts of foreign nations. I shall now proceed to delineate dangers of a different and, perhaps, still more alarming kind--those which will in all probability flow from dissensions between the States themselves, and from domestic factions and convulsions.\n",
    "\n",
    "To look for a continuation of harmony between a number of independent, unconnected sovereignties in the same neighborhood, would be to disregard the uniform course of human events.\n",
    "\n",
    "The causes of hostility among nations are innumerable. There are some which have a general and almost constant operation upon the collective bodies of society. Of this description are the love of power or the desire of pre-eminence and dominion--the jealousy of power, or the desire of equality and safety. There are others which have a more circumscribed though equally operative influence within their spheres. Such are the rivalships and competitions of commerce between commercial nations. And there are others, not less numerous than either of the former, which take their origin entirely in private passions; in the attachments, enmities, interests, hopes, and fears of leading individuals in the communities of which they are members.\n",
    "\n",
    "Men of this class, whether the favorites of a king or of a people, have in too many instances abused the confidence they possessed; and assuming the pretext of some public motive, have not scrupled to sacrifice the national tranquillity to personal advantage or personal gratification.\n",
    "\n",
    "To multiply examples of the agency of personal considerations in the production of great national events, either foreign or domestic, according to their direction, would be an unnecessary waste of time. Perhaps, however, a reference, tending to illustrate the general principle, may with propriety be made to a case which has lately happened among ourselves. If Shays had not been a DESPERATE DEBTOR, it is much to be doubted whether Massachusetts would have been plunged into a civil war.\n",
    "\n",
    "But notwithstanding the concurring testimony of experience, in this particular, there are still to be found visionary or designing men, who stand ready to advocate the paradox of perpetual peace between the States, though dismembered and alienated from each other. The genius of republics (say they) is pacific; the spirit of commerce has a tendency to soften the manners of men. Commercial republics, like ours, will never be disposed to waste themselves in ruinous contentions with each other. They will be governed by mutual interest, and will cultivate a spirit of mutual amity and concord. \n",
    "\n",
    "Is it not (we may ask these projectors in politics) the true interest of all nations to cultivate the same benevolent and philosophic spirit? If this be their true interest, have they in fact pursued it? Has it not, on the contrary, invariably been found that momentary passions, and immediate interest, have a more active and imperious control over human conduct than general or remote considerations of policy, utility or justice?\n",
    "\n",
    "Have republics in practice been less addicted to war than monarchies? Are not the former administered by MEN as well as the latter? Are there not aversions, predilections, rivalships, and desires of unjust acquisitions, that affect nations as well as kings? Are not popular assemblies frequently subject to the impulses of rage, resentment, jealousy, avarice, and of other irregular and violent propensities? Has commerce hitherto done anything more than change the objects of war? Let experience, the least fallible guide of human opinions, be appealed to for an answer to these inquiries.\n",
    "\n",
    "Sparta, Athens, Rome, and Carthage were all republics; two of them, Athens and Carthage, of the commercial kind. Yet were they as often engaged in wars, offensive and defensive, as the neighboring monarchies of the same times. Sparta was little better than a well-regulated camp; and Rome was never sated of carnage and conquest. Carthage, though a commercial republic, was the aggressor in the very war that ended in her destruction. \n",
    "\n",
    "Venice, in later times, figured more than once in wars of ambition, till Pope Julius II gave a deadly blow to the power and pride of this haughty republic. The provinces of Holland, till they were overwhelmed in debts and taxes, took a leading and conspicuous part in the wars of Europe. \n",
    "\n",
    "In the government of Britain the representatives of the people compose one branch of the national legislature. Commerce has been for ages the predominant pursuit of that country. Few nations, nevertheless, have been more frequently engaged in war; and the wars in which that kingdom has been engaged have, in numerous instances, proceeded from the people.\n",
    "\n",
    "From this summary of what has taken place in other countries, whose situations have borne the nearest resemblance to our own, what reason can we have to confide in those reveries which would seduce us into an expectation of peace and cordiality between the members of the present confederacy, in a state of separation? \n",
    "\n",
    "Have we not already seen enough of the fallacy and extravagance of those idle theories which have amused us with promises of an exemption from the imperfections, weaknesses and evils incident to society in every shape? Is it not time to awake from the deceitful dream of a golden age, and to adopt as a practical maxim for the direction of our political conduct that we, as well as the other inhabitants of the globe, are yet remote from the happy empire of perfect wisdom and perfect virtue?\n",
    "\n",
    "Let the point of extreme depression to which our national dignity and credit have sunk, let the inconveniences felt everywhere from a lax and ill administration of government, let the revolt of a part of the State of North Carolina, the late menacing disturbances in Pennsylvania, and the actual insurrections and rebellions in Massachusetts, declare--!"
   ]
  },
  {
   "cell_type": "markdown",
   "metadata": {},
   "source": [
    "### Federalist 7: The Same Subject Continued: Concerning Dangers from Dissensions Between the States (Hamilton) (594/2250)"
   ]
  },
  {
   "cell_type": "markdown",
   "metadata": {},
   "source": [
    "IT IS sometimes asked, with an air of seeming triumph, what inducements could the States have, if disunited, to make war upon each other? It would be a full answer to this question to say--precisely the same inducements which have, at different times, deluged in blood all the nations in the world. But, unfortunately for us, the question admits of a more particular answer.\n",
    "\n",
    "Territorial disputes have at all times been found one of the most fertile sources of hostility among nations. We have a vast tract of unsettled territory within the boundaries of the United States. There still are discordant and undecided claims between several of them, and the dissolution of the Union would lay a foundation for similar claims between them all. At present, a large part of the vacant Western territory is, by cession at least, if not by any anterior right, the common property of the Union. In the wide field of Western territory, therefore, we perceive an ample theatre for hostile pretensions, without any umpire or common judge to interpose between the contending parties. To reason from the past to the future, we shall have good ground to apprehend, that the sword would sometimes be appealed to as the arbiter of their differences. \n",
    "\n",
    "The competitions of commerce would be another fruitful source of contention. Each State, or separate confederacy, would pursue a system of commercial policy peculiar to itself. This would occasion distinctions, preferences, and exclusions, which would beget discontent. The infractions of these regulations, on one side, the efforts to prevent and repel them, on the other, would naturally lead to outrages, and these to reprisals and wars.\n",
    "\n",
    "The public debt of the Union would be a further cause of collision between the separate States or confederacies. The apportionment, in the first instance, and the progressive extinguishment afterward, would be alike productive of ill-humor and animosity. How would it be possible to agree upon a rule of apportionment satisfactory to all? There is scarcely any that can be proposed which is entirely free from real objections. These, as usual, would be exaggerated by the adverse interest of the parties. Suppose the difficulties of agreeing upon a rule surmounted, and the apportionment made. Delinquencies, from whatever causes, would be productive of complaints, recriminations, and quarrels. There is, perhaps, nothing more likely to disturb the tranquillity of nations than their being bound to mutual contributions for any common object that does not yield an equal and coincident benefit. For it is an observation, as true as it is trite, that there is nothing men differ so readily about as the payment of money.\n",
    "\n",
    "Laws in violation of private contracts, as they amount to aggressions on the rights of those States whose citizens are injured by them, may be considered as another probable source of hostility. We have observed the disposition to retaliation excited in Connecticut in consequence of the enormities perpetrated by the Legislature of Rhode Island; and we reasonably infer that, in similar cases, under other circumstances, a war, not of PARCHMENT, but of the sword, would chastise such atrocious breaches of moral obligation and social justice.\n",
    "\n",
    "From the view exhibited of this part of the subject, this conclusion is to be drawn, America, if not connected at all, or only by the feeble tie of a simple league, offensive and defensive, would, by the operation of such jarring alliances, be gradually entangled in all the pernicious labyrinths of European politics and wars. Divide et impera must be the motto of every nation that either hates or fears us."
   ]
  },
  {
   "cell_type": "markdown",
   "metadata": {},
   "source": [
    "### Federalist 8: The Consequences of Hostilities Between the States (Hamilton) (1046/1986)"
   ]
  },
  {
   "cell_type": "markdown",
   "metadata": {},
   "source": [
    "ASSUMING it therefore as an established truth that the several States, in case of disunion, or such combinations of them as might happen to be formed out of the wreck of the general Confederacy, would be subject to those vicissitudes of peace and war, of friendship and enmity, with each other, which have fallen to the lot of all neighboring nations not united under one government, let us enter into a concise detail of some of the consequences that would attend such a situation.\n",
    "\n",
    "The want of fortifications, leaving the frontiers of one state open to another, would facilitate inroads. The populous States would, with little difficulty, overrun their less populous neighbors. Conquests would be as easy to be made as difficult to be retained. War, therefore, would be desultory and predatory. PLUNDER and devastation ever march in the train of irregulars. The calamities of individuals would make the principal figure in the events which would characterize our military exploits. \n",
    "\n",
    "This picture is not too highly wrought; though, I confess, it would not long remain a just one. Safety from external danger is the most powerful director of national conduct. Even the ardent love of liberty will, after a time, give way to its dictates. The violent destruction of life and property incident to war, the continual effort and alarm attendant on a state of continual danger, will compel nations the most attached to liberty to resort for repose and security to institutions which have a tendency to destroy their civil and political rights. To be more safe, they at length become willing to run the risk of being less free.\n",
    "\n",
    "The institutions chiefly alluded to are STANDING ARMIES and the correspondent appendages of military establishments. Standing armies, it is said, are not provided against in the new Constitution; and it is therefore inferred that they may exist under it. Their existence, however, from the very terms of the proposition, is, at most, problematical and uncertain.\n",
    "\n",
    "But standing armies, it may be replied, must inevitably result from a dissolution of the Confederacy. Frequent war and constant apprehension, which require a state of as constant preparation, will infallibly produce them. The weaker States or confederacies would first have recourse to them, to put themselves upon an equality with their more potent neighbors. They would endeavor to supply the inferiority of population and resources by a more regular and effective system of defense, by disciplined troops, and by fortifications. They would, at the same time, be necessitated to strengthen the executive arm of government, in doing which their constitutions would acquire a progressive direction toward monarchy. It is of the nature of war to increase the executive at the expense of the legislative authority.\n",
    "\n",
    "Thus, we should, in a little time, see established in every part of this country the same engines of despotism which have been the scourge of the Old World. It may, perhaps, be asked, by way of objection to this, why did not standing armies spring up out of the contentions which so often distracted the ancient republics of Greece? Modern times, concurring with the habits of nations, have produced an entire revolution in the system of war, and have rendered disciplined armies, distinct from the body of the citizens, the inseparable companions of frequent hostility.\n",
    "\n",
    "There is a wide difference, also, between military establishments in a country seldom exposed by its situation to internal invasions, and in one which is often subject to them, and always apprehensive of them.\n",
    "\n",
    "These armies being, in the first case, rarely, if at all, called into activity for interior defense, the people are in no danger of being broken to military subordination. The laws are not accustomed to relaxations, in favor of military exigencies; the civil state remains in full vigor, neither corrupted, nor confounded with the principles or propensities of the other state. The smallness of the army renders the natural strength of the community an over-match for it; and the citizens, not habituated to look up to the military power for protection, or to submit to its oppressions, neither love nor fear the soldiery; they view them with a spirit of jealous acquiescence in a necessary evil, and stand ready to resist a power which they suppose may be exerted to the prejudice of their rights. The army under such circumstances may usefully aid the magistrate to suppress a small faction, or an occasional mob, or insurrection; but it will be unable to enforce encroachments against the united efforts of the great body of the people.\n",
    "\n",
    "In a country in the predicament last described, the contrary of all this happens. The perpetual menacings of danger oblige the government to be always prepared to repel it; its armies must be numerous enough for instant defense. The continual necessity for their services enhances the importance of the soldier, and proportionably degrades the condition of the citizen. The military state becomes elevated above the civil. The inhabitants of territories, often the theatre of war, are unavoidably subjected to frequent infringements on their rights, which serve to weaken their sense of those rights; and by degrees the people are brought to consider the soldiery not only as their protectors, but as their superiors. The transition from this disposition to that of considering them masters, is neither remote nor difficult; but it is very difficult to prevail upon a people under such impressions, to make a bold or effectual resistance to usurpations supported by the military power.\n",
    "\n",
    "If we are wise enough to preserve the Union we may for ages enjoy an advantage similar to that of an insulated situation. Europe is at a great distance from us. Her colonies in our vicinity will be likely to continue too much disproportioned in strength to be able to give us any dangerous annoyance. Extensive military establishments cannot, in this position, be necessary to our security. \n",
    "\n",
    "But if we should be disunited, and the integral parts should either remain separated, or, which is most probable, should be thrown together into two or three confederacies, we should be, in a short course of time, in the predicament of the continental powers of Europe --our liberties would be a prey to the means of defending ourselves against the ambition and jealousy of each other."
   ]
  },
  {
   "cell_type": "markdown",
   "metadata": {},
   "source": [
    "### Federalist 9: The Union as a Safeguard Against Domestic Faction and Insurrection (Hamilton) (941/1974)"
   ]
  },
  {
   "cell_type": "markdown",
   "metadata": {},
   "source": [
    "A FIRM Union will be of the utmost moment to the peace and liberty of the States, as a barrier against domestic faction and insurrection. \n",
    "\n",
    "It is impossible to read the history of the petty republics of Greece and Italy without feeling sensations of horror and disgust at the rapid succession of revolutions by which they were kept in a state of perpetual vibration between the extremes of tyranny and anarchy. \n",
    "\n",
    "From the disorders that disfigure the annals of those republics the advocates of despotism have drawn arguments, not only against the forms of republican government, but against the very principles of civil liberty. They have decried all free government as inconsistent with the order of society. Happily for mankind, stupendous fabrics reared on the basis of liberty, which have flourished for ages, have, in a few glorious instances, refuted their gloomy sophisms.\n",
    "\n",
    "But it is not to be denied that the portraits they have sketched of republican government were too just copies of the originals from which they were taken. If it had been found impracticable to have devised models of a more perfect structure, the enlightened friends to liberty would have been obliged to abandon the cause of that species of government as indefensible. \n",
    "\n",
    "The science of politics, however, like most other sciences, has received great improvement. The efficacy of various principles is now well understood, which were either not known at all, or imperfectly known to the ancients. They are means, and powerful means, by which the excellences of republican government may be retained and its imperfections lessened or avoided. \n",
    "\n",
    "To this catalogue of circumstances that tend to the amelioration of popular systems of civil government, I shall venture, however novel it may appear to some, to add one more, on a principle which has been made the foundation of an objection to the new Constitution; I mean the ENLARGEMENT of the ORBIT within which such systems are to revolve.\n",
    "\n",
    "The opponents of the plan proposed have, with great assiduity, cited and circulated the observations of Montesquieu on the necessity of a contracted territory for a republican government. But they seem not to have been apprised of the sentiments of that great man expressed in another part of his work.\n",
    "\n",
    "So far are the suggestions of Montesquieu from standing in opposition to a general Union of the States, that he explicitly treats of a CONFEDERATE REPUBLIC as the expedient for extending the sphere of popular government, and reconciling the advantages of monarchy with those of republicanism. \n",
    "\n",
    "\"It is very probable\" (says he) \"that mankind would have been obliged at length to live constantly under the government of a single person, had they not contrived a kind of constitution that has all the internal advantages of a republican, together with the external force of a monarchical government. I mean a CONFEDERATE REPUBLIC\"\n",
    "\n",
    "\"It is a kind of assemblage of societies that constitute a new one, capable of increasing, by means of new associations, till they arrive to such a degree of power as to be able to provide for the security of the united body\"\n",
    "\n",
    "\"If a single member should attempt to usurp the supreme authority, he could not be supposed to have an equal authority and credit in all the confederate states. Were he to have too great influence over one, this would alarm the rest. Were he to subdue a part, that which would still remain free might oppose him with forces independent of those which he had usurped and overpower him before he could be settled in his usurpation.\"\n",
    "\n",
    "\"Should a popular insurrection happen in one of the confederate states the others are able to quell it. Should abuses creep into one part, they are reformed by those that remain sound. The state may be destroyed on one side, and not on the other; the confederacy may be dissolved, and the confederates preserve their sovereignty.\"\n",
    "\n",
    "I have thought it proper to quote at length these interesting passages, because they contain a luminous abridgment of the principal arguments in favor of the Union. They have, at the same time, an intimate connection with the more immediate design of this paper; which is, to illustrate the tendency of the Union to repress domestic faction and insurrection.\n",
    "\n",
    "A distinction, more subtle than accurate, has been raised between a CONFEDERACY and a CONSOLIDATION of the States. The essential characteristic of the first is said to be, the restriction of its authority to the members in their collective capacities, without reaching to the individuals of whom they are composed. It is contended that the national council ought to have no concern with any object of internal administration. An exact equality of suffrage between the members has also been insisted upon as a leading feature of a confederate government.\n",
    "\n",
    "In the Lycian confederacy, which consisted of twenty-three CITIES or republics, the largest were entitled to THREE votes in the COMMON COUNCIL, those of the middle class to TWO, and the smallest to ONE. The COMMON COUNCIL had the appointment of all the judges and magistrates of the respective CITIES. This was certainly the most, delicate species of interference in their internal administration; for if there be any thing that seems exclusively appropriated to the local jurisdictions, it is the appointment of their own officers. \n",
    "\n",
    "Yet Montesquieu, speaking of this association, says: \"Were I to give a model of an excellent Confederate Republic, it would be that of Lycia\". Thus we perceive that the distinctions insisted upon were not within the contemplation of this enlightened civilian; and we shall be led to conclude, that they are the novel refinements of an erroneous theory."
   ]
  },
  {
   "cell_type": "markdown",
   "metadata": {},
   "source": [
    "### Federalist 10: The Same Subject Continued: The Union as a Safeguard Against Domestic Faction and Insurrection (Madison) (1278/2994)"
   ]
  },
  {
   "cell_type": "markdown",
   "metadata": {},
   "source": [
    "AMONG the numerous advantages promised by a well constructed Union, none deserves to be more accurately developed than its tendency to break and control the violence of faction.\n",
    "\n",
    "By a faction, I understand a number of citizens, whether amounting to a majority or a minority of the whole, who are united and actuated by some common impulse of passion, or of interest, adversed to the rights of other citizens, or to the permanent and aggregate interests of the community.\n",
    "\n",
    "There are two methods of curing the mischiefs of faction: the one, by removing its causes; the other, by controlling its effects. \n",
    "\n",
    "There are again two methods of removing the causes of faction: the one, by destroying the liberty which is essential to its existence; the other, by giving to every citizen the same opinions, the same passions, and the same interests. \n",
    "\n",
    "It could never be more truly said than of the first remedy, that it was worse than the disease. Liberty is to faction what air is to fire, an aliment without which it instantly expires. But it could not be less folly to abolish liberty, which is essential to political life, because it nourishes faction, than it would be to wish the annihilation of air, which is essential to animal life, because it imparts to fire its destructive agency.\n",
    "\n",
    "The second expedient is as impracticable as the first would be unwise. As long as the reason of man continues fallible, and he is at liberty to exercise it, different opinions will be formed. The diversity in the faculties of men, from which the rights of property originate, is not less an insuperable obstacle to a uniformity of interests. The protection of these faculties is the first object of government. From the protection of different and unequal faculties of acquiring property, the possession of different degrees and kinds of property immediately results. The most common and durable source of factions has been the various and unequal distribution of property.\n",
    "\n",
    "The inference to which we are brought is, that the CAUSES of faction cannot be removed, and that relief is only to be sought in the means of controlling its EFFECTS. \n",
    "\n",
    "If a faction consists of less than a majority, relief is supplied by the republican principle, which enables the majority to defeat its sinister views by regular vote. It may clog the administration, it may convulse the society; but it will be unable to execute and mask its violence under the forms of the Constitution. When a majority is included in a faction, the form of popular government, on the other hand, enables it to sacrifice to its ruling passion or interest both the public good and the rights of other citizens. \n",
    "\n",
    "To secure the public good and private rights against the danger of such a faction, and at the same time to preserve the spirit and the form of popular government, is then the great object to which our inquiries are directed.\n",
    "\n",
    "By what means is this object attainable? Evidently by one of two only. Either the existence of the same passion or interest in a majority at the same time must be prevented, or the majority, having such coexistent passion or interest, must be rendered, by their number and local situation, unable to concert and carry into effect schemes of oppression.\n",
    "\n",
    "From this view of the subject it may be concluded that a pure democracy, by which I mean a society consisting of a small number of citizens, who assemble and administer the government in person, can admit of no cure for the mischiefs of faction. A common passion or interest will, in almost every case, be felt by a majority of the whole; a communication and concert result from the form of government itself; and there is nothing to check the inducements to sacrifice the weaker party or an obnoxious individual. Hence it is that such democracies have in general been as short in their lives as they have been violent in their deaths. Theoretic politicians, who have patronized this species of government, have erroneously supposed that by reducing mankind to a perfect equality in their political rights, they would, at the same time, be perfectly equalized and assimilated in their possessions, their opinions, and their passions. \n",
    "\n",
    "A republic, by which I mean a government in which the scheme of representation takes place, opens a different prospect, and promises the cure for which we are seeking. \n",
    "\n",
    "The two great points of difference between a democracy and a republic are: first, the delegation of the government, in the latter, to a small number of citizens elected by the rest; secondly, the greater number of citizens, and greater sphere of country, over which the latter may be extended. \n",
    "\n",
    "The effect of the first difference is, on the one hand that the public voice, pronounced by the representatives of the people, will be more consonant to the public good than if pronounced by the people themselves, convened for the purpose. On the other hand, the effect may be inverted. Men of factious tempers, of local prejudices, or of sinister designs, may, by intrigue, by corruption, or by other means, first obtain the suffrages, and then betray the interests, of the people. The question resulting is, whether small or extensive republics are more favorable to the election of proper guardians of the public weal. \n",
    "\n",
    "If the proportion of fit characters be not less in the large than in the small republic, the former will present a greater option, and consequently a greater probability of a fit choice. In the next place, as each representative will be chosen by a greater number of citizens in the large than in the small republic, it will be more difficult for unworthy candidates to practice with success the vicious arts by which elections are too often carried.\n",
    "\n",
    "The other point of difference is, the greater number of citizens and extent of territory which may be brought within the compass of republican than of democratic government; and it is this circumstance principally which renders factious combinations less to be dreaded in the former than in the latter. Extend the sphere, and you take in a greater variety of parties and interests; you make it less probable that a majority of the whole will have a common motive to invade the rights of other citizens; or if such a common motive exists, it will be more difficult for all who feel it to discover their own strength, and to act in unison with each other.\n",
    "\n",
    "Hence, it clearly appears, that the same advantage which a republic has over a democracy, in controlling the effects of faction, is enjoyed by a large over a small republic,--is enjoyed by the Union over the States composing it.\n",
    "\n",
    "The influence of factious leaders may kindle a flame within their particular States, but will be unable to spread a general conflagration through the other States. A religious sect may degenerate into a political faction in a part of the Confederacy; but the variety of sects dispersed over the entire face of it must secure the national councils against any danger from that source. A rage for paper money, for an abolition of debts, for an equal division of property, or for any other improper or wicked project, will be less apt to pervade the whole body of the Union than a particular member of it; in the same proportion as such a malady is more likely to taint a particular county or district, than an entire State. \n",
    "\n",
    "In the extent and proper structure of the Union, therefore, we behold a republican remedy for the diseases most incident to republican government."
   ]
  },
  {
   "cell_type": "markdown",
   "metadata": {},
   "source": [
    "### Federalist 11: The Utility of the Union in Respect to Commercial Relations and a Navy (Hamilton) (1115/2489)"
   ]
  },
  {
   "cell_type": "markdown",
   "metadata": {},
   "source": [
    "THE importance of the Union, in a commercial light, is one of those points which has, in fact, commanded the most general assent of men who have any acquaintance with the subject. This applies as well to our intercourse with foreign countries as with each other. \n",
    "\n",
    "The adventurous spirit, which distinguishes the commercial character of America, has already excited uneasy sensations in several of the maritime powers of Europe. They foresee the dangers that may threaten their American dominions from the neighborhood of States, which have all the dispositions, and would possess all the means, requisite to the creation of a powerful marine.\n",
    "\n",
    "Impressions of this kind will naturally indicate the policy of fostering divisions among us, and of depriving us, as far as possible, of an ACTIVE COMMERCE in our own bottoms. If we continue united, we may counteract a policy so unfriendly to our prosperity in a variety of ways. \n",
    "\n",
    "Suppose, for instance, we had a government in America, capable of excluding Great Britain (with whom we have at present no treaty of commerce) from all our ports; what would be the probable operation of this step upon her politics? Would it not enable us to negotiate, with the fairest prospect of success, for commercial privileges of the most valuable and extensive kind, in the dominions of that kingdom?\n",
    "\n",
    "A further resource for influencing the conduct of European nations toward us, in this respect, would arise from the establishment of a federal navy. The continuance of the Union under an efficient government would put it in our power, at a period not very distant, to create a navy which, if it could not vie with those of the great maritime powers, would at least be of respectable weight if thrown into the scale of either of two contending parties. A few ships of the line, sent opportunely to the reinforcement of either side, would often be sufficient to decide the fate of a campaign, on the event of which interests of the greatest magnitude were suspended.\n",
    "\n",
    "And if to this consideration we add that of the usefulness of supplies from this country, in the prosecution of military operations, it will readily be perceived that a situation so favorable would enable us to bargain with great advantage for commercial privileges. A price would be set not only upon our friendship, but upon our neutrality. \n",
    "\n",
    "By a steady adherence to the Union we may hope, erelong, to become the arbiter of Europe in America, and to be able to incline the balance of European competitions in this part of the world as our interest may dictate. But in the reverse of this eligible situation, we shall discover that the rivalships of the parts would make them checks upon each other. In a state so insignificant our commerce would be a prey to the wanton intermeddlings of all nations at war with each other; who, having nothing to fear from us, would with little scruple or remorse, supply their wants by depredations on our property as often as it fell in their way. The rights of neutrality will only be respected when they are defended by an adequate power.\n",
    "\n",
    "Under a vigorous national government, the natural strength and resources of the country, directed to a common interest, would baffle all the combinations of European jealousy to restrain our growth. This situation would even take away the motive to such combinations, by inducing an impracticability of success. But in a state of disunion, it would be in the power of the maritime nations, availing themselves of our universal impotence, to prescribe the conditions of our political existence.\n",
    "\n",
    "They would in all probability combine to embarrass our navigation in such a manner as would in effect destroy it, and confine us to a PASSIVE COMMERCE. We should then be compelled to content ourselves with the first price of our commodities, and to see the profits of our trade snatched from us to enrich our enemies and persecutors.\n",
    "\n",
    "An unrestrained intercourse between the States themselves will advance the trade of each by an interchange of their respective productions, not only for the supply of reciprocal wants at home, but for exportation to foreign markets. \n",
    "\n",
    "Commercial enterprise will have much greater scope, from the diversity in the productions of different States. The variety, not less than the value, of products for exportation contributes to the activity of foreign commerce. Particular articles may be in great demand at certain periods, and unsalable at others; but if there be a variety of articles, it can scarcely happen that they should all be at one time in the latter predicament. The speculative trader will at once perceive the force of these observations, and will acknowledge that the aggregate balance of the commerce of the United States would bid fair to be much more favorable than that of the thirteen States without union or with partial unions.\n",
    "\n",
    "There are other points of view in which this subject might be placed, of a striking and animating kind. But they would lead us too far into the regions of futurity, and would involve topics not proper for a newspaper discussion. I shall briefly observe, that our situation invites and our interests prompt us to aim at an ascendant in the system of American affairs.\n",
    "\n",
    "The world may politically, as well as geographically, be divided into four parts, each having a distinct set of interests. Unhappily for the other three, Europe, by her arms and by her negotiations, by force and by fraud, has, in different degrees, extended her dominion over them all. Africa, Asia, and America, have successively felt her domination.\n",
    "\n",
    "The superiority she has long maintained has tempted her to plume herself as the Mistress of the World, and to consider the rest of mankind as created for her benefit. Men admired as profound philosophers have, in direct terms, attributed to her inhabitants a physical superiority, and have gravely asserted that all animals, and with them the human species, degenerate in America--that even dogs cease to bark after having breathed awhile in our atmosphere. Facts have too long supported these arrogant pretensions of the Europeans. It belongs to us to vindicate the honor of the human race, and to teach that assuming brother, moderation. \n",
    "\n",
    "Union will enable us to do it. Disunion will will add another victim to his triumphs. Let Americans disdain to be the instruments of European greatness! Let the thirteen States, bound together in a strict and indissoluble Union, concur in erecting one great American system, superior to the control of all transatlantic force or influence, and able to dictate the terms of the connection between the old and the new world!"
   ]
  },
  {
   "cell_type": "markdown",
   "metadata": {},
   "source": [
    "### Federalist 12: The Utility of the Union In Respect to Revenue (Hamilton) (855/2141)"
   ]
  },
  {
   "cell_type": "markdown",
   "metadata": {},
   "source": [
    "THE effects of Union upon the commercial prosperity of the States have been sufficiently delineated. Its tendency to promote the interests of revenue will be the subject of our present inquiry.\n",
    "\n",
    "The ability of a country to pay taxes must always be proportioned, in a great degree, to the quantity of money in circulation, and to the celerity with which it circulates. Commerce, contributing to both these objects, must of necessity render the payment of taxes easier, and facilitate the requisite supplies to the treasury. \n",
    "\n",
    "But it is not in this aspect of the subject alone that Union will be seen to conduce to the purpose of revenue. There are other points of view, in which its influence will appear more immediate and decisive.\n",
    "\n",
    "It is evident from the state of the country, from the habits of the people, from the experience we have had on the point itself, that it is impracticable to raise any very considerable sums by direct taxation. The popular system of administration inherent in the nature of popular government, coinciding with the real scarcity of money incident to a languid and mutilated state of trade, has hitherto defeated every experiment for extensive collections, and has at length taught the different legislatures the folly of attempting them. \n",
    "\n",
    "No person acquainted with what happens in other countries will be surprised at this circumstance. In so opulent a nation as that of Britain, where direct taxes from superior wealth must be much more tolerable, and, from the vigor of the government, much more practicable, than in America, far the greatest part of the national revenue is derived from taxes of the indirect kind, from imposts, and from excises. Duties on imported articles form a large branch of this latter description. \n",
    "\n",
    "In America, it is evident that we must a long time depend for the means of revenue chiefly on such duties. In most parts of it, excises must be confined within a narrow compass. \n",
    "\n",
    "If these remarks have any foundation, that state of things which will best enable us to improve and extend so valuable a resource must be best adapted to our political welfare. And it cannot admit of a serious doubt, that this state of things must rest on the basis of a general Union. As far as this would be conducive to the interests of commerce, so far it must tend to the extension of the revenue to be drawn from that source.\n",
    "\n",
    "The relative situation of these States conspire to render an illicit trade between them a matter of little difficulty, and would insure frequent evasions of the commercial regulations of each other. The separate States or confederacies would be necessitated by mutual jealousy to avoid the temptations to that kind of trade by the lowness of their duties. The temper of our governments, for a long time to come, would not permit those rigorous precautions by which the European nations guard the avenues into their respective countries, as well by land as by water; and which, even there, are found insufficient obstacles to the adventurous stratagems of avarice. The arbitrary and vexatious powers with which the patrols are necessarily armed, would be intolerable in a free country.\n",
    "\n",
    "If, on the contrary, there be but one government pervading all the States, there will be, as to the principal part of our commerce, but ONE SIDE to guard--the ATLANTIC COAST. An ordinary degree of vigilance would be competent to the prevention of any material infractions upon the rights of the revenue. A few armed vessels, judiciously stationed at the entrances of our ports, might at a small expense be made useful sentinels of the laws.\n",
    "\n",
    "It is therefore evident, that one national government would be able, at much less expense, to extend the duties on imports, beyond comparison, further than would be practicable to the States separately, or to any partial confederacies. The single article of ardent spirits, under federal regulation, might be made to furnish a considerable revenue; if it should tend to diminish the consumption of it, such an effect would be equally favorable to the agriculture, to the economy, to the morals, and to the health of the society.\n",
    "\n",
    "What will be the consequence, if we are not able to avail ourselves of the resource in question in its full extent? \n",
    "\n",
    "A nation cannot long exist without revenues. In this country, if the principal part be not drawn from commerce, it must fall with oppressive weight upon land. And as, on the other hand, the wants of the government can never obtain an adequate supply, unless all the sources of revenue are open to its demands, the finances of the community, under such embarrassments, cannot be put into a situation consistent with its respectability or its security. \n",
    "\n",
    "Thus we shall not even have the consolations of a full treasury, to atone for the oppression of that valuable class of the citizens who are employed in the cultivation of the soil. But public and private distress will keep pace with each other in gloomy concert; and unite in deploring the infatuation of those counsels which led to disunion. "
   ]
  },
  {
   "cell_type": "markdown",
   "metadata": {},
   "source": [
    "### Federalist 13: Advantage of the Union in Respect to Economy in Government (Hamilton) (540/957)"
   ]
  },
  {
   "cell_type": "markdown",
   "metadata": {},
   "source": [
    "As CONNECTED with the subject of revenue, we may with propriety consider that of economy. The money saved from one object may be usefully applied to another, and there will be so much the less to be drawn from the pockets of the people. \n",
    "\n",
    "If the States are united under one government, there will be but one national civil list to support; if they are divided into several confederacies, there will be as many different national civil lists to be provided for--and each of them, as to the principal departments, coextensive with that which has been proposed by the convention. \n",
    "\n",
    "When the dimensions of a State attain to a certain magnitude, it requires the same energy of government and the same forms of administration which are requisite in one of much greater extent. This idea admits not of precise demonstration, because there is no rule by which we can measure the momentum of civil power necessary to the government of any given number of individuals; but civil power, properly organized and exerted, is capable of diffusing its force to a very great extent; and can, in a manner, reproduce itself in every part of a great empire by a judicious arrangement of subordinate institutions. \n",
    "\n",
    "If we attend carefully to geographical and commercial considerations, in conjunction with the habits and prejudices of the different States, we shall be led to conclude that in case of disunion they will most naturally league themselves under two governments. \n",
    "\n",
    "The more Southern States, from various circumstances, may prefer a system which would give unlimited scope to all nations to be the carriers as well as the purchasers of their commodities. Pennsylvania may not choose to confound her interests in a connection so adverse to her policy. As she must at all events be a frontier, she may deem it most consistent with her safety to have her exposed side turned towards the weaker power of the Southern, rather than towards the stronger power of the Northern, Confederacy. This would give her the fairest chance to avoid being the Flanders of America. Whatever may be the determination of Pennsylvania, if the Northern Confederacy includes New Jersey, there is no likelihood of more than one confederacy to the south of that State. \n",
    "\n",
    "Nothing can be more evident than that the thirteen States will be able to support a national government better than one half, or one third, or any number less than the whole. This reflection must have great weight in obviating that objection to the proposed plan, which is founded on the principle of expense.\n",
    "\n",
    "If, in addition to the consideration of a plurality of civil lists, we take into view the number of persons who must necessarily be employed to guard the inland communication between the different confederacies against illicit trade, and who in time will infallibly spring up out of the necessities of revenue; and if we also take into view the military establishments which it has been shown would unavoidably result from the jealousies and conflicts of the several nations into which the States would be divided, we shall clearly discover that a separation would be not less injurious to the economy, than to the tranquillity, commerce, revenue, and liberty of every part."
   ]
  },
  {
   "cell_type": "markdown",
   "metadata": {},
   "source": [
    "### Federalist 14: Objections to the Proposed Constitution From Extent of Territory Answered (Madison) (1301/2136)"
   ]
  },
  {
   "cell_type": "markdown",
   "metadata": {},
   "source": [
    "WE HAVE seen the necessity of the Union, as our bulwark against foreign danger, as the conservator of peace among ourselves, as the guardian of our commerce and other common interests, as the only substitute for those military establishments which have subverted the liberties of the Old World, and as the proper antidote for the diseases of faction, which have proved fatal to other popular governments, and of which alarming symptoms have been betrayed by our own. \n",
    "\n",
    "All that remains, within this branch of our inquiries, is to take notice of an objection that may be drawn from the great extent of country which the Union embraces. The adversaries of the new Constitution are availing themselves of the prevailing prejudice with regard to the practicable sphere of republican administration, in order to supply, by imaginary difficulties, the want of those solid objections which they endeavor in vain to find. \n",
    "\n",
    "The error which limits republican government to a narrow district has been unfolded and refuted in preceding papers. I remark here only that it seems to owe its rise and prevalence chiefly to the confounding of a republic with a democracy, applying to the former reasonings drawn from the nature of the latter. \n",
    "\n",
    "The true distinction between these forms was also adverted to on a former occasion. It is, that in a democracy, the people meet and exercise the government in person; in a republic, they assemble and administer it by their representatives and agents. A democracy, consequently, will be confined to a small spot. A republic may be extended over a large region. \n",
    "\n",
    "To this accidental source of the error may be added the artifice of some celebrated authors, whose writings have had a great share in forming the modern standard of political opinions. Being subjects either of an absolute or limited monarchy, they have endeavored to heighten the advantages, or palliate the evils of those forms, by placing in comparison the vices and defects of the republican, and by citing as specimens of the latter the turbulent democracies of ancient Greece and modern Italy.\n",
    "\n",
    "Even in modern Europe, to which we owe the great principle of representation, no example is seen of a government wholly popular, and founded, at the same time, wholly on that principle. If Europe has the merit of discovering this great mechanical power in government, by the simple agency of which the will of the largest political body may be concentred, and its force directed to any object which the public good requires, America can claim the merit of making the discovery the basis of unmixed and extensive republics.\n",
    "\n",
    "As the natural limit of a democracy is that distance from the central point which will just permit the most remote citizens to assemble as often as their public functions demand, and will include no greater number than can join in those functions; so the natural limit of a republic is that distance from the centre which will barely allow the representatives to meet as often as may be necessary for the administration of public affairs. Can it be said that the limits of the United States exceed this distance? In Great Britain, inferior as it may be in size, the representatives of the northern extremity of the island have as far to travel to the national council as will be required of those of the most remote parts of the Union. \n",
    "\n",
    "Favorable as this view of the subject may be, some observations remain which will place it in a light still more satisfactory. \n",
    "\n",
    "In the first place it is to be remembered that the general government is not to be charged with the whole power of making and administering laws. Its jurisdiction is limited to certain enumerated objects, which concern all the members of the republic, but which are not to be attained by the separate provisions of any. The subordinate governments, which can extend their care to all those other subjects which can be separately provided for, will retain their due authority and activity.\n",
    "\n",
    "A second observation to be made is that the immediate object of the federal Constitution is to secure the union of the thirteen primitive States, which we know to be practicable; and to add to them such other States as may arise in their own bosoms, or in their neighborhoods, which we cannot doubt to be equally practicable. The arrangements that may be necessary for those angles and fractions of our territory must be left to those whom further discoveries and experience will render more equal to the task. \n",
    "\n",
    "Let it be remarked, in the third place, that the intercourse throughout the Union will be facilitated by new improvements. Roads will everywhere be shortened, and kept in better order. Communication between different parts will be rendered more and more easy by those numerous canals which beneficence finds so little difficult to connect and complete. \n",
    "\n",
    "A fourth and still more important consideration is, that as almost every State will, on one side or other, be a frontier, and will thus find, in regard to its safety, an inducement to make some sacrifices for the sake of the general protection; so the States which lie at the greatest distance from the heart of the Union, and which, of course, may partake least of the ordinary circulation of its benefits, will derive greater benefit from it in other respects, and thus the proper equilibrium will be maintained throughout.\n",
    "\n",
    "I submit to you, my fellow-citizens, these considerations, in full confidence that the good sense which has so often marked your decisions will allow them their due weight and effect.\n",
    "\n",
    "Hearken not to the unnatural voice which tells you that the people of America, knit together as they are by so many cords of affection, can no longer be fellow-citizens of one great, respectable, and flourishing empire. Hearken not to the voice which petulantly tells you that the form of government recommended for your adoption is a novelty in the political world; that it has never yet had a place in the theories of the wildest projectors; that it rashly attempts what it is impossible to accomplish. Shut your hearts against the poison which it conveys; the kindred blood which flows in the veins of American citizens, the mingled blood which they have shed in defense of their sacred rights, consecrate their Union.\n",
    "\n",
    "Is it not the glory of the people of America, that, whilst they have paid a decent regard to the opinions of former times and other nations, they have not suffered a blind veneration for antiquity, for custom, or for names, to overrule the suggestions of their own good sense, the knowledge of their own situation, and the lessons of their own experience? \n",
    "\n",
    "Had no important step been taken by the leaders of the Revolution for which a precedent could not be discovered, the people of the United States might, at this moment, have been laboring under the weight of some of those forms which have crushed the liberties of the rest of mankind. Happily for America, happily, we trust, for the whole human race, they pursued a new and more noble course.\n",
    "\n",
    "They accomplished a revolution which has no parallel in the annals of human society. They reared the fabrics of governments which have no model on the face of the globe. They formed the design of a great Confederacy, which it is incumbent on their successors to improve and perpetuate. \n",
    "\n",
    "If their works betray imperfections, we wonder at the fewness of them. If they erred most in the structure of the Union, this was the work most difficult to be executed; this is the work which has been new modelled by the act of your convention, and it is that act on which you are now to deliberate and to decide."
   ]
  },
  {
   "cell_type": "markdown",
   "metadata": {},
   "source": [
    "## THE INSUFFICIENCY OF THE PRESENT CONFEDERATION TO PRESERVE THAT UNION"
   ]
  },
  {
   "cell_type": "markdown",
   "metadata": {},
   "source": [
    "### Federalist 15: The Insufficiency of the Present Confederation to Preserve the Union (Hamilton) (907/3073)"
   ]
  },
  {
   "cell_type": "markdown",
   "metadata": {},
   "source": [
    "IN THE course of the preceding papers, I have endeavored, my fellow-citizens, to place before you, in a clear and convincing light, the importance of Union to your political safety and happiness. In pursuance of the plan which I have laid down for the discussion of the subject, the point next in order to be examined is the \"insufficiency of the present Confederation to the preservation of the Union\".\n",
    "\n",
    "The great and radical vice in the construction of the existing Confederation is in the principle of LEGISLATION for STATES or GOVERNMENTS, in their CORPORATE or COLLECTIVE CAPACITIES, and as contradistinguished from the INDIVIDUALS of which they consist.\n",
    "\n",
    "Though this principle does not run through all the powers delegated to the Union, yet it pervades and governs those on which the efficacy of the rest depends; a principle, which, if it is to be executed at all, must substitute the violent and sanguinary agency of the sword to the mild influence of the magistracy.\n",
    "\n",
    "There is nothing absurd or impracticable in the idea of a league or alliance between independent nations for certain defined purposes precisely stated in a treaty regulating all the details of time, place, circumstance, and quantity; leaving nothing to future discretion; and depending for its execution on the good faith of the parties.\n",
    "\n",
    "In the early part of the present century there was an epidemical rage in Europe for this species of compacts, but they were scarcely formed before they were broken, giving an instructive but afflicting lesson to mankind, how little dependence is to be placed on treaties which have no other sanction than the obligations of good faith, and which oppose general considerations of peace and justice to the impulse of any immediate interest or passion.\n",
    "\n",
    "If the particular States in this country are disposed to stand in a similar relation to each other, the scheme would bring us to a simple alliance offensive and defensive; and would place us in a situation to be alternate friends and enemies of each other, as our mutual jealousies and rivalships, nourished by the intrigues of foreign nations, should prescribe to us. \n",
    "\n",
    "But if we are unwilling to be placed in this perilous situation, we must extend the authority of the Union to the persons of the citizens, --the only proper objects of government. \n",
    "\n",
    "Government implies the power of making laws. It is essential to the idea of a law, that it be attended with a sanction; or, in other words, a penalty or punishment for disobedience. If there be no penalty annexed to disobedience, the resolutions or commands which pretend to be laws will, in fact, amount to nothing more than advice or recommendation. \n",
    "\n",
    "This penalty, whatever it may be, can only be inflicted in two ways: by the agency of the courts and ministers of justice, or by military force; by the COERCION of the magistracy, or by the COERCION of arms. The first kind can evidently apply only to men; the last kind must of necessity, be employed against bodies politic, or communities, or States. It is evident that there is no process of a court by which the observance of the laws can, in the last resort, be enforced. Sentences may be denounced against them for violations of their duty; but these sentences can only be carried into execution by the sword.\n",
    "\n",
    "In an association where the general authority is confined to the collective bodies of the communities, that compose it, every breach of the laws must involve a state of war; and military execution must become the only instrument of civil obedience. Such a state of things can certainly not deserve the name of government, nor would any prudent man choose to commit his happiness to it.\n",
    "\n",
    "Why has government been instituted at all? Because the passions of men will not conform to the dictates of reason and justice, without constraint. Has it been found that bodies of men act with more rectitude or greater disinterestedness than individuals? The contrary of this has been inferred by all accurate observers of the conduct of mankind; and the inference is founded upon obvious reasons.\n",
    "\n",
    "In addition to all this, there is, in the nature of sovereign power, an impatience of control. Power controlled or abridged is almost always the rival and enemy of that power by which it is controlled or abridged. This simple proposition will teach us how little reason there is to expect, that the persons intrusted with the administration of the affairs of the particular members of a confederacy will at all times be ready to execute the resolutions or decrees of the general authority.\n",
    "\n",
    "If, therefore, the measures of the Confederacy cannot be executed without the intervention of the particular administrations, there will be little prospect of their being executed at all. \n",
    "\n",
    "In our case, the concurrence of thirteen distinct sovereign wills is requisite, under the Confederation, to the complete execution of every important measure that proceeds from the Union. It has happened as was to have been foreseen. The measures of the Union have not been executed; the delinquencies of the States have, step by step, matured themselves to an extreme, which has, at length, arrested all the wheels of the national government, and brought them to an awful stand. Each State has successively withdrawn its support, till the frail and tottering edifice seems ready to fall upon our heads, and to crush us beneath its ruins. "
   ]
  },
  {
   "cell_type": "markdown",
   "metadata": {},
   "source": [
    "### Federalist 16: The Same Subject Continued: The Insufficiency of the Present Confederation to Preserve the Union (Hamilton) (868/2032)"
   ]
  },
  {
   "cell_type": "markdown",
   "metadata": {},
   "source": [
    "THE tendency of the principle of legislation for States, or communities, in their political capacities,as it has been exemplified by the experiment we have made of it may, as truly as emphatically, be styled the parent of anarchy: It has been seen that delinquencies in the members of the Union are its natural and necessary offspring; and that whenever they happen, the only constitutional remedy is force, and the immediate effect of the use of it, civil war.\n",
    "\n",
    "It remains to inquire how far so odious an engine of government, in its application to us, would even be capable of answering its end. \n",
    "\n",
    "If there should not be a large army constantly at the disposal of the national government it would either not be able to employ force at all, or, when this could be done, it would amount to a war between parts of the Confederacy concerning the infractions of a league, in which the strongest combination would be most likely to prevail, whether it consisted of those who supported or of those who resisted the general authority. \n",
    "\n",
    "The first war of this kind would probably terminate in a dissolution of the Union. This may be considered as the violent death of the Confederacy. Its more natural death is what we now seem to be on the point of experiencing, if the federal system be not speedily renovated in a more substantial form. \n",
    "\n",
    "It seems to require no pains to prove that the States ought not to prefer a national Constitution which could only be kept in motion by the instrumentality of a large army continually on foot to execute the ordinary requisitions or decrees of the government. And yet this is the plain alternative involved by those who wish to deny it the power of extending its operations to individuals. Such a scheme, if practicable at all, would instantly degenerate into a military despotism\n",
    "\n",
    "The result of these observations to an intelligent mind must be clearly this, that if it be possible at any rate to construct a federal government capable of regulating the common concerns and preserving the general tranquillity, it must carry its agency to the persons of the citizens. It must stand in need of no intermediate legislations; but must itself be empowered to employ the arm of the ordinary magistrate to execute its own resolutions. The majesty of the national authority must be manifested through the medium of the courts of justice. It must, in short, possess all the means, and have a right to resort to all the methods, of executing the powers with which it is intrusted, that are possessed and exercised by the government of the particular States. \n",
    "\n",
    "To this reasoning it may perhaps be objected, that if any State should be disaffected to the authority of the Union, it could at any time obstruct the execution of its laws, and bring the matter to the same issue of force\n",
    "\n",
    "The pausibility of this objection will vanish the moment we advert to the essential difference between a mere NON-COMPLIANCE and a DIRECT and ACTIVE RESISTANCE. If the interposition of the State legislatures be necessary to give effect to a measure of the Union, they have only NOT TO ACT, or to ACT EVASIVELY, and the measure is defeated. But if the execution of the laws of the national government should not require the intervention of the State legislatures, if they were to pass into immediate operation upon the citizens themselves, the particular governments could not interrupt their progress without an open and violent exertion of an unconstitutional power. The success of it would require not merely a factious majority in the legislature, but the concurrence of the courts of justice and of the body of the people.\n",
    "\n",
    "If opposition to the national government should arise from the disorderly conduct of refractory or seditious individuals, it could be overcome by the same means which are daily employed against the same evil under the State governments. The magistracy, being equally the ministers of the law of the land, from whatever source it might emanate, would doubtless be as ready to guard the national as the local regulations from the inroads of private licentiousness. \n",
    "\n",
    "As to those partial commotions and insurrections, which sometimes disquiet society, from the intrigues of an inconsiderable faction, or from sudden or occasional ill-humors that do not infect the great body of the community, the general government could command more extensive resources for the suppression of disturbances of that kind than would be in the power of any single member. \n",
    "\n",
    "And as to those mortal feuds which, in certain conjunctures, spread a conflagration through a whole nation, or through a very large proportion of it, proceeding either from weighty causes of discontent given by the government or from the contagion of some violent popular paroxysm, they do not fall within any ordinary rules of calculation. When they happen, they commonly amount to revolutions and dismemberments of empire. No form of government can always either avoid or control them.\n",
    "\n",
    "It is in vain to hope to guard against events too mighty for human foresight or precaution, and it would be idle to object to a government because it could not perform impossibilities."
   ]
  },
  {
   "cell_type": "markdown",
   "metadata": {},
   "source": [
    "### Federalist 17: The Same Subject Continued: The Insufficiency of the Present Confederation to Preserve the Union (Hamilton) (948/1562)"
   ]
  },
  {
   "cell_type": "markdown",
   "metadata": {},
   "source": [
    "AN OBJECTION, of a nature different from that which has been stated and answered, in my last address, may perhaps be likewise urged against the principle of legislation for the individual citizens of America. It may be said that it would tend to render the government of the Union too powerful, and to enable it to absorb those residuary authorities, which it might be judged proper to leave with the States for local purposes. \n",
    "\n",
    "Allowing the utmost latitude to the love of power which any reasonable man can require, I confess I am at a loss to discover what temptation the persons intrusted with the administration of the general government could ever feel to divest the States of the authorities of that description. \n",
    "\n",
    "The regulation of the mere domestic police of a State appears to me to hold out slender allurements to ambition. The administration of private justice between the citizens of the same State, the supervision of agriculture and of other concerns of a similar nature, all those things, in short, which are proper to be provided for by local legislation, can never be desirable cares of a general jurisdiction.\n",
    "\n",
    "But let it be admitted, for argument's sake, that mere wantonness and lust of domination would be sufficient to beget that disposition; still it may be safely affirmed, that the sense of the constituent body of the national representatives, or, in other words, the people of the several States, would control the indulgence of so extravagant an appetite. \n",
    "\n",
    "It will always be far more easy for the State governments to encroach upon the national authorities than for the national government to encroach upon the State authorities. The proof of this proposition turns upon the greater degree of influence which the State governments if they administer their affairs with uprightness and prudence, will generally possess over the people\n",
    "\n",
    "There is one transcendant advantage belonging to the province of the State governments, which alone suffices to place the matter in a clear and satisfactory light,--I mean the ordinary administration of criminal and civil justice. This, of all others, is the most powerful, most universal, and most attractive source of popular obedience and attachment. It is that which, being the immediate and visible guardian of life and property, having its benefits and its terrors in constant activity before the public eye, regulating all those personal interests and familiar concerns to which the sensibility of individuals is more immediately awake, contributes, more than any other circumstance, to impressing upon the minds of the people, affection, esteem, and reverence towards the government. \n",
    "\n",
    "This great cement of society, which will diffuse itself almost wholly through the channels of the particular governments, independent of all other causes of influence, would insure them so decided an empire over their respective citizens as to render them at all times a complete counterpoise, and, not unfrequently, dangerous rivals to the power of the Union. The operations of the national government, on the other hand will be less apt to come home to the feelings of the people; and, in proportion, less likely to inspire an habitual sense of obligation, and an active sentiment of attachment.\n",
    "\n",
    "The reasoning on this head has been abundantly exemplified by the experience of all federal constitutions with which we are acquainted, and of all others which have borne the least analogy to them.\n",
    "\n",
    "Though the ancient feudal systems were not, strictly speaking, confederacies, yet they partook of the nature of that species of association. The consequences of this situation were a continual opposition to authority of the sovereign, and frequent wars between the great barons or chief feudatories themselves. The power of the head of the nation was commonly too weak, either to preserve the public peace, or to protect the people against the oppressions of their immediate lords. This period of European affairs is emphatically styled by historians, the times of feudal anarchy.\n",
    "\n",
    "When the sovereign happened to be a man of vigorous and warlike temper and of superior abilities, he would acquire a personal weight and influence, which answered, for the time, the purpose of a more regular authority. But in general, the power of the barons triumphed over that of the prince. In those instances in which the monarch finally prevailed over his vassals, his success was chiefly owing to the tyranny of those vassals over their dependents. The barons, or nobles, equally the enemies of the sovereign and the oppressors of the common people, were dreaded and detested by both. Had the nobles, by a conduct of clemency and justice, preserved the fidelity and devotion of their retainers and followers, the contests between them and the prince must almost always have ended in their favor, and in the abridgment or subversion of the royal authority.\n",
    "\n",
    "The separate governments in a confederacy may aptly be compared with the feudal baronies; with this advantage in their favor, that from the reasons already explained, they will generally possess the confidence and good-will of the people, and with so important a support, will be able effectually to oppose all encroachments of the national government. The points of similitude consist in the rivalship of power, applicable to both, and in the CONCENTRATION of large portions of the strength of the community into particular DEPOSITS, in one case at the disposal of individuals, in the other case at the disposal of political bodies. \n",
    "\n",
    "A concise review of the events that have attended confederate governments will further illustrate this important doctrine; an inattention to which has been the great source of our political mistakes, and has given our jealousy a direction to the wrong side. This review shall form the subject of some ensuing papers. "
   ]
  },
  {
   "cell_type": "markdown",
   "metadata": {},
   "source": [
    "### Federalist 18: The Same Subject Continued: The Insufficiency of the Present Confederation to Preserve the Union (Hamilton) (683/2085)"
   ]
  },
  {
   "cell_type": "markdown",
   "metadata": {},
   "source": [
    "AMONG the confederacies of antiquity, the most considerable was that of the Grecian republics, associated under the Amphictyonic council. From the best accounts transmitted of this celebrated institution, it bore a very instructive analogy to the present Confederation of the American States.\n",
    "\n",
    "The powers, like those of the present Congress, were administered by deputies appointed wholly by the cities in their political capacities; and exercised over them in the same capacities. Hence the weakness, the disorders, and finally the destruction of the confederacy.\n",
    "\n",
    "It happened but too often, according to Plutarch, that the deputies of the strongest cities awed and corrupted those of the weaker; and that judgment went in favor of the most powerful party. The intervals of foreign war were filled up by domestic vicissitudes convulsions, and carnage. \n",
    "\n",
    "As a weak government, when not at war, is ever agitated by internal dissentions, so these never fail to bring on fresh calamities from abroad. The Amphictyonic council invited the assistance of Philip of Macedon, who had secretly fostered contest. By his intrigues and bribes he won over to his interests the popular leaders of several cities; by their influence and votes, gained admission into the Amphictyonic council; and by his arts and his arms, made himself master of the confederacy.\n",
    "\n",
    "Such were the consequences of the fallacious principle on which this interesting establishment was founded. Had Greece, says a judicious observer on her fate, been united by a stricter confederation, and persevered in her union, she would never have worn the chains of Macedon; and might have proved a barrier to the vast projects of Rome. \n",
    "\n",
    "The Achaean league, as it is called, was another society of Grecian republics, which supplies us with valuable instruction. The cities composing this league retained their municipal jurisdiction, appointed their own officers, and enjoyed a perfect equality. \n",
    "\n",
    "It appears that the cities had all the same laws and customs, the same weights and measures, and the same money. But how far this effect proceeded from the authority of the federal council is left in uncertainty. It is said only that the cities were in a manner compelled to receive the same laws and usages. This circumstance alone proves a very material difference in the genius of the two systems. \n",
    "\n",
    "One important fact seems to be witnessed by all the historians who take notice of Achaean affairs. It is, that there was infinitely more of moderation and justice in the administration of its government, and less of violence and sedition in the people, than were to be found in any of the cities exercising SINGLY all the prerogatives of sovereignty. The Abbe Mably, in his observations on Greece, says that the popular government WAS THERE TEMPERED BY THE GENERAL AUTHORITY AND LAWS OF THE CONFEDERACY. \n",
    "\n",
    "Whilst the Amphictyonic confederacy remained, that of the Achaeans, which comprehended the less important cities only, made little figure on the theatre of Greece. When the former became a victim to Macedon, the latter was spared by the policy of Philip and Alexander. Under the successors of these princes, however, the Achaeans were reduced to the dilemma of submitting to Cleomenes, or of supplicating the aid of Macedon, its former oppressor. The latter expedient was adopted. \n",
    "\n",
    "A Macedonian army quickly appeared. Cleomenes was vanquished. The Achaeans soon experienced, as often happens, that a victorious and powerful ally is but another name for a master. They once more had recourse to the dangerous expedient of introducing the succor of foreign arms. The Romans, to whom the invitation was made, eagerly embraced it. The arms of Rome found little difficulty in completing the ruin which their arts had commenced. The Achaeans were cut to pieces, and Achaia loaded with chains, under which it is groaning at this hour. \n",
    "\n",
    "I have thought it not superfluous to give the outlines of this important portion of history; both because it teaches more than one lesson, and because, as a supplement to the outlines of the Achaean constitution, it emphatically illustrates the tendency of federal bodies rather to anarchy among the members, than to tyranny in the head."
   ]
  },
  {
   "cell_type": "markdown",
   "metadata": {},
   "source": [
    "### Federalist 19: The Same Subject Continued: The Insufficiency of the Present Confederation to Preserve the Union (Hamilton and Madison) (909/2020)"
   ]
  },
  {
   "cell_type": "markdown",
   "metadata": {},
   "source": [
    "THE examples of ancient confederacies, cited in my last paper, have not exhausted the source of experimental instruction on this subject. There are existing institutions, founded on a similar principle, which merit particular consideration. The first which presents itself is the Germanic body.\n",
    "\n",
    "In the early ages of Christianity, Germany was occupied by seven distinct nations, who had no common chief. In the ninth century Charlemagne carried his victorious arms in every direction; and Germany became a part of his vast dominions. In the eleventh century the emperors enjoyed full sovereignty: In the fifteenth they had little more than the symbols and decorations of power. \n",
    "\n",
    "Out of this feudal system, which has itself many of the important features of a confederacy, has grown the federal system which constitutes the Germanic empire.\n",
    "\n",
    "Its powers are vested in a diet representing the component members of the confederacy; in the emperor, who is the executive magistrate, with a negative on the decrees of the diet; and in the imperial chamber and the aulic council, two judiciary tribunals having supreme jurisdiction in controversies which concern the empire, or which happen among its members. \n",
    "\n",
    "The fundamental principle on which it rests, that the empire is a community of sovereigns, that the diet is a representation of sovereigns and that the laws are addressed to sovereigns, renders the empire a nerveless body, incapable of regulating its own members, insecure against external dangers, and agitated with unceasing fermentations in its own bowels. \n",
    "\n",
    "The history of Germany is a history of wars between the emperor and the princes and states; of wars among the princes and states themselves; of the licentiousness of the strong, and the oppression of the weak; of foreign intrusions, and foreign intrigues; of requisitions of men and money disregarded, or partially complied with; of attempts to enforce them, altogether abortive, or attended with slaughter and desolation, involving the innocent with the guilty; of general inbecility, confusion, and misery.\n",
    "\n",
    "If the nation happens, on any emergency, to be more united by the necessity of self-defense, its situation is still deplorable. Military preparations must be preceded by so many tedious discussions, arising from the jealousies, pride, separate views, and clashing pretensions of sovereign bodies, that before the diet can settle the arrangements, the enemy are in the field; and before the federal troops are ready to take it, are retiring into winter quarters.\n",
    "\n",
    "The small body of national troops, which has been judged necessary in time of peace, is defectively kept up, badly paid, infected with local prejudices, and supported by irregular and disproportionate contributions to the treasury.\n",
    "\n",
    "The impossibility of maintaining order and dispensing justice among these sovereign subjects, produced the experiment of dividing the empire into nine or ten circles or districts; of giving them an interior organization, and of charging them with the military execution of the laws against delinquent and contumacious members. This experiment has only served to demonstrate more fully the radical vice of the constitution. Each circle is the miniature picture of the deformities of this political monster. They either fail to execute their commissions, or they do it with all the devastation and carnage of civil war. Sometimes whole circles are defaulters; and then they increase the mischief which they were instituted to remedy.\n",
    "\n",
    "We may form some judgment of this scheme of military coercion from a sample given by Thuanus. Donawerth, a free and imperial city of the circle of Suabia was put under the ban of the empire, and the Duke of Bavaria, though director of another circle, obtained an appointment to enforce it. He soon appeared before the city with a corps of ten thousand troops. He took possession of it in his own name, disarmed, and punished the inhabitants, and reannexed the city to his domains.\n",
    "\n",
    "If more direct examples were wanting, Poland, as a government over local sovereigns, might not improperly be taken notice of. Nor could any proof more striking be given of the calamities flowing from such institutions. Equally unfit for self-government and self-defense, it has long been at the mercy of its powerful neighbors; who have lately had the mercy to disburden it of one third of its people and territories. \n",
    "\n",
    "The connection among the Swiss cantons scarcely amounts to a confederacy; though it is sometimes cited as an instance of the stability of such institutions. They have no common treasury; no common troops even in war; no common coin; no common judicatory; nor any other common mark of sovereignty. So far as the peculiarity of their case will admit of comparison with that of the United States, it serves to confirm the principle intended to be established. Whatever efficacy the union may have had in ordinary cases, it appears that the moment a cause of difference sprang up, capable of trying its strength, it failed. The controversies on the subject of religion, which in three instances have kindled violent and bloody contests, may be said, in fact, to have severed the league. The Protestant and Catholic cantons have since had their separate diets, where all the most important concerns are adjusted, and which have left the general diet little other business than to take care of the common bailages. \n",
    "\n",
    "That separation had another consequence, which merits attention. It produced opposite alliances with foreign powers: of Berne, at the head of the Protestant association, with the United Provinces; and of Luzerne, at the head of the Catholic association, with France."
   ]
  },
  {
   "cell_type": "markdown",
   "metadata": {},
   "source": [
    "### Federalist 20: The Same Subject Continued: The Insufficiency of the Present Confederation to Preserve the Union (Hamilton and Madison) (705/1513)"
   ]
  },
  {
   "cell_type": "markdown",
   "metadata": {},
   "source": [
    "THE United Netherlands are a confederacy of republics, or rather of aristocracies of a very remarkable texture, yet confirming all the lessons derived from those which we have already reviewed.\n",
    "\n",
    "The union is composed of seven coequal and sovereign states, and each state or province is a composition of equal and independent cities. In all important cases, not only the provinces but the cities must be unanimous.\n",
    "\n",
    "The sovereignty of the Union is represented by the States-General. The States-General have authority to enter into treaties and alliances; to make war and peace; to raise armies and equip fleets; to ascertain quotas and demand contributions. In all these cases, however, unanimity and the sanction of their constituents are requisite. They have authority to appoint and receive ambassadors; to execute treaties and alliances already formed; to provide for the collection of duties on imports and exports; to regulate the mint, with a saving to the provincial rights; to govern as sovereigns the dependent territories. The provinces are restrained, unless with the general consent, from entering into foreign treaties; from establishing imposts injurious to others, or charging their neighbors with higher duties than their own subjects. A council of state, a chamber of accounts, with five colleges of admiralty, aid and fortify the federal administration. \n",
    "\n",
    "The executive magistrate of the union is the stadtholder, who is now an hereditary prince. His principal weight and influence in the republic are derived more than all, perhaps, from his being stadtholder in the several provinces, as well as for the union; in which provincial quality he has the appointment of town magistrates under certain regulations, executes provincial decrees, presides when he pleases in the provincial tribunals, and has throughout the power of pardon. As stadtholder of the union, he has, however, considerable prerogatives. In his political capacity he has authority to settle disputes between the provinces, when other methods fail; to assist at the deliberations of the States-General, and at their particular conferences; to give audiences to foreign ambassadors, and to keep agents for his particular affairs at foreign courts. In his military capacity he commands the federal troops, provides for garrisons, and in general regulates military affairs; disposes of all appointments, from colonels to ensigns, and of the governments and posts of fortified towns. \n",
    "\n",
    "Such is the nature of the celebrated Belgic confederacy, as delineated on parchment. What are the characters which practice has stamped upon it? Imbecility in the government; discord among the provinces; foreign influence and indignities; a precarious existence in peace, and peculiar calamities from war. \n",
    "\n",
    "The union of Utrecht reposes an authority in the States-General, seemingly sufficient to secure harmony, but this article never could, and probably never will, be executed. In matters of contribution, it is the practice to waive the articles of the constitution. It has more than once happened, that the deficiencies had to be ultimately collected at the point of the bayonet.\n",
    "\n",
    "A weak constitution must necessarily terminate in dissolution, for want of proper powers, or the usurpation of powers requisite for the public safety. Whether the usurpation, when once begun, will stop at the salutary point, or go forward to the dangerous extreme, must depend on the contingencies of the moment. Tyranny has perhaps oftener grown out of the assumptions of power, called for, on pressing exigencies, by a defective constitution, than out of the full exercise of the largest constitutional authorities.\n",
    "\n",
    "This unhappy people seem to be now suffering from popular convulsions, from dissensions among the states, and from the actual invasion of foreign arms, the crisis of their destiny.\n",
    "\n",
    "I make no apology for having dwelt so long on the contemplation of these federal precedents. Experience is the oracle of truth; and where its responses are unequivocal, they ought to be conclusive and sacred. The important truth, which it unequivocally pronounces in the present case, is that a sovereignty over sovereigns, a government over governments, a legislation for communities, as contradistinguished from individuals, as it is a solecism in theory, so in practice it is subversive of the order and ends of civil polity, by substituting VIOLENCE in place of LAW, or the destructive COERCION of the SWORD in place of the mild and salutary COERCION of the MAGISTRACY."
   ]
  },
  {
   "cell_type": "markdown",
   "metadata": {},
   "source": [
    "### Federalist 21: Other Defects of the Present Confederation (Hamilton) (949/1991)"
   ]
  },
  {
   "cell_type": "markdown",
   "metadata": {},
   "source": [
    "HAVING in the three last numbers taken a summary review of the principal circumstances and events which have depicted the genius and fate of other confederate governments, I shall now proceed in the enumeration of the most important of those defects which have hitherto disappointed our hopes from the system established among ourselves.\n",
    "\n",
    "The next most palpable defect of the subsisting Confederation, is the total want of a SANCTION to its laws. \n",
    "\n",
    "The United States, as now composed, have no powers to exact obedience, or punish disobedience to their resolutions, either by pecuniary mulcts, by a suspension or divestiture of privileges, or by any other constitutional mode. There is no express delegation of authority to them to use force against delinquent members. We shall be obliged to conclude, that the United States afford the extraordinary spectacle of a government destitute even of the shadow of constitutional power to enforce the execution of its own laws.\n",
    "\n",
    "The want of a mutual guaranty of the State governments is another capital imperfection in the federal plan.\n",
    "\n",
    "There is nothing of this kind declared in the articles that compose it. Without a guaranty the assistance to be derived from the Union in repelling those domestic dangers which may sometimes threaten the existence of the State constitutions, must be renounced. Usurpation may rear its crest in each State, and trample upon the liberties of the people, while the national government could legally do nothing more than behold its encroachments with indignation and regret. A successful faction may erect a tyranny on the ruins of order and law, while no succor could constitutionally be afforded by the Union to the friends and supporters of the government. The tempestuous situation from which Massachusetts has scarcely emerged, evinces that dangers of this kind are not merely speculative.\n",
    "\n",
    "The inordinate pride of State importance has suggested to some minds an objection to the principle of a guaranty in the federal government, as involving an officious interference in the domestic concerns of the members. It could be no impediment to reforms of the State constitution by a majority of the people in a legal and peaceable mode. This right would remain undiminished. The guaranty could only operate against changes to be effected by violence. Towards the preventions of calamities of this kind, too many checks cannot be provided. The peace of society and the stability of government depend absolutely on the efficacy of the precautions adopted on this head.\n",
    "\n",
    "The principle of regulating the contributions of the States to the common treasury by QUOTAS is another fundamental error in the Confederation. I speak of it now solely with a view to equality among the States. \n",
    "\n",
    "Those who have been accustomed to contemplate the circumstances which produce and constitute national wealth, must be satisfied that there is no common standard or barometer by which the degrees of it can be ascertained. Neither the value of lands, nor the numbers of the people, which have been successively proposed as the rule of State contributions, has any pretension to being a just representative.\n",
    "\n",
    "The wealth of nations depends upon an infinite variety of causes. The consequence clearly is that there can be no common measure of national wealth, and, of course, no general or stationary rule by which the ability of a state to pay taxes can be determined. The attempt, therefore, to regulate the contributions of the members of a confederacy by any such rule, cannot fail to be productive of glaring inequality and extreme oppression. \n",
    "\n",
    "This inequality would of itself be sufficient in America to work the eventual destruction of the Union, if any mode of enforcing a compliance with its requisitions could be devised. The suffering States would not long consent to remain associated upon a principle which distributes the public burdens with so unequal a hand, and which was calculated to impoverish and oppress the citizens of some States, while those of others would scarcely be conscious of the small proportion of the weight they were required to sustain. This, however, is an evil inseparable from the principle of quotas and requisitions.\n",
    "\n",
    "There is no method of steering clear of this inconvenience, but by authorizing the national government to raise its own revenues in its own way. Imposts, excises, and, in general, all duties upon articles of consumption, may be compared to a fluid, which will, in time, find its level with the means of paying them. The amount to be contributed by each citizen will in a degree be at his own option, and can be regulated by an attention to his resources. Private oppression may always be avoided by a judicious selection of objects proper for such impositions. In the course of time and things, an equilibrium, as far as it is attainable in so complicated a subject, will be established everywhere.\n",
    "\n",
    "Impositions of this kind usually fall under the denomination of indirect taxes, and must for a long time constitute the chief part of the revenue raised in this country. Those of the direct kind, which principally relate to land and buildings, may admit of a rule of apportionment. Either the value of land, or the number of the people, may serve as a standard. The state of agriculture and the populousness of a country have been considered as nearly connected with each other. \n",
    "\n",
    "The expense of an accurate valuation is, in all situations, a formidable objection. In a branch of taxation where no limits to the discretion of the government are to be found in the nature of things, the establishment of a fixed rule, not incompatible with the end, may be attended with fewer inconveniences than to leave that discretion altogether at large. "
   ]
  },
  {
   "cell_type": "markdown",
   "metadata": {},
   "source": [
    "### Federalist 22: The Same Subject Continued: Other Defects of the Present Confederation (Hamilton) (1101/3472)"
   ]
  },
  {
   "cell_type": "markdown",
   "metadata": {},
   "source": [
    "IN ADDITION to the defects already enumerated in the existing federal system, there are others of not less importance, which concur in rendering it altogether unfit for the administration of the affairs of the Union.\n",
    "\n",
    "The want of a power to regulate commerce is by all parties allowed to be of the number.\n",
    "\n",
    "It is indeed evident, on the most superficial view, that there is no object, either as it respects the interests of trade or finance, that more strongly demands a federal superintendence. The want of it has already operated as a bar to the formation of beneficial treaties with foreign powers, and has given occasions of dissatisfaction between the States.\n",
    "\n",
    "The power of raising armies, by the most obvious construction of the articles of the Confederation, is merely a power of making requisitions upon the States for quotas of men. \n",
    "\n",
    "This practice in the course of the late war, was found replete with obstructions to a vigorous and to an economical system of defense. It gave birth to a competition between the States which created a kind of auction for men. Hence, slow and scanty levies of men, in the most critical emergencies of our affairs; short enlistments at an unparalleled expense; continual fluctuations in the troops, ruinous to their discipline and subjecting the public safety frequently to the perilous crisis of a disbanded army. Hence, also, those oppressive expedients for raising men which were upon several occasions practiced, and which nothing but the enthusiasm of liberty would have induced the people to endure.\n",
    "\n",
    "The right of equal suffrage among the States is another exceptionable part of the Confederation. \n",
    "\n",
    "Every idea of proportion and every rule of fair representation conspire to condemn a principle, which gives to Rhode Island an equal weight in the scale of power with Massachusetts, or Connecticut, or New York. Its operation contradicts the fundamental maxim of republican government, which requires that the sense of the majority should prevail.\n",
    "\n",
    "Sophistry may reply, that sovereigns are equal, and that a majority of the votes of the States will be a majority of confederated America. But this kind of logical legerdemain will never counteract the plain suggestions of justice and common-sense. \n",
    "\n",
    "It may happen that this majority of States is a small minority of the people of America; and two thirds of the people of America could not long be persuaded, upon the credit of artificial distinctions and syllogistic subtleties, to submit their interests to the management and disposal of one third. The larger States would after a while revolt from the idea of receiving the law from the smaller.\n",
    "\n",
    "But this is not all. Congress, from the nonattendance of a few States, have been frequently in the situation of a Polish diet, where a single VOTE has been sufficient to put a stop to all their movements.\n",
    "\n",
    "The necessity of unanimity in public bodies, or of something approaching towards it, has been founded upon a supposition that it would contribute to security. But its real operation is to embarrass the administration, to destroy the energy of the government, and to substitute the pleasure, caprice, or artifices of an insignificant, turbulent, or corrupt junto, to the regular deliberations and decisions of a respectable majority. \n",
    "\n",
    "If a pertinacious minority can control the opinion of a majority, respecting the best mode of conducting it, the majority, in order that something may be done, must conform to the views of the minority; and thus the sense of the smaller number will overrule that of the greater, and give a tone to the national proceedings. Hence, tedious delays; continual negotiation and intrigue; contemptible compromises of the public good. And yet, in such a system, it is even happy when such compromises can take place: for upon some occasions things will not admit of accommodation; and then the measures of government must be injuriously suspended, or fatally defeated. It is often, by the impracticability of obtaining the concurrence of the necessary number of votes, kept in a state of inaction. Its situation must always savor of weakness, sometimes border upon anarchy.\n",
    "\n",
    "It is not difficult to discover, that a principle of this kind gives greater scope to foreign corruption, as well as to domestic faction, than that which permits the sense of the majority to decide; though the contrary of this has been presumed.\n",
    "\n",
    "Evils of this description ought not to be regarded as imaginary. In republics, persons elevated from the mass of the community, by the suffrages of their fellow-citizens, to stations of great pre-eminence and power, may find compensations for betraying their trust. Hence it is that history furnishes us with so many mortifying examples of the prevalency of foreign corruption in republican governments.\n",
    "\n",
    "A circumstance which crowns the defects of the Confederation remains yet to be mentioned, the want of a judiciary power. \n",
    "\n",
    "Laws are a dead letter without courts to expound and define their true meaning and operation. The treaties of the United States, to have any force at all, must be considered as part of the law of the land. Their true import, as far as respects individuals, must, like all other laws, be ascertained by judicial determinations. To produce uniformity in these determinations, they ought to be submitted, in the last resort, to one SUPREME TRIBUNAL.\n",
    "\n",
    "This is the more necessary where the frame of the government is so compounded that the laws of the whole are in danger of being contravened by the laws of the parts. In this case, if the particular tribunals are invested with a right of ultimate jurisdiction, besides the contradictions to be expected from difference of opinion, there will be much to fear from the bias of local views and prejudices, and from the interference of local regulations.\n",
    "\n",
    "It has not a little contributed to the infirmities of the existing federal system, that it never had a ratification by the PEOPLE.\n",
    "\n",
    "Owing its ratification to the law of a State, it has been contended that the same authority might repeal the law by which it was ratified. However gross a heresy it may be to maintain that a PARTY to a COMPACT has a right to revoke that COMPACT, the doctrine itself has had respectable advocates. \n",
    "\n",
    "The possibility of a question of this nature proves the necessity of laying the foundations of our national government deeper than in the mere sanction of delegated authority. The fabric of American empire ought to rest on the solid basis of THE CONSENT OF THE PEOPLE. The streams of national power ought to flow immediately from that pure, original fountain of all legitimate authority. "
   ]
  },
  {
   "cell_type": "markdown",
   "metadata": {},
   "source": [
    "## THE NECESSITY OF A GOVERNMENT AT LEAST EQUALLY ENERGETIC WITH THE ONE PROPOSED, TO THE ATTAINMENT OF THIS OBJECT"
   ]
  },
  {
   "cell_type": "markdown",
   "metadata": {},
   "source": [
    "### Federalist 23: The Necessity of a Government as Energetic as the One Proposed to the Preservation of the Union (Hamilton) (900/1975)"
   ]
  },
  {
   "cell_type": "markdown",
   "metadata": {},
   "source": [
    "THE necessity of a Constitution, at least equally energetic with the one proposed, to the preservation of the Union, is the point at the examination of which we are now arrived. \n",
    "\n",
    "This inquiry will naturally divide itself into three branches: the objects to be provided for by the federal government, the quantity of power necessary to the accomplishment of those objects, the persons upon whom that power ought to operate. Its distribution and organization will more properly claim our attention under the succeeding head. \n",
    "\n",
    "The principal purposes to be answered by union are these: the common defense of the members; the preservation of the public peace as well against internal convulsions as external attacks; the regulation of commerce with other nations and between the States; the superintendence of our intercourse, political and commercial, with foreign countries. \n",
    "\n",
    "The authorities essential to the common defense are these: to raise armies; to build and equip fleets; to prescribe rules for the government of both; to direct their operations; to provide for their support. These powers ought to be coextensive with all the possible combinations of such circumstances; and ought to be under the direction of the same councils which are appointed to preside over the common defense. \n",
    "\n",
    "This is one of those truths which, to a correct and unprejudiced mind, carries its own evidence along with it. It rests upon axioms as simple as they are universal; the MEANS ought to be proportioned to the END; the persons, from whose agency the attainment of any END is expected, ought to possess the MEANS by which it is to be attained.\n",
    "\n",
    "Unless it can be shown that the circumstances which may affect the public safety are reducible within certain determinate limits, it must be admitted, as a necessary consequence, that there can be no limitation of that authority which is to provide for the defense and protection of the community, in any matter essential to its efficacy that is, in any matter essential to the FORMATION, DIRECTION, or SUPPORT of the NATIONAL FORCES.\n",
    "\n",
    "If the circumstances of our country are such as to demand a compound instead of a simple, a confederate instead of a sole, government, the essential point which will remain to be adjusted will be to discriminate the OBJECTS, as far as it can be done, which shall appertain to the different provinces or departments of power.\n",
    "\n",
    "Shall the Union be constituted the guardian of the common safety? Are fleets and armies and revenues necessary to this purpose? The government of the Union must be empowered to pass all laws, and to make all regulations which have relation to them. The same must be the case in respect to commerce, and to every other matter to which its jurisdiction is permitted to extend. Is the administration of justice between the citizens of the same State the proper department of the local governments? These must possess all the authorities which are connected with this object, and with every other that may be allotted to their particular cognizance and direction. Not to confer in each case a degree of power commensurate to the end, would be to trust the great interests of the nation to hands which are disabled from managing them with vigor and success.\n",
    "\n",
    "Is there not a manifest inconsistency in devolving upon the federal government the care of the general defense, and leaving in the State governments the EFFECTIVE powers by which it is to be provided for? Is not a want of co-operation the infallible consequence of such a system?\n",
    "\n",
    "It is both unwise and dangerous to deny the federal government an unconfined authority, as to all those objects which are intrusted to its management. It will indeed deserve the most vigilant and careful attention of the people, to see that it be modeled in such a manner as to admit of its being safely vested with the requisite powers. A government, the constitution of which renders it unfit to be trusted with all the powers which a free people OUGHT TO DELEGATE TO ANY GOVERNMENT, would be an unsafe and improper depositary of the NATIONAL INTERESTS. Wherever THESE can with propriety be confided, the coincident powers may safely accompany them.\n",
    "\n",
    "The adversaries of the plan promulgated by the convention have wandered into inflammatory declamations and unmeaning cavils about the extent of the powers. The POWERS are not too extensive for the OBJECTS of federal administration, or, in other words, for the management of our NATIONAL INTERESTS; nor can any satisfactory argument be framed to show that they are chargeable with such an excess.\n",
    "\n",
    "It has been insinuated by some of the writers on the other side, that the difficulty arises from the nature of the thing, and that the extent of the country will not permit us to form a government in which such ample powers can safely be reposed. This, at all events, must be evident, that the very difficulty itself, drawn from the extent of the country, is the strongest argument in favor of an energetic government; for any other can certainly never preserve the Union of so large an empire.\n",
    "\n",
    "If we embrace the tenets of those who oppose the adoption of the proposed Constitution, as the standard of our political creed, we cannot fail to verify the gloomy doctrines which predict the impracticability of a national system pervading entire limits of the present Confederacy."
   ]
  },
  {
   "cell_type": "markdown",
   "metadata": {},
   "source": [
    "### Federalist 24: The Powers Necessary to the Common Defense Further Considered (Hamilton) (597/1817)"
   ]
  },
  {
   "cell_type": "markdown",
   "metadata": {},
   "source": [
    "To THE powers proposed to be conferred upon the federal government, in respect to the creation and direction of the national forces, I have met with but one specific objection, which, if I understand it right, is this, that proper provision has not been made against the existence of standing armies in time of peace; an objection which, I shall now endeavor to show, rests on weak and unsubstantial foundations. \n",
    "\n",
    "The proprietory of this remark will appear, the moment it is recollected that the objection under consideration turns upon a supposed necessity of restraining the LEGISLATIVE authority of the nation, in the article of military establishments; a principle unheard of, except in one or two of our State constitutions, and rejected in all the rest.\n",
    "\n",
    "A stranger to our politics, who was to read our newspapers at the present juncture would be naturally led to one of two conclusions: either that it contained a positive injunction, that standing armies should be kept up in time of peace; or that it vested in the EXECUTIVE the whole power of levying troops, without subjecting his discretion, in any shape, to the control of the legislature. \n",
    "\n",
    "If he came afterwards to peruse the plan itself, he would be surprised to discover, that neither the one nor the other was the case; that the whole power of raising armies was lodged in the LEGISLATURE, not in the EXECUTIVE; and that instead of the provision he had supposed in favor of standing armies, there was to be found, in respect to this object, an important qualification even of the legislative discretion, in that clause which forbids the appropriation of money for the support of an army for any longer period than two years; a precaution which, upon a nearer view of it, will appear to be a great and real security against the keeping up of troops without evident necessity.\n",
    "\n",
    "From a close examination it will appear that restraints upon the discretion of the legislature in respect to military establishments in time of peace, would be improper to be imposed, and if imposed, from the necessities of society, would be unlikely to be observed.\n",
    "\n",
    "Though a wide ocean separates the United States from Europe, yet there are various considerations that warn us against an excess of confidence or security. The improvements in the art of navigation have, as to the facility of communication, rendered distant nations, in a great measure, neighbors. Britain and Spain are among the principal maritime powers of Europe. A future concert of views between these nations ought not to be regarded as improbable.\n",
    "\n",
    "Previous to the Revolution, and ever since the peace, there has been a constant necessity for keeping small garrisons on our Western frontier. No person can doubt that these will continue to be indispensable, if it should only be against the ravages and depredations of the Indians. These garrisons must either be furnished by occasional detachments from the militia, or by permanent corps in the pay of the government. \n",
    "\n",
    "The first is impracticable; and if practicable, would be pernicious. The militia would not long, if at all, submit to be dragged from their occupations and families to perform that most disagreeable duty in times of profound peace. The latter resource of permanent corps in the pay of the government amounts to a standing army in time of peace. Here is a simple view of the subject, that shows us at once the impropriety of a constitutional interdiction of such establishments, and the necessity of leaving the matter to the discretion and prudence of the legislature."
   ]
  },
  {
   "cell_type": "markdown",
   "metadata": {},
   "source": [
    "### Federalist 25: The Same Subject Continued (The Powers Necessary to the Common Defense Further Considered)  (Hamilton) (972/1981)"
   ]
  },
  {
   "cell_type": "markdown",
   "metadata": {},
   "source": [
    "IT MAY perhaps be urged that the objects enumerated in the preceding number ought to be provided for by the State governments, under the direction of the Union. But this would be, in reality, an inversion of the primary principle of our political association, as it would in practice transfer the care of the common defense from the federal head to the individual members: a project oppressive to some States, dangerous to all, and baneful to the Confederacy.\n",
    "\n",
    "In this situation, military establishments, nourished by mutual jealousy, would be apt to swell beyond their natural or proper size; and being at the separate disposal of the members, they would be engines for the abridgment or demolition of the national authority.\n",
    "\n",
    "Reasons have been already given to induce a supposition that in any contest between the federal head and one of its members the people will be most apt to unite with their local government. If, in addition to this immense advantage, the ambition of the members should be stimulated by the separate and independent possession of military forces, it would afford too strong a temptation and too great a facility to them to make enterprises upon, and finally to subvert, the constitutional authority of the Union. \n",
    "\n",
    "On the other hand, the liberty of the people would be less safe in this state of things than in that which left the national forces in the hands of the national government. As far as an army may be considered as a dangerous weapon of power, it had better be in those hands of which the people are most likely to be jealous than in those of which they are least likely to be jealous. \n",
    "\n",
    "There are other lights besides those already taken notice of, in which the impropriety of restraints on the discretion of the national legislature will be equally manifest. The design of the objection, which has been mentioned, is to preclude standing armies in time of peace, though we have never been informed how far it is designed the prohibition should extend; whether to raising armies as well as to KEEPING THEM UP in a season of tranquillity or not.\n",
    "\n",
    "The supposed utility of a provision of this kind can only be founded on the supposed probability, or at least possibility, of a combination between the executive and the legislative, in some scheme of usurpation. Should this at any time happen, how easy would it be to fabricate pretenses of approaching danger! If we can reasonably presume such a combination to have been formed, and that the enterprise is warranted by a sufficient prospect of success, the army, when once raised, from whatever cause, or on whatever pretext, may be applied to the execution of the project.\n",
    "\n",
    "If, to obviate this consequence, it should be resolved to extend the prohibition to the RAISING of armies in time of peace, the United States would then exhibit the most extraordinary spectacle which the world has yet seen, that of a nation incapacitated by its Constitution to prepare for defense, before it was actually invaded. \n",
    "\n",
    "As the ceremony of a formal denunciation of war has of late fallen into disuse, the presence of an enemy within our territories must be waited for, as the legal warrant to the government to begin its levies of men for the protection of the State. We must receive the blow, before we could even prepare to return it. All that kind of policy by which nations anticipate distant danger, and meet the gathering storm, must be abstained from, as contrary to the genuine maxims of a free government. We must expose our property and liberty to the mercy of foreign invaders, and invite them by our weakness to seize the naked and defenseless prey, because we are afraid that rulers, created by our choice, dependent on our will, might endanger that liberty, by an abuse of the means necessary to its preservation. \n",
    "\n",
    "Here I expect we shall be told that the militia of the country is its natural bulwark, and would be at all times equal to the national defense. This doctrine, in substance, had like to have lost us our independence. The steady operations of war against a regular and disciplined army can only be successfully conducted by a force of the same kind.\n",
    "\n",
    "Considerations of economy, not less than of stability and vigor, confirm this position. The American militia, in the course of the late war, have, by their valor on numerous occasions, erected eternal monuments to their fame; but the bravest of them feel and know that the liberty of their country could not have been established by their efforts alone, however great and valuable they were. War, like most other things, is a science to be acquired and perfected by diligence, by perserverance, by time, and by practice. \n",
    "\n",
    "All violent policy, as it is contrary to the natural and experienced course of human affairs, defeats itself. The conduct of Massachusetts affords a lesson that cases are likely to occur under our government, as well as under those of other nations, which will sometimes render a military force in time of peace essential to the security of the society, and that it is therefore improper in this respect to control the legislative discretion. And it teaches us, in addition to the rest, how unequal parchment provisions are to a struggle with public necessity.\n",
    "\n",
    "Wise politicians will be cautious about fettering the government with restrictions that cannot be observed, because they know that every breach of the fundamental laws, though dictated by necessity, impairs that sacred reverence which ought to be maintained in the breast of rulers towards the constitution of a country, and forms a precedent for other breaches where the same plea of necessity does not exist at all, or is less urgent and palpable. "
   ]
  },
  {
   "cell_type": "markdown",
   "metadata": {},
   "source": [
    "### Federalist 26: The Idea of Restraining the Legislative Authority in Regard to the Common Defense Considered  (Hamilton) (1545/2378)"
   ]
  },
  {
   "cell_type": "markdown",
   "metadata": {},
   "source": [
    "IT WAS a thing hardly to be expected that in a popular revolution the minds of men should stop at that happy mean which marks the salutary boundary between POWER and PRIVILEGE, and combines the energy of government with the security of private rights. A failure in this delicate and important point is the great source of the inconveniences we experience, and if we are not cautious to avoid a repetition of the error, we may try change after change; but we shall never be likely to make any material change for the better. \n",
    "\n",
    "The idea of restraining the legislative authority, in the means of providing for the national defense, is one of those refinements which owe their origin to a zeal for liberty more ardent than enlightened. The opponents of the proposed Constitution, instead of being taught by experience the propriety of correcting any extremes into which we may have heretofore run, appear disposed to conduct us into others still more dangerous, and more extravagant. But a danger of this kind is not to be apprehended. The citizens of America have too much discernment to be argued into anarchy.\n",
    "\n",
    "It may not be amiss in this place concisely to remark the origin and progress of the idea, which aims at the exclusion of military establishments in time of peace. Though in speculative minds it may arise from a contemplation of the nature and tendency of such institutions, fortified by the events that have happened in other ages and countries, yet as a national sentiment, it must be traced to those habits of thinking which we derive from the nation from whom the inhabitants of these States have in general sprung. \n",
    "\n",
    "In England, for a long time after the Norman Conquest, the authority of the monarch was almost unlimited. Inroads were gradually made upon the prerogative, in favor of liberty, first by the barons, and afterwards by the people, till the greatest part of its most formidable pretensions became extinct. But it was not till the revolution in 1688, which elevated the Prince of Orange to the throne of Great Britain, that English liberty was completely triumphant. As incident to the undefined power of making war, an acknowledged prerogative of the crown, Charles II. had, by his own authority, kept on foot in time of peace a body of 5,000 regular troops. And this number James II. increased to 30,000; who were paid out of his civil list. At the revolution, to abolish the exercise of so dangerous an authority, it became an article of the Bill of Rights then framed, that \"the raising or keeping a standing army within the kingdom in time of peace, UNLESS WITH THE CONSENT OF PARLIAMENT, was against law\".\n",
    "\n",
    "In that kingdom, when the pulse of liberty was at its highest pitch, no security against the danger of standing armies was thought requisite, beyond a prohibition of their being raised or kept up by the mere authority of the executive magistrate. The patriots, who effected that memorable revolution, were too temperate, too well-informed, to think of any restraint on the legislative discretion.\n",
    "\n",
    "From the same source, the people of America may be said to have derived an hereditary impression of danger to liberty, from standing armies in time of peace. The circumstances of a revolution quickened the public sensibility on every point connected with the security of popular rights, and the principles which had taught us to be jealous of the power of an hereditary monarch were by an injudicious excess extended to the representatives of the people in their popular assemblies.\n",
    "\n",
    "Even in some of the States, where this error was not adopted, we find unnecessary declarations that standing armies ought not to be kept up, in time of peace, WITHOUT THE CONSENT OF THE LEGISLATURE. I call them unnecessary, because the reason which had introduced a similar provision into the English Bill of Rights is not applicable to any of the State constitutions. The power of raising armies at all, under those constitutions, can by no construction be deemed to reside anywhere else, than in the legislatures themselves; and it was superfluous, if not absurd, to declare that a matter should not be done without the consent of a body, which alone had the power of doing it.\n",
    "\n",
    "It is remarkable, that even in the two States which seem to have meditated an interdiction of military establishments in time of peace, the mode of expression made use of is rather cautionary than prohibitory. It is not said, that standing armies SHALL NOT BE kept up, but that they OUGHT NOT to be kept up, in time of peace. Can it be doubted that such a provision, whenever the situation of public affairs was understood to require a departure from it, would be interpreted by the legislature into a mere admonition, and would be made to yield to the necessities or supposed necessities of the State?\n",
    "\n",
    "Let us examine whether there be any comparison, in point of efficacy, between the provision alluded to and that which is contained in the new Constitution, for restraining the appropriations of money for military purposes to the period of two years. The former, by aiming at too much, is calculated to effect nothing; the latter, by steering clear of an imprudent extreme, and by being perfectly compatible with a proper provision for the exigencies of the nation, will have a salutary and powerful operation. \n",
    "\n",
    "The legislature of the United States will be OBLIGED, by this provision, once at least in every two years, to deliberate upon the propriety of keeping a military force on foot; to come to a new resolution on the point; and to declare their sense of the matter, by a formal vote in the face of their constituents. They are not AT LIBERTY to vest in the executive department permanent funds for the support of an army, if they were even incautious enough to be willing to repose in it so improper a confidence.\n",
    "\n",
    "As often as the question comes forward, the public attention will be roused and attracted to the subject, by the party in opposition; and if the majority should be really disposed to exceed the proper limits, the community will be warned of the danger, and will have an opportunity of taking measures to guard against it. Independent of parties in the national legislature itself, as often as the period of discussion arrived, the State legislatures will be ready enough, if any thing improper appears, to sound the alarm to the people, and not only to be the VOICE, but, if necessary, the ARM of their discontent. \n",
    "\n",
    "Schemes to subvert the liberties of a great community REQUIRE TIME to mature them for execution. An army, so large as seriously to menace those liberties, could only be formed by progressive augmentations; which would suppose, not merely a temporary combination between the legislature and executive, but a continued conspiracy for a series of time. Is it probable that such a combination would exist at all? Is it probable that it would be persevered in, and transmitted along through all the successive variations in a representative body, which biennial elections would naturally produce in both houses?\n",
    "\n",
    "If such presumptions can fairly be made, there ought at once to be an end of all delegated authority. If such suppositions could even be reasonably made, still the concealment of the design, for any duration, would be impracticable. It is impossible that the people could be long deceived; and the destruction of the project, and of the projectors, would quickly follow the discovery. \n",
    "\n",
    "It has been said that the provision which limits the appropriation of money for the support of an army to the period of two years would be unavailing, because the Executive, when once possessed of a force large enough to awe the people into submission, would find resources in that very force sufficient to enable him to dispense with supplies from the acts of the legislature. \n",
    "\n",
    "But the question again recurs, upon what pretense could he be put in possession of a force of that magnitude in time of peace? If we suppose it to have been created in consequence of some domestic insurrection or foreign war, then it becomes a case not within the principles of the objection; for this is levelled against the power of keeping up troops in time of peace. \n",
    "\n",
    "Few persons will be so visionary as seriously to contend that military forces ought not to be raised to quell a rebellion or resist an invasion; and if the defense of the community under such circumstances should make it necessary to have an army so numerous as to hazard its liberty, this is one of those calamaties for which there is neither preventative nor cure.\n",
    "\n",
    "But it is an evil infinitely less likely to attend us in a united than in a disunited state. It is not easy to conceive a possibility that dangers so formidable can assail the whole Union, as to demand a force considerable enough to place our liberties in the least jeopardy, especially if we take into our view the aid to be derived from the militia, which ought always to be counted upon as a valuable and powerful auxiliary."
   ]
  },
  {
   "cell_type": "markdown",
   "metadata": {},
   "source": [
    "### Federalist 27: The Same Subject Continued (The Idea of Restraining the Legislative Authority in Regard to the Common Defense Considered) (Hamilton) (607/1416)"
   ]
  },
  {
   "cell_type": "markdown",
   "metadata": {},
   "source": [
    "IT HAS been urged, in different shapes, that a Constitution of the kind proposed by the convention cannot operate without the aid of a military force to execute its laws.\n",
    "\n",
    "As far as I have been able to divine the latent meaning of the objectors, it seems to originate in a presupposition that the people will be disinclined to the exercise of federal authority in any matter of an internal nature. Waiving any exception that might be taken to the inaccuracy or inexplicitness of the distinction between internal and external, let us inquire what ground there is to presuppose that disinclination in the people.\n",
    "\n",
    "I believe it may be laid down as a general rule that their confidence in and obedience to a government will commonly be proportioned to the goodness or badness of its administration.\n",
    "\n",
    "Various reasons have been suggested, in the course of these papers, to induce a probability that the general government will be better administered than the particular governments. Until satisfactory reasons can be assigned to justify an opinion, that the federal government is likely to be administered in such a manner as to render it odious or contemptible to the people, there can be no reasonable foundation for the supposition that the laws of the Union will meet with any greater obstruction from them, or will stand in need of any other methods to enforce their execution, than the laws of the particular members.\n",
    "\n",
    "Man is very much a creature of habit. A thing that rarely strikes his senses will generally have but little influence upon his mind. A government continually at a distance and out of sight can hardly be expected to interest the sensations of the people. The inference is, that the authority of the Union, and the affections of the citizens towards it, will be strengthened, rather than weakened, by its extension to what are called matters of internal concern; and will have less occasion to recur to force, in proportion to the familiarity and comprehensiveness of its agency. The more it circulates through those channls and currents in which the passions of mankind naturally flow, the less will it require the aid of the violent and perilous expedients of compulsion. \n",
    "\n",
    "The plan reported by the convention, by extending the authority of the federal head to the individual citizens of the several States, will enable the government to employ the ordinary magistracy of each, in the execution of its laws. It is easy to perceive that this will tend to destroy, in the common apprehension, all distinction between the sources from which they might proceed; and will give the federal government the same advantage for securing a due obedience to its authority which is enjoyed by the government of each State.\n",
    "\n",
    "Any man who will pursue, by his own reflections, the consequences of this situation, will perceive that there is good ground to calculate upon a regular and peaceable execution of the laws of the Union, if its powers are administered with a common share of prudence.\n",
    "\n",
    "If we will arbitrarily suppose the contrary, we may deduce any inferences we please from the supposition; for it is certainly possible, by an injudicious exercise of the authorities of the best government that ever was, or ever can be instituted, to provoke and precipitate the people into the wildest excesses.\n",
    "\n",
    "But though the adversaries of the proposed Constitution should presume that the national rulers would be insensible to the motives of public good, or to the obligations of duty, I would still ask them how the interests of ambition, or the views of encroachment, can be promoted by such a conduct? "
   ]
  },
  {
   "cell_type": "markdown",
   "metadata": {},
   "source": [
    "### Federalist 28: The Same Subject Continued (The Idea of Restraining the Legislative Authority in Regard to the Common Defense Considered) (Hamilton) (915/1588)"
   ]
  },
  {
   "cell_type": "markdown",
   "metadata": {},
   "source": [
    "THAT there may happen cases in which the national government may be necessitated to resort to force, cannot be denied.\n",
    "\n",
    "Our own experience has corroborated the lessons taught by the examples of other nations; that emergencies of this sort will sometimes arise in all societies, however constituted; that seditions and insurrections are, unhappily, maladies as inseparable from the body politic as tumors and eruptions from the natural body; that the idea of governing at all times by the simple force of law (which we have been told is the only admissible principle of republican government) has no place but in the reveries of those political doctors whose sagacity disdains the admonitions of experimental instruction. \n",
    "\n",
    "Should such emergencies at any time happen under the national government, there could be no remedy but force. The means to be employed must be proportioned to the extent of the mischief. \n",
    "\n",
    "If it should be a slight commotion in a small part of a State, the militia of the residue would be adequate to its suppression; and the national presumption is that they would be ready to do their duty. If, on the contrary, the insurrection should pervade a whole State, or a principal part of it, the employment of a different kind of force might become unavoidable. Suppose the State of New York had been inclined to re-establish her lost jurisdiction over the inhabitants of Vermont, could she have hoped for success in such an enterprise from the efforts of the militia alone? Would she not have been compelled to raise and to maintain a more regular force for the execution of her design?\n",
    "\n",
    "If it must then be admitted that the necessity of recurring to a force different from the militia, in cases of this extraordinary nature, is applicable to the State governments themselves, why should the possibility, that the national government might be under a like necessity, in similar extremities, be made an objection to its existence?\n",
    "\n",
    "All candid and intelligent men must, upon due consideration, acknowledge that the principle of the objection is equally applicable to either of the two cases; and that whether we have one government for all the States, or different governments for different parcels of them, or even if there should be an entire separation of the States, there might sometimes be a necessity to make use of a force constituted differently from the militia, to preserve the peace of the community and to maintain the just authority of the laws against those violent invasions of them which amount to insurrections and rebellions.\n",
    "\n",
    "Independent of all other reasonings upon the subject, it is a full answer to those who require a more peremptory provision against military establishments in time of peace, to say that the whole power of the proposed government is to be in the hands of the representatives of the people. This is the essential, and, after all, only efficacious security for the rights and privileges of the people, which is attainable in civil society.\n",
    "\n",
    "If the representatives of the people betray their constituents, there is then no resource left but in the exertion of that original right of self-defense which is paramount to all positive forms of government, and which against the usurpations of the national rulers, may be exerted with infinitely better prospect of success than against those of the rulers of an individual state. \n",
    "\n",
    "In a single state, if the persons intrusted with supreme power become usurpers, the different parcels, subdivisions, or districts of which it consists, having no distinct government in each, can take no regular measures for defense. The citizens must rush tumultuously to arms, without concert, without system, without resource; except in their courage and despair. The usurpers, clothed with the forms of legal authority, can too often crush the opposition in embryo. The smaller the extent of the territory, the more difficult will it be for the people to form a regular or systematic plan of opposition, and the more easy will it be to defeat their early efforts. Intelligence can be more speedily obtained of their preparations and movements, and the military force in the possession of the usurpers can be more rapidly directed against the part where the opposition has begun. In this situation there must be a peculiar coincidence of circumstances to insure success to the popular resistance.\n",
    "\n",
    "The obstacles to usurpation and the facilities of resistance increase with the increased extent of the state, provided the citizens understand their rights and are disposed to defend them. The great extent of the country is a further security. We have already experienced its utility against the attacks of a foreign power. And it would have precisely the same effect against the enterprises of ambitious rulers in the national councils. The advantages obtained in one place must be abandoned to subdue the opposition in others; and the moment the part which had been reduced to submission was left to itself, its efforts would be renewed, and its resistance revive.\n",
    "\n",
    "When will the time arrive that the federal government can raise and maintain an army capable of erecting a despotism over the great body of the people of an immense empire, who are in a situation, through the medium of their State governments, to take measures for their own defense, with all the celerity, regularity, and system of independent nations? The apprehension may be considered as a disease, for which there can be found no cure in the resources of argument and reasoning. "
   ]
  },
  {
   "cell_type": "markdown",
   "metadata": {},
   "source": [
    "### Federalist 29: Concerning the Militia (Hamilton) (1510/2229)"
   ]
  },
  {
   "cell_type": "markdown",
   "metadata": {},
   "source": [
    "THE power of regulating the militia, and of commanding its services in times of insurrection and invasion are natural incidents to the duties of superintending the common defense, and of watching over the internal peace of the Confederacy\n",
    "\n",
    "It requires no skill in the science of war to discern that uniformity in the organization and discipline of the militia would be attended with the most beneficial effects, whenever they were called into service for the public defense. This desirable uniformity can only be accomplished by confiding the regulation of the militia to the direction of the national authority. \n",
    "\n",
    "It is, therefore, with the most evident propriety, that the plan of the convention proposes to empower the Union \"to provide for organizing, arming, and disciplining the militia, and for governing such part of them as may be employed in the service of the United States, RESERVING TO THE STATES RESPECTIVELY THE APPOINTMENT OF THE OFFICERS, AND THE AUTHORITY OF TRAINING THE MILITIA ACCORDING TO THE DISCIPLINE PRESCRIBED BY CONGRESS\". \n",
    "\n",
    "Of the different grounds which have been taken in opposition to the plan of the convention, there is none that was so little to have been expected, or is so untenable in itself, as the one from which this particular provision has been attacked. \n",
    "\n",
    "If a well-regulated militia be the most natural defense of a free country, it ought certainly to be under the regulation and at the disposal of that body which is constituted the guardian of the national security. If standing armies are dangerous to liberty, an efficacious power over the militia, in the body to whose care the protection of the State is committed, ought, as far as possible, to take away the inducement and the pretext to such unfriendly institutions. If the federal government can command the aid of the militia in those emergencies which call for the military arm in support of the civil magistrate, it can the better dispense with the employment of a different kind of force. If it cannot avail itself of the former, it will be obliged to recur to the latter. To render an army unnecessary, will be a more certain method of preventing its existence than a thousand prohibitions upon paper. \n",
    "\n",
    "In order to cast an odium upon the power of calling forth the militia to execute the laws of the Union, it has been remarked that there is nowhere any provision in the proposed Constitution for calling out the POSSE COMITATUS, to assist the magistrate in the execution of his duty, whence it has been inferred, that military force was intended to be his only auxiliary.\n",
    "\n",
    "The same persons who tell us in one breath, that the powers of the federal government will be despotic and unlimited, inform us in the next, that it has not authority sufficient even to call out the POSSE COMITATUS. The latter, fortunately, is as much short of the truth as the former exceeds it. It would be as absurd to doubt, that a right to pass all laws NECESSARY AND PROPER to execute its declared powers, would include that of requiring the assistance of the citizens to the officers who may be intrusted with the execution of those laws, as it would be to believe, that a right to enact laws necessary and proper for the imposition and collection of taxes would involve that of varying the rules of descent and of the alienation of landed property, or of abolishing the trial by jury in cases relating to it. \n",
    "\n",
    "It being therefore evident that the supposition of a want of power to require the aid of the POSSE COMITATUS is entirely destitute of color, it will follow, that the conclusion which has been drawn from it, in its application to the authority of the federal government over the militia, is as uncandid as it is illogical. \n",
    "\n",
    "By a curious refinement upon the spirit of republican jealousy, we are even taught to apprehend danger from the militia itself, in the hands of the federal government. It is observed that select corps may be formed, composed of the young and ardent, who may be rendered subservient to the views of arbitrary power. Were I to deliver my sentiments to a member of the federal legislature from this State on the subject of a militia establishment, I should hold to him, in substance, the following discourse: \n",
    "\n",
    "\"The project of disciplining all the militia of the United States is as futile as it would be injurious, if it were capable of being carried into execution.\n",
    "\n",
    "To oblige the great body of the yeomanry, and of the other classes of the citizens, to be under arms for the purpose of going through military exercises and evolutions, as often as might be necessary to acquire the degree of perfection which would entitle them to the character of a well-regulated militia, would be a real grievance to the people, and a serious public inconvenience and loss.\n",
    "\n",
    "Little more can reasonably be aimed at, with respect to the people at large, than to have them properly armed and equipped; and in order to see that this be not neglected, it will be necessary to assemble them once or twice in the course of a year. \n",
    "\n",
    "But though the scheme of disciplining the whole nation must be abandoned as mischievous or impracticable; yet it is a matter of the utmost importance that a well-digested plan should, as soon as possible, be adopted for the proper establishment of the militia. \n",
    "\n",
    "The attention of the government ought particularly to be directed to the formation of a select corps of moderate extent, upon such principles as will really fit them for service in case of need. By thus circumscribing the plan, it will be possible to have an excellent body of well-trained militia, ready to take the field whenever the defense of the State shall require it. \n",
    "\n",
    "This will not only lessen the call for military establishments, but if circumstances should at any time oblige the government to form an army of any magnitude, that army can never be formidable to the liberties of the people while there is a large body of citizens, little, if at all, inferior to them in discipline and the use of arms, who stand ready to defend their own rights and those of their fellow-citizens. This appears to me the only substitute that can be devised for a standing army, and the best possible security against it, if it should exist.\"\n",
    "\n",
    "Thus differently from the adversaries of the proposed Constitution should I reason on the same subject, deducing arguments of safety from the very sources which they represent as fraught with danger and perdition.\n",
    "\n",
    "Where in the name of common-sense, are our fears to end if we may not trust our sons, our brothers, our neighbors, our fellow-citizens? What shadow of danger can there be from men who are daily mingling with the rest of their countrymen and who participate with them in the same feelings, sentiments, habits and interests? What reasonable cause of apprehension can be inferred from a power in the Union to prescribe regulations for the militia, and to command its services when necessary, while the particular States are to have the SOLE AND EXCLUSIVE APPOINTMENT OF THE OFFICERS?\n",
    "\n",
    "A sample of this is to be observed in the exaggerated and improbable suggestions which have taken place respecting the power of calling for the services of the militia. At one moment there is to be a large army to lay prostrate the liberties of the people; at another moment the militia of Virginia are to be dragged from their homes five or six hundred miles, to tame the republican contumacy of Massachusetts; and that of Massachusetts is to be transported an equal distance to subdue the refractory haughtiness of the aristocratic Virginians. \n",
    "\n",
    "If there should be an army to be made use of as the engine of despotism, what need of the militia? Is this the way in which usurpers stride to dominion over a numerous and enlightened nation? Do they begin by exciting the detestation of the very instruments of their intended usurpations? If we were even to suppose the national rulers actuated by the most ungovernable ambition, it is impossible to believe that they would employ such preposterous means to accomplish their designs.\n",
    "\n",
    "In times of insurrection, or invasion, it would be natural and proper that the militia of a neighboring State should be marched into another, to resist a common enemy, or to guard the republic against the violence of faction or sedition. This was frequently the case, in respect to the first object, in the course of the late war; and this mutual succor is, indeed, a principal end of our political association. \n",
    "\n",
    "If the power of affording it be placed under the direction of the Union, there will be no danger of a supine and listless inattention to the dangers of a neighbor, till its near approach had superadded the incitements of self-preservation to the too feeble impulses of duty and sympathy."
   ]
  },
  {
   "cell_type": "markdown",
   "metadata": {},
   "source": [
    "### Federalist 30: Concerning the General Power of Taxation (Hamilton) (760/1962)"
   ]
  },
  {
   "cell_type": "markdown",
   "metadata": {},
   "source": [
    "IT HAS been already observed that the federal government ought to possess the power of providing for the support of the national forces; in which proposition was intended to be included all other expenses in any wise connected with military arrangements and operations.\n",
    "\n",
    "But these are not the only objects to which the jurisdiction of the Union, in respect to revenue, must necessarily be empowered to extend. It must embrace a provision for the support of the national civil list; for the payment of the national debts contracted, or that may be contracted; and, in general, for all those matters which will call for disbursements out of the national treasury. \n",
    "\n",
    "The conclusion is, that there must be interwoven, in the frame of the government, a general power of taxation, in one shape or another. \n",
    "\n",
    "Money is, with propriety, considered as the vital principle of the body politic; as that which sustains its life and motion, and enables it to perform its most essential functions. A complete power, therefore, to procure a regular and adequate supply of it, as far as the resources of the community will permit, may be regarded as an indispensable ingredient in every constitution. \n",
    "\n",
    "From a deficiency in this particular, one of two evils must ensue; either the people must be subjected to continual plunder, as a substitute for a more eligible mode of supplying the public wants, or the government must sink into a fatal atrophy, and, in a short course of time, perish. \n",
    "\n",
    "The more intelligent adversaries of the new Constitution admit the force of this reasoning; but they qualify their admission by a distinction between what they call INTERNAL and EXTERNAL taxation. The former they would reserve to the State governments; the latter, which they explain into commercial imposts, or rather duties on imported articles, they declare themselves willing to concede to the federal head. \n",
    "\n",
    "This distinction, however, would violate the maxim of good sense and sound policy, which dictates that every POWER ought to be in proportion to its OBJECT; and would still leave the general government in a kind of tutelage to the State governments, inconsistent with every idea of vigor or efficiency. Who can pretend that commercial imposts are, or would be, alone equal to the present and future exigencies of the Union?\n",
    "\n",
    "I believe it may be regarded as a position warranted by the history of mankind, that, IN THE USUAL PROGRESS OF THINGS, THE NECESSITIES OF A NATION, IN EVERY STAGE OF ITS EXISTENCE, WILL BE FOUND AT LEAST EQUAL TO ITS RESOURCES. \n",
    "\n",
    "If the opinions of those who contend for the distinction which has been mentioned were to be received as evidence of truth, one would be led to conclude that there was some known point in the economy of national affairs at which it would be safe to stop and to say: Thus far the ends of public happiness will be promoted by supplying the wants of government, and all beyond this is unworthy of our care or anxiety. \n",
    "\n",
    "How is it possible that a government half supplied and always necessitous, can fulfill the purposes of its institution, can provide for the security, advance the prosperity, or support the reputation of the commonwealth? How can it ever possess either energy or stability, dignity or credit, confidence at home or respectability abroad? How can its administration be any thing else than a succession of expedients temporizing, impotent, disgraceful? How will it be able to avoid a frequent sacrifice of its engagements to immediate necessity? How can it undertake or execute any liberal or enlarged plans of public good?\n",
    "\n",
    "The power of creating new funds upon new objects of taxation, by its own authority, would enable the national government to borrow as far as its necessities might require. Foreigners, as well as the citizens of America, could then reasonably repose confidence in its engagements; but to depend upon a government that must itself depend upon thirteen other governments for the means of fulfilling its contracts, when once its situation is clearly understood, would require a degree of credulity not often to be met with in the pecuniary transactions of mankind, and little reconcilable with the usual sharp-sightedness of avarice. \n",
    "\n",
    "Reflections of this kind may have trifling weight with men who hope to see realized in America the halcyon scenes of the poetic or fabulous age; but to those who believe we are likely to experience a common portion of the vicissitudes and calamities which have fallen to the lot of other nations, they must appear entitled to serious attention."
   ]
  },
  {
   "cell_type": "markdown",
   "metadata": {},
   "source": [
    "### Federalist 31: The Same Subject Continued: Concerning the General Power of Taxation (Hamilton) (705/1728)"
   ]
  },
  {
   "cell_type": "markdown",
   "metadata": {},
   "source": [
    "IN DISQUISITIONS of every kind, there are certain primary truths, or first principles, upon which all subsequent reasonings must depend. These contain an internal evidence which, antecedent to all reflection or combination, commands the assent of the mind. Where it produces not this effect, it must proceed either from some defect or disorder in the organs of perception, or from the influence of some strong interest, or passion, or prejudice.\n",
    "\n",
    "The obscurity is much oftener in the passions and prejudices of the reasoner than in the subject. Men, upon too many occasions, do not give their own understandings fair play; but, yielding to some untoward bias, they entangle themselves in words and confound themselves in subtleties. \n",
    "\n",
    "How else could it happen (if we admit the objectors to be sincere in their opposition), that positions so clear as those which manifest the necessity of a general power of taxation in the government of the Union, should have to encounter any adversaries among men of discernment?\n",
    "\n",
    "As the duties of superintending the national defense and of securing the public peace against foreign or domestic violence involve a provision for casualties and dangers to which no possible limits can be assigned, the power of making that provision ought to know no other bounds than the exigencies of the nation and the resources of the community. As revenue is the essential engine by which the means of answering the national exigencies must be procured, the power of procuring that article in its full extent must necessarily be comprehended in that of providing for those exigencies. As theory and practice conspire to prove that the power of procuring revenue is unavailing when exercised over the States in their collective capacities, the federal government must of necessity be invested with an unqualified power of taxation in the ordinary modes. \n",
    "\n",
    "It would be natural to conclude that the propriety of a general power of taxation in the national government might safely be permitted to rest on the evidence of these propositions, unassisted by any additional arguments or illustrations. But we find, in fact, that the antagonists of the proposed Constitution, so far from acquiescing in their justness or truth, seem to make their principal and most zealous effort against this part of the plan. It may therefore be satisfactory to analyze the arguments with which they combat it.\n",
    "\n",
    "This mode of reasoning appears sometimes to turn upon the supposition of usurpation in the national government; at other times it seems to be designed only as a deduction from the constitutional operation of its intended powers. It is only in the latter light that it can be admitted to have any pretensions to fairness. I repeat here what I have observed in substance in another place, that all observations founded upon the danger of usurpation ought to be referred to the composition and structure of the government, not to the nature or extent of its powers. \n",
    "\n",
    "The State governments, by their original constitutions, are invested with complete sovereignty. In what does our security consist against usurpation from that quarter? Doubtless in the manner of their formation, and in a due dependence of those who are to administer them upon the people. If the proposed construction of the federal government be found, upon an impartial examination of it, to be such as to afford, to a proper extent, the same species of security, all apprehensions on the score of usurpation ought to be discarded. \n",
    "\n",
    "But it is evident that all conjectures of this kind must be extremely vague and fallible: and that it is by far the safest course to lay them altogether aside, and to confine our attention wholly to the nature and extent of the powers as they are delineated in the Constitution. Every thing beyond this must be left to the prudence and firmness of the people; who, as they will hold the scales in their own hands, it is to be hoped, will always take care to preserve the constitutional equilibrium between the general and the State governments. \n",
    "\n",
    "Upon this ground, which is evidently the true one, it will not be difficult to obviate the objections which have been made to an indefinite power of taxation in the United States. "
   ]
  },
  {
   "cell_type": "markdown",
   "metadata": {},
   "source": [
    "### Federalist 32: The Same Subject Continued Concerning the General Power of Taxation (Hamilton) (615/1482)"
   ]
  },
  {
   "cell_type": "markdown",
   "metadata": {},
   "source": [
    "ALTHOUGH I am of opinion that there would be no real danger of the consequences which seem to be apprehended to the State governments from a power in the Union to control them in the levies of money, because I am persuaded that the sense of the people, the extreme hazard of provoking the resentments of the State governments, and a conviction of the utility and necessity of local administrations for local purposes, would be a complete barrier against the oppressive use of such a power; yet I am willing here to allow, in its full extent, the justness of the reasoning which requires that the individual States should possess an independent and uncontrollable authority to raise their own revenues for the supply of their own wants. \n",
    "\n",
    "Making this concession, I affirm that an attempt on the part of the national government to abridge them in the exercise of it, would be a violent assumption of power, unwarranted by any article or clause of its Constitution.\n",
    "\n",
    "An entire consolidation of the States into one complete national sovereignty would imply an entire subordination of the parts; and whatever powers might remain in them, would be altogether dependent on the general will. But as the plan of the convention aims only at a partial union or consolidation, the State governments would clearly retain all the rights of sovereignty which they before had, and which were not, by that act, EXCLUSIVELY delegated to the United States.\n",
    "\n",
    "This exclusive delegation, or rather this alienation, of State sovereignty, would only exist in three cases: where the Constitution in express terms granted an exclusive authority to the Union; where it granted in one instance an authority to the Union, and in another prohibited the States from exercising the like authority; and where it granted an authority to the Union, to which a similar authority in the States would be absolutely and totally CONTRADICTORY and REPUGNANT. \n",
    "\n",
    "I use these terms to distinguish this last case from another which might appear to resemble it, but which would, in fact, be essentially different; I mean where the exercise of a concurrent jurisdiction might be productive of occasional interferences in the POLICY of any branch of administration, but would not imply any direct contradiction or repugnancy in point of constitutional authority.\n",
    "\n",
    "The question immediately under consideration, the power of imposing taxes on all articles other than exports and imports, I contend, is manifestly a concurrent and coequal authority in the United States and in the individual States. There is plainly no expression in the granting clause which makes that power EXCLUSIVE in the Union. There is no independent clause or sentence which prohibits the States from exercising it\n",
    "\n",
    "The necessity of a concurrent jurisdiction in certain cases results from the division of the sovereign power; and the rule that all authorities, of which the States are not explicitly divested in favor of the Union, remain with them in full vigor, is not a theoretical consequence of that division, but is clearly admitted by the whole tenor of the instrument which contains the articles of the proposed Constitution. \n",
    "\n",
    "We there find that, notwithstanding the affirmative grants of general authorities, there has been the most pointed care in those cases where it was deemed improper that the like authorities should reside in the States, to insert negative clauses prohibiting the exercise of them by the States. The tenth section of the first article consists altogether of such provisions. \n",
    "\n",
    "This circumstance is a clear indication of the sense of the convention, and furnishes a rule of interpretation out of the body of the act, which justifies the position I have advanced and refutes every hypothesis to the contrary. "
   ]
  },
  {
   "cell_type": "markdown",
   "metadata": {},
   "source": [
    "### Federalist 33: The Same Subject Continued Concerning the General Power of Taxation (Hamilton) (940 834/1683)"
   ]
  },
  {
   "cell_type": "markdown",
   "metadata": {},
   "source": [
    "THE residue of the argument against the provisions of the Constitution in respect to taxation is ingrafted upon the following clause. The last clause of the eighth section of the first article of the plan under consideration authorizes the national legislature \"to make all laws which shall be NECESSARY and PROPER for carrying into execution THE POWERS by that Constitution vested in the government of the United States, or in any department or officer thereof\"; and the second clause of the sixth article declares, \"that the Constitution and the laws of the United States made IN PURSUANCE THEREOF, and the treaties made by their authority shall be the SUPREME LAW of the land, any thing in the constitution or laws of any State to the contrary notwithstanding\".  \n",
    "\n",
    "What is a power, but the ability or faculty of doing a thing? What is the ability to do a thing, but the power of employing the MEANS necessary to its execution? What is a LEGISLATIVE power, but a power of making LAWS? What are the MEANS to execute a LEGISLATIVE power but LAWS? What is the power of laying and collecting taxes, but a LEGISLATIVE POWER, or a power of MAKING LAWS, to lay and collect taxes? What are the proper means of executing such a power, but NECESSARY and PROPER laws? \n",
    "\n",
    "This simple train of inquiry furnishes us at once with a test by which to judge of the true nature of the clause complained of. It conducts us to this palpable truth, that a power to lay and collect taxes must be a power to pass all laws NECESSARY and PROPER for the execution of that power. If there is any thing exceptionable, it must be sought for in the specific powers upon which this general declaration is predicated. The declaration itself, though it may be chargeable with tautology or redundancy, is at least perfectly harmless. \n",
    "\n",
    "But it may be asked, Who is to judge of the NECESSITY and PROPRIETY of the laws to be passed for executing the powers of the Union? I answer, first, that this question arises as well and as fully upon the simple grant of those powers as upon the declaratory clause; and I answer, in the second place, that the national government, like every other, must judge, in the first instance, of the proper exercise of its powers, and its constituents in the last. If the federal government should overpass the just bounds of its authority and make a tyrannical use of its powers, the people, whose creature it is, must appeal to the standard they have formed, and take such measures to redress the injury done to the Constitution as the exigency may suggest and prudence justify.\n",
    "\n",
    "But it is said that the laws of the Union are to be the SUPREME LAW of the land. What would they amount to, if they were not to be supreme? It is evident they would amount to nothing. \n",
    "\n",
    "A LAW, by the very meaning of the term, includes supremacy. It is a rule which those to whom it is prescribed are bound to observe. This results from every political association. If individuals enter into a state of society, the laws of that society must be the supreme regulator of their conduct. If a number of political societies enter into a larger political society, the laws which the latter may enact, pursuant to the powers intrusted to it by its constitution, must necessarily be supreme over those societies, and the individuals of whom they are composed. It would otherwise be a mere treaty, dependent on the good faith of the parties, and not a goverment, which is only another word for POLITICAL POWER AND SUPREMACY.\n",
    "\n",
    "But it will not follow from this doctrine that acts of the large society which are NOT PURSUANT to its constitutional powers, but which are invasions of the residuary authorities of the smaller societies, will become the supreme law of the land. These will be merely acts of usurpation, and will deserve to be treated as such.\n",
    "\n",
    "Though a law, therefore, laying a tax for the use of the United States would be supreme in its nature, and could not legally be opposed or controlled, yet a law for abrogating or preventing the collection of a tax laid by the authority of the State, (unless upon imports and exports), would not be the supreme law of the land, but a usurpation of power not granted by the Constitution.\n",
    "\n",
    "The inference from the whole is, that the individual States would, under the proposed Constitution, retain an independent and uncontrollable authority to raise revenue to any extent of which they may stand in need, by every kind of taxation, except duties on imports and exports. It will be shown in the next paper that this CONCURRENT JURISDICTION in the article of taxation was the only admissible substitute for an entire subordination, in respect to this branch of power, of the State authority to that of the Union. "
   ]
  },
  {
   "cell_type": "markdown",
   "metadata": {},
   "source": [
    "### Federalist 34: The Same Subject Continued Concerning the General Power of Taxation (Hamilton) (918/2209)"
   ]
  },
  {
   "cell_type": "markdown",
   "metadata": {},
   "source": [
    "I FLATTER myself it has been clearly shown in my last number that the particular States, under the proposed Constitution, would have COEQUAL authority with the Union in the article of revenue, except as to duties on imports. \n",
    "\n",
    "As this leaves open to the States far the greatest part of the resources of the community, there can be no color for the assertion that they would not possess means as abundant as could be desired for the supply of their own wants, independent of all external control. That the field is sufficiently wide will more fully appear when we come to advert to the inconsiderable share of the public expenses for which it will fall to the lot of the State governments to provide. \n",
    "\n",
    "To form a more precise judgment of the true merits of this question, it will be well to advert to the proportion between the objects that will require a federal provision in respect to revenue, and those which will require a State provision. We shall discover that the former are altogether unlimited, and that the latter are circumscribed within very moderate bounds.\n",
    "\n",
    "In pursuing this inquiry, we must bear in mind that we are not to confine our view to the present period, but to look forward to remote futurity. Constitutions of civil government are not to be framed upon a calculation of existing exigencies, but upon a combination of these with the probable exigencies of ages, according to the natural and tried course of human affairs. \n",
    "\n",
    "It is true, perhaps, that a computation might be made with sufficient accuracy to answer the purpose of the quantity of revenue requisite to discharge the subsisting engagements of the Union, and to maintain those establishments which, for some time to come, would suffice in time of peace. But would it be wise, or would it not rather be the extreme of folly, to stop at this point, and to leave the government intrusted with the care of the national defense in a state of absolute incapacity to provide for the protection of the community against future invasions of the public peace, by foreign war or domestic convulsions? If, on the contrary, we ought to exceed this point, where can we stop, short of an indefinite power of providing for emergencies as they may arise?\n",
    "\n",
    "Let us recollect that peace or war will not always be left to our option; that however moderate or unambitious we may be, we cannot count upon the moderation, or hope to extinguish the ambition of others. To judge from the history of mankind, we shall be compelled to conclude that the fiery and destructive passions of war reign in the human breast with much more powerful sway than the mild and beneficent sentiments of peace; and that to model our political systems upon speculations of lasting tranquillity, is to calculate on the weaker springs of the human character. \n",
    "\n",
    "What are the chief sources of expense in every government? What has occasioned that enormous accumulation of debts with which several of the European nations are oppressed? The answers plainly is, wars and rebellions; the support of those institutions which are necessary to guard the body politic against these two most mortal diseases of society. \n",
    "\n",
    "The expenses arising from those institutions which are relative to the mere domestic police of a state, to the support of its legislative, executive, and judicial departments, with their different appendages, and to the encouragement of agriculture and manufactures (which will comprehend almost all the objects of state expenditure), are insignificant in comparison with those which relate to the national defense. \n",
    "\n",
    "In framing a government for posterity as well as ourselves, we ought, in those provisions which are designed to be permanent, to calculate, not on temporary, but on permanent causes of expense. \n",
    "\n",
    "If this principle be a just one our attention would be directed to a provision in favor of the State governments for an annual sum of about two hundred thousand pounds; while the exigencies of the Union could be susceptible of no limits, even in imagination. In this view of the subject, by what logic can it be maintained that the local governments ought to command, in perpetuity, an EXCLUSIVE source of revenue for any sum beyond the extent of two hundred thousand pounds? To extend its power further, in EXCLUSION of the authority of the Union, would be to take the resources of the community out of those hands which stood in need of them for the public welfare, in order to put them into other hands which could have no just or proper occasion for them. \n",
    "\n",
    "The preceding train of observation will justify the position which has been elsewhere laid down, that \"A CONCURRENT JURISDICTION in the article of taxation was the only admissible substitute for an entire subordination, in respect to this branch of power, of State authority to that of the Union\". \n",
    "\n",
    "Any separation of the objects of revenue that could have been fallen upon, would have amounted to a sacrifice of the great INTERESTS of the Union to the POWER of the individual States. The convention thought the concurrent jurisdiction preferable to that subordination; and it is evident that it has at least the merit of reconciling an indefinite constitutional power of taxation in the Federal government with an adequate and independent power in the States to provide for their own necessities. \n",
    "\n",
    "There remain a few other lights, in which this important subject of taxation will claim a further consideration."
   ]
  },
  {
   "cell_type": "markdown",
   "metadata": {},
   "source": [
    "### Federalist 35: The Same Subject Continued Concerning the General Power of Taxation (Hamilton) (1069/2248)"
   ]
  },
  {
   "cell_type": "markdown",
   "metadata": {},
   "source": [
    "BEFORE we proceed to examine any other objections to an indefinite power of taxation in the Union, I shall make one general remark; which is, that if the jurisdiction of the national government, in the article of revenue, should be restricted to particular objects, it would naturally occasion an undue proportion of the public burdens to fall upon those objects. \n",
    "\n",
    "Two evils would spring from this source: the oppression of particular branches of industry; and an unequal distribution of the taxes, as well among the several States as among the citizens of the same State. \n",
    "\n",
    "Suppose, as has been contended for, the federal power of taxation were to be confined to duties on imports, it is evident that the government, for want of being able to command other resources, would frequently be tempted to extend these duties to an injurious excess. Exorbitant duties on imported articles would beget a general spirit of smuggling; which is always prejudicial to the fair trader, and eventually to the revenue itself. It is not always possible to raise the price of a commodity in exact proportion to every additional imposition laid upon it.\n",
    "\n",
    "Duties on imports, when they are paid by the merchant operate as an additional tax upon the importing State, whose citizens pay their proportion of them in the character of consumers. In this view they are productive of inequality among the States; which inequality would be increased with the increased extent of the duties.\n",
    "\n",
    "So far as these observations tend to inculcate a danger of the import duties being extended to an injurious extreme, it may be observed, conformably to a remark made in another part of these papers, that the interest of the revenue itself would be a sufficient guard against such an extreme as long as other resources were open; but if the avenues to them were closed, HOPE, stimulated by necessity, would beget experiments, fortified by rigorous precautions and additional penalties, which, for a time, would have the intended effect, till there had been leisure to contrive expedients to elude these new precautions. The first success would be apt to inspire false opinions, which it might require a long course of subsequent experience to correct. Necessity, especially in politics, often occasions false hopes, false reasonings, and a system of measures correspondingly erroneous.\n",
    "\n",
    "Let us now return to the examination of objections. \n",
    "\n",
    "One which, if we may judge from the frequency of its repetition, seems most to be relied on, is, that the House of Representatives is not sufficiently numerous for the reception of all the different classes of citizens, in order to combine the interests and feelings of every part of the community, and to produce a due sympathy between the representative body and its constituents.\n",
    "\n",
    "This argument, when we come to dissect it with attention, will appear to be made up of nothing but fair-sounding words. The object it seems to aim at is, in the first place, impracticable, and in the sense in which it is contended for, is unnecessary.\n",
    "\n",
    "The idea of an actual representation of all classes of the people, by persons of each class, is altogether visionary. Unless it were expressly provided in the Constitution, that each different occupation should send one or more members, the thing would never take place in practice. Mechanics and manufacturers will always be inclined, with few exceptions, to give their votes to merchants, in preference to persons of their own professions or trades. We must therefore consider merchants as the natural representatives of all these classes of the community. \n",
    "\n",
    "With regard to the learned professions, little need be observed; they truly form no distinct interest in society, and according to their situation and talents, will be indiscriminately the objects of the confidence and choice of each other, and of other parts of the community. \n",
    "\n",
    "Nothing remains but the landed interest; and this, in a political view, and particularly in relation to taxes, I take to be perfectly united, from the wealthiest landlord down to the poorest tenant. But if we even could suppose a distinction of interest between the opulent landholder and the middling farmer, what reason is there to conclude, that the first would stand a better chance of being deputed to the national legislature than the last? Where the qualifications of the electors are the same, whether they have to choose a small or a large number, their votes will fall upon those in whom they have most confidence; whether these happen to be men of large fortunes, or of moderate property, or of no property at all. \n",
    "\n",
    "It is said to be necessary, that all classes of citizens should have some of their own number in the representative body, in order that their feelings and interests may be the better understood and attended to. But we have seen that this will never happen under any arrangement that leaves the votes of the people free. Where this is the case, the representative body, with too few exceptions to have any influence on the spirit of the government, will be composed of landholders, merchants, and men of the learned professions. \n",
    "\n",
    "But where is the danger that the interests and feelings of the different classes of citizens will not be understood or attended to by these three descriptions of men?\n",
    "\n",
    "Is it not natural that a man who is a candidate for the favor of the people, and who is dependent on the suffrages of his fellow-citizens for the continuance of his public honors, should take care to inform himself of their dispositions and inclinations, and should be willing to allow them their proper degree of influence upon his conduct? This dependence, and the necessity of being bound himself, and his posterity, by the laws to which he gives his assent, are the true, and they are the strong chords of sympathy between the representative and the constituent. \n",
    "\n",
    "It might be demonstrated that the most productive system of finance will always be the least burdensome. There can be no doubt that in order to a judicious exercise of the power of taxation, it is necessary that the person in whose hands it should be acquainted with the general genius, habits, and modes of thinking of the people at large, and with the resources of the country. And this is all that can be reagsonably meant by a knowledge of the interests and feelings of the people."
   ]
  },
  {
   "cell_type": "markdown",
   "metadata": {},
   "source": [
    "### Federalist 36: The Same Subject Continued Concerning the General Power of Taxation (Hamilton) (1101/2727)"
   ]
  },
  {
   "cell_type": "markdown",
   "metadata": {},
   "source": [
    "WE HAVE seen that the result of the observations, to which the foregoing number has been principally devoted, is, that from the natural operation of the different interests and views of the various classes of the community, whether the representation of the people be more or less numerous, it will consist almost entirely of proprietors of land, of merchants, and of members of the learned professions, who will truly represent all those different interests and views.\n",
    "\n",
    "The subject might be placed in several other lights that would all lead to the same result; and in particular it might be asked, What greater affinity or relation of interest can be conceived between the carpenter and blacksmith, and the linen manufacturer or stocking weaver, than between the merchant and either of them? But I forbear to dwell any longer on a matter which has hitherto worn too loose a garb to admit even of an accurate inspection of its real shape or tendency. \n",
    "\n",
    "There is another objection of a somewhat more precise nature that claims our attention. It has been asserted that a power of internal taxation in the national legislature could never be exercised with advantage, as well from the want of a sufficient knowledge of local circumstances, as from an interference between the revenue laws of the Union and of the particular States.\n",
    "\n",
    "The supposition of a want of proper knowledge seems to be entirely destitute of foundation. If any question is depending in a State legislature respecting one of the counties, which demands a knowledge of local details, how is it acquired? No doubt from the information of the members of the county. Cannot the like knowledge be obtained in the national legislature from the representatives of each State?\n",
    "\n",
    "The objection, when applied to real property or to houses and lands, appears to have, at first sight, more foundation, but even in this view it will not bear a close examination. \n",
    "\n",
    "Land taxes are commonly laid in one of two modes, either by ACTUAL valuations, permanent or periodical, or by OCCASIONAL assessments, at the discretion, or according to the best judgment, of certain officers whose duty it is to make them. In either case, the EXECUTION of the business, which alone requires the knowledge of local details, must be devolved upon discreet persons in the character of commissioners or assessors, elected by the people or appointed by the government for the purpose. \n",
    "\n",
    "All that the law can do must be to name the persons or to prescribe the manner of their election or appointment, to fix their numbers and qualifications and to draw the general outlines of their powers and duties. And what is there in all this that cannot as well be performed by the national legislature as by a State legislature? The attention of either can only reach to general principles; local details, as already observed, must be referred to those who are to execute the plan. \n",
    "\n",
    "But there is a simple point of view in which this matter may be placed that must be altogether satisfactory. The national legislature can make use of the SYSTEM OF EACH STATE WITHIN THAT STATE. The method of laying and collecting this species of taxes in each State can, in all its parts, be adopted and employed by the federal government. \n",
    "\n",
    "Let it be recollected that the proportion of these taxes is not to be left to the discretion of the national legislature, but is to be determined by the numbers of each State, as described in the second section of the first article. An actual census or enumeration of the people must furnish the rule, a circumstance which effectually shuts the door to partiality or oppression.\n",
    "\n",
    "Many spectres have been raised out of this power of internal taxation, to excite the apprehensions of the people: double sets of revenue officers, a duplication of their burdens by double taxations, and the frightful forms of odious and oppressive poll-taxes, have been played off with all the ingenious dexterity of political legerdemain. \n",
    "\n",
    "As to the first point, the probability is that the United States will either wholly abstain from the objects preoccupied for local purposes, or will make use of the State officers and State regulations for collecting the additional imposition. This will best answer the views of revenue, because it will save expense in the collection, and will best avoid any occasion of disgust to the State governments and to the people.\n",
    "\n",
    "As to any argument derived from a supposed system of influence, it is a sufficient answer to say that it ought not to be presumed; but the supposition is susceptible of a more precise answer. If such a spirit should infest the councils of the Union, the most certain road to the accomplishment of its aim would be to employ the State officers as much as possible, and to attach them to the Union by an accumulation of their emoluments. This would serve to turn the tide of State influence into the channels of the national government, instead of making federal influence flow in an opposite and adverse current.\n",
    "\n",
    "As to poll taxes, does it follow because there is a power to lay them that they will actually be laid? Are the State governments to be stigmatized as tyrannies, because they possess this power? As little friendly as I am to the species of imposition, I still feel a thorough conviction that the power of having recourse to it ought to exist in the federal government. There are certain emergencies of nations, in which expedients, that in the ordinary state of things ought to be forborne, become essential to the public weal. And as I know nothing to exempt this portion of the globe from the common calamities that have befallen other parts of it, I acknowledge my aversion to every project that is calculated to disarm the government of a single weapon, which in any possible contingency might be usefully employed for the general defense and security. \n",
    "\n",
    "I have now gone through the examination of such of the powers proposed to be vested in the United States, which may be considered as having an immediate relation to the energy of the government; and have endeavored to answer the principal objections which have been made to them.\n",
    "\n",
    "The mass of judiciary power, however, might have claimed an investigation under this head, had it not been for the consideration that its organization and its extent may be more advantageously considered in connection. This has determined me to refer it to the branch of our inquiries upon which we shall next enter. "
   ]
  }
 ],
 "metadata": {
  "kernelspec": {
   "display_name": "Python 3",
   "language": "python",
   "name": "python3"
  },
  "language_info": {
   "codemirror_mode": {
    "name": "ipython",
    "version": 3
   },
   "file_extension": ".py",
   "mimetype": "text/x-python",
   "name": "python",
   "nbconvert_exporter": "python",
   "pygments_lexer": "ipython3",
   "version": "3.7.3"
  }
 },
 "nbformat": 4,
 "nbformat_minor": 2
}
