{
 "cells": [
  {
   "cell_type": "markdown",
   "metadata": {},
   "source": [
    "# \"Necessary to Execute the Law\"\n",
    "> \"How Justice Scalia read executing the law out of the list of reasons a well-regulated militia is necessary to the security of a free State. Sloppy work in progressish, as usual. Accepting pull requests.\"\n",
    "- toc: true\n",
    "- branch: master\n",
    "- badges: true\n",
    "- comments: true\n",
    "- categories: [legal theory, Second Amendment]\n",
    "- image: images/some_folder/your_image.png\n",
    "- hide: false\n",
    "- search_exclude: true\n",
    "- metadata_key1: metadata_value1\n",
    "- metadata_key2: metadata_value2"
   ]
  },
  {
   "cell_type": "markdown",
   "metadata": {},
   "source": [
    "## Abstract"
   ]
  },
  {
   "cell_type": "markdown",
   "metadata": {},
   "source": [
    "In his 2007 article *Necessary to the Security of a Free State*, Volokh argued that \"free State\" was understood by the Founders to mean \"non-despotic State\". Applying this argument, he then concluded that \"necessary to the security of a free State\", as written in the Second Amendment, was understood by the Founders to mean \"necessary to prevent a free State from becoming a despotic State\". The following year, Justice Scalia's *District of Columbia V. Heller* majority opinion implicitly endorsed Volokh's conclusion, establishing it as part of the standard interpretation of the Second Amendment by interpreting \"necessary to the security of a free State\" to mean \"necessary to defend against despotism, suppress insurrection, and repel invasion in a free State\". But Volokh's conclusion was too narrow: because he did not grant the word \"security\" the same degree of scrutiny as he did the word \"free\", Volokh did not identify how, to the Founders, the ways in which the militia defends against despotism are more fundamentally the ways in which the militia assures the execution of the law. If Volokh had identified executing the law as the more fundamental militia duty, then, because self-defense is easier to fit into the framework of executing the law than it is the framework of defending against despotism, Justice Scalia might not have felt forced to assert that the Second Amendment's primary concern is not included in its stated concerns, from which it followed that the Second Amendment's stated concerns cannot speak to which arms it protects the right to keep and bear. \n",
    "\n",
    "By demonstrating that the Federalists, the Anti-Federalists, and the thinkers that influenced both all understood that securing a free state cannot be separated from executing its law, this note aims to establish that the phrase \"necessary to the security of a free State\", as written in the Second Amendment, was understood by the Founders to mean \"necessary to execute the laws, suppress insurrections, and repel invasions in a free State\", aligning the meaning of the textual justification given for the Second Amendment with both the text of the first Militia Clause of Article I of the Constitution and the title of the first Militia Act of 1792, and suggesting that the Second Amendment was intended to protect the right to the means of executing the law.\n"
   ]
  },
  {
   "cell_type": "markdown",
   "metadata": {},
   "source": [
    "## Introduction"
   ]
  },
  {
   "cell_type": "markdown",
   "metadata": {},
   "source": [
    "In his 2007 article *Necessary to the Security of a Free State*, other than [once][]$^1$ in referring to freedom of the press, Volokh did not quote a single sentence written by or which influenced the Founders that uses the word security in a context referencing defense against despotism. Yet, he concluded that \"necessary to the security of a free State\", as written in the Second Amendment, was understood by the Founders to mean \"necessary to defend against despotism in a free State\". \n",
    "\n",
    "\n",
    "The following year, in his *District of Columbia V. Heller* majority opinion, Justice Scalia implicitly endorsed Volokh's conclusion, interpreting \"necessary to the security of a free State\" to mean \"necessary to defend against despotism, suppress invasion, and repel invasion in a free State\". This interpretation of the textual justification given for the necessity of the Second Amendment later [played no role][]$^2$ in Justice Scalia's ultimate determination that the respondent - a police officer authorized to carry a handgun on duty - had an individual right to possess a handgun in his home, protected by the Second Amendment. And how could it? After all, [it is difficult][]$^3$ to fit what Justice Scalia deemed the central component of the Second Amendment, self-defense, into the textually-provided framework of \"defending against despotism, suppressing insurrection, and repelling invasion\".\n",
    "\n",
    "\n",
    "I agree with Justice Scalia's ultimate determination - that Heller had an individual right to possess a handgun in his home, protected by the Second Amendment. Instead of relying on an extra-textually imposed purpose to justify that determination, though, my reasoning follows from what should be the common-sense reading of the purpose given by the text of the Second Amendment: that \"necessary to the security of a free State\" means \"necessary to execute the law, suppress insurrection, and repel invasion in a free State\". And it really should be the common-sense interpretation: does it not require only the common amount of sense to conclude that the Founders believed a militia was necessary to security of a free State for the same reasons they specified the militia might be called forth to secure the Union in both the the Constitution and legislation passed soon after ratification? \n",
    "\n",
    "\n",
    "Under this interpretation, self-defense fits under the \"execute the law\" aspect of the textually-provided framework, in the sense that actions which might reasonably be classified as self-defense [might also reasonably be classified as executing the law][]$^4$. Thus, Heller has the right to possess a handgun in his home because the Second Amendment protects the individual right to keep and bear the means of executing the law, and, as conveniently evidenced by the fact that he is issued one in his law-enforcement capacity, a handgun might reasonably be considered as the means of executing the law.\n",
    "\n",
    "I have thus far only relied on appeals to common-sense, but the textual evidence available to support my factual claim - that the Founders understood \"necessary to the security of a free State\" to mean \"necessary to execute the law, suppress insurrection, and repel invasion in a free State\" - is extensive. \n",
    "\n",
    "\n",
    "The first part of this note is dedicated to exploring how Justice Scalia missed it. More specifically, by reviewing how Volokh came to his conclusion in *Necessary to the Security of a Free State* and exploring Justice Scalia's simultaneous misrepresentation of and over-reliance on it and similar articles, the first part of this note examines how Justice Scalia came to include defense against despotism and exclude of execution of the law in his list of reasons how the Founders understood a militia to be necessary to the security of a free State. The review will highlight how, because he researched through a lens which overemphasised the importance of the word ”free” and underemphasised the importance of the word \"security\", Volokh failed to recognize that the Founders understood despotism to be arbitrary definition, interpretation, or execution of the law; and the exploration will identify how none of the references given by Justice Scalia actually support his analysis of the phrase \"necessary to the security of a free State\".\n",
    "\n",
    "In the second part of this note I will inspect a sample of the textual evidence supporting my factual claim. Of primary focus will be selections from the Federalist Papers, the Anti-Federalist papers, and prominent writers frequently sourced by the Founders. The inspection will highlight how oppression was understood to relate to execution of arbitrary law, how standing armies were understood to threaten liberty by being the body which would execute arbitrary law, and how the militia was understood to defend liberty by being the body which would, whenever necessary, execute the law and prevent the execution of arbitrary law. All together, the selections will demonstrate a shared understanding between the diverse thinkers of the founding era: the security of a free State cannot be separated from the execution of its law.\n",
    "\n",
    "Once the existence of this shared understanding has been established, it is difficult to believe that the Founders would've been so reductive as to elevate a right to the means of defending against despotism over a right to the means of executing the law. It is the conclusion most consistent with the arguments, beliefs, and fears of those who supported the Constitution and those who were against it, and those who influenced both, to believe the Founders understood the phrase \"necessary to the security of a free State\" to mean \"necessary to execute the law, suppress insurrection, and repel invasion in a free State\" and intended the Second Amendment to protect the right to the means of executing the law.\n",
    "\n",
    "[once]:#1\n",
    "\n",
    "[played no role]:#2\n",
    "\n",
    "[it is difficult]:#3\n",
    "\n",
    "[might also reasonably be classified as executing the law]:#4\n"
   ]
  },
  {
   "cell_type": "markdown",
   "metadata": {},
   "source": [
    "## Necessary to the Security of a Free State and District of Columbia V. Heller"
   ]
  },
  {
   "cell_type": "markdown",
   "metadata": {},
   "source": [
    "In *Necessary to the Security of a Free State*, Volokh examined the context of the use of the term \"free State\" in influential Framing and Pre-Framing era political writings, finding that it was primarily used in juxtaposition to depictions of monarchies and states described as despotic or tyrannical. Based on that finding, he argued that, when used to modify the word \"state\", the word \"free\" was intended to emphasize a non-despotic character, [not an independence from a superior body of states][]$^5$. Based on this argument, Volokh then inferred that \"necessary to the security of a free State\" was understood by the Founders to mean [something like][]$^6$ \"necessary to secure the freedom of a non-despotic state\".\n",
    "\n",
    "Perhaps because establishing the meaning of \"free State\" [appeared to have the potential to inform the individual right vs. collective right debate of the day][]$^7$, Volokh viewed the phrase \"necessary to the security of a free State\" through a lens which saw \"free State\" as being emphasized, and the meaning of the whole phrase as relying on the meaning of that portion. Looking through that lens, under the assumption \"free\" emphasizes a non-despotic character when it modifies \"State\", I can see how it might seem reasonable to conclude that \"necessary to the security of a free State\" was intended to mean something like \"necessary to secure the non-despotic character of a State\". \n",
    "\n",
    "[appeared to have the potential to inform the individual right vs. collective right debate of the day]:#7\n",
    "\n",
    "But looking through that lens does not itself seem reasonable. I would think the most relevant factor in identifying the intended meaning of the clause \"a well-regulated militia, being necessary to the security of a free State\" is identifying how the Founders understood the militia to be necessary to the security of a free state, not what they understood a free state itself to be - the meaning of \"free State\" is not irrelevant, just less relevant (it is easier to guess the meaning of the sentence \"necessary to the security of a X\" than it is to guess the meaning of the sentence \"necessary to the X of a free State\", in my opinion). And knowing how the Founders understood the militia to be necessary to the security of a free state requires paying attention to how they used the word \"security\" in the contexts of free states generally and militias specifically. \n",
    "\n",
    "As apparent as that logic seems to be, focusing on the Framing-era use of the word \"security\" is not an approach the prevailing Second Amendment literature has traditionally followed: outside of footnotes and the text of the 2nd Amendment itself, the word \"security\" appears in Levinson's *The Embarrassing Second Amendment* 0 times; Halbrook's *What The Framers Intended: A Linguistic Analysis of the Right to Bear Arms* [1 time][]$^8$; Shalhope's *The Ideological Origins of the Second Amendment* 0 times; and Kates' *A Modern Historiography of the Second Amendment* 0 times. In his 2014 retrospective *Textualism and District of Columbia V. Heller*, Volokh explained the reasoning supporting the interpretations adopted by the majority for \"Right of the people\"; \"arms\"; \"keep and bear\"; \"militia\" and \"well-regulated\"; \"free State\"; \"The\" and \"infringed\"; and the relationship between the two clauses. Other than in a reference to his 2007 article and a freedom of the press related footnote, the word \"security\" appears 0 times. To this day, the X word Wikipedia page *Second Amendment to the United States*, which under its scholarly commentary section has entries for the meaning of \"well-regulated militia\"; \"the right of the People\"; and \"keep and bear arms\", has no entry for the meaning of \"security of a free State\".\n",
    "\n",
    "[1 time]:#8\n",
    "\n",
    "I begin this section by reviewing how Volokh came to his conclusion - that \"necessary to the security of a free State\" was understood to mean \"necessary to secure the freedom of a non-despotic state\" - using his treatment of Blackstone as an example of his reasoning. I highlight how, because of his focus on the meaning of the word \"free\", he failed to identify how the Founders understood despotism to relate to execution of the law. Further, I point out how the selections from Blackstone made by Volokh actually support my argument - that securing a free State was understood to include executing its law - when they're read through a lens that emphasizes how a militia was understood to secure a free State. Following the review, I will explore how the references given by Justice Scalia supporting his analysis of the phrase \"necessary to the security of a free State\" suggest he both misrepresented Volokh's conclusions and over-relied on them while drawing his own.\n",
    "\n",
    "\n",
    "### Necessary to the Security of a Free State\n",
    "\n",
    "Volokh begins his exposition of influential Framing and Pre-Framing era sources with the introduction to Blackstone's chapter of *Commentaries on the Laws of England* titled Of The Military And Maritime States, which directly followed a chapter titled Of The Civil State. Where the aim of the civil chapter was to depict the relation of the law to the orders of men which fell under the division of the nation called the civil state, the aim of the military and maritime chapter was to depict the relation of the law to the orders of men which fell under the division of the nation called the military state or the division of the nation called the maritime state\n",
    "\n",
    "\n",
    ">\"The military state includes the whole of the soldiery, or such persons as are peculiarly appointed among the rest of the people for the safeguard and defence of the realm...In a land of liberty it is extremely dangerous to make a distinct order of the profession of arms. In absolute monarchies this is necessary for the safety of the prince, and arises from the main principle of their constitution, which is that of governing by fear; but in free states the profession of a soldier, taken singly and merely as a profession, is justly an object of jealousy. In these no man should take up arms, but with a view to defend his country and its laws: he puts not off the citizen when he enters the camp; but it is because he is a citizen, and would wish to continue so, that he makes himself for awhile a soldier. The laws therefore and constitution of these kingdoms know no such state as that of a perpetual standing soldier, bred up to no other profession than that of war; and it was not till the reign of Henry VII, that the kings of England had so much as a guard about their persons.\"\n",
    "\n",
    "\n",
    "From this quote Volokh observes the term \"free states\" being used as a reference to a land of liberty and in contrast to an absolute monarchy, which, in alignment with his thesis, implies that the word \"free\" is meant to emphasize a non-monarchical, liberated character. Because it was not his focus, Volokh did not emphasize Blackstone's suggestion that \"In [free states] no man should take up arms, but with a view to defend his country and its laws\". Assuming that in a free state the militia - as opposed to the standing army - is the body in which a man would take up arms, this quote implies that a militia is the body which should defend a free state and its laws. If defending the laws involves executing them, then a reasonable translation of Blackstone's suggestion might be \"a militia is necessary to suppress insurrections, repel invasions, and execute the laws\".\n",
    "\n",
    "\n",
    "The next quote Volokh selected comes from the same chapter, directly after a discussion in which Blackstone says that \"it was made one of the articles of the bill of rights, that the raising or keeping a standing army within the kingdom in time of peace, unless it be with consent of parliament, is against law\".\n",
    "\n",
    "\n",
    ">To prevent the executive power from being able to oppress, says baron Montesquieu, it is requisite that the armies with which it is intrusted should consist of the people, and have the same spirit with the people; as was the case at Rome, till Marius new-modelled the legions by enlisting the rabble of Italy, and laid the foundation of all the military tyranny that ensued. Nothing, then, according to these principles, ought to be more guarded against in a free state, than making the military power, when such a one is necessary to be kept on foot, a body too distinct from the \n",
    "people. Like ours, it should wholly be composed of natural subjects; it ought only to been enlisted for a short and limited time; the soldiers also should live intermixed with the people; no separate camp, no barracks, no inland fortresses, should be allowed. And perhaps it might be still better if, by dismissing a stated number, and enlisting others at every renewal of their term, a circulation could be kept up between the army and the people, and the citizen and the soldier be more intimately connected together\n",
    "\n",
    "\n",
    "From this quote, Volokh identified Blackstone's insistence that the armies entrusted to the executive should be of, not separate from, the people; and that nothing aught be more guarded against in a free state than a standing army because its existence lays the foundation for oppression at the hands of the executive power. Under the assumption a militia is the body that exists in a free State instead of a standing army and the assumption that despotism is oppressive use of executive power, this insistence suggests a militia is necessary specifically to guard against despotism, in line with Volokh's conclusion.\n",
    "\n",
    "But, as [Blackstone understood][]$^9$, executive power oppresses by using a standing army to execute arbitrary law. Therefore, this quote can also be interpreted as emphasizing the danger of relying on a standing army to execute the law and suggesting the militia should be relied on to execute the law instead.\n",
    "\n",
    "[Blackstone understood]:#9\n",
    "\n",
    "Later, in reviewing Blackstone's use of the phrase \"free state\" outside of a militia-related context, Volokh samples from a discussion in a chapter titled On Execution. The discussion regards why it's worth sacrificing expediency in the execution of the law in exchanging \"tyranny, poverty, barbarism, idleness, and a barren desert\" for \"liberty, property, civility, commerce, and an extent of populous territory\"\n",
    "\n",
    ">In Turkey, ... where little regard is shewn to the lives or fortunes of the subject, all causes are quickly decided: the basha, on a summary hearing, orders which party he pleases to be bastinadoed, and then sends them about their business. But in free states the trouble, expense, and delays of judicial proceedings are the price that every subject pays for his liberty\n",
    "\n",
    "\n",
    "From this quote Volokh saw the word \"free\" being used to describe a state which avoids governing in a way that decides all causes quickly, showing little regard to the lives and fortunes of the subject. Under the assumption despotic states show little regard to the lives and fortunes of their subjects, this, again, suggests that the construction \"free state\" references the concept \"non-despotic state\". However, because the connection of despotism to the execution of the law was not his focus, Volokh did not connect \"governed in way that affords significant regard to the lives and fortunes of every subject\" to \"governed in a way that assures the protection under the law for each subject\".\n",
    "\n",
    "That such a connection exists and is appropriate to speak of with regards to the above is reinforced by another reference to Turkey made by Blackstone in a chapter titled Of The King's Prerogative\n",
    "\n",
    "\n",
    ">a peculiar body of men, nominated indeed, but not removable at pleasure, by the crown, consists one main preservative of the public liberty, which cannot subsist long in any state unless the administration of common justice be in some degree separated both from the legislative and also from the executive power. Were it joined with the legislative, the life, liberty, and property of the subject would be in the hands of arbitrary judges, whose decisions would be then regulated only by their own opinions, and not by any fundamental principles of law...Were it joined with the executive, this union might soon be inclined to pronounce that for law which was most agreeable to the prince or his officers. Nothing therefore is more to be avoided, in a free constitution, than uniting the provinces of a judge and a minister of state. In Turkey, where every thing is centred in the sultan or his ministers, despotic power is in its meridian\n",
    "\n",
    "\n",
    "In Turkey, where the three fundamental powers of government are joined in the Sultan, and consequently the Sultan may pronounce the law most agreeable to the opinions of himself and his ministers, despotic power is at its meridian, says Blackstone. To Blackstone, then, the aspects of despotism are arbitrary definition, interpretation, and execution of the law.\n",
    "\n",
    "Because Volokh's primary focus was showing that \"free state\" meant \"non-despotic state\", his treatment of Blackstone did not consider the relationship between despotism and execution of the law, and consequently the relationship between execution of the law and the necessity of the militia. This treatment is typical of the rest of *Necessary to Secure a Free State*, and in some senses the Second Amendment literature at large; almost nowhere is the link between the security of a free State and the execution of its law explored, even when the guiding material explicitly argues for its existence. \n",
    "\n",
    "### District of Columbia V. Heller\n",
    "\n",
    "In his *District of Columbia V. Heller* majority opinion, Justice Scalia determined that, because the Second Amendment protects the individual right to self-defense, Heller had the right to possess a handgun in his home. Part II of the opinion interpreted the intended meaning of the Second Amendment; it separated the amendment into a prefatory and operative clause, analyzed each phrase within both clauses, then examined the relationship between the clauses. Including some introductory context for clarity, the following is the entire analysis of the phrase \"necessary to the security of a free State\" in the *Heller* majority opinion\n",
    "\n",
    "\n",
    ">we must determine whether the prefatory clause of the Second Amendment comports with our interpretation of the operative clause...The prefatory clause reads: “A well regulated Militia, being necessary to the security of a free State...”\n",
    "\n",
    "\n",
    ">“Security of a Free State.” The phrase “security of a free state” meant “security of a free polity,” not security of each of the several States as the dissent below argued, see 478 F. 3d, at 405, and n. 10. Joseph Story wrote in his treatise on the Constitution that “the word ‘state’ is used in various senses [and in] its most enlarged sense, it means the people composing a particular nation or community.” 1 Story §208; see also 3 id., §1890 (in reference to the Second Amendment ’s prefatory clause: “The militia is the natural defence of a free country”). It is true that the term “State” elsewhere in the Constitution refers to individual States, but **the phrase “security of a free state” and close variations seem to have been terms of art in 18th-century political discourse, meaning a “ ‘free country’ ” or free polity. See Volokh, “Necessary to the Security of a Free State,” 83 Notre Dame L. Rev. 1, 5 (2007); see, e.g., 4 Blackstone 151 (1769); Brutus Essay III (Nov. 15, 1787), in The Essential Antifederalist 251, 253 (W. Allen & G. Lloyd eds., 2d ed. 2002)**. Moreover, the other instances of “state” in the Constitution are typically accompanied by modifiers making clear that the reference is to the several States—“each state,” “several states,” “any state,” “that state,” “particular states,” “one state,” “no state.” And the presence of the term “foreign state” in Article I and Article III shows that the word “state” did not have a single meaning in the Constitution.\n",
    "\n",
    "\n",
    ">**There are many reasons why the militia was thought to be “necessary to the security of a free state.” See 3 Story §1890. First, of course, it is useful in repelling invasions and suppressing insurrections. Second, it renders large standing armies unnecessary—an argument that Alexander Hamilton made in favor of federal control over the militia. The Federalist No. 29, pp. 226, 227 (B. Wright ed. 1961) (A. Hamilton). Third, when the able-bodied men of a nation are trained in arms and organized, they are better able to resist tyranny**.\n",
    "\n",
    "Where I added emphasis at the points specifically related to analysis of the phrase \"security of a free State\". There are two separately-referenced aspects of the analysis. The first is an apparent attempt to separate the intended meaning of the phrase \"security of a free State\" from how the Founders understood the militia to be necessary to the security of a free state, and the second suggests how the Founders thought the militia to be necessary to the security of a free state.\n",
    "\n",
    "The first aspect of the analysis - the claim that the phrase \"security of a free State\" can be interpreted without appealing to how the Founders understood the militia to be necessary to the security of a free State - is not actually supported by any of the references given. Before I go through them, it is worth considering what kind of evidence would actually be necessary to support the claim.\n",
    "\n",
    "Specifically, his claim is that *the phrase “security of a free state” and close variations seem to have been terms of art in 18th-century political discourse, meaning a “ ‘free country’ ” or free polity*. Generally, if a phrase is a term of art for a concept, then there are multiple examples of that phrase (or other phrases of demonstrably similar meaning) being used to refer to that concept. Thus, evidence supporting Justice Scalia's claim would be multiple instances of a version of the phrase \"security of a free state\" being used by the Founders or authors familiar to them in a way that suggests it means \"free country\" or \"free polity\".\n",
    "\n",
    "The first reference made to support the claim is Volokh's article *Necessary to the Security of a free State*. *Necessary to the Security of a free State* provides an excellent example of successfully identifying a term of art - as the previous section demonstrated, Volokh identified numerous instances of the phrase \"free State\" being used to refer to the concept \"non-despotic State\". But, other than references to the text of the Second Amendment itself, the article doesn't include a single instance of the phrase \"security of a free State\" being used in a way that suggests it might mean \"free polity\". Indeed, outside of the Second Amendment itself, the article doesn't include a single instance of the phrase being used by any of the Founders or anyone that influenced them at all. Further, the article's conclusion - that \"necessary to the security of a free State\" means \"necessary to defend against despotism\" - does not support Justice Scalia's claim - that the phrase \"security of a free State\" means \"free polity\". Justice Scalia appears to have extended Volokh's finding about the phrase \"free State\" to the phrase \"security of a free State\", then pushed Volokh's conclusion about the phrase \"security of a free State\" to the second aspect of his own analysis. Clearly, *Necessary to the Security of a free State* does not fit the schema for something which could be evidence supporting Justice Scalia's claim.\n",
    "\n",
    "The next reference made appears to be to Blackstone's comment that \"The liberty of the press is indeed essential to the nature of a free state\". I have to assume that when Justice Scalia said \"security of a free State and close variations\" he was referring to this quote. The phrase \"nature of a free state\" is clearly quite similar to the phrase \"security of a free State\", but coherently arguing that they mean the same thing requires appealing to evidence that \"nature\" means the same thing as \"security\" in this context, which Justice Scalia did not do. Further, even if it could be established that \"security of a free State\" means the same thing as \"nature of a free State\" in this context, there would need to be evidence of the phrase \"nature of a free State\" being used by Blackstone to refer to the concept of a \"free polity\" or a \"free country\" in order to support Justice Scalia's claim. That evidence does does not exist, and consequently it is not possible for Blackstone's comment to support Justice Scalia's claim.\n",
    "\n",
    "The last reference made is to Brutus III, an Anti-Federalist Paper lamenting the seemingly insufficient number of representatives in the House and Senate. There's nothing specific in [this paper][]$^{10}$ to suggest an independent meaning of the phrase \"security of a free State\". The author does demonstrate a view that the constitution only has a specious resemblance to that of a free government and a view that the powers granted by the constitution are not properly distributed for the security of public liberty, but those views cannot reasonably amount to compelling evidence for the existence of a term of art just because their combined expression contains some of the term's words. That the author exrpressed a belief that [the constitution was not suited to secure liberty because the legeslature could pass laws allowing them to oppress and plunder][] does, though, support the idea that securing liberty was understood to relate to assuring the just definition of the law.\n",
    "\n",
    "\n",
    "\n",
    "[the constitution was not suited to secure liberty because the legeslature could pass laws allowing them to oppress and plunder]:#30\n",
    "\n",
    "[this paper]:#10\n",
    "\n",
    "\n",
    "Clearly, none of the references made by Justice Scalia's support his claim that *the phrase “security of a free state” and close variations seem to have been terms of art in 18th-century political discourse, meaning a “ ‘free country’ ” or free polity*, or the underlying idea that \"security of a free State\" as written in the Second Amendment can be interpreted without appealing to how the Founders understood the militia to be necessary to the security of a free state.\n",
    "\n",
    "The second aspect of Justice Scalia's analysis suggests a list of three primary reasons why the Founders thought the militia was necessary to the security of a free state: to repel invasions and suppress insurrections, to render large standing armies unnecessary, and to resist tyranny as a trained and organized body. \n",
    "\n",
    "The second and third items on the list are actually both components of the same purpose - securing the freedom of a free State, the purpose of the Second Amendment settled on by Volokh. When the able-bodied men of a nation are trained in arms and organized, they are better able to defend against the rise of despotism by making a standing army unnecessary and against extant despotism by having the ability to resist through force if necessary. As such, splitting the first item into two, the interpretation of \"necessary to the security of a free State\" adopted by Justice Scalia is best summed up as \"necessary to defend against despotism, suppress insurrection, and repel invasion in a free State\".\n",
    "\n",
    "To Justice Scalia, this is the triplet of reasons which both represents the purpose for which the Second Amendment was codified and does not contain the Second Amendment's primary purpose, self-defense (see footnote two). On its face, this seems to be a dubious assessment; surely there were areas where the Founders could've been more clear, but this reasoning almost requires them to have been intentionally opaque. They certainly had the opportunity to include their primary concern in their stated concerns - why would they not? Instead of trying to address that question, Justice Scalia justifies his assessment by reiterating the evidence that self-defense was a primary concern - unconvincingly, in Justice Breyer's opinion\n",
    "\n",
    "\n",
    ">\"In the majority’s view, the Amendment also protects an interest in armed personal self-defense, at least to some degree. But the majority does not tell us precisely what that interest is. \"Putting all of [the Second Amendment’s] textual elements together,” the majority says, “we find that they guarantee the individual right to possess and carry weapons in case of confrontation.” Then, three pages later, it says that “we do not read the Second Amendment to permit citizens to carry arms for any sort of confrontation.” Yet, with one critical exception, it does not explain which confrontations count. It simply leaves that question unanswered\n",
    "\n",
    ">The majority does, however, point to one type of confrontation that counts, for it describes the Amendment as “elevat[ing] above all other interests the right of law abiding, responsible citizens to use arms in defense of hearth and home.” What is its basis for finding that to be the core of the Second Amendment right? The only historical sources identified by the majority that even appear to touch upon that specific matter consist of an 1866 newspaper editorial discussing the Freedmen’s Bureau Act, two quotations from that 1866 Act’s legislative history, and a 1980 state court opinion saying that in colonial times the same were used to defend the home as to maintain the militia. How can citations such as these support the far-reaching proposition that the Second Amendment’s primary concern is not its stated concern about the militia\"\n",
    "\n",
    "\n",
    "Because Justice Scalia concluded that the central concern of the Second Amendment was self-defense and he interpreted the Second Amendment's stated concern about the militia as not including self-defense, he was forced into the position of asserting that the Second Amendment's primary concern is not included in its stated concerns. As a consequence, he was also forced into the position of concluding that the Second Amendment's supposed stated concerns about the militia - that it should exist to defend against despotism, suppress insurrection, and repel invasion - cannot clearly speak to what types of confrontation the Second Amendment permits the keeping and bearing of arms in case of.\n",
    "\n",
    "\n",
    "Far more likely than the Founders refusing to include their primary concern in their stated concerns, in my opinion, is that Justice Scalia misinterpreted their stated concerns. Consider the similarity of the triplet of reasons suggested by Justice Scalia to the text of the first Militia Clause of the Constitution and the title of the first Militia Act of 1792, which are, respectively: *The Congress shall have the power to...provide for calling forth the militia to execute the laws of the union, suppress insurrections and repel invasions* and *An Act to provide for calling forth the Militia to execute the laws of the Union, suppress insurrections and repel invasions*. That the Militia Clause and the Militia Act used identical language suggests the language used represented a shared understanding about the purpose of the militia. And, as Volokh himself argued, there is no reason to think that Madison was departing from well-understood meanings when he wrote the 2nd Amendment. Naively, if an interpretation of \"necessary to the security of a free State\" includes suppressing insurrection and repelling invasion, then we should also expect it to include executing the law. Why does Justice Scalia's list exclude it?\n",
    "\n",
    "\n",
    "Though he did not reference any law review articles directly at the point where he made his list, the answer appears to be that Justice Scalia placed a significant amount of weight on his own interpretation of Volokh's conclusion in *Necessary to the Security of a free State* and on other law review articles making [similar][]$^{11}$ arguments. This appears to be the only plausable explanation, as none of the referneces made by Justice Scalia to support the list actually do, other than in a superficial sense.\n",
    "\n",
    "[similar]:#11\n",
    "\n",
    "\n",
    "The first reference made to support Justice Scalia's list is to the chapter of Story's Commentaries titled Amendments to the Constitution, the most relevant part of which says\n",
    "\n",
    ">The militia is the natural defence of a free country against sudden foreign invasions, domestic insurrections, and domestic usurpations of power by rulers. It is against sound policy for a free people to keep up large military establishments and standing armies in time of peace, both from the enormous expenses, with which they are attended, and the facile means, which they afford to ambitious and unprincipled rulers, to subvert the government, or trample upon the rights of the people. The right of the citizens to keep and bear arms has justly been considered, as the palladium of the liberties of a republic; since it offers a strong moral check against the usurpation and arbitrary power of rulers; and will generally, even if these are successful in the first instance, enable the people to resist and triumph over them\n",
    "\n",
    "This quote suggests Story understood the militia to be necessary to defend a free country against invasion, insurrection, and usurpation of power by rulers - a list that includes something resembling defense against despotism and [excludes execution of the law][]$^{12}$. But, earlier in a chapter titled Power Over the Militia, Story says the following\n",
    "\n",
    "\n",
    ">The power of regulating the militia, and of commanding its services to enforce the laws, and to suppress insurrections, and repel invasions, is a natural incident to the duty of superintending the common defence, and preserving the internal peace of the nation. In short, every argument, which is urged, or can be urged against standing armies in time of peace, applies forcibly to the propriety of vesting this power in the national government. There is but one of two alternatives, which can be resorted to in cases of insurrection, invasion, or violent opposition to the laws; either to employ regular troops, or to employ the militia to suppress them. In ordinary cases, indeed, the resistance to the laws may be put down by the posse comitatus, or the assistance of the common magistracy. But cases may occur, in which such a resort would be utterly vain, and even mischievous; since it might encourage the factious to more rash measures, and prevent the application of a force, which would at once destroy the hopes, and crush the efforts of the disaffected. The general power of the government to pass all laws necessary and proper to execute its declared powers, would doubtless authorize laws to call forth the posse comitatus, and employ the common magistracy, in cases, where such measures would suit the emergency\n",
    "\n",
    ">Notwithstanding the reasonableness of these suggestions, the power was made the subject of the most warm appeals to the people, to alarm their fears, and surprise their judgment. At one time it was said, that the militia under the command of the national government might be dangerous to the public liberty; at another, that they might be ordered to the most distant places, and burthened with the most oppressive services; and at another, that the states might thus be robbed of their immediate means of defence...It was suggested, that it was indispensable to the states, that they should possess the control and discipline of the militia. Congress might, under pretence of organizing and disciplining them, inflict severe and ignominious punishments on them. The power might be construed to be exclusive in congress. Suppose, then, that congress should refuse to provide for arming or organizing them, the result would be, that the states would be utterly without the means of defence, and prostrate at the feet of the national government. It might also be said, that congress possessed the exclusive power to suppress insurrections, and repel invasions, which would take from the states all effective means of resistance. The militia might be put under martial law, when not under duty in the public service...It is hardly necessary to say, how utterly without any practical justification have been the alarms, so industriously spread upon this subject at the time, when the constitution was put upon its trial. Upon two occasions only has it been found necessary on the part of the general government, to require the aid of the militia of the states, for the purpose of executing the laws of the Union, suppressing insurrections, or repelling invasions. The first was to suppress the insurrection in Pennsylvania in 1794; and the other, to repel the enemy in the recent war with Great Britain\n",
    "\n",
    "\n",
    "\n",
    "[excludes execution of the law]:#12\n",
    "\n",
    "\n",
    "That Story used some form of the triplet \"executing the laws, suppressing insurrections, and repelling invasions\" three times over the course of two paragraphs suggests it represents a unified concept: by evidence of the context, that concept might reasonably be described as \"the things done by a militia to secure a free State\". Obviously, to Story, executing the law is a reason the militia is necessary to the security of a free State in the same sense that suppressing insurrection and repelling invasion are. That Justice Scalia made no effort to square Story's comments on the militia with Story's comments on the Second Amendment suggests he was more looking for references to support his conclusion about the Second Amendment than trying to understand how the Founders understood the militia to be necessary to the security of a free State. Had he made the effort, it might have been easily acomplished by noting that the militia prevents the domestic usurpations of power by rulers by denying rulers the means of executing arbitrary law.\n",
    "\n",
    "\n",
    "The next reference made is to Hamilton's Federalist No. 29. The first sentence of Federalist No. 29 does in fact say\n",
    "\n",
    ">\"The power of regulating the militia, and of commanding its services in times of insurrection and invasion are natural incidents to the duties of superintending the common defense, and of watching over the internal peace of the Confederacy\"\n",
    "\n",
    "which alludes to defending against insurrection and invasion without alluding to execution of the law. But, as will be discussed more later, the only reason Hamilton excluded execution of the law in that first sentence is because he planned to spend the rest of the paper explaining why execution of the law deserved to be included. \n",
    "\n",
    "Federalist No. 29 should be understood as Hamilton making the Federalist argument against the Anti-Federalist position on the danger posed by the Article I Militia Clauses: effectively, his point is \"we all agree that giving congress the power of providing for regulating and commanding the militia in order to suppress insurrection and repel invasion is a good idea, but some people think that giving congress the power of providing for regulating and commanding the militia in order to execute the law is a bad idea. Here's why those people are wrong\". And Hamilton won that argument: compare the first sentence of Federalist No. 29 to Story's first sentence from Power Over the Militia quoted above; the language is nearly identical, but Story includes execution of the law. Further, the rest of the quote from Story is effectively a reiteration of the arguments put forward by Hamilton in the remainder of Federalist No. 29. \n",
    "\n",
    "That Justice Scalia referenced Federalist No. 29 to imply that execution of the law is not a militia duty again suggests a lack of interest in actually understanding how the Founders understood the militia to be necessary to secure a free state. Story's Commentaries and Federalist No. 29 are the only two references made by Justice Scalia to justify his list of reasons how the Founders understood the militia to be \"necessary to the security of a free State\". Clearly, they do not support his conclusion.\n",
    "\n",
    "If Justice Scalia had included execute the law in his list of reasons why the militia was necessary to secure a free State, then he could have fit the Second Amendment's primary concern into its stated concerns through self-defense as self-execution of the law. Additionally, he would've been able to able to say something like: \"we find that the Second Amendment guarantees the individual right to possess and carry weapons which can be used to execute the law, suppress insurrections, and repel invasions. Because in the District of Columbia handguns are carried by those whose duty it is to execute the law, the right of the respondent to keep a handgun in his home cannot be infringed\".\n",
    "\n",
    "\n",
    "\n",
    "[not an independence from a superior body of states]:#5\n",
    "\n",
    "[something like]:#6\n"
   ]
  },
  {
   "cell_type": "markdown",
   "metadata": {},
   "source": [
    "## Necessary to Execute the Law"
   ]
  },
  {
   "cell_type": "markdown",
   "metadata": {},
   "source": [
    "### Montesquieu's The Spirit Of Laws\n"
   ]
  },
  {
   "cell_type": "markdown",
   "metadata": {},
   "source": [
    "Montesquieu begins a chapter titled Of the Constitution of England by arguing that there are three separate sorts of power in every government: the legislative, the executive, and the judicial. Having established the existence of seperable powers, he then continues to discuss how the powers should be distributed to ensure the political liberty of the subject\n",
    "\n",
    "\n",
    ">\"When the legislative and executive powers are united in the same person, or in the same body of magistrates, there can be no liberty; because apprehensions may arise, lest the same monarch or senate should enact tyrannical laws, to execute them in a tyrannical manner...Again, there is no liberty if the judiciary power be not separated from the legislative and executive. Were it joined with the legislative, the life and liberty of the subject would be exposed to arbitrary controul; for the judge would be then the legislator. Were it joined to the executive power, the judge might behave with violence and oppression...There would be an end of every thing, were the same man, or the same body, whether of the nobles or of the people, to exercise those three powers, that of enacting laws, that of executing the public resolutions, and of trying the causes of individuals...In Turkey, where these three powers are united in the sultan’s person, the subjects groan under the most dreadful oppression.\"\n",
    "\n",
    "\n",
    "\"it would be end of everything\", Montesquieu argues, if the body which houses the executive power were to also house the legislative and judicial powers, because that body might enact tyrannical laws and execute them in a tyrannical matter, exposing the life and liberty of the subject to arbitrary control and causing it to groan under the most dreadful oppression. To Montesquieu, then, oppressing a people involves subjecting it to an arbitrary interpretation of the law, and granting the same body total control over the form and execution of all its laws leads to oppression. Later in the same chapter, Montesquieu argues\n",
    "\n",
    "\n",
    ">\"if the legislative power, in a free state, has no right to stay the executive, it has a right and ought to have the means of examining in what manner its laws have been executed....The [nobles] are always obnoxious to popular envy; and were they to be judged by the people, they might be in danger from their judges, and would moreover be deprived of the privilege which the meanest subject is possessed of in a free state, of being tried by their peers.\"\n",
    "\n",
    "\n",
    "The legislative power in a free State aught to have the right to examine the manner in which the executive power executes the laws, because in a free State even the meanest subject possesses the privilege of being judged by their peers, and that this privilege is being respected by the executive power must be assured. In un-free states, subjects do not possess the privilege of being judged by their peers, because they are instead subject to the whims of the executive. The distribution of the powers in a free State must be such that arbitrary execution of the law is prevented."
   ]
  },
  {
   "cell_type": "markdown",
   "metadata": {},
   "source": [
    "### Hume's Essays"
   ]
  },
  {
   "cell_type": "markdown",
   "metadata": {},
   "source": [
    "In his essay That Politics May Be Reduced to a Science, Hume says the following in support of his argument that rule by the will of princes, ministers, and generals is more conducive to public disorder than rule by a system of laws\n",
    "\n",
    "\n",
    ">\"[T]yrannical government enervates the courage of men, and renders them indifferent concerning the fortunes of their sovereign ....Legislators, therefore, should not trust the future government of a state entirely to chance, but ought to provide as system of laws to regulate the administration of public affairs to the latest posterity .... wise regulations in any commonwealth are the most valuable legacy that can be left to future ages. In the smallest court or office, the stated forms and methods, by which business must be conducted, are found to be a considerable check on the natural depravity of mankind. Why should not the case be the same in public affairs...Good laws may beget order and moderation in the government, where the manners and customs have instilled little humanity or justice into the tempers of men... Here, then, is a sufficient inducement to maintain, with the utmost zeal, in every free state, those forms and institutions by which liberty is secured, the public good consulted, and the avarice or ambition of particular men restrained and punished\"\n",
    "\n",
    "Tyrannical governments are sustained by men who have lost their courage and who behave behave in ways that betray the sovereignty of their state. Legislators should therefore, in order to avoid devolving into a tyrannical government, because stated forms and methods beget order in circumstances where the tempers of men might not be courageous, provide a system of laws to regulate the administration of public affairs. In a free State, these systems - these forms and institutions - are the means by which liberty is secured:  in sum, to Hume, liberty is secured through execution of the law.\n",
    "\n",
    "\n",
    "In On the Rise of the Arts and Sciences, Hume makes the following argument as to why the sciences have never flourished under monarchies where men are kept from knowledge by unrestrained magistrates\n",
    "\n",
    "\n",
    ">\"Here then are the advantages of free states. Though a republic should be barbarous, it necessarily, by an infallible operation, gives rise to Law, even before mankind have made any considerable advances in the other sciences. From law arises security:  From security curiosity: And from curiosity knowledge. The latter steps of this progress may be more accidental; but the former are altogether necessary. A republic without laws can never have any duration. On the contrary, in a monarchical government, law arises not necessarily from the forms of government\"\n",
    "\n",
    "\n",
    "The advantage of a free State over monarchical government is the inevitable emergence of law. The emergence of law is an advantage because law is the source of security; a republic without laws cannot endure. Again, the security of a free state cannot be separated from the execution of its law. "
   ]
  },
  {
   "cell_type": "markdown",
   "metadata": {},
   "source": [
    "### Cato's Letters"
   ]
  },
  {
   "cell_type": "markdown",
   "metadata": {},
   "source": [
    "In letter No. 20, Of Publick Justice, How Necessary To The Security And Well-being Of A State, And How Destructive The Neglect Of It To The British Nation Signal Instances Of It, Trenchard begins by listing the reasons men sacrifice absolute freedom and equality to join society, and why in doing so they elevate and submit to the wills of particular individuals, granting them the powers of society. He then argues that by virtue of human nature not all men elevated to positions of authority are fit for it, saying the following\n",
    "\n",
    "\n",
    ">\"such is the depravity of human nature, that few can distinguish their own persons from the ensigns and ornaments which they wear, or their duty from their dignity:  There seems to be a judgment upon all men in certain stations, that they can never think of the time when they have been, or may again be, out of them. A good magistrate is the brightest character upon earth, as being most conducive to the benefit of mankind; and a bad one is a greater monster than ever hell engendered...amongst the crimes which regard a state, peculatus, or robbing the publick, is the greatest...the embezzling of [public treasure] is death by the civil law, and ought to be so by all laws. It is the worst sort of treason, as it draws all other sorts of treason after it: It disconcerts all the measures of government, and lays the ground-work of seditions, rebellions, and all kinds of publick miseries...It is therefore of the utmost importance to the security and happiness of any state, to punish, in the most exemplary manner, all those who are entrusted by it, and betray that trust: It becomes the wisdom of a nation, to give ten thousand pounds to purchase a head, which cheats it of six-pence. Valerius Maximus calls severity the sure preserver and avenger of liberty: It is as necessary for the preventing of tyranny, as for the support of it\"\n",
    "\n",
    "\n",
    "Trenchard argues that men, once elevated to certain stations, tend to see their corresponding privileges as belonging to their person instead of to their station; that calamities might befall a state which lets the robbing of public treasure by elevated men go unpunished; and that severe enforcement of the law prevents tyranny. An adequate paraphrase of that last point might be \"securing a free State from despotism requires executing its law\".\n",
    "\n",
    "Because the title of this letter includes \"Necessary to the security of a...State\", and because Cato's letters are believed to be one of the primary influences on the Founding generation of thinkers, this letter might be especially strong evidence about the intended meaning of the phrase \"necessary to the security of a free State\" as written by Madison in the Second Amendment.\n",
    "\n",
    "\n",
    "\n",
    "NO. 27. SATURDAY, APRIL 29, 1721. General Corruption, How Ominous To The Publick, And How Discouraging To Every Virtuous Man. With Its Fatal Progress Whenever Encouraged. (Gordon)\n",
    "\n",
    "\n",
    ">where corruption and publick crimes are not carefully opposed, and severely punished, neither liberty nor security can possibly subsist. The immense briberies practised by Julius Caesar, were sure and terrible presages of Caesar's tyranny.\n",
    "\n",
    "\n",
    "\n",
    "NO. 31. SATURDAY, MAY 27, 1721. Considerations On The Weakness And Inconsistencies Of Human Nature. (Gordon)\n",
    "\n",
    "\n",
    ">The truth is, and it is a melancholy truth, that where human laws do not tie men's hands from wickedness, religion too seldom does; and the most certain security which we have against violence, is the security of the laws. Hence it is, that the making of laws supposes all men naturally wicked; and the surest mark of virtue is, the observation of laws that are virtuous: If therefore we would look for virtue in a nation, we must look for it in the nature of government; the name and model of their religion being no certain symptom nor cause of their virtue\n",
    "\n",
    "\n",
    "\n",
    "NO. 33. SATURDAY, JUNE 17, 1721. Cautions Against The Natural Encroachments Of Power. (Gordon)\n",
    "\n",
    "\n",
    ">were all men left to the boundless liberty which they claim from nature, every man would be interfering and quarrelling with another; every man would be plundering the acquisitions of another; the labour of one man would be the property of another; weakness would be the prey of force; and one man's industry would be the cause of another man's idleness...Hence grew the necessity of government; which was the mutual contract of a number of men, agreeing upon certain terms of union and society, and putting themselves under penalties, if they violated these terms, which were called laws, and put into the hands of one or more men to execute. And thus men quitted part of their natural liberty to acquire civil security. But frequently the remedy proved worse than the disease; and human society had often no enemies so great as their own magistrates; who, where-ever they were trusted with too much power, always abused it, and grew mischievous to those who made them what they were\n",
    "\n",
    "\n",
    "\n",
    "NO. 40. SATURDAY, AUGUST 5, 1721. Considerations On The Restless And Selfish Spirit Of Man.(Gordon)\n",
    "\n",
    "\n",
    ">we have no other security against the malice and rapine of each other, but the security of laws or our own force. By laws societies subsist within themselves; and by force they defend themselves against each other...between subject and subject, and between magistrates and subjects, concord and security are preserved by the terror of laws, and the ties of mutual interest\n",
    "\n",
    "\n",
    "NO. 48. SATURDAY, OCTOBER 14, 1721. The General Unhappy State Of The World, From The Baseness And Iniquity Of Its Governors In Most Countries. (Gordon)\n",
    "\n",
    "\n",
    ">a prince is but a national executioner, and for a scepter he carries a bloody knife. Such, for the most part, by far the most part, are the governors of the world: They derive their whole greatness, plenty, splendor, and security, from the misery, poverty, peril, and destruction of the governed. Whoever makes just, equal, and impartial laws, does, by doing so, but declare to the people, Be wicked at your peril: But he who rules them by terrors and standing armies, does, in effect, tell them in a terrible tone, Be happy if you dare.\n",
    "\n",
    "\n",
    "\n",
    "NO. 70. SATURDAY, MARCH 17, 1722. Second Address To The Freeholders, \\&C. Upon The Same Subject.(GORDON)\n",
    "\n",
    "\n",
    ">You are born to liberty, and it is your interest and duty to preserve it...it depends upon yourselves alone to make these rights of yours, these noble privileges, of use to you. The best laws give no security if they are not executed, but indeed become worse than no laws; and they never will be executed, unless those who are entrusted with the execution of them have an interest in their execution.\n",
    "\n",
    "\n",
    "NO. 72. SATURDAY, APRIL 7, 1722. In Absolute Monarchies The Monarch Seldom Rules, But His Creatures Instead Of Him. That Sort Of Government A Gradation Of Tyrants. (GORDON)\n",
    "\n",
    "\n",
    ">men and societies have no possible human security but certain and express laws, setting express bounds to the power of their magistrates, ascertaining the measure of power as well as subjection, and restraining alike the exorbitances of both prince and people\n",
    "\n",
    "No. 27 points to Caesar as an example of when failure to punish crimes heralds the rise of tyranny; No. 33 argues that abusive execution of the law by those entrusted with power is mischievous to society; No 48. contrasts just, equal, and impartial laws to rule by standing army; No. 70 proclaims to the freeholders - to the militia - that it is up to them to preserve their liberty, and that even the best laws must be executed to provide security; and the rest collectively reference law as being the source of security from violence, from malice and rapine, and from the exorbitances of both prince and people, for both people and society.\n",
    "\n",
    "Looking at these selections, it is clear that the authors of Cato's letters, too, believed that oppressing a people involves subjecting it to arbitrary laws; that a standing army is the tool used by oppressors to subject the people to arbitrary laws; that the militia is the body which should execute the law instead of a standing army; and that securing a free State cannot be separated from executing its law. "
   ]
  },
  {
   "cell_type": "markdown",
   "metadata": {},
   "source": [
    "### Anti-Federalist Papers"
   ]
  },
  {
   "cell_type": "markdown",
   "metadata": {},
   "source": [
    "Anti-Federalist Paper No. 23, “Certain Powers Necessary For The Common Defense, Can and Should Be Limited”, published under the pseudonym Brutus:\n",
    "\n",
    ">“The protection and defense of the community is not intended to be entrusted solely into the hands of the general government...It is true this system commits to the general government the protection and defense of the community against foreign force and invasion, against piracies and felonies on the high seas, and against insurrection among ourselves. They are also authorized to provide for the administration of justice in certain matters of a general concern, and in some that I think are not so. But it ought to be left to the state governments to provide for the protection and defense of the citizen against the hand of private violence, and the wrongs done or attempted by individuals to each other. Protection and defense against the murderer, the robber, the thief, the cheat, and the unjust person, is to be derived from the respective state governments...The state governments are entrusted with the care of administering justice among its citizens, and the management of other internal concerns; they ought therefore retain power to that end. The preservation of internal peace and good order, and the due administration of law and justice, ought to be the first care of every government. The happiness of a people depends infinitely more on this than it does upon all brilliant martial achievements...I do not make these observations to prove that a government ought not to be authorized to provide for the protection and defense of a country against external enemies, but to show that this is not the most important, much less the only object of their care...The most important end of government then, is the proper direction of its internal police, and economy; this is the province of the state governments, and it is evident, and is indeed admitted, that these ought to be under their control. Is it not then preposterous, and in the highest degree absurd, when the state governments are vested with powers to essential to the peace and good order of society, to take from them the means of their own preservation?”\n",
    "\n",
    "The author argued that the States themselves should have the right to provide for raising and governing their own militias, because a militia is the natural defense of a free state and no state can secure itself if it cannot keep and bear its natural means of defense. The author believed the Constitution, in granting the Union the militia-related powers, denied the States the ability to secure themselves and their peoples because it denied the States the means necessary to independently administer justice. Again, the militia is the body which should execute the law, and the security of a free state cannot be separated from the execution of its law.\n",
    "\n",
    "Further, the author explicitly placed \"the due administration of law and justice\" and \"the proper direction of its internal police\" above \"martial achievements\" and \"the protection and defense of the country against external enemies\" in importance to the happiness of a people. To Brutus, then, executing the law is more necessary to the happiness of the people of a free state than suppressing insurrection or repelling invasion.\n",
    "\n",
    "Anti-Federalist 29, Objections to National Control of the Militia\n",
    "\n",
    ">\"The framers of this constitution appear to have been...sensible that no dependence could be placed on the people for their support; but on the contrary, that the government must be executed by force. They have therefore made a provision for this purpose in a permanent standing army and a militia that may be objected to as strict discipline and government...A standing army in the hands of a government placed so independent of the people, may be made a fatal instrument to overturn the public liberties; it my be employed to enforce the collection of the most oppressive taxes; and to carry into execution the most arbitrary measures. An ambitious man who may have the army at his devotion, may step up into the throne, and seize upon absolute power\"\n",
    "\n",
    "Here it is argued that the Constitution leaves no room for the people so execute it, so therefore it must be executed by force. The author supports this argument by noting that the Constitution allows for the existence of a standing army and government control of the militia, and by appealing to the common knowledge that government control of a standing army allows for execution of arbitrary, oppressive laws. Again, oppression is the enforcement of arbitrary laws, and a standing army, separate from the people, is the instrument which would enforce the arbitrary laws.\n",
    "\n",
    ">\"The absolute unqualified command that Congress have over the militia may be made instrumental to the destruction of all liberty both public and private...To this our young men will be more immediately subjected, as a select militia, composed of them, will best answer the purposes of government...under the guidance of an arbitrary government, they may be made the unwilling instruments of tyranny. The militia of Pennsylvania may be marched to New England or Virginia to quell an insurrection occasioned by the most galling oppression, and aided by the standing army, they will no doubt be successful in subduing their liberty and independency...this government will not enjoy the confidence of the people, but be executed by force\"\n",
    "\n",
    "Here the author argues that, under the guidance of an arbitrary government, congressional control over a militia composed of subjected young men might become an instrument of tyranny; that the militia might, as a select corps separate from the people, be marched to a distant state to execute the laws by force. Again, the fear is of a body separate from the people executing an arbitrary government - an arbitrary system of laws - by force.\n",
    "\n",
    "Anti-Federalist 74, The President as Military King\n",
    "\n",
    ">\"Before martial law is declared to be the supreme law of the land, and your character of free citizens be changed to that of the subjects of a military king -- which are necessary consequences of the adoption of the proposed constitution -- let me admonish you in the name of sacred liberty, to make a solemn pause...Who can deny but the president general will be a king to all intents and purposes, and one of the most dangerous kind too -- a king elected to command a standing army. Thus our laws are to be administered by this tyrant...Every freeman of America ought to hold up this idea to himself: that he has no superior but God and the laws. But this tyrant will be so much his superior, that he can at any time he thinks proper, order him out in the militia to exercise, and to march when and where he pleases. His officers can wantonly inflict the most disgraceful punishment on a peaceable citizen, under pretense of disobedience, or the smallest neglect of militia duty\"\n",
    "\n",
    "\n",
    "The fear was of an executive elected to command a standing army to administer the laws as a tyrant. Again, oppression is wantonly inflicting punishment in the name of administering the laws, and a standing army is the tool used by an executive to wantonly inflict punishment."
   ]
  },
  {
   "cell_type": "markdown",
   "metadata": {},
   "source": [
    "### Federalist Papers"
   ]
  },
  {
   "cell_type": "markdown",
   "metadata": {},
   "source": [
    "In Federalist Paper No. 29, Hamilton responds to a number of the criticisms levied in Anti-Federalist Paper No. 29: that the government intends to execute the laws using a standing army backed by a select militia corps, and that those means might be seized by a would-be despot as a tool to achieve absolute power\n",
    "\n",
    "\n",
    ">\"If standing armies are dangerous to liberty, an efficacious power over the militia, in the body to whose care the protection of the State is committed, ought, as far as possible, to take away the inducement and the pretext to such unfriendly institutions. If the federal government can command the aid of the militia in those emergencies which call for the military arm in support of the civil magistrate, it can the better dispense with the employment of a different kind of force. If it cannot avail itself of the former, it will be obliged to recur to the latter\"\n",
    "\n",
    "Hamilton argues that government control of the militia, as opposed to adding to the dangers of a government controlled standing army, negates them because it renders a large standing army unnecessary; if the government can call upon the militia to help execute the law when necessary, then the government wont need to rely upon a standing army.\n",
    "\n",
    ">In order to cast an odium upon the power of calling forth the militia to execute the laws of the Union, it has been remarked that there is nowhere any provision in the proposed Constitution for calling out the POSSE COMITATUS, to assist the magistrate in the execution of his duty, whence it has been inferred, that military force was intended to be his only auxiliary...The same persons who tell us in one breath, that the powers of the federal government will be despotic and unlimited, inform us in the next, that it has not authority sufficient even to call out the POSSE COMITATUS. The latter, fortunately, is as much short of the truth as the former exceeds it. It would be...absurd to doubt, that a right to pass all laws NECESSARY AND PROPER to execute its declared powers, would include that of requiring the assistance of the citizens to the officers who may be intrusted with the execution of those law...It being therefore evident that the supposition of a want of power to require the aid of the POSSE COMITATUS is entirely destitute of color, it will follow, that the conclusion which has been drawn from it, in its application to the authority of the federal government over the militia, is as uncandid as it is illogical. What reason could there be to infer, that force was intended to be the sole instrument of authority, merely because there is a power to make use of it when necessary?\n",
    "\n",
    "Here Hamilton furthers his point by saying that, even though magistrates do have the power to ask the government to call forth the militia to execute the laws, that power will not be the only tool at their disposal:  they will also be able to call upon the people without appealing to the powers of the general government through posse comitatus.\n",
    "\n",
    "\n",
    ">By a curious refinement upon the spirit of republican jealousy, we are even taught to apprehend danger from the militia itself, in the hands of the federal government. It is observed that select corps may be formed, composed of the young and ardent, who may be rendered subservient to the views of arbitrary power...Where in the name of common-sense, are our fears to end if we may not trust our sons, our brothers, our neighbors, our fellow-citizens? What shadow of danger can there be from men who are daily mingling with the rest of their countrymen and who participate with them in the same feelings, sentiments, habits and interests?...the particular States are to have the SOLE AND EXCLUSIVE APPOINTMENT OF THE OFFICERS...There can be no doubt that this circumstance will always secure to them a preponderating influence over the militia\n",
    "\n",
    "\n",
    "Hamilton maintains that, because the language of the militia powers gaurentee that militia officers are appointed by the States - and therefore will have the same feelings, sentiments, habits, and interests as their fellow citizens - the militia will never become a select corps rendered subservient to the views of arbitrary federal power. Again, the fear was of a select corps of the militia rendered subservient to arbitrary executive power, and the solution was to assure the militia would remain loyal to the states, not the executive.\n",
    "\n",
    "In Federalist Paper No. 45 “The Alleged Danger From the Powers of the Union to the State Governments Considered”, Madison begins by listing the reasons why the powers to be granted to the Union are essential to the security and happiness of the people of America\n",
    "\n",
    ">But if the Union, as it has been shown, be essential to the security of the people of America against foreign danger; if it be essential to their security against contentions and wars among the different States; if it be essential to guard them against those violent and oppressive factions which embitter the blessings of liberty, and against those military establishments which must gradually poison its very fountain; if, in a word, the Union be essential to the happiness of the people of America\n",
    "\n",
    "Though the grammar is somewhat formidable, the \"; if\" combinations [suggest][]$^{13}$ that Madison is asserting the powers of the Union are essential in order to 1a) secure the people of America against foreign danger 1b) secure the people of America against contentions and wars among the different States 1c) guard the people of America against those violent and oppressive factions which embitter the blessing of liberty, and against those military establishments which must poison its very fountain and that 2) guarding against all three threats to security is essential to the happiness of the people of America. \n",
    "\n",
    "[suggest]:#13\n",
    "\n",
    "Comparing this list to \"executing the laws, suppressing insurrection, and repelling invasion\": \"securing the people against foreign danger\" is roughly synonymous to \"repelling invasions\" and \"securing the people against contentions and wars among the different States\" is conceptually similar to \"suppressing insurrections\"; therefore if \"essential to guard the people of America against those violent and oppressive factions which embitter the blessing of liberty, and against those military establishments which must poison liberty’s very fountain\" can be interpreted as \"essential to execute the law\", then it would be very compelling evidence that Madison, the author of the Second Amendment, understood defending against despotism to be an aspect of executing the law, and that \"necessary to the security of a free State\" was intended to mean \"necessary to execute the law, suppress insurrections, and repel invasions in a free State\".\n",
    "\n",
    "\"Military establishments which must poison liberty's very fountain\" is clearly a reference to the danger to liberty posed by the existence of a standing army. The free enjoyment of the \"blessings of personal liberty\" is, according to Blackstone, one of the traditional rights of Englishmen secured by law. Madison himself describes \"blessings of personal security, and personal liberty\" as being [things secured by the law]$^{14}$ in his Report of 1800 which discussed the Virginian response to the Alien and Sedition Acts. And, perhaps conclusively, \"Blessings of Liberty\" are defined by the preamble of the Constitution as [things to be secured by establishing the Constitution][]$^{15}$, the supreme law of the land.\n",
    "\n",
    "\n",
    "[things secured by the law]:#14\n",
    "\n",
    "[things to be secured by establishing the Constitution]:#15\n",
    "\n",
    "\n",
    "Because blessings of liberty are things enjoyed under the laws, factions of the people which embitter the blessing of liberty might be those people who break the laws or corrupt their execution. Therefore, Federalist 45 might present strong evidence Madison believed execution of the law to be necessary to the security of a free State. Because Madison included the threat posed by the existence of a standing army in the item which might refer to execution of the law, Federalist No. 45 is strong evidence that the threat to liberty posed by a standing army is tied to the necessity of executing the law. \n",
    "\n",
    "But, although the militia powers are among those which were to be granted to the Union, Federalist No. 45 does not explicitly tie the militia powers to the list of reasons the powers of the Union are essential to the security of the happiness of the people of America. \n",
    "\n",
    "Federalist No. 46, The Influence of the State and Federal Governments Compared begins with the clause “RESUMING the subject of the last paper”, where the emphasis is Madison’s. It therefore demands that we consider it in the context of  the arguments made in Federalist No. 45.\n",
    "\n",
    "Continuing the argument threading through this section of the Federalist papers, the overarching purpose of No. 46 is to refute the notion that the powers to be granted to the Federal government unnecessarily diminish the powers already granted to the State governments. The ostensive purpose of this paper specifically, though, is to attempt to refute the idea that the Federal government might somehow earn the popular support of the people and in doing so enervate the State governments.\n",
    "\n",
    "Madison first argues that \"the first and most natural attachment of the people will be to the governments of their respective states\" because, \"by the superintending care of these, all the more domestic and personal interests of the people will be regulated and provided for\", meaning the people themselves are unlikely to support the Federal government over the State governments, because the State governments themselves do most of the regulating and providing-for of domestic and personal needs.\n",
    "\n",
    "Having established that point, the ostensible purpose of No. 46, Madison continues to argue against the plausability of all other ways in which the Federal government might enervate the State governments. Specifically, he argues against the plausability of the Federal government being able to enforce unwarrentable measures in an individual State, onces which cause the people of the State to refuse to co-operate with officers of the Union, and cause the executive magistracy of the State to frown; and against the plausability of the Federal government being able to enforce unwarrentable measures in an individual State, ones which cause the people of the State to refuse to co-operate with officers of the Union, but have the support of executive magistracy of the State.\n",
    "\n",
    "After, in his own opinion, satisfactorily dispensing with these possibilities, Madison returns to the only other way by which the Federal government might enervate the powers of the individual States - taking over all of them at once by force. In his own words:\n",
    "\n",
    ">\"The only refuge left for those who prophesy the downfall of the State governments is the visionary supposition that the federal government may previously accumulate a military force for the projects of ambition. The reasonings contained in these papers must have been employed to little purpose indeed, if it could be necessary now to disprove the reality of this danger.\"\n",
    "\n",
    "Clearly, Madison [thinks][] that it is not a possibility, and that previous papers should have rendered his opinion commonly accepted knowledge. But, for the purposes of completeness, he decided to argue against it again. It is in that context that this oft-quoted section of Federalist No. 46 should be properly understood\n",
    "\n",
    ">“The highest number to which, according to the best computation, a standing army can be carried in any country, does not exceed one hundredth part of the whole number of souls; or one twenty-fifth part of the number able to bear arms. This proportion would not yield, in the United States, an army of more than twenty-five or thirty thousand men. To these would be opposed a militia amounting to near half a million of citizens with arms in their hands, officered by men chosen from among themselves, fighting for their common liberties”\n",
    "\n",
    "\n",
    "[thinks]:#16\n",
    "\n",
    "Federalist No. 46 begins with an insistence that we consider it in the context of Federalist No. 45, then repeats the argument that a Federal standing army is non-threatening given the provision in the militia powers assuring militia loyalty to the State governments. Therefore, the powers refered to in Federalist No. 45 must include the militia powers.\n",
    "\n",
    "Consequently, together, Federalist Papers No. 45 and No. 46 suggest that Madison, agreeing with both his influences and opposition, understood that securing a free State cannot be separated from executing its law, and that a militia is necessary to secure a free state because the militia is the body which executes the law, suppresses insurrection, and repels invasion in a free state."
   ]
  },
  {
   "cell_type": "markdown",
   "metadata": {},
   "source": [
    "## Responding to the Dissents"
   ]
  },
  {
   "cell_type": "markdown",
   "metadata": {},
   "source": [
    "There were two dissents in *Disctrict of Columbia V. Heller*. Though it carried the majority, Justice Scalia's opinion did not address their arguments. And it could not - the intepretive framework Justice Scalia built cannot support sufficient counterarguments. I believe my intepretive framework can.\n"
   ]
  },
  {
   "cell_type": "markdown",
   "metadata": {},
   "source": [
    "### Stevens Dissent"
   ]
  },
  {
   "cell_type": "markdown",
   "metadata": {},
   "source": [
    "Stevens dissent thesis\n",
    "\n",
    ">Guns are used to hunt, for self-defense, to commit crimes, for sporting activities, and to perform military duties. The Second Amendment plainly does not protect the right to use a gun to rob a bank; it is equally clear that it does encompass the right to use weapons for certain military purposes. Whether it also protects the right to possess and use guns for nonmilitary purposes like hunting and personal self-defense is the question presented by this case. The text of the Amendment, its history, and our decision in United States v. Miller, 307 U. S. 174 (1939) , provide a clear answer to that question.\n",
    "\n",
    ">The Second Amendment was adopted to protect the right of the people of each of the several States to maintain a well-regulated militia. It was a response to concerns raised during the ratification of the Constitution that the power of Congress to disarm the state militias and create a national standing army posed an intolerable threat to the sovereignty of the several States. Neither the text of the Amendment nor the arguments advanced by its proponents evidenced the slightest interest in limiting any legislature’s authority to regulate private civilian uses of firearms. Specifically, there is no indication that the Framers of the Amendment intended to enshrine the common-law right of self-defense in the Constitution.\n",
    "\n",
    "Justice Stevens argues that the majority's opinion is insufficient because 1) the set of uses for guns do not include civil purposes such as self-defense and 2) there is no indication the Framers of the Amendment intended to enshrine the common-law right of self-defense in the constitution, in contrast with the many indications of their obvious intention to prevent the disarmament of the militia.\n",
    "\n",
    "If the set of uses for guns are understood as including executing the law, self-defense is understood to be an instance of executing the law, and executing the law is understood to be a civil purpose, then the set of uses for guns include civil purposes such as self-defense. If (that the next generation of lawyers after the Framers suggesting they understoood the Second Amendment to enshrine the common-law right of self-defense is an indication that the Framers of the Amendment intended to enshrine the common-law right of self-defense in the constitution) or (that the Framers understood the common-law right to self-defense to be executing the law such that the Framers suggesting they intended to enshrine the right to execute the law in the constitution is an indication the Framers of the Amendment intended to enshrine the common-law right of self-defense in the constitution), then there is indication the Framers of the Amendment intended to enshrine the common-law right of self-defense in the constitution. I believe that is the basis of a sufficient counter-argument.\n",
    "\n",
    "\n"
   ]
  },
  {
   "cell_type": "markdown",
   "metadata": {},
   "source": [
    "### Breyer Dissent"
   ]
  },
  {
   "cell_type": "markdown",
   "metadata": {},
   "source": [
    "Breyer dissent thesis\n",
    "\n",
    ">The majority’s conclusion is wrong for two independent reasons. The first reason is that set forth by Justice Stevens—namely, that the Second Amendment protects militia-related, not self-defense-related, interests. These two interests are sometimes intertwined. To assure 18th-century citizens that they could keep arms for militia purposes would necessarily have allowed them to keep arms that they could have used for self-defense as well. But self-defense alone, detached from any militia-related objective, is not the Amendment’s concern.\n",
    "\n",
    ">The second independent reason is that the protection the Amendment provides is not absolute. The Amendment permits government to regulate the interests that it serves. Thus, irrespective of what those interests are—whether they do or do not include an independent interest in self-defense—the majority’s view cannot be correct unless it can show that the District’s regulation is unreasonable or inappropriate in Second Amendment terms. This the majority cannot do. \n",
    "\n",
    "Justice Breyer argues that the majority opinion is insufficient because 1) self-defense detached from any militia-related objective is not the Amendment's concern, as Justice Stevens argued; and 2) it did not show that the District's regulation is inappropriate in Second Amendment terms. \n",
    "\n",
    "If execution of the law is a militia-related concern and self-defense is understood as an instance of execution of the law by the militia, then self-defense is among the Second Amendment's concerns. If the Second Amendment protects the right to the means of executing the law and in the District the means of executing the law are defined as including handguns, then a regulation in the District denying the use of handguns for self-defense is inappropriate in Second Amendment terms. I believe that is the basis of a sufficient counterargument.\n",
    "\n"
   ]
  },
  {
   "cell_type": "markdown",
   "metadata": {},
   "source": [
    "## Footnotes"
   ]
  },
  {
   "cell_type": "markdown",
   "metadata": {},
   "source": [
    "###### 1\n",
    "\n",
    "\"The Massachusetts Bill of Rights of 1780 echoes this, in providing that '[t]he liberty of the press is essential to the security of freedom in a state: it ought not, therefore, to be restrained in this commonwealth'—'[a] free state' corresponds to 'freedom in a state,' not to the independence of a state from foreign oppression.\""
   ]
  },
  {
   "cell_type": "markdown",
   "metadata": {},
   "source": [
    "###### 2\n",
    "\n",
    "Scalia finds that protecting the right to self-defense is the primary purpose of the Second Amendment, but not because of its text: \"It is therefore entirely sensible that the Second Amendment’s prefatory clause announces the purpose for which the right was codified...self-defense had little to do with the right’s codification; it was the central component of the right itself\""
   ]
  },
  {
   "cell_type": "markdown",
   "metadata": {},
   "source": [
    "###### 3\n",
    "\n",
    "It can be done, of course, but traditionally only asymmetrically through \"defending yourself by defending your State by preventing despotism, suppressing insurrection and repelling invasion\" or \"defending yourself from State despotism targeting you\"; under this interpretation the right for individuals to defend themselves from their equals, the natural right to self-defense imagined by classical Republican thinkers, is not obviously part of the textual justification for the right to keep and bear arms.\n",
    "\n",
    "Joel Prentiss Bishop might (needs more research) have been the first to make this observation, and to attempt to separate the rights of keeping and bearing arms:\n",
    "\n",
    ">The constitution of the United States provides, that, \"a well-regulated militia being necessary to the security of a free State, the right of the people to keep and bear arms shall not be infringed\". This provision is found among the amendments; and, though most of the amendments are restrictions on the General Government alone, not on the States, this one seems to be of a nature to bind both the State and National Legislatures; and doubtless it does. As to its interpretation, if we look to this question in the light of juridicial reason, without the aid of specific authority, we shall be lead to the conclusion, that the provision protects only the right to \"keep\" such \"arms\" as are used for purposes of war, in distinction from those which are employed in quarrels, brawls, and fights between maddened individuals; since such, only, are properly known by the name of \"arms\"; and such, only, are adapted to promote \"the security of a free State\". In like manner, the right to \"bear\" arms refers merely to the military way of using them, not to their use in bravado and affray. \n",
    "\n",
    "Bishop argues that, because 1) \"arms\" properly refers only to tools used for purposes of war and 2) only tools used for purposes of war are adapted to support the \"security of a free State\", the text of Second Amendment does not obviously protect the right to keep or bear tools employed in quarrels, brawls, and fights between maddened individuals. On the first point, it must be said, English language no work like that; if an officer of the law were to ask an individual \"are you armed?\", would the answer be no if the individual had only a Bowie Knife? Of course not. Refuting the second point is the main purpose of this paper. Executing the law is a civil activity necessary to the security of a free state, and the tools necessary to execute the law are necessarily arms adapted to support the security of a free state."
   ]
  },
  {
   "cell_type": "markdown",
   "metadata": {},
   "source": [
    "###### 4\n",
    "To expand, it seems to me that any time a person justifiably defends themselves, if an officer of the law had done it for them instead, that then that officer of the law would be considered to have executed the law; because the action is the same, justifiable self-defense might also be considered to be executing the law. In other words, when the actor is put behind a veil of ignorance, the set of actions which might be considered self-defense is a subset of the set of actions which might be considered executing the law"
   ]
  },
  {
   "cell_type": "markdown",
   "metadata": {},
   "source": [
    "###### 5\n",
    "\"'free' almost always meant free from despotism, rather than from some other country, and never from some larger entity in a federal structure. That is how the phrase was used in the sources that the Framers read\". I need another paper to deal with that claim."
   ]
  },
  {
   "cell_type": "markdown",
   "metadata": {},
   "source": [
    "###### 6\n",
    "\"Likewise, the evidence this Article gathers about the meaning of 'free state' suggests that 'necessary to the security of a free State' means 'necessary to preserve freedom within a country generally,' not 'necessary to protect each state from the United States'...To 1780s Americans, 'necessary to the security of a free State' thus meant 'necessary to the security of a nondespotic country, so that it avoids devolving into despotism'"
   ]
  },
  {
   "cell_type": "markdown",
   "metadata": {},
   "source": [
    "###### 7 \n",
    "\"if 'free State' was understood to mean 'free country, free of despotism,' that would tend to support the individual rights view of the Amendment\""
   ]
  },
  {
   "cell_type": "markdown",
   "metadata": {},
   "source": [
    "###### 8\n",
    "He quotes James Iredell as saying 'Be not afraid of the Pistols you have sent me...It is a Satisfaction to have the means of Security at hand...'"
   ]
  },
  {
   "cell_type": "markdown",
   "metadata": {},
   "source": [
    "###### 9\n",
    "Consider these comments from his chapter OF THE KING’S PREROGATIVE:\n",
    "\n",
    ">\"the rights, or, as they are frequently termed, the liberties of Englishmen...consist, primarily, in the free enjoyment of personal security, of personal liberty, and of private property. So long as these remain inviolate, the subject is perfectly free; for every species of compulsive tyranny and oppression must act in opposition to one or other of these rights, having no other object upon which it can possibly be employed. To preserve these from violation, it is necessary that the constitution of parliament be supported in its full vigour; and limits, certainly known, be set to the royal prerogative. And, lastly, to vindicate these rights, when actually violated or attacked, the subjects of England are entitled, in the first place, to the regular administration and free course of justice in the courts of law; next, to the right of petitioning the king and parliament for redress of grievances; and, lastly, to the right of having and using arms for self-preservation and defence.\"\n",
    "\n",
    "Every species of oppression acts in opposition to some combination of the rights of personal liberty, personal security, and private property. These rights are vindicated by the regular administration and free course of justice in the courts of law - appealing to an available judicial power; by petitioning the king and Parliament for redress of grievances - appealing to an available legislative power; or by having and using arms for self-defense - appealing to an available executive power.\n",
    "\n",
    ">the constitution...has therefore established barriers to protect and maintain inviolate the three great and primary rights, of personal security, personal liberty, and private property...These are...The limitation of the king’s prerogative, by bounds so certain and notorious, that it is impossible he should either mistake or legally exceed them without the consent of the people. Of this, also, I shall treat in its proper place. The former of these keeps the legislative power in due health and vigour, so as to make it improbable that laws should be enacted destructive of general liberty: the latter is a guard upon the executive power by restraining it from acting either beyond or in contradiction to the laws, that are framed and established by the other.\n",
    "\n",
    "\n",
    "Limiting the King's Prerogative is necessary such that the legislative power is not wielded to enact laws destructive of general liberty and such that the executive power does not act in contradiction to the laws enacted by the legislative power. Personal security, personal liberty, and private property are attacked by enacting destructive laws or acting in contradiction to the intent of the laws. Legislative power oppresses by defining arbitrary law and executive power oppresses by executing arbitrary law."
   ]
  },
  {
   "cell_type": "markdown",
   "metadata": {},
   "source": [
    "###### 10\n",
    "Though it doesn't support Justice Scalia's conclusion either, Brutus II, an Anti-Federalist Paper lamenting the Constitution's lack of a bill of rights, would've been a more appropriate reference: \n",
    "\n",
    ">\"To set this matter in a clear light, permit me to instance some of the articles of the bills of rights of the individual states, and apply them to the case in question.\n",
    "\n",
    ">For the security of life, in criminal prosecutions, the bills of rights of most of the states have declared, that no man shall be held to answer for a crime until he is made fully acquainted with the charge brought against him; he shall not be compelled to accuse, or furnish evidence against himself — The witnesses against him shall be brought face to face, and he shall be fully heard by himself or counsel. That it is essential to the security of life and liberty, that trial of facts be in the vicinity where they happen. Are not provisions of this kind as necessary in the general government, as in that of a particular state? The powers vested in the new Congress extend in many cases to life; they are authorised to provide for the punishment of a variety of capital crimes, and no restraint is laid upon them in its exercise, save only, that \"the trial of all crimes, except in cases of impeachment, shall be by jury; and such trial shall be in the state where the said crimes shall have been committed.\" No man is secure of a trial in the county where he is charged to have committed a crime; he may be brought from Niagara to New-York, or carried from Kentucky to Richmond for trial for an offence, supposed to be committed. What security is there, that a man shall be furnished with a full and plain description of the charges against him? That he shall be allowed to produce all proof he can in his favor? That he shall see the witnesses against him face to face, or that he shall be fully heard in his own defence by himself or counsel?\n",
    "\n",
    ">For the security of liberty it has been declared, \"that excessive bail should not be required, nor excessive fines imposed, nor cruel or unusual punishments inflicted — That all warrants, without oath or affirmation, to search suspected places, or seize any person, his papers or property, are grievous and oppressive.\"\n",
    "\n",
    ">These provisions are as necessary under the general government as under that of the individual states; for the power of the former is as complete to the purpose of requiring bail. imposing fines, inflicting punishments, granting search warrants, and seizing persons, papers, or property, in certain cases, as the other.\n",
    "\n",
    ">For the purpose of securing the property of the citizens, it is declared by all the states, \"that in all controversies at law, respecting property, the ancient mode of trial by jury is one of the best securities of the rights of the people, and ought to remain sacred and inviolable.\"\n",
    "\n",
    ">Does not the same necessity exist of reserving this right, under this national compact, as in that of these states? Yet nothing is said respecting it. In the bills of rights of the states it is declared, that a well regulated militia is the proper and natural defence of a free government — That as standing armies in time of peace are dangerous, they are not to be kept up, and that the military should be kept under strict subordination to, and controuled by the civil power.\n",
    "\n",
    ">The same security is as necessary in this constitution, and much more so; for the general government will have the sole power to raise and to pay armies, and are under no controul in the exercise of it; yet nothing of this is to be found in this new system.\"\n",
    "\n",
    "A synopsis of the argument forwarded here might be: for the security of life, liberty, and property, there must be a bill of rights which assures the protection of the people under the law."
   ]
  },
  {
   "cell_type": "markdown",
   "metadata": {},
   "source": [
    "###### 11\n",
    "reference similar articles here "
   ]
  },
  {
   "cell_type": "markdown",
   "metadata": {},
   "source": [
    "###### 12\n",
    "In making this list, though, Story himself references Rawle's *A View of the Constitution of the United States*, which says the following:\n",
    "\n",
    "\n",
    ">In the second article, it is declared, that a well regulated Militia is necessary to the security of a free state; a proposition from which few will dissent. Although in actual war, the services of regular troops are confessedly more valuable; yet, while peace prevails, and in the commencement of a war before a regular force can be raised, the militia form the palladium of the country. They are ready to repel invasion, to suppress insurrection, and preserve the good order and peace of government. \n",
    "\n",
    "\n",
    "Given the fact that executing the law is how good order and peace of government are preserved, it seems reasonable to interpret \"preserving the good order and peace of government\" as analogous to \"executing the law\"; as such, the list of reasons given by Rawle - the list referenced by Story - is repelling invasion, suppressing insurrection, and executing the law. Rawle then continues:\n",
    "\n",
    "\n",
    ">The corollary, from the first position, is, that the right of the people to keep and bear arms shall not be infringed.\n",
    "\n",
    ">The prohibition is general. No clause in the Constitution could by any rule of construction be conceived to give to congress a power to disarm the people. Such a flagitious attempt could only be made under some general pretence by a state legislature. But if in any blind pursuit of inordinate power, either should attempt it, this amendment may be appealed to as a restraint on both.\n",
    "\n",
    ">In most of the countries of Europe, this right does not seem to be denied, although it is allowed more, or less sparingly, according to circumstances. In England, a country which boasts so much of its freedom, the right was secured to Protestant subjects only, on the revolution of 1688; and it is cautiously described to be that of bearing arms for their defence, \"suitable to their conditions, and as allowed by law.\" An arbitrary code for the preservation of game in that country has long disgraced them. A very small proportion of the people being permitted to kill it, though for their own subsistence; a gun or other instrument, used for that purpose by an unqualified person, may be seized and forfeited. Blackstone, in whom we regret that we cannot always trace the expanded principles of rational liberty, observes however, on this subject, that the prevention of popular insurrections and resistance to government by disarming the people, is oftener meant than avowed, by the makers of forest and game laws.\n",
    "\n",
    ">This right ought not, however, in any government, to be abused to the disturbance of the public peace.\n",
    "\n",
    ">An assemblage of persons with arms, for an unlawful purpose, is an indictable offence, and even the carrying of arms abroad by a single, individual, attended with circumstances giving just reason to fear that he purposes to make an unlawful use of them, would be sufficient cause to require him to give surety of the peace. If he refused he would be liable to imprisonments.\n",
    "\\end{displayquote}\n",
    "\n",
    "Which very explicitly says that the Second Amendment should not be abused to allow the carrying of arms to disrupt the peace. The NRA: whiteguyblinking.gif"
   ]
  },
  {
   "cell_type": "markdown",
   "metadata": {},
   "source": [
    "###### 13\n",
    "Unfortunately, Madison had a habit of not using the Oxford comma (see the first Militia Clause). Consequently, it is also conceivable that Madison is asserting the powers of the Union are essential in order to:\n",
    "\n",
    "1a) secure the people of America against foreign danger 1b) secure the people of America against contentions and wars among the different States 1c) guard the people of America against those violent and oppressive factions which embitter the blessing of liberty and 1d) against those military establishments which must poison its very fountain, and that 2) guarding against all four threats to security is essential to the happiness of the people of America. \n",
    "\n",
    "\n",
    "I think it is unlikely that this intepretation is correct; it being correct would require that item 1d, unlike the other items, both lacks the introductory \"secures/gaurds the people of America...\" language and makes a pronoun reference to another item in describing what is secured. Though, attempting to separate myself from my thoughts, I can recognize that both might plausably be explained as an unfortunate consequence of Madison's grammatical habits.\n",
    "\n",
    "If this intepretation is the correct one, then Federalist No. 45 is not evidence that Madison understood gaurding against military establishments to be an aspect of assuring the proper execution of the law. Still, even in that case, Federalist 45 would be evidence that Madison understood executing the laws to be necessary to the security of a free state, given the assumption that blessings of liberty are secured by executing the law.\n",
    "\n"
   ]
  },
  {
   "cell_type": "markdown",
   "metadata": {},
   "source": [
    "###### 14\n",
    "\"the banishment of an alien from a country into which he has been invited as the asylum most auspicious to his happiness...where he enjoys, under the laws, a greater share of the blessings of personal security, and personal liberty, than he can elsewhere hope for\""
   ]
  },
  {
   "cell_type": "markdown",
   "metadata": {},
   "source": [
    "###### 15\n",
    "\"We the People of the United States, in Order to form a more perfect Union, establish Justice, insure domestic Tranquility, provide for the common defense, promote the general Welfare, and secure the Blessings of Liberty to ourselves and our Posterity, do ordain and establish this Constitution for the United States of America.\""
   ]
  },
  {
   "cell_type": "markdown",
   "metadata": {},
   "source": [
    "###### 16\n",
    "You're totally right Madison! It is the incoherent dream born of a delerious jealousy to think that 1) the people and the States should, for a sufficient period of time, elect an uninterupted succession of men ready to betray both; that 2) the traitors should, throughout this period, uniformly and systematically pursue some fixed plan for the extension of the military establishment; and that 3) the governments and the people of the States should silently and patiently behold the gathering storm, and continue to supply the materials, until it should be prepared to burst on their own heads...\n",
    "\n",
    "...oh, nvm. Reinstate Crozier?"
   ]
  },
  {
   "cell_type": "markdown",
   "metadata": {},
   "source": [
    "###### 30 \n",
    "\n",
    "This branch of the legislature will not only be an imperfect representation, but there will be no security in so small a body, against bribery, and corruption—It will consist at first, of sixty-five, and can never exceed one for every thirty thousand inhabitants; a majority of these, that is, thirty-three, are a quorum, and a majority of which, or seventeen, may pass any law—so that twenty-five men, will have the power to give away all the property of the citizens of these states—what security therefore can there be for the people, where their liberties and property are at the disposal of so few men? It will literally be a government in the hands of the few to oppress and plunder the many\n"
   ]
  },
  {
   "cell_type": "code",
   "execution_count": null,
   "metadata": {},
   "outputs": [],
   "source": []
  }
 ],
 "metadata": {
  "kernelspec": {
   "display_name": "Python 3",
   "language": "python",
   "name": "python3"
  },
  "language_info": {
   "codemirror_mode": {
    "name": "ipython",
    "version": 3
   },
   "file_extension": ".py",
   "mimetype": "text/x-python",
   "name": "python",
   "nbconvert_exporter": "python",
   "pygments_lexer": "ipython3",
   "version": "3.7.3"
  },
  "latex_envs": {
   "LaTeX_envs_menu_present": true,
   "autoclose": false,
   "autocomplete": true,
   "bibliofile": "biblio.bib",
   "cite_by": "apalike",
   "current_citInitial": 1,
   "eqLabelWithNumbers": true,
   "eqNumInitial": 1,
   "hotkeys": {
    "equation": "Ctrl-E",
    "itemize": "Ctrl-I"
   },
   "labels_anchors": false,
   "latex_user_defs": false,
   "report_style_numbering": false,
   "user_envs_cfg": false
  }
 },
 "nbformat": 4,
 "nbformat_minor": 2
}
