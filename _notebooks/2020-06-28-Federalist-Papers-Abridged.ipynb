{
 "cells": [
  {
   "cell_type": "markdown",
   "metadata": {},
   "source": [
    "# \"Federalist 2020\"\n",
    "> \"An abridged version of the Federalist Papers. Goal is 1/3rd of the length, 9/10ths the of wisdom. This is the first draft, will probably need another few passes.\"\n",
    "- toc: true\n",
    "- branch: master\n",
    "- badges: true\n",
    "- comments: true\n",
    "- categories: [federalist papers]\n",
    "- image: images/some_folder/your_image.png\n",
    "- hide: false\n",
    "- search_exclude: true\n",
    "- metadata_key1: metadata_value1\n",
    "- metadata_key2: metadata_value2"
   ]
  },
  {
   "cell_type": "markdown",
   "metadata": {},
   "source": [
    "## THE UTILITY OF THE UNION TO YOUR POLITICAL PROSPERITY"
   ]
  },
  {
   "cell_type": "markdown",
   "metadata": {},
   "source": [
    "### Federalist 1: General Introduction (Hamilton)"
   ]
  },
  {
   "cell_type": "markdown",
   "metadata": {},
   "source": [
    "AFTER an unequivocal experience of the inefficiency of the subsisting federal government, you are called upon to deliberate on a new Constitution for the United States of America. The subject speaks its own importance; comprehending in its consequences nothing less than the existence of the UNION, the safety and welfare of the parts of which it is composed, the fate of an empire in many respects the most interesting in the world.\n",
    "\n",
    "Among the most formidable of the obstacles which the new Constitution will have to encounter may readily be distinguished the obvious interest of a certain class of men in every State to resist all changes which may hazard a diminution of the power, emolument, and consequence of the offices they hold under the State establishments; and the perverted ambition of another class of men, who will either hope to aggrandize themselves by the confusions of their country, or will flatter themselves with fairer prospects of elevation from the subdivision of the empire into several partial confederacies than from its union under one government.\n",
    "\n",
    "An enlightened zeal for the energy and efficiency of government will be stigmatized as the offspring of a temper fond of despotic power and hostile to the principles of liberty...On the other hand, it will be equally forgotten that the vigor of government is essential to the security of liberty; that, in the contemplation of a sound and well-informed judgment, their interest can never be separated; and that a dangerous ambition more often lurks behind the specious mask of zeal for the rights of the people than under the forbidden appearance of zeal for the firmness and efficiency of government. History will teach us that the former has been found a much more certain road to the introduction of despotism than the latter, and that of those men who have overturned the liberties of republics, the greatest number have begun their career by paying an obsequious court to the people; commencing demagogues, and ending tyrants.\n",
    "\n",
    "My arguments will be open to all, and may be judged of by all. They shall at least be offered in a spirit which will not disgrace the cause of truth. I propose, in a series of papers, to discuss the following interesting particulars:\n",
    "\n",
    "THE UTILITY OF THE UNION TO YOUR POLITICAL PROSPERITY \n",
    "\n",
    "THE INSUFFICIENCY OF THE PRESENT CONFEDERATION TO PRESERVE THAT UNION\n",
    "\n",
    "THE NECESSITY OF A GOVERNMENT AT LEAST EQUALLY ENERGETIC WITH THE ONE PROPOSED, TO THE ATTAINMENT OF THIS OBJECT\n",
    "\n",
    "THE CONFORMITY OF THE PROPOSED CONSTITUTION TO THE TRUE PRINCIPLES OF REPUBLICAN GOVERNMENT\n",
    "\n",
    "ITS ANALOGY TO YOUR OWN STATE CONSTITUTION and lastly, \n",
    "\n",
    "THE ADDITIONAL SECURITY WHICH ITS ADOPTION WILL AFFORD TO THE PRESERVATION OF THAT SPECIES OF GOVERNMENT, TO LIBERTY, AND TO PROPERTY.\n",
    "\n",
    "we already hear it whispered in the private circles of those who oppose the new Constitution, that the thirteen States are of too great extent for any general system, and that we must of necessity resort to separate confederacies of distinct portions of the whole...It will therefore be of use to begin by examining the advantages of that Union, the certain evils, and the probable dangers, to which every State will be exposed from its dissolution. This shall accordingly constitute the subject of my next address"
   ]
  },
  {
   "cell_type": "markdown",
   "metadata": {},
   "source": [
    "### Federalist 2: Concerning Dangers from Foreign Force and Influence (Jay)"
   ]
  },
  {
   "cell_type": "markdown",
   "metadata": {},
   "source": [
    "WHEN the people of America reflect that they are now called upon to decide a question, which, in its consequences, must prove one of the most important that ever engaged their attention, the propriety of their taking a very comprehensive, as well as a very serious, view of it, will be evident.\n",
    "\n",
    "Nothing is more certain than the indispensable necessity of government, and it is equally undeniable, that whenever and however it is instituted, the people must cede to it some of their natural rights in order to vest it with requisite powers. It is well worthy of consideration therefore, whether it would conduce more to the interest of the people of America that they should, to all general purposes, be one nation, under one federal government, or that they should divide themselves into separate confederacies, and give to the head of each the same kind of powers which they are advised to place in one national government.\n",
    "\n",
    "It has until lately been a received and uncontradicted opinion that the prosperity of the people of America depended on their continuing firmly united, and the wishes, prayers, and efforts of our best and wisest citizens have been constantly directed to that object... I am persuaded in my own mind that the people have always thought right on this subject, and that their universal and uniform attachment to the cause of the Union rests on great and weighty reasons, which I shall endeavor to develop and explain in some ensuing papers...whenever the dissolution of the Union arrives, America will have reason to exclaim, in the words of the poet: \"FAREWELL! A LONG FAREWELL TO ALL MY GREATNESS\"."
   ]
  },
  {
   "cell_type": "markdown",
   "metadata": {},
   "source": [
    "### Federalist 3: The Same Subject Continued: Concerning Dangers From Foreign Force and Influence (Jay)"
   ]
  },
  {
   "cell_type": "markdown",
   "metadata": {},
   "source": [
    "Among the many objects to which a wise and free people find it necessary to direct their attention, that of providing for their SAFETY seems to be the first. The SAFETY of the people doubtless has relation to a great variety of circumstances and considerations, and consequently affords great latitude to those who wish to define it precisely and comprehensively.\n",
    "\n",
    "At present I mean only to consider it as it respects security for the preservation of peace and tranquillity, as well as against dangers from FOREIGN ARMS AND INFLUENCE, as from dangers of the LIKE KIND arising from domestic causes. As the former of these comes first in order, it is proper it should be the first discussed. Let us therefore proceed to examine whether the people are not right in their opinion that a cordial Union, under an efficient national government, affords them the best security that can be devised against HOSTILITIES from abroad\n",
    "\n",
    "The JUST causes of war, for the most part, arise either from violation of treaties or from direct violence. America has already formed treaties with no less than six foreign nations, and all of them, except Prussia, are maritime, and therefore able to annoy and injure us. She has also extensive commerce with Portugal, Spain, and Britain, and, with respect to the two latter, has, in addition, the circumstance of neighborhood to attend to. It is of high importance to the peace of America that she observe the laws of nations towards all these powers, and to me it appears evident that this will be more perfectly and punctually done by one national government than it could be either by thirteen separate States or by three or four distinct confederacies...Because, under the national government, treaties and articles of treaties, as well as the laws of nations, will always be expounded in one sense and executed in the same manner,--whereas, adjudications on the same points and questions, in thirteen States, or in three or four confederacies, will not always accord or be consistent\n",
    "\n",
    "So far, therefore, as either designed or accidental violations of treaties and the laws of nations afford JUST causes of war, they are less to be apprehended under one general government than under several lesser ones, and in that respect the former most favors the SAFETY of the people.\n",
    "\n",
    "As to those just causes of war which proceed from direct and unlawful violence, it appears equally clear to me that one good national government affords vastly more security against dangers of that sort than can be derived from any other quarter...Because such violences are more frequently caused by the passions and interests of a part than of the whole; of one or two States than of the Union.\n",
    "\n",
    "But not only fewer just causes of war will be given by the national government, but it will also be more in their power to accommodate and settle them amicably. They will be more temperate and cool, and in that respect, as well as in others, will be more in capacity to act advisedly than the offending State. The pride of states, as well as of men, naturally disposes them to justify all their actions, and opposes their acknowledging, correcting, or repairing their errors and offenses. The national government, in such cases, will not be affected by this pride, but will proceed with moderation and candor to consider and decide on the means most proper to extricate them from the difficulties which threaten them."
   ]
  },
  {
   "cell_type": "markdown",
   "metadata": {},
   "source": [
    "### Federalist 4: The Same Subject Continued: Concerning Dangers From Foreign Force and Influence (Jay)"
   ]
  },
  {
   "cell_type": "markdown",
   "metadata": {},
   "source": [
    "MY LAST paper assigned several reasons why the safety of the people would be best secured by union against the danger it may be exposed to by JUST causes of war given to other nations; and those reasons show that such causes would not only be more rarely given, but would also be more easily accommodated, by a national government than either by the State governments or the proposed little confederacies.\n",
    "\n",
    "But the safety of the people of America against dangers from FOREIGN force depends not only on their forbearing to give JUST causes of war to other nations, but also on their placing and continuing themselves in such a situation as not to INVITE hostility or insult; for it need not be observed that there are PRETENDED as well as just causes of war.\n",
    "\n",
    "It is too true, however disgraceful it may be to human nature, that nations in general will make war whenever they have a prospect of getting anything by it; nay, absolute monarchs will often make war when their nations are to get nothing by it, but for the purposes and objects merely personal, such as thirst for military glory, revenge for personal affronts, ambition, or private compacts to aggrandize or support their particular families or partisans.\n",
    "\n",
    "The people of America are aware that inducements to war may arise out of these circumstances... Wisely, therefore, do they consider union and a good national government as necessary to put and keep them in SUCH A SITUATION as, instead of INVITING war, will tend to repress and discourage it. That situation consists in the best possible state of defense, and necessarily depends on the government, the arms, and the resources of the country.\n",
    "\n",
    "As the safety of the whole is the interest of the whole, and cannot be provided for without government, either one or more or many, let us inquire whether one good government is not, relative to the object in question, more competent than any other given number whatever.\n",
    "\n",
    "One government can collect and avail itself of the talents and experience of the ablest men, in whatever part of the Union they may be found. It can move on uniform principles of policy. It can harmonize, assimilate, and protect the several parts and members, and extend the benefit of its foresight and precautions to each. In the formation of treaties, it will regard the interest of the whole, and the particular interests of the parts as connected with that of the whole. It can apply the resources and power of the whole to the defense of any particular part, and that more easily and expeditiously than State governments or separate confederacies can possibly do, for want of concert and unity of system. It can place the militia under one plan of discipline, and, by putting their officers in a proper line of subordination to the Chief Magistrate, will, as it were, consolidate them into one corps, and thereby render them more efficient than if divided into thirteen or into three or four distinct independent companies...What would the militia of Britain be if the English militia obeyed the government of England, if the Scotch militia obeyed the government of Scotland, and if the Welsh militia obeyed the government of Wales?\n",
    "\n",
    "But whatever may be our situation, whether firmly united under one national government, or split into a number of confederacies, certain it is, that foreign nations will know and view it exactly as it is; and they will act toward us accordingly. If they see that our national government is efficient and well administered, our trade prudently regulated, our militia properly organized and disciplined, our resources and finances discreetly managed, our credit re-established, our people free, contented, and united, they will be much more disposed to cultivate our friendship than provoke our resentment...when a people or family so divide, it never fails to be against themselves"
   ]
  },
  {
   "cell_type": "markdown",
   "metadata": {},
   "source": [
    "### Federalist 5: The Same Subject Continued: Concerning Dangers From Foreign Force and Influence (Jay)"
   ]
  },
  {
   "cell_type": "markdown",
   "metadata": {},
   "source": [
    "It was remarked in the preceding paper, that weakness and divisions at home would invite dangers from abroad; and that nothing would tend more to secure us from them than union, strength, and good government within ourselves. This subject is copious and cannot easily be exhausted\n",
    "\n",
    "They who well consider the history of similar divisions and confederacies will find abundant reason to apprehend that those in contemplation would in no other sense be neighbors than as they would be borderers; that they would neither love nor trust one another, but on the contrary would be a prey to discord, jealousy, and mutual injuries; in short, that they would place us exactly in the situations in which some nations doubtless wish to see us, viz., FORMIDABLE ONLY TO EACH OTHER\n",
    "\n",
    "From these considerations it appears that those gentlemen are greatly mistaken who suppose that alliances offensive and defensive might be formed between these confederacies, and would produce that combination and union of wills of arms and of resources, which would be necessary to put and keep them in a formidable state of defense against foreign enemies.\n",
    "\n",
    "Let candid men judge, then, whether the division of America into any given number of independent sovereignties would tend to secure us against the hostilities and improper interference of foreign nations."
   ]
  },
  {
   "cell_type": "markdown",
   "metadata": {},
   "source": [
    "### Federalist 6: Concerning Dangers from Dissensions Between the States (Hamilton)"
   ]
  },
  {
   "cell_type": "markdown",
   "metadata": {},
   "source": [
    "THE three last numbers of this paper have been dedicated to an enumeration of the dangers to which we should be exposed, in a state of disunion, from the arms and arts of foreign nations. I shall now proceed to delineate dangers of a different and, perhaps, still more alarming kind--those which will in all probability flow from dissensions between the States themselves, and from domestic factions and convulsions.\n",
    "\n",
    "Men...whether the favorites of a king or of a people, have in too many instances abused the confidence they possessed; and assuming the pretext of some public motive, have not scrupled to sacrifice the national tranquillity to personal advantage or personal gratification...To multiply examples of the agency of personal considerations in the production of great national events, either foreign or domestic, according to their direction, would be an unnecessary waste of time...Perhaps, however, a reference, tending to illustrate the general principle, may with propriety be made to a case which has lately happened among ourselves. If Shays had not been a DESPERATE DEBTOR, it is much to be doubted whether Massachusetts would have been plunged into a civil war\n",
    "\n",
    "Have republics in practice been less addicted to war than monarchies? Are not the former administered by MEN as well as the latter? Are there not aversions, predilections, rivalships, and desires of unjust acquisitions, that affect nations as well as kings? Are not popular assemblies frequently subject to the impulses of rage, resentment, jealousy, avarice, and of other irregular and violent propensities? Is it not well known that their determinations are often governed by a few individuals in whom they place confidence, and are, of course, liable to be tinctured by the passions and views of those individuals?\n",
    "\n",
    "From this summary of what has taken place in other countries, whose situations have borne the nearest resemblance to our own, what reason can we have to confide in those reveries which would seduce us into an expectation of peace and cordiality between the members of the present confederacy, in a state of separation? Have we not already seen enough of the fallacy and extravagance of those idle theories which have amused us with promises of an exemption from the imperfections, weaknesses and evils incident to society in every shape? Is it not time to awake from the deceitful dream of a golden age, and to adopt as a practical maxim for the direction of our political conduct that we, as well as the other inhabitants of the globe, are yet remote from the happy empire of perfect wisdom and perfect virtue?\n",
    "\n",
    "Let the point of extreme depression to which our national dignity and credit have sunk, let the inconveniences felt everywhere from a lax and ill administration of government, let the revolt of a part of the State of North Carolina, the late menacing disturbances in Pennsylvania, and the actual insurrections and rebellions in Massachusetts, declare--!"
   ]
  },
  {
   "cell_type": "markdown",
   "metadata": {},
   "source": [
    "### Federalist 7: The Same Subject Continued: Concerning Dangers from Dissensions Between the States (Hamilton)"
   ]
  },
  {
   "cell_type": "markdown",
   "metadata": {},
   "source": [
    "IT IS sometimes asked, with an air of seeming triumph, what inducements could the States have, if disunited, to make war upon each other? It would be a full answer to this question to say--precisely the same inducements which have, at different times, deluged in blood all the nations in the world. But, unfortunately for us, the question admits of a more particular answer.\n",
    "\n",
    "Territorial disputes have at all times been found one of the most fertile sources of hostility among nations. Perhaps the greatest proportion of wars that have desolated the earth have sprung from this origin. This cause would exist among us in full force...In the wide field of Western territory, therefore, we perceive an ample theatre for hostile pretensions, without any umpire or common judge to interpose between the contending parties. To reason from the past to the future, we shall have good ground to apprehend, that the sword would sometimes be appealed to as the arbiter of their differences.\n",
    "\n",
    "The competitions of commerce would be another fruitful source of contention...Each State, or separate confederacy, would pursue a system of commercial policy peculiar to itself. This would occasion distinctions, preferences, and exclusions, which would beget discontent.\n",
    "\n",
    "The public debt of the Union would be a further cause of collision between the separate States or confederacies. The apportionment, in the first instance, and the progressive extinguishment afterward, would be alike productive of ill-humor and animosity. How would it be possible to agree upon a rule of apportionment satisfactory to all?\n",
    "\n",
    "Laws in violation of private contracts, as they amount to aggressions on the rights of those States whose citizens are injured by them, may be considered as another probable source of hostility...We have observed the disposition to retaliation excited in Connecticut in consequence of the enormities perpetrated by the Legislature of Rhode Island; and we reasonably infer that, in similar cases, under other circumstances, a war, not of PARCHMENT, but of the sword, would chastise such atrocious breaches of moral obligation and social justice.\n",
    "\n",
    "America, if not connected at all, or only by the feeble tie of a simple league, offensive and defensive, would, by the operation of such jarring alliances, be gradually entangled in all the pernicious labyrinths of European politics and wars\n"
   ]
  },
  {
   "cell_type": "markdown",
   "metadata": {},
   "source": [
    "### Federalist 8: The Consequences of Hostilities Between the States (Hamilton)"
   ]
  },
  {
   "cell_type": "markdown",
   "metadata": {},
   "source": [
    "ASSUMING it therefore as an established truth that the several States, in case of disunion, or such combinations of them as might happen to be formed out of the wreck of the general Confederacy, would be subject to those vicissitudes of peace and war, of friendship and enmity, with each other, which have fallen to the lot of all neighboring nations not united under one government, let us enter into a concise detail of some of the consequences that would attend such a situation.\n",
    "\n",
    "Safety from external danger is the most powerful director of national conduct. Even the ardent love of liberty will, after a time, give way to its dictates. The violent destruction of life and property incident to war, the continual effort and alarm attendant on a state of continual danger, will compel nations the most attached to liberty to resort for repose and security to institutions which have a tendency to destroy their civil and political rights. To be more safe, they at length become willing to run the risk of being less free\n",
    "\n",
    "The institutions chiefly alluded to are STANDING ARMIES and the correspondent appendages of military establishments. Standing armies, it is said, are not provided against in the new Constitution; and it is therefore inferred that they may exist under it (this objection will be fully examined in its proper place, and it will be shown that the only natural precaution which could have been taken on this subject has been taken; and a much better one than is to be found in any constitution that has been heretofore framed in America, most of which contain no guard at all on this subject). Their existence, however, from the very terms of the proposition, is, at most, problematical and uncertain. But standing armies, it may be replied, must inevitably result from a dissolution of the Confederacy. Frequent war and constant apprehension, which require a state of as constant preparation, will infallibly produce them. The weaker States or confederacies would first have recourse to them, to put themselves upon an equality with their more potent neighbors. They would endeavor to supply the inferiority of population and resources by a more regular and effective system of defense, by disciplined troops, and by fortifications. They would, at the same time, be necessitated to strengthen the executive arm of government, in doing which their constitutions would acquire a progressive direction toward monarchy. It is of the nature of war to increase the executive at the expense of the legislative authority.\n",
    "\n",
    "There is a wide difference, also, between military establishments in a country seldom exposed by its situation to internal invasions, and in one which is often subject to them, and always apprehensive of them...These armies being, in the first case, rarely, if at all, called into activity for interior defense, the people are in no danger of being broken to military subordination. The laws are not accustomed to relaxations, in favor of military exigencies; the civil state remains in full vigor, neither corrupted, nor confounded with the principles or propensities of the other state. The smallness of the army renders the natural strength of the community an over-match for it; and the citizens, not habituated to look up to the military power for protection, or to submit to its oppressions, neither love nor fear the soldiery; they view them with a spirit of jealous acquiescence in a necessary evil, and stand ready to resist a power which they suppose may be exerted to the prejudice of their rights. The army under such circumstances may usefully aid the magistrate to suppress a small faction, or an occasional mob, or insurrection; but it will be unable to enforce encroachments against the united efforts of the great body of the people.\n",
    "\n",
    "In a country in the predicament last described, the contrary of all this happens. The perpetual menacings of danger oblige the government to be always prepared to repel it; its armies must be numerous enough for instant defense. The continual necessity for their services enhances the importance of the soldier, and proportionably degrades the condition of the citizen. The military state becomes elevated above the civil. The inhabitants of territories, often the theatre of war, are unavoidably subjected to frequent infringements on their rights, which serve to weaken their sense of those rights; and by degrees the people are brought to consider the soldiery not only as their protectors, but as their superiors. The transition from this disposition to that of considering them masters, is neither remote nor difficult; but it is very difficult to prevail upon a people under such impressions, to make a bold or effectual resistance to usurpations supported by the military power.\n",
    "\n",
    "The kingdom of Great Britain falls within the first description. An insular situation, and a powerful marine, guarding it in a great measure against the possibility of foreign invasion, supersede the necessity of a numerous army within the kingdom. A sufficient force to make head against a sudden descent, till the militia could have time to rally and embody, is all that has been deemed requisite. No motive of national policy has demanded, nor would public opinion have tolerated, a larger number of troops upon its domestic establishment. There has been, for a long time past, little room for the operation of the other causes, which have been enumerated as the consequences of internal war. This peculiar felicity of situation has, in a great degree, contributed to preserve the liberty which that country to this day enjoys, in spite of the prevalent venality and corruption. If, on the contrary, Britain had been situated on the continent, and had been compelled, as she would have been, by that situation, to make her military establishments at home coextensive with those of the other great powers of Europe, she, like them, would in all probability be, at this day, a victim to the absolute power of a single man. 'T is possible, though not easy, that the people of that island may be enslaved from other causes; but it cannot be by the prowess of an army so inconsiderable as that which has been usually kept up within the kingdom.\n",
    "\n",
    "If we are wise enough to preserve the Union we may for ages enjoy an advantage similar to that of an insulated situation. Europe is at a great distance from us. Her colonies in our vicinity will be likely to continue too much disproportioned in strength to be able to give us any dangerous annoyance. Extensive military establishments cannot, in this position, be necessary to our security. But if we should be disunited, and the integral parts should either remain separated, or, which is most probable, should be thrown together into two or three confederacies, we should be, in a short course of time, in the predicament of the continental powers of Europe --our liberties would be a prey to the means of defending ourselves against the ambition and jealousy of each other."
   ]
  },
  {
   "cell_type": "markdown",
   "metadata": {},
   "source": [
    "### Federalist 9: The Union as a Safeguard Against Domestic Faction and Insurrection (Hamilton)"
   ]
  },
  {
   "cell_type": "markdown",
   "metadata": {},
   "source": [
    "The utility of a Confederacy, as well to suppress faction and to guard the internal tranquillity of States, as to increase their external force and security, is in reality not a new idea. It has been practiced upon in different countries and ages, and has received the sanction of the most approved writers on the subject of politics. The opponents of the plan proposed have, with great assiduity, cited and circulated the observations of Montesquieu on the necessity of a contracted territory for a republican government. But they seem not to have been apprised of the sentiments of that great man expressed in another part of his work\n",
    "\n",
    "So far are the suggestions of Montesquieu from standing in opposition to a general Union of the States, that he explicitly treats of a CONFEDERATE REPUBLIC as the expedient for extending the sphere of popular government, and reconciling the advantages of monarchy with those of republicanism. '\"It is very probable...that mankind would have been obliged at length to live constantly under the government of a single person, had they not contrived a kind of constitution that has all the internal advantages of a republican, together with the external force of a monarchical government. I mean a CONFEDERATE REPUBLIC. '...I have thought it proper to quote at length these interesting passages, because they contain a luminous abridgment of the principal arguments in favor of the Union...They have, at the same time, an intimate connection with the more immediate design of this paper; which is, to illustrate the tendency of the Union to repress domestic faction and insurrection.\n",
    "\n",
    "A distinction, more subtle than accurate, has been raised between a CONFEDERACY and a CONSOLIDATION of the States. The essential characteristic of the first is said to be, the restriction of its authority to the members in their collective capacities, without reaching to the individuals of whom they are composed. It is contended that the national council ought to have no concern with any object of internal administration...In the Lycian confederacy, which consisted of twenty-three CITIES or republics...The COMMON COUNCIL had the appointment of all the judges and magistrates of the respective CITIES. This was certainly the most, delicate species of interference in their internal administration; for if there be any thing that seems exclusively appropriated to the local jurisdictions, it is the appointment of their own officers."
   ]
  },
  {
   "cell_type": "markdown",
   "metadata": {},
   "source": [
    "### Federalist 10: The Same Subject Continued: The Union as a Safeguard Against Domestic Faction and Insurrection (Madison)"
   ]
  },
  {
   "cell_type": "markdown",
   "metadata": {},
   "source": [
    "AMONG the numerous advantages promised by a well constructed Union, none deserves to be more accurately developed than its tendency to break and control the violence of faction...By a faction, I understand a number of citizens, whether amounting to a majority or a minority of the whole, who are united and actuated by some common impulse of passion, or of interest, adversed to the rights of other citizens, or to the permanent and aggregate interests of the community.\n",
    "\n",
    "If a faction consists of less than a majority, relief is supplied by the republican principle, which enables the majority to defeat its sinister views by regular vote. It may clog the administration, it may convulse the society; but it will be unable to execute and mask its violence under the forms of the Constitution. When a majority is included in a faction, the form of popular government, on the other hand, enables it to sacrifice to its ruling passion or interest both the public good and the rights of other citizens. To secure the public good and private rights against the danger of such a faction, and at the same time to preserve the spirit and the form of popular government, is then the great object to which our inquiries are directed\n",
    "\n",
    "it may be concluded that a pure democracy, by which I mean a society consisting of a small number of citizens, who assemble and administer the government in person, can admit of no cure for the mischiefs of faction...A republic, by which I mean a government in which the scheme of representation takes place, opens a different prospect, and promises the cure for which we are seeking.\n",
    "\n",
    "the same advantage which a republic has over a democracy, in controlling the effects of faction, is enjoyed by a large over a small republic,--is enjoyed by the Union over the States composing it...The influence of factious leaders may kindle a flame within their particular States, but will be unable to spread a general conflagration through the other States. A religious sect may degenerate into a political faction in a part of the Confederacy; but the variety of sects dispersed over the entire face of it must secure the national councils against any danger from that source...In the extent and proper structure of the Union, therefore, we behold a republican remedy for the diseases most incident to republican government."
   ]
  },
  {
   "cell_type": "markdown",
   "metadata": {},
   "source": [
    "### Federalist 11: The Utility of the Union in Respect to Commercial Relations and a Navy (Hamilton)"
   ]
  },
  {
   "cell_type": "markdown",
   "metadata": {},
   "source": [
    "THE importance of the Union, in a commercial light, is one of those points about which there is least room to entertain a difference of opinion...This applies as well to our intercourse with foreign countries as with each other. \n",
    "\n",
    "Under a vigorous national government, the natural strength and resources of the country, directed to a common interest, would baffle all the combinations of European jealousy to restrain our growth. This situation would even take away the motive to such combinations, by inducing an impracticability of success. An active commerce, an extensive navigation, and a flourishing marine would then be the offspring of moral and physical necessity. We might defy the little arts of the little politicians to control or vary the irresistible and unchangeable course of nature."
   ]
  },
  {
   "cell_type": "markdown",
   "metadata": {},
   "source": [
    "### Federalist 12: The Utility of the Union In Respect to Revenue (Hamilton)"
   ]
  },
  {
   "cell_type": "markdown",
   "metadata": {},
   "source": [
    "THE effects of Union upon the commercial prosperity of the States have been sufficiently delineated. Its tendency to promote the interests of revenue will be the subject of our present inquiry.\n",
    "\n",
    "It is evident from the state of the country, from the habits of the people, from the experience we have had on the point itself, that it is impracticable to raise any very considerable sums by direct taxation. Tax laws have in vain been multiplied; new methods to enforce the collection have in vain been tried; the public expectation has been uniformly disappointed, and the treasuries of the States have remained empty.\n",
    "\n",
    "The relative situation of these States; the number of rivers with which they are intersected, and of bays that wash there shores; the facility of communication in every direction...would insure frequent evasions of the commercial regulations of each other...The temper of our governments, for a long time to come, would not permit those rigorous precautions by which the European nations guard the avenues into their respective countries, as well by land as by water; and which, even there, are found insufficient obstacles to the adventurous stratagems of avarice.\n",
    "\n",
    "No person acquainted with what happens in other countries will be surprised at this circumstance...In France, there is an army of patrols (as they are called) constantly employed to secure their fiscal regulations against the inroads of the dealers in contraband trade...The arbitrary and vexatious powers with which the patrols are necessarily armed, would be intolerable in a free country\n",
    "\n",
    "If, on the contrary, there be but one government pervading all the States...An ordinary degree of vigilance would be competent to the prevention of any material infractions upon the rights of the revenue. A few armed vessels, judiciously stationed at the entrances of our ports, might at a small expense be made useful sentinels of the laws. And the government having the same interest to provide against violations everywhere, the co-operation of its measures in each State would have a powerful tendency to render them effectual.\n",
    "\n",
    "What will be the consequence, if we are not able to avail ourselves of the resource in question in its full extent? A nation cannot long exist without revenues...As the necessities of the State, nevertheless, must be satisfied in some mode or other, the defect of other resources must throw the principal weight of public burdens on the possessors of land. And as, on the other hand, the wants of the government can never obtain an adequate supply, unless all the sources of revenue are open to its demands, the finances of the community, under such embarrassments, cannot be put into a situation consistent with its respectability or its security. Thus we shall not even have the consolations of a full treasury, to atone for the oppression of that valuable class of the citizens who are employed in the cultivation of the soil. But public and private distress will keep pace with each other in gloomy concert; and unite in deploring the infatuation of those counsels which led to disunion."
   ]
  },
  {
   "cell_type": "markdown",
   "metadata": {},
   "source": [
    "### Federalist 13: Advantage of the Union in Respect to Economy in Government (Hamilton)"
   ]
  },
  {
   "cell_type": "markdown",
   "metadata": {},
   "source": [
    "As CONNECTED with the subject of revenue, we may with propriety consider that of economy. The money saved from one object may be usefully applied to another, and there will be so much the less to be drawn from the pockets of the people. If the States are united under one government, there will be but one national civil list to support; if they are divided into several confederacies, there will be as many different national civil lists to be provided for\n",
    "\n",
    "No well-informed man will suppose that the affairs of such a confederacy can be properly regulated by a government less comprehensive in its organs or institutions than that which has been proposed by the convention. When the dimensions of a State attain to a certain magnitude, it requires the same energy of government and the same forms of administration which are requisite in one of much greater extent. This idea admits not of precise demonstration, because there is no rule by which we can measure the momentum of civil power necessary to the government of any given number of individuals\n",
    "\n",
    "Civil power, properly organized and exerted, is capable of diffusing its force to a very great extent; and can, in a manner, reproduce itself in every part of a great empire by a judicious arrangement of subordinate institutions. Nothing can be more evident than that the thirteen States will be able to support a national government better than one half, or one third, or any number less than the whole. \n",
    "\n",
    "If, in addition to the consideration of a plurality of civil lists, we take into view the number of persons who must necessarily be employed to guard the inland communication between the different confederacies against illicit trade, and who in time will infallibly spring up out of the necessities of revenue; and if we also take into view the military establishments which it has been shown would unavoidably result from the jealousies and conflicts of the several nations into which the States would be divided, we shall clearly discover that a separation would be not less injurious to the economy, than to the tranquillity, commerce, revenue, and liberty of every part."
   ]
  },
  {
   "cell_type": "markdown",
   "metadata": {},
   "source": [
    "### Federalist 14: Objections to the Proposed Constitution From Extent of Territory Answered (Madison)"
   ]
  },
  {
   "cell_type": "markdown",
   "metadata": {},
   "source": [
    "WE HAVE seen the necessity of the Union, as our bulwark against foreign danger, as the conservator of peace among ourselves, as the guardian of our commerce and other common interests, as the only substitute for those military establishments which have subverted the liberties of the Old World, and as the proper antidote for the diseases of faction, which have proved fatal to other popular governments, and of which alarming symptoms have been betrayed by our own. All that remains, within this branch of our inquiries, is to take notice of an objection that may be drawn from the great extent of country which the Union embraces\n",
    "\n",
    "As the natural limit of a democracy is that distance from the central point which will just permit the most remote citizens to assemble as often as their public functions demand, and will include no greater number than can join in those functions; so the natural limit of a republic is that distance from the centre which will barely allow the representatives to meet as often as may be necessary for the administration of public affairs. Can it be said that the limits of the United States exceed this distance? ... in Great Britain, inferior as it may be in size, the representatives of the northern extremity of the island have as far to travel to the national council as will be required of those of the most remote parts of the Union. \n",
    "\n",
    "Favorable as this view of the subject may be, some observations remain which will place it in a light still more satisfactory. \n",
    "\n",
    "In the first place it is to be remembered that the general government is not to be charged with the whole power of making and administering laws. Its jurisdiction is limited to certain enumerated objects, which concern all the members of the republic, but which are not to be attained by the separate provisions of any. The subordinate governments, which can extend their care to all those other subjects which can be separately provided for, will retain their due authority and activity."
   ]
  },
  {
   "cell_type": "markdown",
   "metadata": {},
   "source": [
    "## THE INSUFFICIENCY OF THE PRESENT CONFEDERATION TO PRESERVE THAT UNION"
   ]
  },
  {
   "cell_type": "markdown",
   "metadata": {},
   "source": [
    "### Federalist 15: The Insufficiency of the Present Confederation to Preserve the Union (Hamilton)"
   ]
  },
  {
   "cell_type": "markdown",
   "metadata": {},
   "source": [
    "IN THE course of the preceding papers, I have endeavored, my fellow-citizens, to place before you, in a clear and convincing light, the importance of Union to your political safety and happiness. I have unfolded to you a complication of dangers to which you would be exposed, should you permit that sacred knot which binds the people of America together be severed...In pursuance of the plan which I have laid down for the discussion of the subject, the point next in order to be examined is the \"insufficiency of the present Confederation to the preservation of the Union\".\n",
    "\n",
    "The great and radical vice in the construction of the existing Confederation is in the principle of LEGISLATION for STATES or GOVERNMENTS, in their CORPORATE or COLLECTIVE CAPACITIES, and as contradistinguished from the INDIVIDUALS of which they consist...Though this principle does not run through all the powers delegated to the Union, yet it pervades and governs those on which the efficacy of the rest depends...a principle, in short, which, if it is to be executed at all, must substitute the violent and sanguinary agency of the sword to the mild influence of the magistracy...we must extend the authority of the Union to the persons of the citizens, --the only proper objects of government.\n",
    "\n",
    "Government implies the power of making laws. It is essential to the idea of a law, that it be attended with a sanction; or, in other words, a penalty or punishment for disobedience. If there be no penalty annexed to disobedience, the resolutions or commands which pretend to be laws will, in fact, amount to nothing more than advice or recommendation. This penalty, whatever it may be, can only be inflicted in two ways: by the agency of the courts and ministers of justice, or by military force; by the COERCION of the magistracy, or by the COERCION of arms. The first kind can evidently apply only to men; the last kind must of necessity, be employed against bodies politic, or communities, or States. It is evident that there is no process of a court by which the observance of the laws can, in the last resort, be enforced. Sentences may be denounced against them for violations of their duty; but these sentences can only be carried into execution by the sword. In an association where the general authority is confined to the collective bodies of the communities, that compose it, every breach of the laws must involve a state of war; and military execution must become the only instrument of civil obedience. Such a state of things can certainly not deserve the name of government, nor would any prudent man choose to commit his happiness to it.\n",
    "\n",
    "Power controlled or abridged is almost always the rival and enemy of that power by which it is controlled or abridged. This simple proposition will teach us how little reason there is to expect, that the persons intrusted with the administration of the affairs of the particular members of a confederacy will at all times be ready...to execute the resolutions or decrees of the general authority...If, therefore, the measures of the Confederacy cannot be executed without the intervention of the particular administrations, there will be little prospect of their being executed at all...In our case, the concurrence of thirteen distinct sovereign wills is requisite, under the Confederation, to the complete execution of every important measure that proceeds from the Union. It has happened as was to have been foreseen. The measures of the Union have not been executed"
   ]
  },
  {
   "cell_type": "markdown",
   "metadata": {},
   "source": [
    "### Federalist 16: The Same Subject Continued: The Insufficiency of the Present Confederation to Preserve the Union (Hamilton)"
   ]
  },
  {
   "cell_type": "markdown",
   "metadata": {},
   "source": [
    "THE tendency of the principle of legislation for States, or communities, in their political capacities...may, as truly as emphatically, be styled the parent of anarchy: It has been seen that delinquencies in the members of the Union are its natural and necessary offspring; and that whenever they happen, the only constitutional remedy is force, and the immediate effect of the use of it, civil war...It remains to inquire how far so odious an engine of government, in its application to us, would even be capable of answering its end. If there should not be a large army constantly at the disposal of the national government it would either not be able to employ force at all, or, when this could be done, it would amount to a war between parts of the Confederacy\n",
    "\n",
    "It seems to require no pains to prove that the States ought not to prefer a national Constitution which could only be kept in motion by the instrumentality of a large army continually on foot to execute the ordinary requisitions or decrees of the government. And yet this is the plain alternative involved by those who wish to deny it the power of extending its operations to individuals. Such a scheme, if practicable at all, would instantly degenerate into a military despotism\n",
    "\n",
    "If opposition to the national government should arise from the disorderly conduct of refractory or seditious individuals, it could be overcome by the same means which are daily employed against the same evil under the State governments. The magistracy, being equally the ministers of the law of the land, from whatever source it might emanate, would doubtless be as ready to guard the national as the local regulations from the inroads of private licentiousness. As to those partial commotions and insurrections, which sometimes disquiet society, from the intrigues of an inconsiderable faction, or from sudden or occasional illhumors that do not infect the great body of the community the general government could command more extensive resources for the suppression of disturbances of that kind than would be in the power of any single member. And as to those mortal feuds which, in certain conjunctures, spread a conflagration through a whole nation, or through a very large proportion of it, proceeding either from weighty causes of discontent given by the government or from the contagion of some violent popular paroxysm, they do not fall within any ordinary rules of calculation. When they happen, they commonly amount to revolutions and dismemberments of empire. No form of government can always either avoid or control them.\n"
   ]
  },
  {
   "cell_type": "markdown",
   "metadata": {},
   "source": [
    "### Federalist 17: The Same Subject Continued: The Insufficiency of the Present Confederation to Preserve the Union (Hamilton)"
   ]
  },
  {
   "cell_type": "markdown",
   "metadata": {},
   "source": [
    "AN OBJECTION, of a nature different from that which has been stated and answered, in my last address, may perhaps be likewise urged against the principle of legislation for the individual citizens of America. It may be said that it would tend to render the government of the Union too powerful, and to enable it to absorb those residuary authorities, which it might be judged proper to leave with the States for local purposes. Allowing the utmost latitude to the love of power which any reasonable man can require, I confess I am at a loss to discover what temptation the persons intrusted with the administration of the general government could ever feel to divest the States of the authorities of that description. The regulation of the mere domestic police of a State appears to me to hold out slender allurements to ambition...The administration of private justice between the citizens of the same State, the supervision of agriculture and of other concerns of a similar nature, all those things, in short, which are proper to be provided for by local legislation, can never be desirable cares of a general jurisdiction.\n",
    "\n",
    "But let it be admitted, for argument's sake, that mere wantonness and lust of domination would be sufficient to beget that disposition; still it may be safely affirmed, that the sense of the constituent body of the national representatives, or, in other words, the people of the several States, would control the indulgence of so extravagant an appetite. It will always be far more easy for the State governments to encroach upon the national authorities than for the national government to encroach upon the State authorities. The proof of this proposition turns upon the greater degree of influence which the State governments if they administer their affairs with uprightness and prudence, will generally possess over the people\n",
    "\n",
    "There is one transcendant advantage belonging to the province of the State governments, which alone suffices to place the matter in a clear and satisfactory light,--I mean the ordinary administration of criminal and civil justice. This, of all others, is the most powerful, most universal, and most attractive source of popular obedience and attachment. It is that which, being the immediate and visible guardian of life and property, having its benefits and its terrors in constant activity before the public eye, regulating all those personal interests and familiar concerns to which the sensibility of individuals is more immediately awake, contributes, more than any other circumstance, to impressing upon the minds of the people, affection, esteem, and reverence towards the government. This great cement of society, which will diffuse itself almost wholly through the channels of the particular governments, independent of all other causes of influence, would insure them so decided an empire over their respective citizens as to render them at all times a complete counterpoise, and, not unfrequently, dangerous rivals to the power of the Union.\n",
    "\n",
    "The operations of the national government, on the other hand...will be less apt to come home to the feelings of the people; and, in proportion, less likely to inspire an habitual sense of obligation, and an active sentiment of attachment...Though the ancient feudal systems were not, strictly speaking, confederacies, yet they partook of the nature of that species of association...The consequences of this situation were a continual opposition to authority of the sovereign, and frequent wars between the great barons or chief feudatories themselves. The power of the head of the nation was commonly too weak, either to preserve the public peace, or to protect the people against the oppressions of their immediate lords. This period of European affairs is emphatically styled by historians, the times of feudal anarchy.\n",
    "\n",
    "When the sovereign happened to be a man of vigorous and warlike temper and of superior abilities, he would acquire a personal weight and influence, which answered, for the time, the purpose of a more regular authority. But in general, the power of the barons triumphed over that of the prince...In those instances in which the monarch finally prevailed over his vassals, his success was chiefly owing to the tyranny of those vassals over their dependents. The barons, or nobles, equally the enemies of the sovereign and the oppressors of the common people, were dreaded and detested by both...Had the nobles, by a conduct of clemency and justice, preserved the fidelity and devotion of their retainers and followers, the contests between them and the prince must almost always have ended in their favor, and in the abridgment or subversion of the royal authority.\n"
   ]
  },
  {
   "cell_type": "markdown",
   "metadata": {},
   "source": [
    "### Federalist 18: The Same Subject Continued: The Insufficiency of the Present Confederation to Preserve the Union (Hamilton)"
   ]
  },
  {
   "cell_type": "markdown",
   "metadata": {},
   "source": [
    "AMONG the confederacies of antiquity, the most considerable was that of the Grecian republics, associated under the Amphictyonic council. From the best accounts transmitted of this celebrated institution, it bore a very instructive analogy to the present Confederation of the American States...Such were the consequences of the fallacious principle on which this interesting establishment was founded. Had Greece, says a judicious observer on her fate, been united by a stricter confederation, and persevered in her union, she would never have worn the chains of Macedon; and might have proved a barrier to the vast projects of Rome\n",
    "\n",
    "The Achaean league, as it is called, was another society of Grecian republics, which supplies us with valuable instruction...I have thought it not superfluous to give the outlines of this important portion of history; both because it teaches more than one lesson, and because, as a supplement to the outlines of the Achaean constitution, it emphatically illustrates the tendency of federal bodies rather to anarchy among the members, than to tyranny in the head."
   ]
  },
  {
   "cell_type": "markdown",
   "metadata": {},
   "source": [
    "### Federalist 19: The Same Subject Continued: The Insufficiency of the Present Confederation to Preserve the Union (Hamilton and Madison)"
   ]
  },
  {
   "cell_type": "markdown",
   "metadata": {},
   "source": [
    "THE examples of ancient confederacies, cited in my last paper, have not exhausted the source of experimental instruction on this subject. There are existing institutions, founded on a similar principle, which merit particular consideration. The first which presents itself is the Germanic body...The fundamental principle on which it rests, that the empire is a community of sovereigns, that the diet is a representation of sovereigns and that the laws are addressed to sovereigns, renders the empire a nerveless body, incapable of regulating its own members, insecure against external dangers, and agitated with unceasing fermentations in its own bowels. The history of Germany is a history of wars between the emperor and the princes and states; of wars among the princes and states themselves; of the licentiousness of the strong, and the oppression of the weak; of foreign intrusions, and foreign intrigues; of requisitions of men and money disregarded, or partially complied with; of attempts to enforce them, altogether abortive, or attended with slaughter and desolation, involving the innocent with the guilty; of general inbecility, confusion, and misery.\n",
    "\n",
    "If the nation happens, on any emergency, to be more united by the necessity of self-defense, its situation is still deplorable. Military preparations must be preceded by so many tedious discussions, arising from the jealousies, pride, separate views, and clashing pretensions of sovereign bodies, that before the diet can settle the arrangements, the enemy are in the field; and before the federal troops are ready to take it, are retiring into winter quarters.\n",
    "\n",
    "The small body of national troops, which has been judged necessary in time of peace, is defectively kept up, badly paid, infected with local prejudices, and supported by irregular and disproportionate contributions to the treasury.\n",
    "\n",
    "The impossibility of maintaining order and dispensing justice among these sovereign subjects, produced the experiment of dividing the empire into nine or ten circles or districts; of giving them an interior organization, and of charging them with the military execution of the laws against delinquent and contumacious members. This experiment has only served to demonstrate more fully the radical vice of the constitution. Each circle is the miniature picture of the deformities of this political monster. They either fail to execute their commissions, or they do it with all the devastation and carnage of civil war. Sometimes whole circles are defaulters; and then they increase the mischief which they were instituted to remedy.\n",
    "\n",
    "If more direct examples were wanting, Poland, as a government over local sovereigns, might not improperly be taken notice of. Nor could any proof more striking be given of the calamities flowing from such institutions. Equally unfit for self-government and self-defense, it has long been at the mercy of its powerful neighbors\n",
    "\n",
    "The connection among the Swiss cantons scarcely amounts to a confederacy; though it is sometimes cited as an instance of the stability of such institutions...They have no common treasury; no common troops even in war; no common coin; no common judicatory; nor any other common mark of sovereignty\n",
    "\n",
    "They are kept together by the peculiarity of their topographical position; by their individual weakness and insignificancy; by the fear of powerful neighbors, to one of which they were formerly subject; by the few sources of contention among a people of such simple and homogeneous manners; by their joint interest in their dependent possessions; by the mutual aid they stand in need of, for suppressing insurrections and rebellions, an aid expressly stipulated and often required and afforded; and by the necessity of some regular and permanent provision for accomodating disputes among the cantons. he provision is, that the parties at variance shall each choose four judges out of the neutral cantons, who, in case of disagreement, choose an umpire. This tribunal, under an oath of impartiality, pronounces definitive sentence, which all the cantons are bound to enforce. The competency of this regulation may be estimated by a clause in their treaty of 1683, with Victor Amadeus of Savoy; in which he obliges himself to interpose as mediator in disputes between the cantons, and to employ force, if necessary, against the contumacious party.\n",
    "\n",
    "So far as the peculiarity of their case will admit of comparison with that of the United States, it serves to confirm the principle intended to be established. Whatever efficacy the union may have had in ordinary cases, it appears that the moment a cause of difference sprang up, capable of trying its strength, it failed. The controversies on the subject of religion, which in three instances have kindled violent and bloody contests, may be said, in fact, to have severed the league"
   ]
  },
  {
   "cell_type": "markdown",
   "metadata": {},
   "source": [
    "### Federalist 20: The Same Subject Continued: The Insufficiency of the Present Confederation to Preserve the Union (Hamilton and Madison)"
   ]
  },
  {
   "cell_type": "markdown",
   "metadata": {},
   "source": [
    "THE United Netherlands are a confederacy of republics...confirming all the lessons derived from those which we have already reviewed. The union is composed of seven coequal and sovereign states, and each state or province is a composition of equal and independent cities. In all important cases, not only the provinces but the cities must be unanimous\n",
    "\n",
    "The executive magistrate of the union is the stadtholder, who is now an hereditary prince. His principal weight and influence in the republic are derived from this independent title...and, more than all, perhaps, from his being stadtholder in the several provinces, as well as for the union; in which provincial quality he has the appointment of town magistrates under certain regulations, executes provincial decrees, presides when he pleases in the provincial tribunals, and has throughout the power of pardon.\n",
    "\n",
    "In his political capacity he has authority to settle disputes between the provinces, when other methods fail...In his military capacity he commands the federal troops, provides for garrisons, and in general regulates military affairs; disposes of all appointments, from colonels to ensigns, and of the governments and posts of fortified towns...The standing army which he commands consists of about forty thousand men. Such is the nature of the celebrated Belgic confederacy, as delineated on parchment. What are the characters which practice has stamped upon it? Imbecility in the government; discord among the provinces; foreign influence and indignities; a precarious existence in peace, and peculiar calamities from war.\n",
    "\n",
    "The union of Utrecht, says another respectable writer, reposes an authority in the States-General, seemingly sufficient to secure harmony, but the jealousy in each province renders the practice very different from the theory...In matters of contribution, it is the practice to waive the articles of the constitution...It has more than once happened, that the deficiencies had to be ultimately collected at the point of the bayonet\n",
    "\n",
    "In critical emergencies, the States-General are often compelled to overleap their constitutional bounds... A weak constitution must necessarily terminate in dissolution, for want of proper powers, or the usurpation of powers requisite for the public safety. Whether the usurpation, when once begun, will stop at the salutary point, or go forward to the dangerous extreme, must depend on the contingencies of the moment. Tyranny has perhaps oftener grown out of the assumptions of power, called for, on pressing exigencies, by a defective constitution, than out of the full exercise of the largest constitutional authorities\n",
    "\n",
    "I make no apology for having dwelt so long on the contemplation of these federal precedents. Experience is the oracle of truth; and where its responses are unequivocal, they ought to be conclusive and sacred. The important truth, which it unequivocally pronounces in the present case, is that a sovereignty over sovereigns, a government over governments, a legislation for communities, as contradistinguished from individuals, as it is a solecism in theory, so in practice it is subversive of the order and ends of civil polity, by substituting VIOLENCE in place of LAW, or the destructive COERCION of the SWORD in place of the mild and salutary COERCION of the MAGISTRACY."
   ]
  },
  {
   "cell_type": "markdown",
   "metadata": {},
   "source": [
    "### Federalist 21: Other Defects of the Present Confederation (Hamilton)"
   ]
  },
  {
   "cell_type": "markdown",
   "metadata": {},
   "source": [
    "HAVING in the three last numbers taken a summary review of the principal circumstances and events which have depicted the genius and fate of other confederate governments, I shall now proceed in the enumeration of the most important of those defects which have hitherto disappointed our hopes from the system established among ourselves\n",
    "\n",
    "The next most palpable defect of the subsisting Confederation, is the total want of a SANCTION to its laws. The United States, as now composed, have no powers to exact obedience, or punish disobedience to their resolutions, either by pecuniary mulcts, by a suspension or divestiture of privileges, or by any other constitutional mode. There is no express delegation of authority to them to use force against delinquent members...we shall be obliged to conclude, that the United States afford the extraordinary spectacle of a government destitute even of the shadow of constitutional power to enforce the execution of its own laws\n",
    "\n",
    "The want of a mutual guaranty of the State governments is another capital imperfection in the federal plan. There is nothing of this kind declared in the articles that compose it...Without a guaranty the assistance to be derived from the Union in repelling those domestic dangers which may sometimes threaten the existence of the State constitutions, must be renounced. Usurpation may rear its crest in each State, and trample upon the liberties of the people, while the national government could legally do nothing more than behold its encroachments with indignation and regret. A successful faction may erect a tyranny on the ruins of order and law, while no succor could constitutionally be afforded by the Union to the friends and supporters of the government.\n",
    "\n",
    "The inordinate pride of State importance has suggested to some minds an objection to the principle of a guaranty in the federal government, as involving an officious interference in the domestic concerns of the members...It could be no impediment to reforms of the State constitution by a majority of the people in a legal and peaceable mode. This right would remain undiminished. The guaranty could only operate against changes to be effected by violence. Towards the preventions of calamities of this kind, too many checks cannot be provided. The peace of society and the stability of government depend absolutely on the efficacy of the precautions adopted on this head. Where the whole power of the government is in the hands of the people, there is the less pretense for the use of violent remedies in partial or occasional distempers of the State. The natural cure for an ill-administration, in a popular or representative constitution, is a change of men. A guaranty by the national authority would be as much levelled against the usurpations of rulers as against the ferments and outrages of faction and sedition in the community."
   ]
  },
  {
   "cell_type": "markdown",
   "metadata": {},
   "source": [
    "### Federalist 22: The Same Subject Continued: Other Defects of the Present Confederation (Hamilton)"
   ]
  },
  {
   "cell_type": "markdown",
   "metadata": {},
   "source": [
    "IN ADDITION to the defects already enumerated in the existing federal system, there are others of not less importance, which concur in rendering it altogether unfit for the administration of the affairs of the Union.\n",
    "\n",
    "The power of raising armies, by the most obvious construction of the articles of the Confederation, is merely a power of making requisitions upon the States for quotas of men. This practice in the course of the late war, was found replete with obstructions to a vigorous and to an economical system of defense... Hence, slow and scanty levies of men, in the most critical emergencies of our affairs; short enlistments at an unparalleled expense; continual fluctuations in the troops, ruinous to their discipline and subjecting the public safety frequently to the perilous crisis of a disbanded army. Hence, also, those oppressive expedients for raising men which were upon several occasions practiced, and which nothing but the enthusiasm of liberty would have induced the people to endure.\n",
    "\n",
    "The right of equal suffrage among the States is another exceptionable part of the Confederation. Every idea of proportion and every rule of fair representation conspire to condemn a principle, which gives to Rhode Island an equal weight in the scale of power with Massachusetts...Sophistry may reply, that sovereigns are equal, and that a majority of the votes of the States will be a majority of confederated America. But this kind of logical legerdemain will never counteract the plain suggestions of justice and common-sense. It may happen that this majority of States is a small minority of the people of America; and two thirds of the people of America could not long be persuaded, upon the credit of artificial distinctions and syllogistic subtleties, to submit their interests to the management and disposal of one third. The larger States would after a while revolt from the idea of receiving the law from the smaller.\n",
    "\n",
    "But this is not all...Congress, from the nonattendance of a few States, have been frequently in the situation of a Polish diet, where a single VOTE has been sufficient to put a stop to all their movements...The necessity of unanimity in public bodies, or of something approaching towards it, has been founded upon a supposition that it would contribute to security. But its real operation is to embarrass the administration, to destroy the energy of the government, and to substitute the pleasure, caprice, or artifices of an insignificant, turbulent, or corrupt junto, to the regular deliberations and decisions of a respectable majority. In those emergencies of a nation, in which the goodness or badness, the weakness or strength of its government, is of the greatest importance, there is commonly a necessity for action. The public business must, in some way or other, go forward. If a pertinacious minority can control the opinion of a majority, respecting the best mode of conducting it, the majority, in order that something may be done, must conform to the views of the minority; and thus the sense of the smaller number will overrule that of the greater, and give a tone to the national proceedings. Hence, tedious delays; continual negotiation and intrigue; contemptible compromises of the public good. And yet, in such a system, it is even happy when such compromises can take place: for upon some occasions things will not admit of accommodation; and then the measures of government must be injuriously suspended, or fatally defeated. It is often, by the impracticability of obtaining the concurrence of the necessary number of votes, kept in a state of inaction. Its situation must always savor of weakness, sometimes border upon anarchy.\n",
    "\n",
    "One of the weak sides of republics, among their numerous advantages, is that they afford too easy an inlet to foreign corruption...In republics, persons elevated from the mass of the community, by the suffrages of their fellow-citizens, to stations of great pre-eminence and power, may find compensations for betraying their trust...Hence it is that history furnishes us with so many mortifying examples of the prevalency of foreign corruption in republican governments. How much this contributed to the ruin of the ancient commonwealths has been already delineated.\n",
    "\n",
    "A circumstance which crowns the defects of the Confederation remains yet to be mentioned, the want of a judiciary power. Laws are a dead letter without courts to expound and define their true meaning and operation. The treaties of the United States, to have any force at all, must be considered as part of the law of the land. Their true import, as far as respects individuals, must, like all other laws, be ascertained by judicial determinations. To produce uniformity in these determinations, they ought to be submitted, in the last resort, to one SUPREME TRIBUNAL...To avoid the confusion which would unavoidably result from the contradictory decisions of a number of independent judicatories, all nations have found it necessary to establish one court paramount to the rest, possessing a general superintendence, and authorized to settle and declare in the last resort a uniform rule of civil justice.\n",
    "\n",
    "In this review of the Confederation, I have confined myself to the exhibition of its most material defects...It must be by this time evident to all men of reflection, who can divest themselves of the prepossessions of preconceived opinions, that it is a system so radically vicious and unsound, as to admit not of amendment but by an entire change in its leading features and characters. The organization of Congress is itself utterly improper for the exercise of those powers which are necessary to be deposited in the Union...The fabric of American empire ought to rest on the solid basis of THE CONSENT OF THE PEOPLE. The streams of national power ought to flow immediately from that pure, original fountain of all legitimate authority. "
   ]
  },
  {
   "cell_type": "markdown",
   "metadata": {},
   "source": [
    "## THE NECESSITY OF A GOVERNMENT AT LEAST EQUALLY ENERGETIC WITH THE ONE PROPOSED, TO THE ATTAINMENT OF THIS OBJECT"
   ]
  },
  {
   "cell_type": "markdown",
   "metadata": {},
   "source": [
    "### Federalist 23: The Necessity of a Government as Energetic as the One Proposed to the Preservation of the Union (Hamilton)"
   ]
  },
  {
   "cell_type": "markdown",
   "metadata": {},
   "source": [
    "THE necessity of a Constitution, at least equally energetic with the one proposed, to the preservation of the Union, is the point at the examination of which we are now arrived. \n",
    "\n",
    "The principal purposes to be answered by union are these the common defense of the members; the preservation of the public peace as well against internal convulsions as external attacks; the regulation of commerce with other nations and between the States; the superintendence of our intercourse, political and commercial, with foreign countries. \n",
    "\n",
    "the authorities essential to the common defense are these: to raise armies; to build and equip fleets; to prescribe rules for the government of both; to direct their operations; to provide for their support. These powers ought to exist without limitation, BECAUSE IT IS IMPOSSIBLE TO FORESEE OR DEFINE THE EXTENT AND VARIETY OF NATIONAL EXIGENCIES, OR THE CORRESPONDENT EXTENT AND VARIETY OF THE MEANS WHICH MAY BE NECESSARY TO SATISFY THEM. The circumstances that endanger the safety of nations are infinite, and for this reason no constitutional shackles can wisely be imposed on the power to which the care of it is committed. This power ought to be coextensive with all the possible combinations of such circumstances; and ought to be under the direction of the same councils which are appointed to preside over the common defense. \n",
    "\n",
    "It rests upon axioms as simple as they are universal; the MEANS ought to be proportioned to the END; the persons, from whose agency the attainment of any END is expected, ought to possess the MEANS by which it is to be attained.\n",
    "\n",
    "Whether there ought to be a federal government intrusted with the care of the common defense, is a question in the first instance, open for discussion; but the moment it is decided in the affirmative, it will follow, that that government ought to be clothed with all the powers requisite to complete execution of its trust. And unless it can be shown that the circumstances which may affect the public safety are reducible within certain determinate limits; unless the contrary of this position can be fairly and rationally disputed, it must be admitted, as a necessary consequence, that there can be no limitation of that authority which is to provide for the defense and protection of the community, in any matter essential to its efficacy that is, in any matter essential to the FORMATION, DIRECTION, or SUPPORT of the NATIONAL FORCES.\n",
    "\n",
    "if we are in earnest about giving the Union energy and duration, we must abandon the vain project of legislating upon the States in their collective capacities; we must extend the laws of the federal government to the individual citizens of America; we must discard the fallacious scheme of quotas and requisitions, as equally impracticable and unjust. The result from all this is that the Union ought to be invested with full power to levy troops; to build and equip fleets; and to raise the revenues which will be required for the formation and support of an army and navy, in the customary and ordinary modes practiced in other governments.\n",
    "\n",
    "Shall the Union be constituted the guardian of the common safety? Are fleets and armies and revenues necessary to this purpose? The government of the Union must be empowered to pass all laws, and to make all regulations which have relation to them. The same must be the case in respect to commerce, and to every other matter to which its jurisdiction is permitted to extend. Is the administration of justice between the citizens of the same State the proper department of the local governments? These must possess all the authorities which are connected with this object, and with every other that may be allotted to their particular cognizance and direction. Not to confer in each case a degree of power commensurate to the end, would be to violate the most obvious rules of prudence and propriety\n",
    "\n",
    "Who is likely to make suitable provisions for the public defense, as that body to which the guardianship of the public safety is confided...which, by the extension of its authority throughout the States, can alone establish uniformity and concert in the plans and measures by which the common safety is to be secured? Is there not a manifest inconsistency in devolving upon the federal government the care of the general defense, and leaving in the State governments the EFFECTIVE powers by which it is to be provided for?"
   ]
  },
  {
   "cell_type": "markdown",
   "metadata": {},
   "source": [
    "### Federalist 24: The Powers Necessary to the Common Defense Further Considered (Hamilton)"
   ]
  },
  {
   "cell_type": "markdown",
   "metadata": {},
   "source": [
    "To THE powers proposed to be conferred upon the federal government, in respect to the creation and direction of the national forces, I have met with but one specific objection, which, if I understand it right, is this, that proper provision has not been made against the existence of standing armies in time of peace; an objection which, I shall now endeavor to show, rests on weak and unsubstantial foundations. \n",
    "\n",
    "A stranger to our politics, who was to read our newspapers at the present juncture...would be naturally led to one of two conclusions: either that it contained a positive injunction, that standing armies should be kept up in time of peace; or that it vested in the EXECUTIVE the whole power of levying troops, without subjecting his discretion, in any shape, to the control of the legislature. \n",
    "\n",
    "If he came afterwards to peruse the plan itself, he would be surprised to discover, that neither the one nor the other was the case; that the whole power of raising armies was lodged in the LEGISLATURE, not in the EXECUTIVE...and that instead of the provision he had supposed in favor of standing armies, there was to be found, in respect to this object, an important qualification even of the legislative discretion, in that clause which forbids the appropriation of money for the support of an army for any longer period than two years\n",
    "\n",
    "From a close examination it will appear that restraints upon the discretion of the legislature in respect to military establishments in time of peace, would be improper to be imposed, and if imposed, from the necessities of society, would be unlikely to be observed.\n",
    "\n",
    "Though a wide ocean separates the United States from Europe, yet there are various considerations that warn us against an excess of confidence or security....Previous to the Revolution, and ever since the peace, there has been a constant necessity for keeping small garrisons on our Western frontier...These garrisons must either be furnished by occasional detachments from the militia, or by permanent corps in the pay of the government. The first is impracticable; and if practicable, would be pernicious. The militia would not long, if at all, submit to be dragged from their occupations and families to perform that most disagreeable duty in times of profound peace...The latter resource of permanent corps in the pay of the government amounts to a standing army in time of peace"
   ]
  },
  {
   "cell_type": "markdown",
   "metadata": {},
   "source": [
    "### Federalist 25: The Same Subject Continued (The Powers Necessary to the Common Defense Further Considered)  (Hamilton)"
   ]
  },
  {
   "cell_type": "markdown",
   "metadata": {},
   "source": [
    "IT MAY perhaps be urged that the objects enumerated in the preceding number ought to be provided for by the State governments, under the direction of the Union. But this would be, in reality, an inversion of the primary principle of our political association, as it would in practice transfer the care of the common defense from the federal head to the individual members: a project oppressive to some States, dangerous to all, and baneful to the Confederacy.\n",
    "\n",
    "In this situation, military establishments, nourished by mutual jealousy, would be apt to swell beyond their natural or proper size; and being at the separate disposal of the members, they would be engines for the abridgment or demolition of the national authcrity.\n",
    "\n",
    "in any contest between the federal head and one of its members the people will be most apt to unite with their local government. If, in addition to this immense advantage, the ambition of the members should be stimulated by the separate and independent possession of military forces, it would afford too strong a temptation and too great a facility to them to make enterprises upon, and finally to subvert, the constitutional authority of the Union. On the other hand, the liberty of the people would be less safe in this state of things than in that which left the national forces in the hands of the national government. As far as an army may be considered as a dangerous weapon of power, it had better be in those hands of which the people are most likely to be jealous than in those of which they are least likely to be jealous.\n",
    "\n",
    "There are other lights besides those already taken notice of, in which the impropriety of restraints on the discretion of the national legislature will be equally manifest. The design of the objection, which has been mentioned, is to preclude standing armies in time of peace\n",
    "\n",
    "The supposed utility of a provision of this kind can only be founded on the supposed probability, or at least possibility, of a combination between the executive and the legislative, in some scheme of usurpation. Should this at any time happen, how easy would it be to fabricate pretenses of approaching danger!...If we can reasonably presume such a combination to have been formed, and that the enterprise is warranted by a sufficient prospect of success, the army, when once raised, from whatever cause, or on whatever pretext, may be applied to the execution of the project.\n",
    "\n",
    "If, to obviate this consequence, it should be resolved to extend the prohibition to the RAISING of armies in time of peace, the United States would then exhibit the most extraordinary spectacle which the world has yet seen, that of a nation incapacitated by its Constitution to prepare for defense, before it was actually invaded. As the ceremony of a formal denunciation of war has of late fallen into disuse, the presence of an enemy within our territories must be waited for, as the legal warrant to the government to begin its levies of men for the protection of the State. We must receive the blow, before we could even prepare to return it. All that kind of policy by which nations anticipate distant danger, and meet the gathering storm, must be abstained from, as contrary to the genuine maxims of a free government. We must expose our property and liberty to the mercy of foreign invaders, and invite them by our weakness to seize the naked and defenseless prey, because we are afraid that rulers, created by our choice, dependent on our will, might endanger that liberty, by an abuse of the means necessary to its preservation. \n",
    "\n",
    "Here I expect we shall be told that the militia of the country is its natural bulwark, and would be at all times equal to the national defense. This doctrine, in substance, had like to have lost us our independence...The steady operations of war against a regular and disciplined army can only be successfully conducted by a force of the same kind. Considerations of economy, not less than of stability and vigor, confirm this position. The American militia, in the course of the late war, have, by their valor on numerous occasions, erected eternal monuments to their fame; but the bravest of them feel and know that the liberty of their country could not have been established by their efforts alone, however great and valuable they were. War, like most other things, is a science to be acquired and perfected by diligence, by perserverance, by time, and by practice. \n",
    "\n",
    "cases are likely to occur under our government, as well as under those of other nations, which will sometimes render a military force in time of peace essential to the security of the society, and that it is therefore improper in this respect to control the legislative discretion.\n",
    "\n",
    "Wise politicians will be cautious about fettering the government with restrictions that cannot be observed, because they know that every breach of the fundamental laws, though dictated by necessity, impairs that sacred reverence which ought to be maintained in the breast of rulers towards the constitution of a country, and forms a precedent for other breaches where the same plea of necessity does not exist at all, or is less urgent and palpable. "
   ]
  },
  {
   "cell_type": "markdown",
   "metadata": {},
   "source": [
    "### Federalist 26: The Idea of Restraining the Legislative Authority in Regard to the Common Defense Considered  (Hamilton)"
   ]
  },
  {
   "cell_type": "markdown",
   "metadata": {},
   "source": [
    "IT WAS a thing hardly to be expected that in a popular revolution the minds of men should stop at that happy mean which marks the salutary boundary between POWER and PRIVILEGE, and combines the energy of government with the security of private rights. A failure in this delicate and important point is the great source of the inconveniences we experience\n",
    "\n",
    "The idea of restraining the legislative authority, in the means of providing for the national defense, is one of those refinements which owe their origin to a zeal for liberty more ardent than enlightened\n",
    "\n",
    "It may not be amiss in this place concisely to remark the origin and progress of the idea, which aims at the exclusion of military establishments in time of peace. Though in speculative minds it may arise from a contemplation of the nature and tendency of such institutions, fortified by the events that have happened in other ages and countries, yet as a national sentiment, it must be traced to those habits of thinking which we derive from the nation from whom the inhabitants of these States have in general sprung. \n",
    "\n",
    "In England, for a long time after the Norman Conquest, the authority of the monarch was almost unlimited. Inroads were gradually made upon the prerogative, in favor of liberty, first by the barons, and afterwards by the people, till the greatest part of its most formidable pretensions became extinct. But it was not till the revolution in 1688, which elevated the Prince of Orange to the throne of Great Britain, that English liberty was completely triumphant. As incident to the undefined power of making war, an acknowledged prerogative of the crown, Charles II. had, by his own authority, kept on foot in time of peace a body of 5,000 regular troops. And this number James II. increased to 30,000; who were paid out of his civil list. At the revolution, to abolish the exercise of so dangerous an authority, it became an article of the Bill of Rights then framed, that \"the raising or keeping a standing army within the kingdom in time of peace, UNLESS WITH THE CONSENT OF PARLIAMENT, was against law\".\n",
    "\n",
    "In that kingdom, when the pulse of liberty was at its highest pitch, no security against the danger of standing armies was thought requisite, beyond a prohibition of their being raised or kept up by the mere authority of the executive magistrate. The patriots, who effected that memorable revolution, were too temperate, too wellinformed, to think of any restraint on the legislative discretion.\n",
    "\n",
    "From the same source, the people of America may be said to have derived an hereditary impression of danger to liberty, from standing armies in time of peace... The principles which had taught us to be jealous of the power of an hereditary monarch were by an injudicious excess extended to the representatives of the people in their popular assemblies...the reason which had introduced a similar provision into the English Bill of Rights is not applicable to any of the State constitutions. The power of raising armies at all, under those constitutions, can by no construction be deemed to reside anywhere else, than in the legislatures themselves\n",
    "\n",
    "Let us examine whether there be any comparison, in point of efficacy, between the provision alluded to and that which is contained in the new Constitution, for restraining the appropriations of money for military purposes to the period of two years...The legislature of the United States will be OBLIGED, by this provision, once at least in every two years, to deliberate upon the propriety of keeping a military force on foot; to come to a new resolution on the point; and to declare their sense of the matter, by a formal vote in the face of their constituents. They are not AT LIBERTY to vest in the executive department permanent funds for the support of an army\n",
    "\n",
    "if the majority should be really disposed to exceed the proper limits, the community will be warned of the danger, and will have an opportunity of taking measures to guard against it...the State legislatures...who will always be not only vigilant but suspicious and jealous guardians of the rights of the citizens against encroachments from the federal government, will constantly have their attention awake to the conduct of the national rulers, and will be ready enough, if any thing improper appears, to sound the alarm to the people, and not only to be the VOICE, but, if necessary, the ARM of their discontent.\n",
    "\n",
    "Schemes to subvert the liberties of a great community REQUIRE TIME to mature them for execution. An army, so large as seriously to menace those liberties, could only be formed by progressive augmentations; which would suppose, not merely a temporary combination between the legislature and executive, but a continued conspiracy for a series of time. Is it probable that such a combination would exist at all?\n",
    "\n",
    "It has been said that the provision which limits the appropriation of money for the support of an army to the period of two years would be unavailing, because the Executive, when once possessed of a force large enough to awe the people into submission, would find resources in that very force sufficient to enable him to dispense with supplies from the acts of the legislature. But the question again recurs, upon what pretense could he be put in possession of a force of that magnitude in time of peace? If we suppose it to have been created in consequence of some domestic insurrection or foreign war, then it becomes a case not within the principles of the objection; for this is levelled against the power of keeping up troops in time of peace. Few persons will be so visionary as seriously to contend that military forces ought not to be raised to quell a rebellion or resist an invasion; and if the defense of the community under such circumstances should make it necessary to have an army so numerous as to hazard its liberty, this is one of those calamaties for which there is neither preventative nor cure.\n",
    "\n",
    "It is not easy to conceive a possibility that dangers so formidable can assail the whole Union, as to demand a force considerable enough to place our liberties in the least jeopardy, especially if we take into our view the aid to be derived from the militia, which ought always to be counted upon as a valuable and powerful auxiliary."
   ]
  },
  {
   "cell_type": "markdown",
   "metadata": {},
   "source": [
    "### Federalist 27: The Same Subject Continued (The Idea of Restraining the Legislative Authority in Regard to the Common Defense Considered) (Hamilton)"
   ]
  },
  {
   "cell_type": "markdown",
   "metadata": {},
   "source": [
    "IT HAS been urged, in different shapes, that a Constitution of the kind proposed by the convention cannot operate without the aid of a military force to execute its laws.\n",
    "\n",
    "As far as I have been able to divine the latent meaning of the objectors, it seems to originate in a presupposition that the people will be disinclined to the exercise of federal authority in any matter of an internal nature. Waiving any exception that might be taken to the inaccuracy or inexplicitness of the distinction between internal and external, let us inquire what ground there is to presuppose that disinclination in the people.\n",
    "\n",
    "I believe it may be laid down as a general rule that their confidence in and obedience to a government will commonly be proportioned to the goodness or badness of its administration...Various reasons have been suggested, in the course of these papers, to induce a probability that the general government will be better administered than the particular governments\n",
    "\n",
    "Until satisfactory reasons can be assigned to justify an opinion, that the federal government is likely to be administered in such a manner as to render it odious or contemptible to the people, there can be no reasonable foundation for the supposition that the laws of the Union will meet with any greater obstruction from them, or will stand in need of any other methods to enforce their execution, than the laws of the particular members.\n",
    "\n",
    "Man is very much a creature of habit. A thing that rarely strikes his senses will generally have but little influence upon his mind. A government continually at a distance and out of sight can hardly be expected to interest the sensations of the people. The inference is, that the authority of the Union, and the affections of the citizens towards it, will be strengthened, rather than weakened, by its extension to what are called matters of internal concern; and will have less occasion to recur to force, in proportion to the familiarity and comprehensiveness of its agency. The more it circulates through those channls and currents in which the passions of mankind naturally flow, the less will it require the aid of the violent and perilous expedients of compulsion. \n",
    "\n",
    "One thing, at all events, must be evident, that a government like the one proposed would bid much fairer to avoid the necessity of using force, than that species of league contend for by most of its opponents...It has been shown that in such a Confederacy there can be no sanction for the laws but force; that frequent delinquencies in the members are the natural offspring of the very frame of the government; and that as often as these happen, they can only be redressed, if at all, by war and violence. \n",
    "\n",
    "The plan reported by the convention, by extending the authority of the federal head to the individual citizens of the several States, will enable the government to employ the ordinary magistracy of each, in the execution of its laws. It is easy to perceive that this will tend to destroy, in the common apprehension, all distinction between the sources from which they might proceed; and will give the federal government the same advantage for securing a due obedience to its authority which is enjoyed by the government of each State\n",
    "\n",
    "all officers, legislative, executive, and judicial, in each State, will be bound by the sanctity of an oath. Thus the legislatures, courts, and magistrates, of the respective members, will be incorporated into the operations of the national government AS FAR AS ITS JUST AND CONSTITUTIONAL AUTHORITY EXTENDS; and will be rendered auxiliary to the enforcement of its laws (The sophistry which has been employed to show that this will tend to the destruction of the State governments, will, in its will, in its proper place, be fully detected). Any man who will pursue, by his own reflections, the consequences of this situation, will perceive that there is good ground to calculate upon a regular and peaceable execution of the laws of the Union, if its powers are administered with a common share of prudence\n",
    "\n"
   ]
  },
  {
   "cell_type": "markdown",
   "metadata": {},
   "source": [
    "### Federalist 28: The Same Subject Continued (The Idea of Restraining the Legislative Authority in Regard to the Common Defense Considered) (Hamilton)"
   ]
  },
  {
   "cell_type": "markdown",
   "metadata": {},
   "source": [
    "THAT there may happen cases in which the national government may be necessitated to resort to force, cannot be denied. Our own experience has corroborated the lessons taught by the examples of other nations; that emergencies of this sort will sometimes arise in all societies, however constituted; that seditions and insurrections are, unhappily, maladies as inseparable from the body politic as tumors and eruptions from the natural body; that the idea of governing at all times by the simple force of law - which we have been told is the only admissible principle of republican government - has no place but in the reveries of those political doctors whose sagacity disdains the admonitions of experimental instruction. \n",
    "\n",
    "Should such emergencies at any time happen under the national government, there could be no remedy but force. The means to be employed must be proportioned to the extent of the mischief. If it should be a slight commotion in a small part of a State, the militia of the residue would be adequate to its suppression; and the national presumption is that they would be ready to do their duty. An insurrection, whatever may be its immediate cause, eventually endangers all government. Regard to the public peace, if not to the rights of the Union, would engage the citizens to whom the contagion had not communicated itself to oppose the insurgents; and if the general government should be found in practice conducive to the prosperity and felicity of the people, it were irrational to believe that they would be disinclined to its support. \n",
    "\n",
    "If, on the contrary, the insurrection should pervade a whole State, or a principal part of it, the employment of a different kind of force might become unavoidable...Suppose the State of New York had been inclined to re-establish her lost jurisdiction over the inhabitants of Vermont, could she have hoped for success in such an enterprise from the efforts of the militia alone? Would she not have been compelled to raise and to maintain a more regular force for the execution of her design?\n",
    "\n",
    "All candid and intelligent men must, upon due consideration, acknowledge that...there might sometimes be a necessity to make use of a force constituted differently from the militia, to preserve the peace of the community and to maintain the just authority of the laws against those violent invasions of them which amount to insurrections and rebellions.\n",
    "\n",
    "Independent of all other reasonings upon the subject, it is a full answer to those who require a more peremptory provision against military establishments in time of peace, to say that the whole power of the proposed government is to be in the hands of the representatives of the people. This is the essential, and, after all, only efficacious security for the rights and privileges of the people, which is attainable in civil society.\n",
    "\n",
    "If the representatives of the people betray their constituents, there is then no resource left but in the exertion of that original right of self-defense which is paramount to all positive forms of government, and which against the usurpations of the national rulers, may be exerted with infinitely better prospect of success than against those of the rulers of an individual state. In a single state, if the persons intrusted with supreme power become usurpers, the different parcels, subdivisions, or districts of which it consists, having no distinct government in each, can take no regular measures for defense. The citizens must rush tumultuously to arms, without concert, without system, without resource; except in their courage and despair. The usurpers, clothed with the forms of legal authority, can too often crush the opposition in embryo. The smaller the extent of the territory, the more difficult will it be for the people to form a regular or systematic plan of opposition, and the more easy will it be to defeat their early efforts. Intelligence can be more speedily obtained of their preparations and movements, and the military force in the possession of the usurpers can be more rapidly directed against the part where the opposition has begun. In this situation there must be a peculiar coincidence of circumstances to insure success to the popular resistance.\n",
    "\n",
    "The obstacles to usurpation and the facilities of resistance increase with the increased extent of the state, provided the citizens understand their rights and are disposed to defend them...But in a confederacy the people, without exaggeration, may be said to be entirely the masters of their own fate. Power being almost always the rival of power, the general government will at all times stand ready to check the usurpations of the state governments, and these will have the same disposition towards the general government. The people, by throwing themselves into either scale, will infallibly make it preponderate"
   ]
  },
  {
   "cell_type": "markdown",
   "metadata": {},
   "source": [
    "### Federalist 29: Concerning the Militia (Hamilton)"
   ]
  },
  {
   "cell_type": "markdown",
   "metadata": {},
   "source": [
    "THE power of regulating the militia, and of commanding its services in times of insurrection and invasion are natural incidents to the duties of superintending the common defense, and of watching over the internal peace of the Confederacy\n",
    "\n",
    "It requires no skill in the science of war to discern that uniformity in the organization and discipline of the militia would be attended with the most beneficial effects, whenever they were called into service for the public defense...This desirable uniformity can only be accomplished by confiding the regulation of the militia to the direction of the national authority. It is, therefore, with the most evident propriety, that the plan of the convention proposes to empower the Union \"to provide for organizing, arming, and disciplining the militia, and for governing such part of them as may be employed in the service of the United States, RESERVING TO THE STATES RESPECTIVELY THE APPOINTMENT OF THE OFFICERS, AND THE AUTHORITY OF TRAINING THE MILITIA ACCORDING TO THE DISCIPLINE PRESCRIBED BY CONGRESS\". \n",
    "\n",
    "Of the different grounds which have been taken in opposition to the plan of the convention, there is none that was so little to have been expected, or is so untenable in itself, as the one from which this particular provision has been attacked. If a well-regulated militia be the most natural defense of a free country, it ought certainly to be under the regulation and at the disposal of that body which is constituted the guardian of the national security. If standing armies are dangerous to liberty, an efficacious power over the militia, in the body to whose care the protection of the State is committed, ought, as far as possible, to take away the inducement and the pretext to such unfriendly institutions. If the federal government can command the aid of the militia in those emergencies which call for the military arm in support of the civil magistrate, it can the better dispense with the employment of a different kind of force. If it cannot avail itself of the former, it will be obliged to recur to the latter. To render an army unnecessary, will be a more certain method of preventing its existence than a thousand prohibitions upon paper. \n",
    "\n",
    "In order to cast an odium upon the power of calling forth the militia to execute the laws of the Union, it has been remarked that there is nowhere any provision in the proposed Constitution for calling out the POSSE COMITATUS, to assist the magistrate in the execution of his duty, whence it has been inferred, that military force was intended to be his only auxiliary...The same persons who tell us in one breath, that the powers of the federal government will be despotic and unlimited, inform us in the next, that it has not authority sufficient even to call out the POSSE COMITATUS. The latter, fortunately, is as much short of the truth as the former exceeds it. It would be as absurd to doubt, that a right to pass all laws NECESSARY AND PROPER to execute its declared powers, would include that of requiring the assistance of the citizens to the officers who may be intrusted with the execution of those laws, as it would be to believe, that a right to enact laws necessary and proper for the imposition and collection of taxes would involve that of varying the rules of descent and of the alienation of landed property, or of abolishing the trial by jury in cases relating to it. It being therefore evident that the supposition of a want of power to require the aid of the POSSE COMITATUS is entirely destitute of color, it will follow, that the conclusion which has been drawn from it, in its application to the authority of the federal government over the militia, is as uncandid as it is illogical. \n",
    "\n",
    "By a curious refinement upon the spirit of republican jealousy, we are even taught to apprehend danger from the militia itself, in the hands of the federal government. It is observed that select corps may be formed, composed of the young and ardent, who may be rendered subservient to the views of arbitrary power...were I to deliver my sentiments to a member of the federal legislature from this State on the subject of a militia establishment, I should hold to him, in substance, the following discourse: \n",
    "\n",
    "\"The project of disciplining all the militia of the United States is as futile as it would be injurious, if it were capable of being carried into execution...To oblige the great body of the yeomanry, and of the other classes of the citizens, to be under arms for the purpose of going through military exercises and evolutions, as often as might be necessary to acquire the degree of perfection which would entitle them to the character of a well-regulated militia, would be a real grievance to the people, and a serious public inconvenience and loss...Little more can reasonably be aimed at, with respect to the people at large, than to have them properly armed and equipped; and in order to see that this be not neglected, it will be necessary to assemble them once or twice in the course of a year. But though the scheme of disciplining the whole nation must be abandoned as mischievous or impracticable; yet it is a matter of the utmost importance that a well-digested plan should, as soon as possible, be adopted for the proper establishment of the militia. The attention of the government ought particularly to be directed to the formation of a select corps of moderate extent, upon such principles as will really fit them for service in case of need. By thus circumscribing the plan, it will be possible to have an excellent body of well-trained militia, ready to take the field whenever the defense of the State shall require it. This will not only lessen the call for military establishments, but if circumstances should at any time oblige the government to form an army of any magnitude that army can never be formidable to the liberties of the people while there is a large body of citizens, little, if at all, inferior to them in discipline and the use of arms, who stand ready to defend their own rights and those of their fellow-citizens. This appears to me the only substitute that can be devised for a standing army, and the best possible security against it, if it should exist.\"\n",
    "\n",
    "Where in the name of common-sense, are our fears to end if we may not trust our sons, our brothers, our neighbors, our fellow-citizens? What shadow of danger can there be from men who are daily mingling with the rest of their countrymen and who participate with them in the same feelings, sentiments, habits and interests? What reasonable cause of apprehension can be inferred from a power in the Union to prescribe regulations for the militia, and to command its services when necessary, while the particular States are to have the SOLE AND EXCLUSIVE APPOINTMENT OF THE OFFICERS?\n",
    "\n",
    "A sample of this is to be observed in the exaggerated and improbable suggestions which have taken place respecting the power of calling for the services of the militia...At one moment there is to be a large army to lay prostrate the liberties of the people; at another moment the militia of Virginia are to be dragged from their homes five or six hundred miles, to tame the republican contumacy of Massachusetts\n",
    "\n",
    "If there should be an army to be made use of as the engine of despotism, what need of the militia? If there should be no army, whither would the militia, irritated by being called upon to undertake a distant and hopeless expedition, for the purpose of riveting the chains of slavery upon a part of their countrymen, direct their course, but to the seat of the tyrants, who had meditated so foolish as well as so wicked a project...If we were even to suppose the national rulers actuated by the most ungovernable ambition, it is impossible to believe that they would employ such preposterous means to accomplish their designs.\n",
    "\n",
    "In times of insurrection, or invasion, it would be natural and proper that the militia of a neighboring State should be marched into another, to resist a common enemy, or to guard the republic against the violence of faction or sedition. "
   ]
  },
  {
   "cell_type": "markdown",
   "metadata": {},
   "source": [
    "### Federalist 30: Concerning the General Power of Taxation (Hamilton)"
   ]
  },
  {
   "cell_type": "markdown",
   "metadata": {},
   "source": [
    "Money is, with propriety, considered as the vital principle of the body politic; as that which sustains its life and motion, and enables it to perform its most essential functions. A complete power, therefore, to procure a regular and adequate supply of it, as far as the resources of the community will permit, may be regarded as an indispensable ingredient in every constitution. From a deficiency in this particular, one of two evils must ensue; either the people must be subjected to continual plunder, as a substitute for a more eligible mode of supplying the public wants, or the government must sink into a fatal atrophy, and, in a short course of time, perish. \n",
    "\n",
    "The more intelligent adversaries of the new Constitution admit the force of this reasoning; but they qualify their admission by a distinction between what they call INTERNAL and EXTERNAL taxation. The former they would reserve to the State governments; the latter, which they explain into commercial imposts, or rather duties on imported articles, they declare themselves willing to concede to the federal head. This distinction, however, would violate the maxim of good sense and sound policy, which dictates that every POWER ought to be in proportion to its OBJECT; and would still leave the general government in a kind of tutelage to the State governments, inconsistent with every idea of vigor or efficiency.\n",
    "\n",
    "Thus far the ends of public happiness will be promoted by supplying the wants of government, and all beyond this is unworthy of our care or anxiety. How is it possible that a government half supplied and always necessitous, can fulfill the purposes of its institution, can provide for the security, advance the prosperity, or support the reputation of the commonwealth? How can it ever possess either energy or stability, dignity or credit, confidence at home or respectability abroad? How can its administration be any thing else than a succession of expedients temporizing, impotent, disgraceful? How will it be able to avoid a frequent sacrifice of its engagements to immediate necessity? How can it undertake or execute any liberal or enlarged plans of public good?\n",
    "\n"
   ]
  },
  {
   "cell_type": "markdown",
   "metadata": {},
   "source": [
    "### Federalist 31: The Same Subject Continued: Concerning the General Power of Taxation (Hamilton)"
   ]
  },
  {
   "cell_type": "markdown",
   "metadata": {},
   "source": [
    "IN DISQUISITIONS of every kind, there are certain primary truths, or first principles, upon which all subsequent reasonings must depend. These contain an internal evidence which, antecedent to all reflection or combination, commands the assent of the mind...Of this nature are the maxims in geometry, that \"the whole is greater than its part; things equal to the same are equal to one another; two straight lines cannot enclose a space; and all right angles are equal to each other.'' Of the same nature are these other maxims in ethics and politics, that there cannot be an effect without a cause; that the means ought to be proportioned to the end; that every power ought to be commensurate with its object; that there ought to be no limitation of a power destined to effect a purpose which is itself incapable of limitation.\n",
    "\n",
    "As the duties of superintending the national defense and of securing the public peace against foreign or domestic violence involve a provision for casualties and dangers to which no possible limits can be assigned, the power of making that provision ought to know no other bounds than the exigencies of the nation and the resources of the community. As revenue is the essential engine by which the means of answering the national exigencies must be procured, the power of procuring that article in its full extent must necessarily be comprehended in that of providing for those exigencies. \n",
    "\n",
    "But we find, in fact, that the antagonists of the proposed Constitution, so far from acquiescing in their justness or truth, seem to make their principal and most zealous effort against this part of the plan. It may therefore be satisfactory to analyze the arguments with which they combat it. \n",
    "\n",
    "Those of them which have been most labored with that view, seem in substance to amount to this: \"It is not true, because the exigencies of the Union may not be susceptible of limitation, that its power of laying taxes ought to be unconfined. Revenue is as requisite to the purposes of the local administrations as to those of the Union; and the former are at least of equal importance with the latter to the happiness of the people. It is, therefore, as necessary that the State governments should be able to command the means of supplying their wants, as that the national government should possess the like faculty in respect to the wants of the Union. But an indefinite power of taxation in the LATTER might, and probably would in time, deprive the FORMER of the means of providing for their own necessities; and would subject them entirely to the mercy of the national legislature. As the laws of the Union are to become the supreme law of the land, as it is to have power to pass all laws that may be NECESSARY for carrying into execution the authorities with which it is proposed to vest it, the national government might at any time abolish the taxes imposed for State objects upon the pretense of an interference with its own. It might allege a necessity of doing this in order to give efficacy to the national revenues. And thus all the resources of taxation might by degrees become the subjects of federal monopoly, to the entire exclusion and destruction of the State governments.\"\n",
    "\n",
    "This mode of reasoning appears sometimes to turn upon the supposition of usurpation in the national government...I repeat here what I have observed in substance in another place, that all observations founded upon the danger of usurpation ought to be referred to the composition and structure of the government, not to the nature or extent of its powers. The State governments, by their original constitutions, are invested with complete sovereignty. In what does our security consist against usurpation from that quarter? Doubtless in the manner of their formation, and in a due dependence of those who are to administer them upon the people. If the proposed construction of the federal government be found, upon an impartial examination of it, to be such as to afford, to a proper extent, the same species of security, all apprehensions on the score of usurpation ought to be discarded. \n",
    "\n"
   ]
  },
  {
   "cell_type": "markdown",
   "metadata": {},
   "source": [
    "### Federalist 32: The Same Subject Continued Concerning the General Power of Taxation (Hamilton)"
   ]
  },
  {
   "cell_type": "markdown",
   "metadata": {},
   "source": [
    "ALTHOUGH I am of opinion that there would be no real danger of the consequences which seem to be apprehended to the State governments from a power in the Union to control them in the levies of money, because...a conviction of the utility and necessity of local administrations for local purposes, would be a complete barrier against the oppressive use of such a power; yet I am willing here to allow, in its full extent, the justness of the reasoning which requires that the individual States should possess an independent and uncontrollable authority to raise their own revenues for the supply of their own wants...and that an attempt on the part of the national government to abridge them in the exercise of it, would be a violent assumption of power, unwarranted by any article or clause of its Constitution\n",
    "\n",
    "as the plan of the convention aims only at a partial union or consolidation, the State governments would clearly retain all the rights of sovereignty which they before had, and which were not, by that act, EXCLUSIVELY delegated to the United States.\n",
    "\n",
    "A case which may perhaps be thought to resemble the latter, but which is in fact widely different, affects the question immediately under consideration. I mean the power of imposing taxes on all articles other than exports and imports. This, I contend, is manifestly a concurrent and coequal authority in the United States and in the individual States. There is plainly no expression in the granting clause which makes that power EXCLUSIVE in the Union. There is no independent clause or sentence which prohibits the States from exercising it.\n",
    "\n",
    "The necessity of a concurrent jurisdiction in certain cases results from the division of the sovereign power; and the rule that all authorities, of which the States are not explicitly divested in favor of the Union, remain with them in full vigor, is not a theoretical consequence of that division, but is clearly admitted by the whole tenor of the instrument which contains the articles of the proposed Constitution. "
   ]
  },
  {
   "cell_type": "markdown",
   "metadata": {},
   "source": [
    "### Federalist 33: The Same Subject Continued Concerning the General Power of Taxation (Hamilton)"
   ]
  },
  {
   "cell_type": "markdown",
   "metadata": {},
   "source": [
    "THE residue of the argument against the provisions of the Constitution in respect to taxation is ingrafted upon...The last clause of the eighth section of the first article of the plan...and the second clause of the sixth article...These two clauses have been the source of much virulent invective and petulant declamation against the proposed Constitution. \n",
    "\n",
    "What is a power, but the ability or faculty of doing a thing? What is the ability to do a thing, but the power of employing the MEANS necessary to its execution? What is a LEGISLATIVE power, but a power of making LAWS? What are the MEANS to execute a LEGISLATIVE power but LAWS? What is the power of laying and collecting taxes, but a LEGISLATIVE POWER, or a power of MAKING LAWS, to lay and collect taxes? What are the proper means of executing such a power, but NECESSARY and PROPER laws?\n",
    "\n",
    "This simple train of inquiry furnishes us at once with a test by which to judge of the true nature of the clause complained of. It conducts us to this palpable truth, that a power to lay and collect taxes must be a power to pass all laws NECESSARY and PROPER for the execution of that power; and what does the unfortunate and culumniated provision in question do more than declare the same truth, to wit, that the national legislature, to whom the power of laying and collecting taxes had been previously given, might, in the execution of that power, pass all laws NECESSARY and PROPER to carry it into effect? \n",
    "\n",
    "But it may be again asked, Who is to judge of the NECESSITY and PROPRIETY of the laws to be passed for executing the powers of the Union?...the national government, like every other, must judge, in the first instance, of the proper exercise of its powers, and its constituents in the last. If the federal government should overpass the just bounds of its authority and make a tyrannical use of its powers, the people, whose creature it is, must appeal to the standard they have formed, and take such measures to redress the injury done to the Constitution as the exigency may suggest and prudence justify.\n",
    "\n",
    "But it is said that the laws of the Union are to be the SUPREME LAW of the land...A LAW, by the very meaning of the term, includes supremacy. It is a rule which those to whom it is prescribed are bound to observe. This results from every political association. If individuals enter into a state of society, the laws of that society must be the supreme regulator of their conduct. If a number of political societies enter into a larger political society, the laws which the latter may enact, pursuant to the powers intrusted to it by its constitution, must necessarily be supreme over those societies, and the individuals of whom they are composed. It would otherwise be a mere treaty, dependent on the good faith of the parties, and not a goverment, which is only another word for POLITICAL POWER AND SUPREMACY. But it will not follow from this doctrine that acts of the large society which are NOT PURSUANT to its constitutional powers, but which are invasions of the residuary authorities of the smaller societies, will become the supreme law of the land. These will be merely acts of usurpation, and will deserve to be treated as such.\n",
    "\n",
    "Though a law, therefore, laying a tax for the use of the United States would be supreme in its nature, and could not legally be opposed or controlled, yet a law for abrogating or preventing the collection of a tax laid by the authority of the State - unless upon imports and exports - would not be the supreme law of the land, but a usurpation of power not granted by the Constitution.\n",
    "\n",
    "The inference from the whole is, that the individual States would, under the proposed Constitution, retain an independent and uncontrollable authority to raise revenue to any extent of which they may stand in need, by every kind of taxation, except duties on imports and exports. It will be shown in the next paper that this CONCURRENT JURISDICTION in the article of taxation was the only admissible substitute for an entire subordination, in respect to this branch of power, of the State authority to that of the Union. "
   ]
  },
  {
   "cell_type": "markdown",
   "metadata": {},
   "source": [
    "### Federalist 34: The Same Subject Continued Concerning the General Power of Taxation (Hamilton)"
   ]
  },
  {
   "cell_type": "markdown",
   "metadata": {},
   "source": [
    "I FLATTER myself it has been clearly shown in my last number that the particular States, under the proposed Constitution, would have COEQUAL authority with the Union in the article of revenue, except as to duties on imports. As this leaves open to the States far the greatest part of the resources of the community, there can be no color for the assertion that they would not possess means as abundant as could be desired for the supply of their own wants, independent of all external control.\n",
    "\n",
    "in practice there is little reason to apprehend any inconvenience; because, in a short course of time, the wants of the States will naturally reduce themselves within A VERY NARROW COMPASS; and in the interim, the United States will, in all probability, find it convenient to abstain wholly from those objects to which the particular States would be inclined to resort.\n",
    "\n",
    "In pursuing this inquiry, we must bear in mind that we are not to confine our view to the present period, but to look forward to remote futurity. Constitutions of civil government are not to be framed upon a calculation of existing exigencies, but upon a combination of these with the probable exigencies of ages, according to the natural and tried course of human affairs. Nothing, therefore, can be more fallacious than to infer the extent of any power, proper to be lodged in the national government, from an estimate of its immediate necessities. There ought to be a CAPACITY to provide for future contingencies as they may happen; and as these are illimitable in their nature, it is impossible safely to limit that capacity. It is true, perhaps, that a computation might be made with sufficient accuracy to answer the purpose of the quantity of revenue requisite to discharge the subsisting engagements of the Union, and to maintain those establishments which, for some time to come, would suffice in time of peace. But would it be wise, or would it not rather be the extreme of folly, to stop at this point, and to leave the government intrusted with the care of the national defense in a state of absolute incapacity to provide for the protection of the community against future invasions of the public peace, by foreign war or domestic convulsions?\n",
    "\n",
    "Observations confined to the mere prospects of internal attacks can deserve no weight...but if we mean to be a commercial people, it must form a part of our policy to be able one day to defend that commerce...Admitting that we ought to try the novel and absurd experiment in politics of tying up the hands of government from offensive war founded upon reasons of state, yet certainly we ought not to disable it from guarding the community against the ambition or enmity of other nations. A cloud has been for some time hanging over the European world. If it should break forth into a storm, who can insure us that in its progress a part of its fury would not be spent upon us? No reasonable man would hastily pronounce that we are entirely out of its reach.\n",
    "\n",
    "What are the chief sources of expense in every government? What has occasioned that enormous accumulation of debts with which several of the European nations are oppressed? The answers plainly is, wars and rebellions; the support of those institutions which are necessary to guard the body politic against these two most mortal diseases of society. The expenses arising from those institutions which are relative to the mere domestic police of a state, to the support of its legislative, executive, and judicial departments, with their different appendages, and to the encouragement of agriculture and manufactures (which will comprehend almost all the objects of state expenditure), are insignificant in comparison with those which relate to the national defense. \n",
    "\n",
    "The preceding train of observation will justify the position which has been elsewhere laid down, that \"A CONCURRENT JURISDICTION in the article of taxation was the only admissible substitute for an entire subordination, in respect to this branch of power, of State authority to that of the Union.'' Any separation of the objects of revenue that could have been fallen upon, would have amounted to a sacrifice of the great INTERESTS of the Union to the POWER of the individual States. The convention thought the concurrent jurisdiction preferable to that subordination; and it is evident that it has at least the merit of reconciling an indefinite constitutional power of taxation in the Federal government with an adequate and independent power in the States to provide for their own necessities. There remain a few other lights, in which this important subject of taxation will claim a further consideration."
   ]
  },
  {
   "cell_type": "markdown",
   "metadata": {},
   "source": [
    "### Federalist 35: The Same Subject Continued Concerning the General Power of Taxation (Hamilton)"
   ]
  },
  {
   "cell_type": "markdown",
   "metadata": {},
   "source": [
    "Let us now return to the examination of objections. One which, if we may judge from the frequency of its repetition, seems most to be relied on, is, that the House of Representatives is not sufficiently numerous for the reception of all the different classes of citizens, in order to combine the interests and feelings of every part of the community, and to produce a due sympathy between the representative body and its constituents...The object it seems to aim at is, in the first place, impracticable, and in the sense in which it is contended for, is unnecessary.\n",
    "\n",
    "The idea of an actual representation of all classes of the people, by persons of each class, is altogether visionary. Unless it were expressly provided in the Constitution, that each different occupation should send one or more members, the thing would never take place in practice.\n",
    "\n",
    "It is said to be necessary, that all classes of citizens should have some of their own number in the representative body, in order that their feelings and interests may be the better understood and attended to. But we have seen that this will never happen under any arrangement that leaves the votes of the people free. Where this is the case, the representative body, with too few exceptions to have any influence on the spirit of the government, will be composed of landholders, merchants, and men of the learned professions. But where is the danger that the interests and feelings of the different classes of citizens will not be understood or attended to by these three descriptions of men?\n",
    "\n",
    "Is it not natural that a man who is a candidate for the favor of the people, and who is dependent on the suffrages of his fellow-citizens for the continuance of his public honors, should take care to inform himself of their dispositions and inclinations, and should be willing to allow them their proper degree of influence upon his conduct? This dependence, and the necessity of being bound himself, and his posterity, by the laws to which he gives his assent, are the true, and they are the strong chords of sympathy between the representative and the constituent. \n",
    "\n",
    "There is no part of the administration of government that requires extensive information and a thorough knowledge of the principles of political economy, so much as the business of taxation. The man who understands those principles best will be least likely to resort to oppressive expedients, or sacrifice any particular class of citizens to the procurement of revenue. It might be demonstrated that the most productive system of finance will always be the least burdensome. There can be no doubt that in order to a judicious exercise of the power of taxation, it is necessary that the person in whose hands it should be acquainted with the general genius, habits, and modes of thinking of the people at large, and with the resources of the country. And this is all that can be reasonably meant by a knowledge of the interests and feelings of the people."
   ]
  },
  {
   "cell_type": "markdown",
   "metadata": {},
   "source": [
    "### Federalist 36: The Same Subject Continued Concerning the General Power of Taxation (Hamilton)"
   ]
  },
  {
   "cell_type": "markdown",
   "metadata": {},
   "source": [
    "There is another objection of a somewhat more precise nature that claims our attention. It has been asserted that a power of internal taxation in the national legislature could never be exercised with advantage, as well from the want of a sufficient knowledge of local circumstances, as from an interference between the revenue laws of the Union and of the particular States.\n",
    "\n",
    "The objection, when applied to real property or to houses and lands, appears to have, at first sight, more foundation, but even in this view it will not bear a close examination. Land taxes are commonly laid in one of two modes, either by ACTUAL valuations, permanent or periodical, or by OCCASIONAL assessments, at the discretion, or according to the best judgment, of certain officers whose duty it is to make them. In either case, the EXECUTION of the business, which alone requires the knowledge of local details, must be devolved upon discreet persons in the character of commissioners or assessors, elected by the people or appointed by the government for the purpose. All that the law can do must be to name the persons or to prescribe the manner of their election or appointment, to fix their numbers and qualifications and to draw the general outlines of their powers and duties...local details, as already observed, must be referred to those who are to execute the plan. \n",
    "\n",
    "But there is a simple point of view in which this matter may be placed that must be altogether satisfactory. The national legislature can make use of the SYSTEM OF EACH STATE WITHIN THAT STATE. The method of laying and collecting this species of taxes in each State can, in all its parts, be adopted and employed by the federal government. \n",
    "\n",
    "Let it be recollected that the proportion of these taxes is not to be left to the discretion of the national legislature, but is to be determined by the numbers of each State, as described in the second section of the first article. An actual census or enumeration of the people must furnish the rule, a circumstance which effectually shuts the door to partiality or oppression.\n",
    "\n",
    "Many spectres have been raised out of this power of internal taxation, to excite the apprehensions of the people... the probability is that the United States will either wholly abstain from the objects preoccupied for local purposes, or will make use of the State officers and State regulations for collecting the additional imposition. This will best answer the views of revenue, because it will save expense in the collection, and will best avoid any occasion of disgust to the State governments and to the people...As to any argument derived from a supposed system of influence, it is a sufficient answer to say that it ought not to be presumed; but the supposition is susceptible of a more precise answer. If such a spirit should infest the councils of the Union, the most certain road to the accomplishment of its aim would be to employ the State officers as much as possible, and to attach them to the Union by an accumulation of their emoluments. This would serve to turn the tide of State influence into the channels of the national government, instead of making federal influence flow in an opposite and adverse current.\n",
    "\n",
    "As to poll taxes, I, without scruple, confess my disapprobation of them; and though they have prevailed from an early period in those States which have uniformly been the most tenacious of their rights, I should lament to see them introduced into practice under the national government. But does it follow because there is a power to lay them that they will actually be laid?...Are the State governments to be stigmatized as tyrannies, because they possess this power?...as I know nothing to exempt this portion of the globe from the common calamities that have befallen other parts of it, I acknowledge my aversion to every project that is calculated to disarm the government of a single weapon, which in any possible contingency might be usefully employed for the general defense and security.\n",
    "\n",
    "I have now gone through the examination of such of the powers proposed to be vested in the United States, which may be considered as having an immediate relation to the energy of the government; and have endeavored to answer the principal objections which have been made to them."
   ]
  },
  {
   "cell_type": "markdown",
   "metadata": {},
   "source": [
    "## THE CONFORMITY OF THE PROPOSED CONSTITUTION TO THE TRUE PRINCIPLES OF REPUBLICAN GOVERNMENT"
   ]
  },
  {
   "cell_type": "markdown",
   "metadata": {},
   "source": [
    "### Federalist 37: Concerning the Difficulties of the Convention in Devising a Proper Form of Government (Madison)"
   ]
  },
  {
   "cell_type": "markdown",
   "metadata": {},
   "source": [
    "IN REVIEWING the defects of the existing Confederation, and showing that they cannot be supplied by a government of less energy than that before the public, several of the most important principles of the latter fell of course under consideration. But as the ultimate object of these papers is to determine clearly and fully the merits of this Constitution, and the expediency of adopting it, our plan cannot be complete without taking a more critical and thorough survey of the work of the convention, without examining it on all its sides, comparing it in all its parts, and calculating its probable effects. \n",
    "\n",
    "Persons...will see the propriety of reflecting, that a faultless plan was not to be expected. Nor will they barely make allowances for the errors which may be chargeable on the fallibility to which the convention, as a body of men, were liable...With equal readiness will it be perceived, that...many allowances ought to be made for the difficulties inherent in the very nature of the undertaking referred to the convention. \n",
    "\n",
    "Among the difficulties encountered by the convention, a very important one must have lain in combining the requisite stability and energy in government, with the inviolable attention due to liberty and to the republican form...Energy in government is essential to that security against external and internal danger, and to that prompt and salutary execution of the laws which enter into the very definition of good government. Stability in government is essential to national character and to the advantages annexed to it, as well as to that repose and confidence in the minds of the people, which are among the chief blessings of civil society.\n",
    "\n",
    "The genius of republican liberty seems to demand on one side, not only that all power should be derived from the people, but that those intrusted with it should be kept in independence on the people, by a short duration of their appointments; and that even during this short period the trust should be placed not in a few, but a number of hands. Stability, on the contrary, requires that the hands in which power is lodged should continue for a length of time the same. A frequent change of men will result from a frequent return of elections; and a frequent change of measures from a frequent change of men: whilst energy in government requires not only a certain duration of power, but the execution of it by a single hand.\n",
    "\n",
    "Experience has instructed us that no skill in the science of government has yet been able to discriminate and define, with sufficient certainty, its three great provinces the legislative, executive, and judiciary; or even the privileges and powers of the different legislative branches...the continued and combined labors of the most enlightened legislatures and jurists, has been equally unsuccessful in delineating the several objects and limits of different codes of laws and different tribunals of justice.\n",
    "\n",
    "in Great Britain...All new laws, though penned with the greatest technical skill, and passed on the fullest and most mature deliberation, are considered as more or less obscure and equivocal, until their meaning be liquidated and ascertained by a series of particular discussions and adjudications. Besides the obscurity arising from the complexity of objects, and the imperfection of the human faculties, the medium through which the conceptions of men are conveyed to each other adds a fresh embarrassment. The use of words is to express ideas...But no language is so copious as to supply words and phrases for every complex idea, or so correct as not to include many equivocally denoting different ideas. Hence it must happen that however accurately objects may be discriminated in themselves, and however accurately the discrimination may be considered, the definition of them may be rendered inaccurate by the inaccuracy of the terms in which it is delivered. And this unavoidable inaccuracy must be greater or less, according to the complexity and novelty of the objects defined...Here, then, are three sources of vague and incorrect definitions: indistinctness of the object, imperfection of the organ of conception, inadequateness of the vehicle of ideas. Any one of these must produce a certain degree of obscurity. The convention, in delineating the boundary between the federal and State jurisdictions, must have experienced the full effect of them all. \n",
    "\n",
    "To the difficulties already mentioned may be added the interfering pretensions of the larger and smaller States....We may well suppose that neither side would entirely yield to the other, and consequently that the struggle could be terminated only by compromise. It is extremely probable, also, that...this very compromise must have produced a fresh struggle between the same parties...There are features in the Constitution which warrant each of these suppositions; and as far as either of them is well founded, it shows that the convention must have been compelled to sacrifice theoretical propriety to the force of extraneous considerations.\n",
    "\n",
    "The real wonder is that so many difficulties should have been surmounted, and surmounted with a unanimity almost as unprecedented as it must have been unexpected...The history of almost all the great councils and consultations held among mankind for reconciling their discordant opinions, assuaging their mutual jealousies, and adjusting their respective interests, is a history of factions, contentions, and disappointments...which display the infirmities and depravities of the human character...the convention must have enjoyed, in a very singular degree, an exemption from the pestilential influence of party animosities the disease most incident to deliberative bodies, and most apt to contaminate their proceedings."
   ]
  },
  {
   "cell_type": "markdown",
   "metadata": {},
   "source": [
    "### Federalist 38: The Same Subject Continued, and the Incoherence of the Objections to the New Plan Exposed (Madison)"
   ]
  },
  {
   "cell_type": "markdown",
   "metadata": {},
   "source": [
    "IT IS not a little remarkable that in every case reported by ancient history, in which government has been established with deliberation and consent, the task of framing it has not been committed to an assembly of men, but has been performed by some individual citizen of preeminent wisdom and approved integrity...What degree of agency these reputed lawgivers might have in their respective establishments, or how far they might be clothed with the legitimate authority of the people, cannot in every instance be ascertained\n",
    "\n",
    "If these lessons teach us, on one hand, to admire the improvement made by America on the ancient mode of preparing and establishing regular plans of government, they serve not less, on the other, to admonish us of the hazards and difficulties incident to such experiments, and of the great imprudence of unnecessarily multiplying them. \n",
    "\n",
    "A patient who finds his disorder daily growing worse, and that an efficacious remedy can no longer be delayed without extreme danger, after coolly revolving his situation, and the characters of different physicians, selects and calls in such of them as he judges most capable of administering relief, and best entitled to his confidence...The prescription is no sooner made known, however, than a number of persons interpose, and, without denying the reality or danger of the disorder, assure the patient that the prescription will be poison to his constitution, and forbid him, under pain of certain death, to make use of it. Might not the patient reasonably demand, before he ventured to follow this advice, that the authors of it should at least agree among themselves on some other remedy to be substituted?\n",
    "\n",
    "Such a patient and in such a situation is America at this moment. She has been sensible of her malady. She has obtained a regular and unanimous advice from men of her own deliberate choice. And she is warned by others against following this advice under pain of the most fatal consequences. Do the monitors deny the reality of her danger? No. Do they deny the necessity of some speedy and powerful remedy? No. Are they agreed, are any two of them agreed, in their objections to the remedy proposed, or in the proper one to be substituted? Let them speak for themselves.\n",
    "\n",
    "In the eyes of one the junction of the Senate with the President in the responsible function of appointing to offices, instead of vesting this executive power in the Executive alone, is the vicious part of the organization. To another, the exclusion of the House of Representatives, whose numbers alone could be a due security against corruption and partiality in the exercise of such a power, is equally obnoxious. With another, the admission of the President into any share of a power which ever must be a dangerous engine in the hands of the executive magistrate, is an unpardonable violation of the maxims of republican jealousy. No part of the arrangement, according to some, is more inadmissible than the trial of impeachments by the Senate, which is alternately a member both of the legislative and executive departments, when this power so evidently belonged to the judiciary department.\n",
    "\n",
    "It is a matter both of wonder and regret, that those who raise so many objections against the new Constitution should never call to mind the defects of that which is to be exchanged for it. It is not necessary that the former should be perfect; it is sufficient that the latter is more imperfect...it not manifest that most of the capital objections urged against the new system lie with tenfold weight against the existing Confederation? Is an indefinite power to raise money dangerous in the hands of the federal government? The present Congress can make requisitions to any amount they please, and the States are constitutionally bound to furnish them; they can emit bills of credit as long as they will pay for the paper; they can borrow, both abroad and at home, as long as a shilling will be lent. Is an indefinite power to raise troops dangerous? The Confederation gives to Congress that power also; and they have already begun to make use of it. Is it improper and unsafe to intermix the different powers of government in the same body of men? Congress, a single body of men, are the sole depositary of all the federal powers. Is it particularly dangerous to give the keys of the treasury, and the command of the army, into the same hands? The Confederation places them both in the hands of Congress. Is a bill of rights essential to liberty? The Confederation has no bill of rights. Is it an objection against the new Constitution, that it empowers the Senate, with the concurrence of the Executive, to make treaties which are to be the laws of the land? The existing Congress, without any such control, can make treaties which they themselves have declared, and most of the States have recognized, to be the supreme law of the land. Is the importation of slaves permitted by the new Constitution for twenty years? By the old it is permitted forever. \n",
    "\n",
    "I shall be told, that however dangerous this mixture of powers may be in theory, it is rendered harmless by the dependence of Congress on the State for the means of carrying them into practice; that however large the mass of powers may be, it is in fact a lifeless mass...Out of this lifeless mass has already grown an excrescent power, which tends to realize all the dangers that can be apprehended from a defective construction of the supreme government of the Union.\n",
    "\n",
    "It is now no longer a point of speculation and hope, that the Western territory is a mine of vast wealth to the United States; and although it is not of such a nature as to extricate them from their present distresses, or for some time to come, to yield any regular supplies for the public expenses...Congress have assumed the administration of this stock. They have begun to render it productive. Congress have undertaken to do more: they have proceeded to form new States, to erect temporary governments, to appoint officers for them, and to prescribe the conditions on which such States shall be admitted into the Confederacy. All this has been done; and done without the least color of constitutional authority. Yet no blame has been whispered; no alarm has been sounded. A GREAT and INDEPENDENT fund of revenue is passing into the hands of a SINGLE BODY of men, who can RAISE TROOPS to an INDEFINITE NUMBER, and appropriate money to their support for an INDEFINITE PERIOD OF TIME. And yet there are men, who have not only been silent spectators of this prospect, but who are advocates for the system which exhibits it; and, at the same time, urge against the new system the objections which we have heard.\n",
    "\n",
    "I mean not, by any thing here said, to throw censure on the measures which have been pursued by Congress. I am sensible they could not have done otherwise. The public interest, the necessity of the case, imposed upon them the task of overleaping their constitutional limits. But is not the fact an alarming proof of the danger resulting from a government which does not possess regular powers commensurate to its objects? A dissolution or usurpation is the dreadful dilemma to which it is continually exposed. "
   ]
  },
  {
   "cell_type": "markdown",
   "metadata": {},
   "source": [
    "### Federalist 39: The Conformity of the Plan to Republican Principles (Madison)"
   ]
  },
  {
   "cell_type": "markdown",
   "metadata": {},
   "source": [
    "THE last paper having concluded the observations which were meant to introduce a candid survey of the plan of government reported by the convention, we now proceed to the execution of that part of our undertaking. The first question that offers itself is, whether the general form and aspect of the government be strictly republican. It is evident that no other form would be reconcilable with the genius of the people of America...If the plan of the convention, therefore, be found to depart from the republican character, its advocates must abandon it as no longer defensible. What, then, are the distinctive characters of the republican form?\n",
    "\n",
    "If we resort for a criterion to the different principles on which different forms of government are established, we may define a republic to be, or at least may bestow that name on, a government which derives all its powers directly or indirectly from the great body of the people, and is administered by persons holding their offices during pleasure, for a limited period, or during good behavior. It is ESSENTIAL to such a government that it be derived from the great body of the society, not from an inconsiderable proportion, or a favored class of it; otherwise a handful of tyrannical nobles, exercising their oppressions by a delegation of their powers, might aspire to the rank of republicans, and claim for their government the honorable title of republic. It is SUFFICIENT for such a government that the persons administering it be appointed, either directly or indirectly, by the people; and that they hold their appointments by either of the tenures just specified\n",
    "\n",
    "On comparing the Constitution planned by the convention with the standard here fixed, we perceive at once that it is, in the most rigid sense, conformable to it...\"But it was not sufficient\", say the adversaries of the proposed Constitution, \"for the convention to adhere to the republican form. They ought, with equal care, to have preserved the FEDERAL form, which regards the Union as a CONFEDERACY of sovereign states; instead of which, they have framed a NATIONAL government, which regards the Union as a CONSOLIDATION of the States\".\n",
    "\n",
    "Without inquiring into the accuracy of the distinction on which the objection is founded, it will be necessary to a just estimate of its force, first, to ascertain the real character of the government in question; secondly, to inquire how far the convention were authorized to propose such a government; and thirdly, how far the duty they owed to their country could supply any defect of regular authority. \n",
    "\n",
    "First. In order to ascertain the real character of the government, it may be considered in relation to the foundation on which it is to be established; to the sources from which its ordinary powers are to be drawn; to the operation of those powers; to the extent of them; and to the authority by which future changes in the government are to be introduced...The proposed Constitution...is, in strictness, neither a national nor a federal Constitution, but a composition of both. In its foundation it is federal, not national; in the sources from which the ordinary powers of the government are drawn, it is partly federal and partly national; in the operation of these powers, it is national, not federal; in the extent of them, again, it is federal, not national; and, finally, in the authoritative mode of introducing amendments, it is neither wholly federal nor wholly national. "
   ]
  },
  {
   "cell_type": "markdown",
   "metadata": {},
   "source": [
    "### Federalist 40: The Powers of the Convention to Form a Mixed Government Examined and Sustained (Madison)"
   ]
  },
  {
   "cell_type": "markdown",
   "metadata": {},
   "source": [
    "THE SECOND point to be examined is, whether the convention were authorized to frame and propose this mixed Constitution. The powers of the convention ought, in strictness, to be determined by an inspection of the commissions given to the members by their respective constituents. As all of these, however, had reference, either to the recommendation from the meeting at Annapolis, in September, 1786, or to that from Congress, in February, 1787, it will be sufficient to recur to these particular acts.\n",
    "\n",
    "The act from Annapolis recommends the \"appointment of commissioners to take into consideration the situation of the United States; to devise SUCH FURTHER PROVISIONS as shall appear to them necessary to render the Constitution of the federal government ADEQUATE TO THE EXIGENCIES OF THE UNION; and to report such an act for that purpose, to the United States in Congress assembled, as when agreed to by them, and afterwards confirmed by the legislature of every State, will effectually provide for the same\".\n",
    "\n",
    "The recommendatory act of Congress is in the words following: \"WHEREAS...several of the States...by express instructions to their delegates in Congress, have suggested a convention for the purposes expressed in the following resolution; and such convention appearing to be the most probable mean of establishing in these States A FIRM NATIONAL GOVERNMENT: Resolved, That in the opinion of Congress it is expedient, that on the second Monday of May next a convention of delegates, who shall have been appointed by the several States, be held at Philadelphia, for the sole and express purpose OF REVISING THE ARTICLES OF CONFEDERATION, and reporting to Congress and the several legislatures such ALTERATIONS AND PROVISIONS THEREIN, as shall, when agreed to in Congress, and confirmed by the States, render the federal Constitution ADEQUATE TO THE EXIGENCIES OF GOVERNMENT AND THE PRESERVATION OF THE UNION. \n",
    "\n",
    "From these two acts, it appears, 1st, that the object of the convention was to establish, in these States, A FIRM NATIONAL GOVERNMENT; 2d, that this government was to be such as would be ADEQUATE TO THE EXIGENCIES OF GOVERNMENT and THE PRESERVATION OF THE UNION; 3d, that these purposes were to be effected by ALTERATIONS AND PROVISIONS IN THE ARTICLES OF CONFEDERATION, as it is expressed in the act of Congress, or by SUCH FURTHER PROVISIONS AS SHOULD APPEAR NECESSARY, as it stands in the recommendatory act from Annapolis; 4th, that the alterations and provisions were to be reported to Congress, and to the States, in order to be agreed to by the former and confirmed by the latter. \n",
    "\n",
    "From a comparison and fair construction of these several modes of expression, is to be deduced the authority under which the convention acted. They were to frame a NATIONAL GOVERNMENT, adequate to the EXIGENCIES OF GOVERNMENT, and OF THE UNION; and to reduce the articles of Confederation into such form as to accomplish these purposes. \n",
    "\n",
    "There are two rules of construction, dictated by plain reason, as well as founded on legal axioms. The one is, that every part of the expression ought, if possible, to be allowed some meaning, and be made to conspire to some common end. The other is, that where the several parts cannot be made to coincide, the less important should give way to the more important part; the means should be sacrificed to the end, rather than the end to the means.\n",
    "\n",
    "Suppose, then, that the expressions defining the authority of the convention were irreconcilably at variance with each other; that a NATIONAL and ADEQUATE GOVERNMENT could not possibly, in the judgment of the convention, be affected by ALTERATIONS and PROVISIONS in the ARTICLES OF CONFEDERATION; which part of the definition ought to have been embraced, and which rejected? Which was the more important, which the less important part? Which the end; which the means?\n",
    "\n",
    "Will it be said that the FUNDAMENTAL PRINCIPLES of the Confederation were not within the purview of the convention, and ought not to have been varied? I ask, What are these principles? Do they require that, in the establishment of the Constitution, the States should be regarded as distinct and independent sovereigns? They are so regarded by the Constitution proposed...Do they require that the powers of the government should act on the States, and not immediately on individuals? In some instances, as has been shown, the powers of the new government will act on the States in their collective characters. In some instances, also, those of the existing government act immediately on individuals. In cases of capture; of piracy; of the post office; of coins, weights, and measures; of trade with the Indians; of claims under grants of land by different States; and, above all, in the case of trials by courts-marshal in the army and navy, by which death may be inflicted without the intervention of a jury, or even of a civil magistrate; in all these cases the powers of the Confederation operate immediately on the persons and interests of individual citizens...Do these principles, in fine, require that the powers of the general government should be limited, and that, beyond this limit, the States should be left in possession of their sovereignty and independence? We have seen that in the new government, as in the old, the general powers are limited; and that the States, in all unenumerated cases, are left in the enjoyment of their sovereign and independent jurisdiction. The truth is, that the great principles of the Constitution proposed by the convention may be considered less as absolutely new, than as the expansion of principles which are found in the articles of Confederation. \n",
    "\n",
    "In one particular it is admitted that the convention have departed from the tenor of their commission. Instead of reporting a plan requiring the confirmation OF THE LEGISLATURES OF ALL THE STATES, they have reported a plan which is to be confirmed by the PEOPLE...It is worthy of remark that this objection, though the most plausible, has been the least urged in the publications which have swarmed against the convention. \n",
    "\n",
    "The THIRD point to be inquired into is, how far considerations of duty arising out of the case itself could have supplied any defect of regular authority...Let us view the ground on which the convention stood...It could not be unknown to them that the hopes and expectations of the great body of citizens, throughout this great empire, were turned with the keenest anxiety to the event of their deliberations. They had every reason to believe that the contrary sentiments agitated the minds and bosoms of every external and internal foe to the liberty and prosperity of the United States...They must have reflected, that in all great changes of established governments, forms ought to give way to substance...since it is impossible for the people spontaneously and universally to move in concert towards their object...it is therefore essential that such changes be instituted by some INFORMAL AND UNAUTHORIZED PROPOSITIONS, made by some patriotic and respectable citizen or number of citizens. \n",
    "\n",
    "Had the convention, under all these impressions, and in the midst of all these considerations, instead of exercising a manly confidence in their country...taken the cold and sullen resolution of disappointing its ardent hopes, of sacrificing substance to forms, of committing the dearest interests of their country to the uncertainties of delay and the hazard of events...what judgment ought to have been pronounced by the impartial world, by the friends of mankind, by every virtuous citizen, on the conduct and character of this assembly?\n",
    "\n",
    "But that the objectors may be disarmed of every pretext, it shall be granted for a moment that the convention were neither authorized by their commission, nor justified by circumstances in proposing a Constitution for their country: does it follow that the Constitution ought, for that reason alone, to be rejected? If, according to the noble precept, it be lawful to accept good advice even from an enemy, shall we set the ignoble example of refusing such advice even when it is offered by our friends? The prudent inquiry, in all cases, ought surely to be, not so much FROM WHOM the advice comes, as whether the advice be GOOD.\n",
    "\n",
    "The sum of what has been here advanced and proved is, that the charge against the convention of exceeding their powers, except in one instance little urged by the objectors, has no foundation to support it; that if they had exceeded their powers, they were not only warranted, but required, as the confidential servants of their country, by the circumstances in which they were placed, to exercise the liberty which they assume; and that finally, if they had violated both their powers and their obligations, in proposing a Constitution, this ought nevertheless to be embraced, if it be calculated to accomplish the views and happiness of the people of America.\n"
   ]
  },
  {
   "cell_type": "markdown",
   "metadata": {},
   "source": [
    "### Federalist 41: General View of the Powers Conferred by The Constitution (Madison)"
   ]
  },
  {
   "cell_type": "markdown",
   "metadata": {},
   "source": [
    "THE Constitution proposed by the convention may be considered under two general points of view. The FIRST relates to the sum or quantity of power which it vests in the government, including the restraints imposed on the States. The SECOND, to the particular structure of the government, and the distribution of this power among its several branches.\n",
    "\n",
    "Under the FIRST view of the subject, two important questions arise:\n",
    "\n",
    "1. Whether any part of the powers transferred to the general government be unnecessary or improper?\n",
    "2. Whether the entire mass of them be dangerous to the portion of jurisdiction left in the several States? \n",
    "\n",
    "Is the aggregate power of the general government greater than ought to have been vested in it? This is the FIRST question.\n",
    "\n",
    "It cannot have escaped those who have attended with candor to the arguments employed against the extensive powers of the government, that the authors of them have very little considered how far these powers were necessary means of attaining a necessary end. They have chosen rather to dwell on the inconveniences which must be unavoidably blended with all political advantages; and on the possible abuses which must be incident to every power or trust, of which a beneficial use can be made.\n",
    "\n",
    "This method of handling the subject cannot impose on the good sense of the people of America. It may display the subtlety of the writer; it may open a boundless field for rhetoric and declamation; it may inflame the passions of the unthinking, and may confirm the prejudices of the misthinking: but cool and candid people will at once reflect, that the purest of human blessings must have a portion of alloy in them; that the choice must always be made, if not of the lesser evil, at least of the GREATER, not the PERFECT, good; and that in every political institution, a power to advance the public happiness involves a discretion which may be misapplied and abused. They will see, therefore, that in all cases where power is to be conferred, the point first to be decided is, whether such a power be necessary to the public good; as the next will be, in case of an affirmative decision, to guard as effectually as possible against a perversion of the power to the public detriment\n",
    "\n",
    "That we may form a correct judgment on this subject, it will be proper to review the several powers conferred on the government of the Union; and that this may be the more conveniently done they may be reduced into different classes as they relate to the following different objects:\n",
    "\n",
    "1. Security against foreign danger;\n",
    "2. Regulation of the intercourse with foreign nations;\n",
    "3. Maintenance of harmony and proper intercourse among the States;\n",
    "4. Certain miscellaneous objects of general utility;\n",
    "5. Restraint of the States from certain injurious acts;\n",
    "6. Provisions for giving due efficacy to all these powers.\n",
    "\n",
    "The powers falling within the FIRST class are those of declaring war and granting letters of marque; of providing armies and fleets; of regulating and calling forth the militia; of levying and borrowing money. Security against foreign danger is one of the primitive objects of civil society. It is an avowed and essential object of the American Union. The powers requisite for attaining it must be effectually confided to the federal councils.\n",
    "\n",
    "Is the power of declaring war necessary? No man will answer this question in the negative. It would be superfluous, therefore, to enter into a proof of the affirmative. The existing Confederation establishes this power in the most ample form. \n",
    "\n",
    "Is the power of raising armies and equipping fleets necessary? This is involved in the foregoing power. It is involved in the power of self-defense. But was it necessary to give an INDEFINITE POWER of raising TROOPS, as well as providing fleets; and of maintaining both in PEACE, as well as in war?\n",
    "\n",
    "...With what color of propriety could the force necessary for defense be limited by those who cannot limit the force of offense? If a federal Constitution could chain the ambition or set bounds to the exertions of all other nations, then indeed might it prudently chain the discretion of its own government, and set bounds to the exertions for its own safety. How could a readiness for war in time of peace be safely prohibited, unless we could prohibit, in like manner, the preparations and establishments of every hostile nation? The means of security can only be regulated by the means and the danger of attack. They will, in fact, be ever determined by these rules, and by no others. It is in vain to oppose Constitutional barriers to the impulse of self-preservation. It is worse than in vain; because it plants in the Constitution itself necessary usurpations of power, every precedent of which is a germ of unnecessary and multiplied repetitions. \n",
    "\n",
    "If one nation maintains constantly a disciplined army, ready for the service of ambition or revenge, it obliges the most pacific nations who may be within the reach of its enterprises to take corresponding precautions. The veteran legions of Rome were an overmatch for the undisciplined valor of all other nations and rendered her the mistress of the world. Not the less true is it, that the liberties of Rome proved the final victim to her military triumphs; and that the liberties of Europe, as far as they ever existed, have, with few exceptions, been the price of her military establishments. A standing force, therefore, is a dangerous, at the same time that it may be a necessary, provision. On the smallest scale it has its inconveniences. On an extensive scale its consequences may be fatal. On any scale it is an object of laudable circumspection and precaution. \n",
    "\n",
    "A wise nation will combine all these considerations; and, whilst it does not rashly preclude itself from any resource which may become essential to its safety, will exert all its prudence in diminishing both the necessity and the danger of resorting to one which may be inauspicious to its liberties. The clearest marks of this prudence are stamped on the proposed Constitution. The Union itself, which it cements and secures, destroys every pretext for a military establishment which could be dangerous. America united, with a handful of troops, or without a single soldier, exhibits a more forbidding posture to foreign ambition than America disunited, with a hundred thousand veterans ready for combat...Being rendered by her insular situation and her maritime resources impregnable to the armies of her neighbors, the rulers of Great Britain have never been able, by real or artificial dangers, to cheat the public into an extensive peace establishment. The distance of the United States from the powerful nations of the world gives them the same happy security. A dangerous establishment can never be necessary or plausible, so long as they continue a united people. The moment of its dissolution will be the date of a new order of things...the face of America will be but a copy of that of the continent of Europe. It will present liberty everywhere crushed between standing armies and perpetual taxes...Every man who loves peace, every man who loves his country, every man who loves liberty, ought to have it ever before his eyes, that he may cherish in his heart a due attachment to the Union of America, and be able to set a due value on the means of preserving it. Next to the effectual establishment of the Union, the best possible precaution against danger from standing armies is a limitation of the term for which revenue may be appropriated to their support. This precaution the Constitution has prudently added.\n",
    "\n",
    "A bad cause seldom fails to betray itself. Of this truth, the management of the opposition to the federal government is an unvaried exemplification. But among all the blunders which have been committed, none is more striking than the attempt to enlist on that side the prudent jealousy entertained by the people, of standing armies. The attempt has awakened fully the public attention to that important subject; and has led to investigations which must terminate in a thorough and universal conviction, not only that the Constitution has provided the most effectual guards against danger from that quarter, but that nothing short of a Constitution fully adequate to the national defense and the preservation of the Union, can save America from as many standing armies as it may be split into States or Confederacies\n",
    "\n",
    "The power of regulating and calling forth the militia has been already sufficiently vindicated and explained.\n",
    "\n",
    "The power of levying and borrowing money, being the sinew of that which is to be exerted in the national defense, is properly thrown into the same class with it. This power, also, has been examined already with much attention, and has, I trust, been clearly shown to be necessary, both in the extent and form given to it by the Constitution. \n",
    "\n",
    "Some, who have not denied the necessity of the power of taxation, have grounded a very fierce attack against the Constitution, on the language in which it is defined. It has been urged and echoed, that the power \"to lay and collect taxes, duties, imposts, and excises, to pay the debts, and provide for the common defense and general welfare of the United States\", amounts to an unlimited commission to exercise every power which may be alleged to be necessary for the common defense or general welfare...Had no other enumeration or definition of the powers of the Congress been found in the Constitution, than the general expressions just cited, the authors of the objection might have had some color for it; though it would have been difficult to find a reason for so awkward a form of describing an authority to legislate in all possible cases. A power to destroy the freedom of the press, the trial by jury, or even to regulate the course of descents, or the forms of conveyances, must be very singularly expressed by the terms \"to raise money for the general welfare\".\n",
    "\n",
    "But what color can the objection have, when a specification of the objects alluded to by these general terms immediately follows, and is not even separated by a longer pause than a semicolon? If the different parts of the same instrument ought to be so expounded, as to give meaning to every part which will bear it, shall one part of the same sentence be excluded altogether from a share in the meaning; and shall the more doubtful and indefinite terms be retained in their full extent, and the clear and precise expressions be denied any signification whatsoever? For what purpose could the enumeration of particular powers be inserted, if these and all others were meant to be included in the preceding general power? Nothing is more natural nor common than first to use a general phrase, and then to explain and qualify it by a recital of particulars. But the idea of an enumeration of particulars which neither explain nor qualify the general meaning, and can have no other effect than to confound and mislead, is an absurdity...\n",
    "\n",
    "The objection here is the more extraordinary, as it appears that the language used by the convention is a copy from the articles of Confederation. How difficult it is for error to escape its own condemnation!\n"
   ]
  },
  {
   "cell_type": "markdown",
   "metadata": {},
   "source": [
    "### Federalist 42: The Powers Conferred by the Constitution Further Considered  (Madison)"
   ]
  },
  {
   "cell_type": "markdown",
   "metadata": {},
   "source": [
    "THE SECOND class of powers, lodged in the general government, consists of those which regulate the intercourse with foreign nations, to wit: to make treaties; to send and receive ambassadors, other public ministers, and consuls; to define and punish piracies and felonies committed on the high seas, and offenses against the law of nations; to regulate foreign commerce, including a power to prohibit, after the year 1808, the importation of slaves, and to lay an intermediate duty of ten dollars per head, as a discouragement to such importations\n",
    "\n",
    "This class of powers forms an obvious and essential branch of the federal administration. If we are to be one nation in any respect, it clearly ought to be in respect to other nations.\n",
    "\n",
    "The powers to make treaties and to send and receive ambassadors, speak their own propriety. Both of them are comprised in the articles of Confederation, with this difference only, that the former is disembarrassed, by the plan of the convention, of an exception, under which treaties might be substantially frustrated by regulations of the States.\n",
    "\n",
    "The power to define and punish piracies and felonies committed on the high seas, and offenses against the law of nations, belongs with equal propriety to the general government, and is a still greater improvement on the articles of Confederation. These articles contain no provision for the case of offenses against the law of nations; and consequently leave it in the power of any indiscreet member to embroil the Confederacy with foreign nations. The provision of the federal articles on the subject of piracies and felonies extends no further than to the establishment of courts for the trial of these offenses. The definition of piracies might, perhaps, without inconveniency, be left to the law of nations; though a legislative definition of them is found in most municipal codes. A definition of felonies on the high seas is evidently requisite. Felony is a term of loose signification, even in the common law of England; and of various import in the statute law of that kingdom. But neither the common nor the statute law of that, or of any other nation, ought to be a standard for the proceedings of this, unless previously made its own by legislative adoption. The meaning of the term, as defined in the codes of the several States, would be as impracticable as the former would be a dishonorable and illegitimate guide. It is not precisely the same in any two of the States; and varies in each with every revision of its criminal laws. For the sake of certainty and uniformity, therefore, the power of defining felonies in this case was in every respect necessary and proper. \n",
    "\n",
    "The regulation of foreign commerce, having fallen within several views which have been taken of this subject, has been too fully discussed to need additional proofs here of its being properly submitted to the federal administration. It were doubtless to be wished, that the power of prohibiting the importation of slaves had not been postponed until the year 1808, or rather that it had been suffered to have immediate operation. But it is not difficult to account, either for this restriction on the general government, or for the manner in which the whole clause is expressed. It ought to be considered as a great point gained in favor of humanity, that a period of twenty years may terminate forever, within these States, a traffic which has so long and so loudly upbraided the barbarism of modern policy; that within that period, it will receive a considerable discouragement from the federal government, and may be totally abolished, by a concurrence of the few States which continue the unnatural traffic, in the prohibitory example which has been given by so great a majority of the Union. Happy would it be for the unfortunate Africans, if an equal prospect lay before them of being redeemed from the oppressions of their European brethren! Attempts have been made to pervert this clause into an objection against the Constitution, by representing it on one side as a criminal toleration of an illicit practice, and on another as calculated to prevent voluntary and beneficial emigrations from Europe to America. I mention these misconstructions, not with a view to give them an answer, for they deserve none, but as specimens of the manner and spirit in which some have thought fit to conduct their opposition to the proposed government.\n",
    "\n",
    "The powers included in the THIRD class are those which provide for the harmony and proper intercourse among the States. Under this head might be included the particular restraints imposed on the authority of the States, and certain powers of the judicial department; but the former are reserved for a distinct class, and the latter will be particularly examined when we arrive at the structure and organization of the government. I shall confine myself to a cursory review of the remaining powers comprehended under this third description, to wit: to regulate commerce among the several States and the Indian tribes; to coin money, regulate the value thereof, and of foreign coin; to provide for the punishment of counterfeiting the current coin and secureties of the United States; to fix the standard of weights and measures; to establish a uniform rule of naturalization, and uniform laws of bankruptcy, to prescribe the manner in which the public acts, records, and judicial proceedings of each State shall be proved, and the effect they shall have in other States; and to establish post offices and post roads. \n",
    "\n",
    "The defect of power in the existing Confederacy to regulate the commerce between its several members, is in the number of those which have been clearly pointed out by experience...without this supplemental provision, the great and essential power of regulating foreign commerce would have been incomplete and ineffectual. A very material object of this power was the relief of the States which import and export through other States, from the improper contributions levied on them by the latter. Were these at liberty to regulate the trade between State and State...We may be assured by past experience, that...it would nourish unceasing animosities, and not improbably terminate in serious interruptions of the public tranquillity. \n",
    "\n",
    "In Germany it is a law of the empire, that the princes and states shall not lay tolls or customs on bridges, rivers, or passages, without the consent of the emperor and the diet; though it appears from a quotation in an antecedent paper, that the practice in this, as in many other instances in that confederacy, has not followed the law, and has produced there the mischiefs which have been foreseen here.\n",
    "\n",
    "All that need be remarked on the power to coin money, regulate the value thereof, and of foreign coin, is, that by providing for this last case, the Constitution has supplied a material omission in the articles of Confederation. The authority of the existing Congress is restrained to the regulation of coin STRUCK by their own authority, or that of the respective States. It must be seen at once that the proposed uniformity in the VALUE of the current coin might be destroyed by subjecting that of foreign coin to the different regulations of the different States. The punishment of counterfeiting the public securities, as well as the current coin, is submitted of course to that authority which is to secure the value of both. The regulation of weights and measures is transferred from the articles of Confederation, and is founded on like considerations with the preceding power of regulating coin. \n",
    "\n",
    "he dissimilarity in the rules of naturalization has long been remarked as a fault in our system, and as laying a foundation for intricate and delicate questions. In the fourth article of the Confederation, it is declared \"that the FREE INHABITANTS of each of these States, paupers, vagabonds, and fugitives from justice, excepted, shall be entitled to all privileges and immunities of FREE CITIZENS in the several States; and THE PEOPLE of each State shall, in every other, enjoy all the privileges of trade and commerce,'' etc. There is a confusion of language here, which is remarkable. Why the terms FREE INHABITANTS are used in one part of the article, FREE CITIZENS in another, and PEOPLE in another; or what was meant by superadding to \"all privileges and immunities of free citizens,'' \"all the privileges of trade and commerce,'' cannot easily be determined. It seems to be a construction scarcely avoidable, however, that those who come under the denomination of FREE INHABITANTS of a State, although not citizens of such State, are entitled, in every other State, to all the privileges of FREE CITIZENS of the latter; that is, to greater privileges than they may be entitled to in their own State: so that it may be in the power of a particular State, or rather every State is laid under a necessity, not only to confer the rights of citizenship in other States upon any whom it may admit to such rights within itself, but upon any whom it may allow to become inhabitants within its jurisdiction. But were an exposition of the term \"inhabitants'' to be admitted which would confine the stipulated privileges to citizens alone, the difficulty is diminished only, not removed. The very improper power would still be retained by each State, of naturalizing aliens in every other State. In one State, residence for a short term confirms all the rights of citizenship: in another, qualifications of greater importance are required. An alien, therefore, legally incapacitated for certain rights in the latter, may, by previous residence only in the former, elude his incapacity; and thus the law of one State be preposterously rendered paramount to the law of another, within the jurisdiction of the other. "
   ]
  },
  {
   "cell_type": "markdown",
   "metadata": {},
   "source": [
    "### Federalist 43: The Same Subject Continued(The Powers Conferred by the Constitution Further Considered) (Madison)"
   ]
  },
  {
   "cell_type": "markdown",
   "metadata": {},
   "source": [
    "THE FOURTH class comprises the following miscellaneous powers: \n",
    "\n",
    "1. A power \"to promote the progress of science and useful arts, by securing, for a limited time, to authors and inventors, the exclusive right to their respective writings and discoveries\".\n",
    "\n",
    "The utility of this power will scarcely be questioned. The copyright of authors has been solemnly adjudged, in Great Britain, to be a right of common law. The right to useful inventions seems with equal reason to belong to the inventors. The public good fully coincides in both cases with the claims of individuals.\n",
    "\n",
    "2. \"To exercise exclusive legislation, in all cases whatsoever, over such district (not exceeding ten miles square) as may, by cession of particular States and the acceptance of Congress, become the seat of the government of the United States; and to exercise like authority over all places purchased by the consent of the legislatures of the States in which the same shall be, for the erection of forts, magazines, arsenals, dockyards, and other needful buildings\".\n",
    "\n",
    "The indispensable necessity of complete authority at the seat of government, carries its own evidence with it. It is a power exercised by every legislature of the Union, I might say of the world, by virtue of its general supremacy...The necessity of a like authority over forts, magazines, etc. , established by the general government, is not less evident. The public money expended on such places, and the public property deposited in them, requires that they should be exempt from the authority of the particular State. Nor would it be proper for the places on which the security of the entire Union may depend, to be in any degree dependent on a particular member of it.\n",
    "\n",
    "3. \"To declare the punishment of treason, but no attainder of treason shall work corruption of blood, or forfeiture, except during the life of the person attained\".\n",
    "\n",
    "As treason may be committed against the United States, the authority of the United States ought to be enabled to punish it. But as new-fangled and artificial treasons have been the great engines by which violent factions, the natural offspring of free government, have usually wreaked their alternate malignity on each other, the convention have, with great judgment, opposed a barrier to this peculiar danger, by inserting a constitutional definition of the crime, fixing the proof necessary for conviction of it, and restraining the Congress, even in punishing it, from extending the consequences of guilt beyond the person of its author.\n",
    "\n",
    "4. \"To admit new States into the Union; but no new State shall be formed or erected within the jurisdiction of any other State; nor any State be formed by the junction of two or more States, or parts of States, without the consent of the legislatures of the States concerned, as well as of the Congress\". \n",
    "\n",
    "In the articles of Confederation, no provision is found on this important subject...We have seen the inconvenience of this omission, and the assumption of power into which Congress have been led by it. With great propriety, therefore, has the new system supplied the defect.\n",
    "\n",
    "5. \"To dispose of and make all needful rules and regulations respecting the territory or other property belonging to the United States, with a proviso, that nothing in the Constitution shall be so construed as to prejudice any claims of the United States, or of any particular State\"\n",
    "\n",
    "This is a power of very great importance, and required by considerations similar to those which show the propriety of the former. The proviso annexed is proper in itself, and was probably rendered absolutely necessary by jealousies and questions concerning the Western territory sufficiently known to the public. \n",
    "\n",
    "6. \"To guarantee to every State in the Union a republican form of government; to protect each of them against invasion; and on application of the legislature, or of the executive (when the legislature cannot be convened), against domestic violence\". In a confederacy founded on republican principles, and composed of republican members, the superintending government ought clearly to possess authority to defend the system against aristocratic or monarchial innovations.\n",
    "\n",
    "It may possibly be asked, what need there could be of such a precaution, and whether it may not become a pretext for alterations in the State governments, without the concurrence of the States themselves. These questions admit of ready answers. If the interposition of the general government should not be needed, the provision for such an event will be a harmless superfluity only in the Constitution. But who can say what experiments may be produced by the caprice of particular States, by the ambition of enterprising leaders, or by the intrigues and influence of foreign powers? To the second question it may be answered, that if the general government should interpose by virtue of this constitutional authority, it will be, of course, bound to pursue the authority. But the authority extends no further than to a GUARANTY of a republican form of government, which supposes a pre-existing government of the form which is to be guaranteed. As long, therefore, as the existing republican forms are continued by the States, they are guaranteed by the federal Constitution.\n",
    "\n",
    "A protection against invasion is due from every society to the parts composing it. The latitude of the expression here used seems to secure each State, not only against foreign hostility, but against ambitious or vindictive enterprises of its more powerful neighbors...Protection against domestic violence is added with equal propriety...A recent and well-known event among ourselves has warned us to be prepared for emergencies of a like nature.\n",
    "\n",
    "At first view, it might seem not to square with the republican theory, to suppose, either that a majority have not the right, or that a minority will have the force, to subvert a government; and consequently, that the federal interposition can never be required, but when it would be improper...Why may not illicit combinations, for purposes of violence, be formed as well by a majority of a State, especially a small State as by a majority of a county, or a district of the same State; and if the authority of the State ought, in the latter case, to protect the local magistracy, ought not the federal authority, in the former, to support the State authority?...Insurrections in a State will rarely induce a federal interposition, unless the number concerned in them bear some proportion to the friends of government. It will be much better that the violence in such cases should be repressed by the superintending power, than that the majority should be left to maintain their cause by a bloody and obstinate contest. The existence of a right to interpose, will generally prevent the necessity of exerting it.\n",
    "\n",
    "Is it true that force and right are necessarily on the same side in republican governments? May not the minor party possess such a superiority of pecuniary resources, of military talents and experience, or of secret succors from foreign powers, as will render it superior also in an appeal to the sword?...Nothing can be more chimerical than to imagine that in a trial of actual force, victory may be calculated by the rules which prevail in a census of the inhabitants, or which determine the event of an election! \n",
    "\n",
    "May it not happen, in fine, that the minority of CITIZENS may become a majority of PERSONS, by the accession of alien residents, of a casual concourse of adventurers, or of those whom the constitution of the State has not admitted to the rights of suffrage? I take no notice of an unhappy species of population abounding in some of the States, who, during the calm of regular government, are sunk below the level of men; but who, in the tempestuous scenes of civil violence, may emerge into the human character, and give a superiority of strength to any party with which they may associate themselves. In cases where it may be doubtful on which side justice lies, what better umpires could be desired by two violent factions, flying to arms, and tearing a State to pieces, than the representatives of confederate States, not heated by the local flame? To the impartiality of judges, they would unite the affection of friends. Happy would it be if such a remedy for its infirmities could be enjoyed by all free governments; if a project equally effectual could be established for the universal peace of mankind!\n",
    "\n",
    "Should it be asked, what is to be the redress for an insurrection pervading all the States, and comprising a superiority of the entire force, though not a constitutional right? the answer must be, that such a case, as it would be without the compass of human remedies, so it is fortunately not within the compass of human probability\n",
    "\n",
    "7. \"To consider all debts contracted, and engagements entered into, before the adoption of this Constitution, as being no less valid against the United States, under this Constitution, than under the Confederation.\"\n",
    "\n",
    "This can only be considered as a declaratory proposition; and may have been inserted, among other reasons, for the satisfaction of the foreign creditors of the United States, who cannot be strangers to the pretended doctrine, that a change in the political form of civil society has the magical effect of dissolving its moral obligations.\n",
    "\n",
    "8. \"To provide for amendments to be ratified by three fourths of the States under two exceptions only\".\n",
    "\n",
    "That useful alterations will be suggested by experience, could not but be foreseen...The mode preferred by the convention seems to be stamped with every mark of propriety...The exception in favor of the equality of suffrage in the Senate, was probably meant as a palladium to the residuary sovereignty of the States, implied and secured by that principle of representation in one branch of the legislature; and was probably insisted on by the States particularly attached to that equality. The other exception must have been admitted on the same considerations which produced the privilege defended by it. \n",
    "\n",
    "9. \"The ratification of the conventions of nine States shall be sufficient for the establishment of this Constitution between the States, ratifying the same\".\n",
    "\n",
    "This article speaks for itself. The express authority of the people alone could give due validity to the Constitution. To have required the unanimous ratification of the thirteen States, would have subjected the essential interests of the whole to the caprice or corruption of a single member. Two questions of a very delicate nature present themselves on this occasion: On what principle the Confederation, which stands in the solemn form of a compact among the States, can be superseded without the unanimous consent of the parties to it? What relation is to subsist between the nine or more States ratifying the Constitution, and the remaining few who do not become parties to it? The first question is answered at once by recurring to the absolute necessity of the case; to the great principle of self-preservation; to the transcendent law of nature...which declares that the safety and happiness of society are the objects at which all political institutions aim, and to which all such institutions must be sacrificed...The second question is not less delicate...It is one of those cases which must be left to provide for itself. In general, it may be observed, that although no political relation can subsist between the assenting and dissenting States, yet the moral relations will remain uncancelled. The claims of justice, both on one side and on the other, will be in force, and must be fulfilled; the rights of humanity must in all cases be duly and mutually respected; whilst considerations of a common interest... will, it is hoped, not urge in vain MODERATION on one side, and PRUDENCE on the other. "
   ]
  },
  {
   "cell_type": "markdown",
   "metadata": {},
   "source": [
    "### Federalist 44: Restrictions on the Authority of the Several States (Madison)"
   ]
  },
  {
   "cell_type": "markdown",
   "metadata": {},
   "source": [
    "A FIFTH class of provisions in favor of the federal authority consists of the following restrictions on the authority of the several States: \n",
    "\n",
    "1. \"No State shall enter into any treaty, alliance, or confederation; grant letters of marque and reprisal; coin money; emit bills of credit; make any thing but gold and silver a legal tender in payment of debts; pass any bill of attainder, ex-post-facto law, or law impairing the obligation of contracts; or grant any title of nobility\".\n",
    "\n",
    "The prohibition against treaties, alliances, and confederations makes a part of the existing articles of Union; and for reasons which need no explanation, is copied into the new Constitution. The prohibition of letters of marque is another part of the old system, but is somewhat extended in the new. According to the former, letters of marque could be granted by the States after a declaration of war; according to the latter, these licenses must be obtained, as well during war as previous to its declaration, from the government of the United States. The right of coining money, which is here taken from the States, was left in their hands by the Confederation...In this instance, also, the new provision is an improvement on the old...The...prohibition to bills of credit must give pleasure to every citizen, in proportion to his love of justice and his knowledge of the true springs of public prosperity. The loss which America has sustained since the peace, from the pestilent effects of paper money on the necessary confidence between man and man, on the necessary confidence in the public councils, on the industry and morals of the people, and on the character of republican government, constitutes an enormous debt against the States chargeable with this unadvised measure...No one of these mischiefs is less incident to a power in the States to emit paper money, than to coin gold or silver. The power to make any thing but gold and silver a tender in payment of debts, is withdrawn from the States, on the same principle with that of issuing a paper currency. Bills of attainder, ex-post-facto laws, and laws impairing the obligation of contracts, are contrary to the first principles of the social compact, and to every principle of sound legislation...Very properly, therefore, have the convention added this constitutional bulwark in favor of personal security and private rights; and I am much deceived if they have not, in so doing, as faithfully consulted the genuine sentiments as the undoubted interests of their constituents. The sober people of America...have seen with regret and indignation that sudden changes and legislative interferences, in cases affecting personal rights, become jobs in the hands of enterprising and influential speculators, and snares to the more-industrious and lessinformed part of the community. They have seen, too, that one legislative interference is but the first link of a long chain of repetitions, every subsequent interference being naturally produced by the effects of the preceding. They very rightly infer, therefore, that some thorough reform is wanting, which will banish speculations on public measures, inspire a general prudence and industry, and give a regular course to the business of society. The prohibition with respect to titles of nobility is copied from the articles of Confederation and needs no comment.\n",
    "\n",
    "2. \"No State shall, without the consent of the Congress, lay any imposts or duties on imports or exports, except what may be absolutely necessary for executing its inspection laws, and the net produce of all duties and imposts laid by any State on imports or exports, shall be for the use of the treasury of the United States; and all such laws shall be subject to the revision and control of the Congress. No State shall, without the consent of Congress, lay any duty on tonnage, keep troops or ships of war in time of peace, enter into any agreement or compact with another State, or with a foreign power, or engage in war unless actually invaded, or in such imminent danger as will not admit of delay\".\n",
    "\n",
    "The restraint on the power of the States over imports and exports is enforced by all the arguments which prove the necessity of submitting the regulation of trade to the federal councils. It is needless, therefore, to remark further on this head...The remaining particulars of this clause fall within reasonings which are either so obvious, or have been so fully developed, that they may be passed over without remark.\n",
    "\n",
    "The SIXTH and last class consists of the several powers and provisions by which efficacy is given to all the rest.\n",
    "\n",
    "1. Of these the first is, the \"power to make all laws which shall be necessary and proper for carrying into execution the foregoing powers, and all other powers vested by this Constitution in the government of the United States, or in any department or officer thereof\".\n",
    "\n",
    "Few parts of the Constitution have been assailed with more intemperance than this; yet on a fair investigation of it, no part can appear more completely invulnerable. Without the SUBSTANCE of this power, the whole Constitution would be a dead letter. Those who object to the article, therefore, as a part of the Constitution, can only mean that the FORM of the provision is improper. But have they considered whether a better form could have been substituted? \n",
    "\n",
    "There are four other possible methods which the Constitution might have taken on this subject. They might have copied the second article of the existing Confederation, which would have prohibited the exercise of any power not EXPRESSLY delegated; they might have attempted a positive enumeration of the powers comprehended under the general terms \"necessary and proper\"; they might have attempted a negative enumeration of them, by specifying the powers excepted from the general definition; they might have been altogether silent on the subject, leaving these necessary and proper powers to construction and inference. \n",
    "\n",
    "Had the convention taken the first method of adopting the second article of Confederation, it is evident that the new Congress would be continually exposed, as their predecessors have been, to the alternative of construing the term \"EXPRESSLY\" with so much rigor, as to disarm the government of all real authority whatever, or with so much latitude as to destroy altogether the force of the restriction...the government...would find itself...distressed with the alternative of betraying the public interests by doing nothing, or of violating the Constitution by exercising powers indispensably necessary and proper, but, at the same time, not EXPRESSLY granted.\n",
    "\n",
    "Had the convention attempted a positive enumeration of the powers necessary and proper for carrying their other powers into effect, the attempt would have involved a complete digest of laws on every subject to which the Constitution relates; accommodated too, not only to the existing state of things, but to all the possible changes which futurity may produce; for in every new application of a general power, the PARTICULAR POWERS, which are the means of attaining the OBJECT of the general power, must always necessarily vary with that object, and be often properly varied whilst the object remains the same.\n",
    "\n",
    "Had they attempted to enumerate the particular powers or means not necessary or proper for carrying the general powers into execution, the task would have been no less chimerical; and would have been liable to this further objection, that every defect in the enumeration would have been equivalent to a positive grant of authority. If, to avoid this consequence, they had attempted a partial enumeration of the exceptions, and described the residue by the general terms, NOT NECESSARY OR PROPER, it must have happened that the enumeration would comprehend a few of the excepted powers only...the unnecessary and improper powers included in the residuum, would be less forcibly excepted, than if no partial enumeration had been made.\n",
    "\n",
    "Had the Constitution been silent on this head, there can be no doubt that all the particular powers requisite as means of executing the general powers would have resulted to the government, by unavoidable implication. No axiom is more clearly established in law, or in reason, than that wherever the end is required, the means are authorized; wherever a general power to do a thing is given, every particular power necessary for doing it is included. Had this last method, therefore, been pursued by the convention, every objection now urged against their plan would remain in all its plausibility; and the real inconveniency would be incurred of not removing a pretext which may be seized on critical occasions for drawing into question the essential powers of the Union. \n",
    "\n",
    "If it be asked what is to be the consequence, in case the Congress shall misconstrue this part of the Constitution, and exercise powers not warranted by its true meaning, I answer, the same as if they should misconstrue or enlarge any other power vested in them...the same, in short, as if the State legislatures should violate the irrespective constitutional authorities...In the first instance, the success of the usurpation will depend on the executive and judiciary departments, which are to expound and give effect to the legislative acts; and in the last resort a remedy must be obtained from the people who can, by the election of more faithful representatives, annul the acts of the usurpers.\n",
    "\n",
    "2. \"This Constitution and the laws of the United States which shall be made in pursuance thereof, and all treaties made, or which shall be made, under the authority of the United States, shall be the supreme law of the land, and the judges in every State shall be bound thereby, any thing in the constitution or laws of any State to the contrary notwithstanding\".\n",
    "\n",
    "The indiscreet zeal of the adversaries to the Constitution has betrayed them into an attack on this part of it also, without which it would have been evidently and radically defective...In fine, the world would have seen, for the first time, a system of government founded on an inversion of the fundamental principles of all government; it would have seen the authority of the whole society every where subordinate to the authority of the parts; it would have seen a monster, in which the head was under the direction of the members.\n",
    "\n",
    "3. \"The Senators and Representatives, and the members of the several State legislatures, and all executive and judicial officers, both of the United States and the several States, shall be bound by oath or affirmation to support this Constitution\"\n",
    "\n",
    "It has been asked why it was thought necessary, that the State magistracy should be bound to support the federal Constitution, and unnecessary that a like oath should be imposed on the officers of the United States, in favor of the State constitutions. Several reasons might be assigned for the distinction. I content myself with one, which is obvious and conclusive. The members of the federal government will have no agency in carrying the State constitutions into effect. The members and officers of the State governments, on the contrary, will have an essential agency in giving effect to the federal Constitution.\n",
    "\n",
    "Among the provisions for giving efficacy to the federal powers might be added those which belong to the executive and judiciary departments: but as these are reserved for particular examination in another place, I pass them over in this. \n",
    "\n",
    "We have now reviewed, in detail, all the articles composing the sum or quantity of power delegated by the proposed Constitution to the federal government, and are brought to this undeniable conclusion, that no part of the power is unnecessary or improper for accomplishing the necessary objects of the Union."
   ]
  },
  {
   "cell_type": "markdown",
   "metadata": {},
   "source": [
    "### Federalist 45: The Alleged Danger From the Powers of the Union to the State Governments Considered (Madison)"
   ]
  },
  {
   "cell_type": "markdown",
   "metadata": {},
   "source": [
    "HAVING shown that no one of the powers transferred to the federal government is unnecessary or improper, the next question to be considered is, whether the whole mass of them will be dangerous to the portion of authority left in the several States.\n",
    "\n",
    "But if the Union, as has been shown, be essential to the security of the people of America against foreign danger; if it be essential to their security against contentions and wars among the different States; if it be essential to guard them against those violent and oppressive factions which embitter the blessings of liberty, and against those military establishments which must gradually poison its very fountain; if, in a word, the Union be essential to the happiness of the people of America, is it not preposterous, to urge as an objection to a government, without which the objects of the Union cannot be attained, that such a government may derogate from the importance of the governments of the individual States? \n",
    "\n",
    "Was, then, the American Revolution effected, was the American Confederacy formed, was the precious blood of thousands spilt, and the hard-earned substance of millions lavished, not that the people of America should enjoy peace, liberty, and safety, but that the government of the individual States...might enjoy a certain extent of power, and be arrayed with certain dignities and attributes of sovereignty? \n",
    "\n",
    "It is too early for politicians to presume on our forgetting that the public good, the real welfare of the great body of the people, is the supreme object to be pursued; and that no form of government whatever has any other value than as it may be fitted for the attainment of this object. Were the plan of the convention adverse to the public happiness, my voice would be, Reject the plan. Were the Union itself inconsistent with the public happiness, it would be, Abolish the Union. In like manner, as far as the sovereignty of the States cannot be reconciled to the happiness of the people, the voice of every good citizen must be, Let the former be sacrificed to the latter. How far the sacrifice is necessary, has been shown. How far the unsacrificed residue will be endangered, is the question before us.\n",
    "\n",
    "We have seen, in all the examples of ancient and modern confederacies...the members...despoil the general government of its authorities...as the States will retain, under the proposed Constitution, a very extensive portion of active sovereignty, the inference ought not to be wholly disregarded.\n",
    "\n",
    "In the Achaean league it is probable that the federal head had a degree and species of power, which gave it a considerable likeness to the government framed by the convention. The Lycian Confederacy, as far as its principles and form are transmitted, must have borne a still greater analogy to it. Yet history does not inform us that either of them ever degenerated, or tended to degenerate, into one consolidated government. On the contrary, we know that the ruin of one of them proceeded from the incapacity of the federal authority to prevent the dissensions, and finally the disunion, of the subordinate authorities. In the feudal system, we have seen a similar propensity exemplified...Had no external dangers enforced internal harmony and subordination, and particularly, had the local sovereigns possessed the affections of the people, the great kingdoms in Europe would at this time consist of as many independent princes as there were formerly feudatory barons.\n",
    "\n",
    "The State governments may be regarded as constituent and essential parts of the federal government...Without the intervention of the State legislatures, the President of the United States cannot be elected at all...The Senate will be elected absolutely and exclusively by the State legislatures. Even the House of Representatives, though drawn immediately from the people, will be chosen very much under the influence of that class of men, whose influence over the people obtains for themselves an election into the State legislatures. Thus, each of the principal branches of the federal government will owe its existence more or less to the favor of the State governments\n",
    "\n",
    "The number of individuals employed under the Constitution of the United States will be much smaller than the number employed under the particular States. There will consequently be less of personal influence on the side of the former than of the latter. The members of the legislative, executive, and judiciary departments of thirteen and more States, the justices of peace, officers of militia, ministerial officers of justice, with all the county, corporation, and town officers, for three millions and more of people, intermixed, and having particular acquaintance with every class and circle of people, must exceed, beyond all proportion, both in number and influence, those of every description who will be employed in the administration of the federal system. Compare the members of the three great departments of the thirteen States, excluding from the judiciary department the justices of peace, with the members of the corresponding departments of the single government of the Union; compare the militia officers of three millions of people with the military and marine officers of any establishment which is within the compass of probability, or, I may add, of possibility, and in this view alone, we may pronounce the advantage of the States to be decisive.\n",
    "\n",
    "The powers reserved to the several States will extend to all the objects which, in the ordinary course of affairs, concern the lives, liberties, and properties of the people, and the internal order, improvement, and prosperity of the State. The operations of the federal government will be most extensive and important in times of war and danger; those of the State governments, in times of peace and security. As the former periods will probably bear a small proportion to the latter, the State governments will here enjoy another advantage over the federal government. The more adequate, indeed, the federal powers may be rendered to the national defense, the less frequent will be those scenes of danger which might favor their ascendancy over the governments of the particular States. If the new Constitution be examined with accuracy and candor, it will be found that the change which it proposes consists much less in the addition of NEW POWERS to the Union, than in the invigoration of its ORIGINAL POWERS. The regulation of commerce, it is true, is a new power; but that seems to be an addition which few oppose, and from which no apprehensions are entertained. The powers relating to war and peace, armies and fleets, treaties and finance, with the other more considerable powers, are all vested in the existing Congress by the articles of Confederation. The proposed change does not enlarge these powers; it only substitutes a more effectual mode of administering them.\n",
    "\n",
    "Had the States complied punctually with the articles of Confederation, or could their compliance have been enforced by as peaceable means as may be used with success towards single persons, our past experience is very far from countenancing an opinion, that the State governments would have lost their constitutional powers, and have gradually undergone an entire consolidation. To maintain that such an event would have ensued, would be to say at once, that the existence of the State governments is incompatible with any system whatever that accomplishes the essental purposes of the Union. \n",
    "\n"
   ]
  },
  {
   "cell_type": "markdown",
   "metadata": {},
   "source": [
    "### Federalist 46: The Influence of the State and Federal Governments Compared (Madison)"
   ]
  },
  {
   "cell_type": "markdown",
   "metadata": {},
   "source": [
    "RESUMING the subject of the last paper, I proceed to inquire whether the federal government or the State governments will have the advantage with regard to the predilection and support of the people.\n",
    "\n",
    "Notwithstanding the different modes in which they are appointed, we must consider both of them as substantially dependent on the great body of the citizens of the United States...The federal and State governments are in fact but different agents and trustees of the people, constituted with different powers, and designed for different purposes. The adversaries of the Constitution seem to have lost sight of the people altogether in their reasonings on this subject...the ultimate authority, wherever the derivative may be found, resides in the people alone...\n",
    "\n",
    "the first and most natural attachment of the people will be to the governments of their respective States. Into the administration of these a greater number of individuals will expect to rise. From the gift of these a greater number of offices and emoluments will flow. By the superintending care of these, all the more domestic and personal interests of the people will be regulated and provided for. With the affairs of these, the people will be more familiarly and minutely conversant. And with the members of these, will a greater proportion of the people have the ties of personal acquaintance and friendship, and of family and party attachments; on the side of these, therefore, the popular bias may well be expected most strongly to incline...If, therefore, as has been elsewhere remarked, the people should in future become more partial to the federal than to the State governments, the change can only result from such manifest and irresistible proofs of a better administration, as will overcome all their antecedent propensities.\n",
    "\n",
    "If an act of a particular State, though unfriendly to the national government, be generally popular in that State and should not too grossly violate the oaths of the State officers, it is executed immediately and, of course, by means on the spot and depending on the State alone. The opposition of the federal government, or the interposition of federal officers, would but inflame the zeal of all parties on the side of the State, and the evil could not be prevented or repaired, if at all, without the employment of means which must always be resorted to with reluctance and difficulty. On the other hand, should an unwarrantable measure of the federal government be unpopular in particular States, which would seldom fail to be the case, or even a warrantable measure be so, which may sometimes be the case, the means of opposition to it are powerful and at hand. The disquietude of the people; their repugnance and, perhaps, refusal to co-operate with the officers of the Union; the frowns of the executive magistracy of the State; the embarrassments created by legislative devices, which would often be added on such occasions, would oppose, in any State, difficulties not to be despised; would form, in a large State, very serious impediments; and where the sentiments of several adjoining States happened to be in unison, would present obstructions which the federal government would hardly be willing to encounter. But ambitious encroachments of the federal government, on the authority of the State governments, would not excite the opposition of a single State, or of a few States only. They would be signals of general alarm. Every government would espouse the common cause. A correspondence would be opened. Plans of resistance would be concerted. One spirit would animate and conduct the whole. The same combinations, in short, would result from an apprehension of the federal, as was produced by the dread of a foreign, yoke; and unless the projected innovations should be voluntarily renounced, the same appeal to a trial of force would be made in the one case as was made in the other.\n",
    "\n",
    "The only refuge left for those who prophesy the downfall of the State governments is the visionary supposition that the federal government may previously accumulate a military force for the projects of ambition. The reasonings contained in these papers must have been employed to little purpose indeed, if it could be necessary now to disprove the reality of this danger. That the people and the States should, for a sufficient period of time, elect an uninterupted succession of men ready to betray both; that the traitors should, throughout this period, uniformly and systematically pursue some fixed plan for the extension of the military establishment; that the governments and the people of the States should silently and patiently behold the gathering storm, and continue to supply the materials, until it should be prepared to burst on their own heads, must appear to every one more like the incoherent dreams of a delirious jealousy, or the misjudged exaggerations of a counterfeit zeal, than like the sober apprehensions of genuine patriotism. \n",
    "\n",
    "Extravagant as the supposition is, let it however be made. Let a regular army, fully equal to the resources of the country, be formed; and let it be entirely at the devotion of the federal government; still it would not be going too far to say, that the State governments, with the people on their side, would be able to repel the danger. The highest number to which, according to the best computation, a standing army can be carried in any country, does not exceed one hundredth part of the whole number of souls; or one twenty-fifth part of the number able to bear arms. This proportion would not yield, in the United States, an army of more than twenty-five or thirty thousand men. To these would be opposed a militia amounting to near half a million of citizens with arms in their hands, officered by men chosen from among themselves, fighting for their common liberties, and united and conducted by governments possessing their affections and confidence. It may well be doubted, whether a militia thus circumstanced could ever be conquered by such a proportion of regular troops. Those who are best acquainted with the last successful resistance of this country against the British arms, will be most inclined to deny the possibility of it. Besides the advantage of being armed, which the Americans possess over the people of almost every other nation, the existence of subordinate governments, to which the people are attached, and by which the militia officers are appointed, forms a barrier against the enterprises of ambition, more insurmountable than any which a simple government of any form can admit of. Notwithstanding the military establishments in the several kingdoms of Europe, which are carried as far as the public resources will bear, the governments are afraid to trust the people with arms. And it is not certain, that with this aid alone they would not be able to shake off their yokes. But were the people to possess the additional advantages of local governments chosen by themselves, who could collect the national will and direct the national force, and of officers appointed out of the militia, by these governments, and attached both to them and to the militia, it may be affirmed with the greatest assurance, that the throne of every tyranny in Europe would be speedily overturned in spite of the legions which surround it. Let us not insult the free and gallant citizens of America with the suspicion, that they would be less able to defend the rights of which they would be in actual possession, than the debased subjects of arbitrary power would be to rescue theirs from the hands of their oppressors.\n",
    "\n",
    "The argument under the present head may be put into a very concise form, which appears altogether conclusive. Either the mode in which the federal government is to be constructed will render it sufficiently dependent on the people, or it will not. On the first supposition, it will be restrained by that dependence from forming schemes obnoxious to their constituents. On the other supposition, it will not possess the confidence of the people, and its schemes of usurpation will be easily defeated by the State governments, who will be supported by the people. On summing up the considerations stated in this and the last paper, they seem to amount to the most convincing evidence, that the powers proposed to be lodged in the federal government are as little formidable to those reserved to the individual States, as they are indispensably necessary to accomplish the purposes of the Union\n",
    "\n"
   ]
  },
  {
   "cell_type": "markdown",
   "metadata": {},
   "source": [
    "### Federalist 47: The Particular Structure of the New Government and the Distribution of Power Among Its Different Parts (Madison)"
   ]
  },
  {
   "cell_type": "markdown",
   "metadata": {},
   "source": [
    "HAVING reviewed the general form of the proposed government and the general mass of power allotted to it, I proceed to examine the particular structure of this government, and the distribution of this mass of power among its constituent parts.\n",
    "\n",
    "One of the principal objections inculcated by the more respectable adversaries to the Constitution, is its supposed violation of the political maxim, that the legislative, executive, and judiciary departments ought to be separate and distinct. In the structure of the federal government, no regard, it is said, seems to have been paid to this essential precaution in favor of liberty...No political truth is certainly of greater intrinsic value, or is stamped with the authority of more enlightened patrons of liberty, than that on which the objection is founded. The accumulation of all powers, legislative, executive, and judiciary, in the same hands, whether of one, a few, or many, and whether hereditary, selfappointed, or elective, may justly be pronounced the very definition of tyranny.\n",
    "\n",
    "it will be proper to investigate the sense in which the preservation of liberty requires that the three great departments of power should be separate and distinct. The oracle who is always consulted and cited on this subject is the celebrated Montesquieu.\n",
    "\n",
    "The British Constitution was to Montesquieu what Homer has been to the didactic writers on epic poetry...this great political critic appears to have viewed the Constitution of England as the standard, or to use his own expression, as the mirror of political liberty\n",
    "\n",
    "On the slightest view of the British Constitution, we must perceive that the legislative, executive, and judiciary departments are by no means totally separate and distinct from each other. The executive magistrate forms an integral part of the legislative authority. He alone has the prerogative of making treaties with foreign sovereigns, which, when made, have, under certain limitations, the force of legislative acts. All the members of the judiciary department are appointed by him, can be removed by him on the address of the two Houses of Parliament, and form, when he pleases to consult them, one of his constitutional councils. One branch of the legislative department forms also a great constitutional council to the executive chief, as, on another hand, it is the sole depositary of judicial power in cases of impeachment, and is invested with the supreme appellate jurisdiction in all other cases. The judges, again, are so far connected with the legislative department as often to attend and participate in its deliberations, though not admitted to a legislative vote. From these facts, by which Montesquieu was guided, it may clearly be inferred that, in saying \"There can be no liberty where the legislative and executive powers are united in the same person, or body of magistrates,'' or, \"if the power of judging be not separated from the legislative and executive powers,'' he did not mean that these departments ought to have no PARTIAL AGENCY in, or no CONTROL over, the acts of each other. His meaning, as his own words import, and still more conclusively as illustrated by the example in his eye, can amount to no more than this, that where the WHOLE power of one department is exercised by the same hands which possess the WHOLE power of another department, the fundamental principles of a free constitution are subverted. This would have been the case in the constitution examined by him, if the king, who is the sole executive magistrate, had possessed also the complete legislative power, or the supreme administration of justice; or if the entire legislative body had possessed the supreme judiciary, or the supreme executive authority. \n",
    "\n",
    "This, however, is not among the vices of that constitution. The magistrate in whom the whole executive power resides cannot of himself make a law, though he can put a negative on every law; nor administer justice in person, though he has the appointment of those who do administer it. The judges can exercise no executive prerogative, though they are shoots from the executive stock; nor any legislative function, though they may be advised with by the legislative councils. The entire legislature can perform no judiciary act, though by the joint act of two of its branches the judges may be removed from their offices, and though one of its branches is possessed of the judicial power in the last resort. The entire legislature, again, can exercise no executive prerogative, though one of its branches constitutes the supreme executive magistracy, and another, on the impeachment of a third, can try and condemn all the subordinate officers in the executive department. The reasons on which Montesquieu grounds his maxim are a further demonstration of his meaning. \"When the legislative and executive powers are united in the same person or body\", says he, \"there can be no liberty, because apprehensions may arise lest THE SAME monarch or senate should ENACT tyrannical laws to EXECUTE them in a tyrannical manner\". Again: \"Were the power of judging joined with the legislative, the life and liberty of the subject would be exposed to arbitrary control, for THE JUDGE would then be THE LEGISLATOR. Were it joined to the executive power, THE JUDGE might behave with all the violence of AN OPPRESSOR\". Some of these reasons are more fully explained in other passages; but briefly stated as they are here, they sufficiently establish the meaning which we have put on this celebrated maxim of this celebrated author. \n",
    "\n",
    "If we look into the constitutions of the several States, we find that, notwithstanding the emphatical and, in some instances, the unqualified terms in which this axiom has been laid down, there is not a single instance in which the several departments of power have been kept absolutely separate and distinct...\n",
    "\n",
    "The constitution of Massachusetts has observed a sufficient though less pointed caution, in expressing this fundamental article of liberty. It declares \"that the legislative department shall never exercise the executive and judicial powers, or either of them; the executive shall never exercise the legislative and judicial powers, or either of them; the judicial shall never exercise the legislative and executive powers, or either of them\". This declaration corresponds precisely with the doctrine of Montesquieu, as it has been explained, and is not in a single point violated by the plan of the convention. It goes no farther than to prohibit any one of the entire departments from exercising the powers of another department. In the very Constitution to which it is prefixed, a partial mixture of powers has been admitted...As the appointment to offices, particularly executive offices, is in its nature an executive function, the compilers of the Constitution have, in this last point at least, violated the rule established by themselves...\n",
    "\n",
    "In South Carolina, the constitution makes the executive magistracy eligible by the legislative department. It gives to the latter, also, the appointment of the members of the judiciary department, including even justices of the peace and sheriffs; and the appointment of officers in the executive department, down to captains in the army and navy of the State. In the constitution of Georgia, where it is declared \"that the legislative, executive, and judiciary departments shall be separate and distinct, so that neither exercise the powers properly belonging to the other\", we find that the executive department is to be filled by appointments of the legislature; and the executive prerogative of pardon to be finally exercised by the same authority. Even justices of the peace are to be appointed by the legislature. \n",
    "\n",
    "In citing these cases, in which the legislative, executive, and judiciary departments have not been kept totally separate and distinct, I wish not to be regarded as an advocate for the particular organizations of the several State governments. What I have wished to evince is, that the charge brought against the proposed Constitution, of violating the sacred maxim of free government, is warranted neither by the real meaning annexed to that maxim by its author, nor by the sense in which it has hitherto been understood in America. \n",
    "\n",
    "This interesting subject will be resumed in the ensuing paper. \n"
   ]
  },
  {
   "cell_type": "markdown",
   "metadata": {},
   "source": [
    "### Federalist 48: These Departments Should Not Be So Far Separated as to Have No Constitutional Control Over Each Other (Madison)"
   ]
  },
  {
   "cell_type": "markdown",
   "metadata": {},
   "source": [
    "IT WAS shown in the last paper that the political apothegm there examined does not require that the legislative, executive, and judiciary departments should be wholly unconnected with each other. I shall undertake, in the next place, to show that unless these departments be so far connected and blended as to give to each a constitutional control over the others, the degree of separation which the maxim requires, as essential to a free government, can never in practice be duly maintained.\n",
    "\n",
    "It is agreed on all sides, that the powers properly belonging to one of the departments ought not to be directly and completely administered by either of the other departments. It is equally evident, that none of them ought to possess, directly or indirectly, an overruling influence over the others, in the administration of their respective powers...After discriminating, therefore, in theory, the several classes of power, as they may in their nature be legislative, executive, or judiciary, the next and most difficult task is to provide some practical security for each, against the invasion of the others. \n",
    "\n",
    "What this security ought to be, is the great problem to be solved. Will it be sufficient to mark, with precision, the boundaries of these departments, in the constitution of the government, and to trust to these parchment barriers against the encroaching spirit of power?...experience assures us, that the efficacy of the provision has been greatly overrated; and that some more adequate defense is indispensably necessary for the more feeble, against the more powerful, members of the government. \n",
    "\n",
    "The legislative department is everywhere extending the sphere of its activity, and drawing all power into its impetuous vortex. The founders of our republics...seem never for a moment to have turned their eyes from the danger to liberty from the overgrown and all-grasping prerogative of an hereditary magistrate, supported and fortified by an hereditary branch of the legislative authority. They seem never to have recollected the danger from legislative usurpations, which, by assembling all power in the same hands, must lead to the same tyranny as is threatened by executive usurpations.\n",
    "\n",
    "In a government where numerous and extensive prerogatives are placed in the hands of an hereditary monarch, the executive department is very justly regarded as the source of danger, and watched with all the jealousy which a zeal for liberty ought to inspire. In a democracy, where a multitude of people exercise in person the legislative functions, and are continually exposed, by their incapacity for regular deliberation and concerted measures, to the ambitious intrigues of their executive magistrates, tyranny may well be apprehended, on some favorable emergency, to start up in the same quarter. But in a representative republic, where the executive magistracy is carefully limited; both in the extent and the duration of its power; and where the legislative power is exercised by an assembly, which is inspired, by a supposed influence over the people, with an intrepid confidence in its own strength...which reason prescribes; it is against the enterprising ambition of this department that the people ought to indulge all their jealousy and exhaust all their precautions. \n",
    "\n",
    "The legislative department derives a superiority in our governments from other circumstances. Its constitutional powers being at once more extensive, and less susceptible of precise limits, it can, with the greater facility, mask, under complicated and indirect measures, the encroachments which it makes on the co-ordinate departments. It is not unfrequently a question of real nicety in legislative bodies, whether the operation of a particular measure will, or will not, extend beyond the legislative sphere. \n",
    "\n",
    "On the other side, the executive power being restrained within a narrower compass, and being more simple in its nature, and the judiciary being described by landmarks still less uncertain, projects of usurpation by either of these departments would immediately betray and defeat themselves. Nor is this all:...the legislative department alone has access to the pockets of the people...which gives still greater facility to encroachments...\n",
    "\n",
    "I have appealed to our own experience for the truth of what I advance on this subject. Were it necessary to verify this experience by particular proofs, they might be multiplied without end...The conclusion which I am warranted in drawing from these observations is, that a mere demarcation on parchment of the constitutional limits of the several departments, is not a sufficient guard against those encroachments which lead to a tyrannical concentration of all the powers of government in the same hands."
   ]
  },
  {
   "cell_type": "markdown",
   "metadata": {},
   "source": [
    "### Federalist 49: Method of Guarding Against the Encroachments of Any One Department of Government by Appealing to the People Through a Convention (Hamilton or Madison)"
   ]
  },
  {
   "cell_type": "markdown",
   "metadata": {},
   "source": [
    "As the people are the only legitimate fountain of power, and it is from them that the constitutional charter, under which the several branches of government hold their power, is derived, it seems strictly consonant to the republican theory, to recur to the same original authority, not only whenever it may be necessary to enlarge, diminish, or new-model the powers of the government, but also whenever any one of the departments may commit encroachments on the chartered authorities of the others.\n",
    "\n",
    "The several departments being perfectly co-ordinate by the terms of their common commission, none of them, it is evident, can pretend to an exclusive or superior right of settling the boundaries between their respective powers; and how are the encroachments of the stronger to be prevented, or the wrongs of the weaker to be redressed, without an appeal to the people themselves, who, as the grantors of the commissions, can alone declare its true meaning, and enforce its observance?\n",
    "\n",
    "There is certainly great force in this reasoning, and it must be allowed to prove that a constitutional road to the decision of the people ought to be marked out and kept open, for certain great and extraordinary occasions. But there appear to be insuperable objections against the proposed recurrence to the people, as a provision in all cases for keeping the several departments of power within their constitutional limits. \n",
    "\n",
    "In the first place, the provision does not reach the case of a combination of two of the departments against the third. If the legislative authority, which possesses so many means of operating on the motives of the other departments, should be able to gain to its interest either of the others, or even one third of its members, the remaining department could derive no advantage from its remedial provision...In the next place...as every appeal to the people would carry an implication of some defect in the government, frequent appeals would, in a great measure, deprive the government of that veneration which time bestows on every thing, and without which perhaps the wisest and freest governments would not possess the requisite stability. But the greatest objection of all is, that the decisions which would probably result from such appeals would not answer the purpose of maintaining the constitutional equilibrium of the government. We have seen that the tendency of republican governments is to an aggrandizement of the legislative at the expense of the other departments. The appeals to the people, therefore, would usually be made by the executive and judiciary departments. But whether made by one side or the other, would each side enjoy equal advantages on the trial? Let us view their different situations.\n",
    "\n",
    "The members of the executive and judiciary departments are few in number, and can be personally known to a small part only of the people. The latter, by the mode of their appointment, as well as by the nature and permanency of it, are too far removed from the people to share much in their prepossessions. The former are generally the objects of jealousy, and their administration is always liable to be discolored and rendered unpopular. The members of the legislative department, on the other hand, are numberous. They are distributed and dwell among the people at large. Their connections of blood, of friendship, and of acquaintance embrace a great proportion of the most influential part of the society. The nature of their public trust implies a personal influence among the people, and that they are more immediately the confidential guardians of the rights and liberties of the people.\n",
    "\n",
    "With these advantages, it can hardly be supposed that the adverse party would have an equal chance for a favorable issue. But the legislative party would not only be able to plead their cause most successfully with the people. They would probably be constituted themselves the judges. The same influence which had gained them an election into the legislature, would gain them a seat in the convention. \n",
    "\n",
    "It might, however, sometimes happen, that appeals would be made under circumstances less adverse to the executive and judiciary departments. The usurpations of the legislature might be so flagrant and so sudden, as to admit of no specious coloring. A strong party among themselves might take side with the other branches. The executive power might be in the hands of a peculiar favorite of the people. \n",
    "\n",
    "In such a posture of things, the public decision might be less swayed by prepossessions in favor of the legislative party. But still it could never be expected to turn on the true merits of the question. It would inevitably be connected with the spirit of pre-existing parties, or of parties springing out of the question itself. It would be connected with persons of distinguished character and extensive influence in the community. It would be pronounced by the very men who had been agents in, or opponents of, the measures to which the decision would relate. The PASSIONS, therefore, not the REASON, of the public would sit in judgment. But it is the reason, alone, of the public, that ought to control and regulate the government. The passions ought to be controlled and regulated by the government.\n",
    "\n",
    "We found in the last paper, that mere declarations in the written constitution are not sufficient to restrain the several departments within their legal rights. It appears in this, that occasional appeals to the people would be neither a proper nor an effectual provision for that purpose.\n"
   ]
  },
  {
   "cell_type": "markdown",
   "metadata": {},
   "source": [
    "### Federalist 50: Periodical Appeals to the People Considered (Hamilton or Madison)"
   ]
  },
  {
   "cell_type": "markdown",
   "metadata": {},
   "source": [
    "IT MAY be contended, perhaps, that instead of OCCASIONAL appeals to the people, which are liable to the objections urged against them, PERIODICAL appeals are the proper and adequate means of PREVENTING AND CORRECTING INFRACTIONS OF THE CONSTITUTION.\n",
    "\n",
    "It will be attended to, that in the examination of these expedients, I confine myself to their aptitude for ENFORCING the Constitution, by keeping the several departments of power within their due bounds, without particularly considering them as provisions for ALTERING the Constitution itself.\n",
    "\n",
    "In the first view, appeals to the people at fixed periods appear to be nearly as ineligible as appeals on particular occasions as they emerge. If the periods be separated by short intervals, the measures to be reviewed and rectified will have been of recent date, and will be connected with all the circumstances which tend to vitiate and pervert the result of occasional revisions. If the periods be distant from each other, the same remark will be applicable to all recent measures...\n",
    "\n",
    "The scheme of revising the constitution, in order to correct recent breaches of it, as well as for other purposes, has been actually tried in one of the States. One of the objects of the Council of Censors which met in Pennsylvania in 1783 and 1784, was, as we have seen, to inquire, \"whether the constitution had been violated, and whether the legislative and executive departments had encroached upon each other\". This important and novel experiment in politics merits, in several points of view, very particular attention...as applied to the case under consideration, it involves some facts, which I venture to remark, as a complete and satisfactory illustration of the reasoning which I have employed.\n",
    "\n",
    "First. It appears, from the names of the gentlemen who composed the council, that some, at least, of its most active members had also been active and leading characters in the parties which pre-existed in the State. \n",
    "\n",
    "Secondly. It appears that the same active and leading members of the council had been active and influential members of the legislative and executive branches, within the period to be reviewed; and even patrons or opponents of the very measures to be thus brought to the test of the constitution.\n",
    "\n",
    "Thirdly. Every page of their proceedings witnesses the effect of all these circumstances on the temper of their deliberations. Throughout the continuance of the council, it was split into two fixed and violent parties. The fact is acknowledged and lamented by themselves...In all questions, however unimportant in themselves, or unconnected with each other, the same names stand invariably contrasted on the opposite columns...unfortunately, PASSION, not REASON, must have presided over their decisions.\n",
    "\n",
    "Fourthly. It is at least problematical, whether the decisions of this body do not, in several instances, misconstrue the limits prescribed for the legislative and executive departments, instead of reducing and limiting them within their constitutional places. \n",
    "\n",
    "Fifthly. I have never understood that the decisions of the council on constitutional questions, whether rightly or erroneously formed, have had any effect in varying the practice founded on legislative constructions. It even appears, if I mistake not, that in one instance the contemporary legislature denied the constructions of the council, and actually prevailed in the contest. \n",
    "\n",
    "This censorial body, therefore, proves at the same time, by its researches, the existence of the disease, and by its example, the inefficacy of the remedy. This conclusion cannot be invalidated by alleging that the State in which the experiment was made was at that crisis, and had been for a long time before, violently heated and distracted by the rage of party. Is it to be presumed, that at any future septennial epoch the same State will be free from parties? Is it to be presumed that any other State, at the same or any other given period, will be exempt from them? Such an event ought to be neither presumed nor desired; because an extinction of parties necessarily implies either a universal alarm for the public safety, or an absolute extinction of liberty. \n"
   ]
  },
  {
   "cell_type": "markdown",
   "metadata": {},
   "source": [
    "### Federalist 51: The Structure of the Government Must Furnish the Proper Checks and Balances Between the Different Departments  (Madison)"
   ]
  },
  {
   "cell_type": "markdown",
   "metadata": {},
   "source": [
    "TO WHAT expedient, then, shall we finally resort, for maintaining in practice the necessary partition of power among the several departments, as laid down in the Constitution? The only answer that can be given is, that as all these exterior provisions are found to be inadequate, the defect must be supplied, by so contriving the interior structure of the government as that its several constituent parts may, by their mutual relations, be the means of keeping each other in their proper places. \n",
    "\n",
    "In order to lay a due foundation for that separate and distinct exercise of the different powers of government, which to a certain extent is admitted on all hands to be essential to the preservation of liberty, it is evident that each department should have a will of its own; and consequently should be so constituted that the members of each should have as little agency as possible in the appointment of the members of the others...Some deviations...from the principle must be admitted. In the constitution of the judiciary department in particular, it might be inexpedient to insist rigorously on the principle: first, because peculiar qualifications being essential in the members, the primary consideration ought to be to select that mode of choice which best secures these qualifications; secondly, because the permanent tenure by which the appointments are held in that department, must soon destroy all sense of dependence on the authority conferring them. \n",
    "\n",
    "It is equally evident, that the members of each department should be as little dependent as possible on those of the others, for the emoluments annexed to their offices. Were the executive magistrate, or the judges, not independent of the legislature in this particular, their independence in every other would be merely nominal. \n",
    "\n",
    "But the great security against a gradual concentration of the several powers in the same department, consists in giving to those who administer each department the necessary constitutional means and personal motives to resist encroachments of the others. The provision for defense must in this, as in all other cases, be made commensurate to the danger of attack. Ambition must be made to counteract ambition. The interest of the man must be connected with the constitutional rights of the place...In framing a government which is to be administered by men over men, the great difficulty lies in this: you must first enable the government to control the governed; and in the next place oblige it to control itself. \n",
    "\n",
    "This policy of supplying, by opposite and rival interests, the defect of better motives, might be traced through the whole system of human affairs, private as well as public. We see it particularly displayed in all the subordinate distributions of power, where the constant aim is to divide and arrange the several offices in such a manner as that each may be a check on the other that the private interest of every individual may be a sentinel over the public rights. These inventions of prudence cannot be less requisite in the distribution of the supreme powers of the State.\n",
    "\n",
    "But it is not possible to give to each department an equal power of self-defense. In republican government, the legislative authority necessarily predominates. The remedy for this inconveniency is to divide the legislature into different branches; and to render them, by different modes of election and different principles of action, as little connected with each other as the nature of their common functions and their common dependence on the society will admit. It may even be necessary to guard against dangerous encroachments by still further precautions. As the weight of the legislative authority requires that it should be thus divided, the weakness of the executive may require, on the other hand, that it should be fortified. \n",
    "\n",
    "An absolute negative on the legislature appears, at first view, to be the natural defense with which the executive magistrate should be armed. But perhaps it would be neither altogether safe nor alone sufficient. On ordinary occasions it might not be exerted with the requisite firmness, and on extraordinary occasions it might be perfidiously abused. May not this defect of an absolute negative be supplied by some qualified connection between this weaker department and the weaker branch of the stronger department, by which the latter may be led to support the constitutional rights of the former, without being too much detached from the rights of its own department?\n",
    "\n",
    "It is of great importance in a republic not only to guard the society against the oppression of its rulers, but to guard one part of the society against the injustice of the other part. Different interests necessarily exist in different classes of citizens. If a majority be united by a common interest, the rights of the minority will be insecure. \n",
    "\n",
    "There are but two methods of providing against this evil: the one by creating a will in the community independent of the majority that is, of the society itself; the other, by comprehending in the society so many separate descriptions of citizens as will render an unjust combination of a majority of the whole very improbable, if not impracticable. The first method prevails in all governments possessing an hereditary or self-appointed authority. This, at best, is but a precarious security; because a power independent of the society may as well espouse the unjust views of the major, as the rightful interests of the minor party, and may possibly be turned against both parties. The second method will be exemplified in the federal republic of the United States. Whilst all authority in it will be derived from and dependent on the society, the society itself will be broken into so many parts, interests, and classes of citizens, that the rights of individuals, or of the minority, will be in little danger from interested combinations of the majority.\n",
    "\n",
    "Justice is the end of government. It is the end of civil society. It ever has been and ever will be pursued until it be obtained, or until liberty be lost in the pursuit. In a society under the forms of which the stronger faction can readily unite and oppress the weaker, anarchy may as truly be said to reign as in a state of nature, where the weaker individual is not secured against the violence of the stronger; and as, in the latter state, even the stronger individuals are prompted, by the uncertainty of their condition, to submit to a government which may protect the weak as well as themselves; so, in the former state, will the more powerful factions or parties be gradnally induced, by a like motive, to wish for a government which will protect all parties, the weaker as well as the more powerful. \n",
    "\n",
    "In the extended republic of the United States, and among the great variety of interests, parties, and sects which it embraces, a coalition of a majority of the whole society could seldom take place on any other principles than those of justice and the general good...It is no less certain than it is important...that the larger the society, provided it lie within a practical sphere, the more duly capable it will be of self-government. And happily for the REPUBLICAN CAUSE, the practicable sphere may be carried to a very great extent, by a judicious modification and mixture of the FEDERAL PRINCIPLE. \n",
    "\n",
    "\n",
    "\n"
   ]
  },
  {
   "cell_type": "markdown",
   "metadata": {},
   "source": [
    "### Federalist 52: The House of Representatives (Hamilton or Madison)"
   ]
  },
  {
   "cell_type": "markdown",
   "metadata": {},
   "source": [
    "FROM the more general inquiries pursued in the four last papers, I pass on to a more particular examination of the several parts of the government. I shall begin with the House of Representatives. \n",
    "\n",
    "The first view to be taken of this part of the government relates to the qualifications of the electors and the elected. Those of the former are to be the same with those of the electors of the most numerous branch of the State legislatures. The definition of the right of suffrage is very justly regarded as a fundamental article of republican government. It was incumbent on the convention, therefore, to define and establish this right in the Constitution\n",
    "\n",
    "The provision made by the convention...must be satisfactory to every State, because it is conformable to the standard already established, or which may be established, by the State itself. It will be safe to the United States, because, being fixed by the State constitutions, it is not alterable by the State governments, and it cannot be feared that the people of the States will alter this part of their constitutions in such a manner as to abridge the rights secured to them by the federal Constitution.\n",
    "\n",
    "The qualifications of the elected, being less carefully and properly defined by the State constitutions, and being at the same time more susceptible of uniformity, have been very properly considered and regulated by the convention. A representative of the United States must be of the age of twenty-five years; must have been seven years a citizen of the United States; must, at the time of his election, be an inhabitant of the State he is to represent; and, during the time of his service, must be in no office under the United States. Under these reasonable limitations, the door of this part of the federal government is open to merit of every description, whether native or adoptive, whether young or old, and without regard to poverty or wealth, or to any particular profession of religious faith. \n",
    "\n",
    "The term for which the representatives are to be elected falls under a second view which may be taken of this branch...As it is essential to liberty that the government in general should have a common interest with the people, so it is particularly essential that the branch of it under consideration should have an immediate dependence on, and an intimate sympathy with, the people. Frequent elections are unquestionably the only policy by which this dependence and sympathy can be effectually secured. But what particular degree of frequency may be absolutely necessary for the purpose, does not appear to be susceptible of any precise calculation, and must depend on a variety of circumstances with which it may be connected. \n",
    "\n",
    "The example of these States, when British colonies, claims particular attention...The principle of representation, in one branch of the legislature at least, was established in all of them. But the periods of election were different. They varied from one to seven years. Have we any reason to infer, from the spirit and conduct of the representatives of the people, prior to the Revolution, that biennial elections would have been dangerous to the public liberties?\n",
    "\n",
    "\n",
    "The spirit which everywhere displayed itself at the commencement of the struggle, and which vanquished the obstacles to independence, is the best of proofs that a sufficient portion of liberty had been everywhere enjoyed to inspire both a sense of its worth and a zeal for its proper enlargement...I conceive it to be a very substantial proof, that the liberties of the people can be in no danger from BIENNIAL elections.\n",
    "\n",
    "It is a received and well-founded maxim, that where no other circumstances affect the case, the greater the power is, the shorter ought to be its duration; and, conversely, the smaller the power, the more safely may its duration be protracted."
   ]
  },
  {
   "cell_type": "markdown",
   "metadata": {},
   "source": [
    "### Federalist 53: The House of Representatives (Hamilton or Madison)"
   ]
  },
  {
   "cell_type": "markdown",
   "metadata": {},
   "source": [
    "I SHALL here, perhaps, be reminded of a current observation, \"that where annual elections end, tyranny begins\". \n",
    "\n",
    "If it be true...that sayings which become proverbial are generally founded in reason, it is not less true, that when once established, they are often applied to cases to which the reason of them does not extend. I need not look for a proof beyond the case before us.\n",
    "\n",
    "What is the reason on which this proverbial observation is founded? No man will subject himself to the ridicule of pretending that any natural connection subsists between the sun or the seasons, and the period within which human virtue can bear the temptations of power...The election of magistrates might be, if it were found expedient, as in some instances it actually has been, daily, weekly, or monthly, as well as annual; and if circumstances may require a deviation from the rule on one side, why not also on the other side?\n",
    "\n",
    "in Great Britain...Where no Constitution, paramount to the government, either existed or could be obtained...what better security would the case admit, than that of selecting and appealing to some simple and familiar portion of time, as a standard for measuring the danger of innovations, for fixing the national sentiment, and for uniting the patriotic exertions? The most simple and familiar portion of time, applicable to the subject was that of a year; and hence the doctrine has been inculcated by a laudable zeal...that the advance towards tyranny was to be calculated by the distance of departure from the fixed point of annual elections. But what necessity can there be of applying this expedient to a government limited, as the federal government will be, by the authority of a paramount Constitution?\n",
    "\n",
    "No man can be a competent legislator who does not add to an upright intention and a sound judgment a certain degree of knowledge of the subjects on which he is to legislate. A part of this knowledge may be acquired by means of information which lie within the compass of men in private as well as public stations. Another part can only be attained, or at least thoroughly attained, by actual experience in the station which requires the use of it. The period of service, ought, therefore, in all such cases, to bear some proportion to the extent of practical knowledge requisite to the due performance of the service. \n",
    "\n",
    "How can foreign trade be properly regulated by uniform laws, without some acquaintance with the commerce, the ports, the usages, and the regulatious of the different States? How can the trade between the different States be duly regulated, without some knowledge of their relative situations in these and other respects? How can taxes be judiciously imposed and effectually collected, if they be not accommodated to the different laws and local circumstances relating to these objects in the different States? How can uniform regulations for the militia be duly provided, without a similar knowledge of many internal circumstances by which the States are distinguished from each other? These are the principal objects of federal legislation, and suggest most forcibly the extensive information which the representatives ought to acquire. The other interior objects will require a proportional degree of information with regard to them. \n",
    "\n",
    "A branch of knowledge which belongs to the acquirements of a federal representative, and which has not been mentioned is that of foreign affairs...He ought not to be altogether ignorant of the law of nations; for that, as far as it is a proper object of municipal legislation, is submitted to the federal government...Some portion of this knowledge may, no doubt, be acquired in a man's closet; but some of it also can only be derived from the public sources of information; and all of it will be acquired to best effect by a practical attention to the subject during the period of actual service in the legislature.\n",
    "\n",
    "There are other considerations, of less importance, perhaps, but which are not unworthy of notice. The distance which many of the representatives will be obliged to travel, and the arrangements rendered necessary by that circumstance, might be much more serious objections with fit men to this service, if limited to a single year, than if extended to two years. \n",
    "\n",
    "It is an inconvenience mingled with the advantages of our frequent elections even in single States, where they are large, and hold but one legislative session in a year, that spurious elections cannot be investigated and annulled in time for the decision to have its due effect. If a return can be obtained, no matter by what unlawful means, the irregular member, who takes his seat of course, is sure of holding it a sufficient time to answer his purposes...Were elections for the federal legislature to be annual, this practice might become a very serious abuse.\n",
    "\n",
    "All these considerations taken together warrant us in affirming, that biennial elections will be as useful to the affairs of the public as we have seen that they will be safe to the liberty of the people. \n"
   ]
  },
  {
   "cell_type": "markdown",
   "metadata": {},
   "source": [
    "### Federalist 54: The Apportionment of Members Among the States (Hamilton or Madison)"
   ]
  },
  {
   "cell_type": "markdown",
   "metadata": {},
   "source": [
    "THE next view which I shall take of the House of Representatives relates to the appointment of its members to the several States which is to be determined by the same rule with that of direct taxes. \n",
    "\n",
    "It is not contended that the number of people in each State ought not to be the standard for regulating the proportion of those who are to represent the people of each State. The establishment of the same rule for the appointment of taxes, will probably be as little contested; though the rule itself in this case, is by no means founded on the same principle. In the former case, the rule is understood to refer to the personal rights of the people, with which it has a natural and universal connection. In the latter, it has reference to the proportion of wealth, of which it is in no case a precise measure, and in ordinary cases a very unfit one. \n",
    "\n",
    "All this is admitted, it will perhaps be said; but does it follow, from an admission of numbers for the measure of representation, or of slaves combined with free citizens as a ratio of taxation, that slaves ought to be included in the numerical rule of representation? Slaves are considered as property, not as persons. They ought therefore to be comprehended in estimates of taxation which are founded on property, and to be excluded from representation which is regulated by a census of persons. This is the objection, as I understand it, stated in its full force. I shall be equally candid in stating the reasoning which may be offered on the opposite side.\n",
    "\n",
    "our Southern brethren observe, \"that representation relates more immediately to persons, and taxation more immediately to property, and we join in the application of this distinction to the case of our slaves. But we must deny the fact, that slaves are considered merely as property, and in no respect whatever as persons. The true state of the case is, that they partake of both these qualities: being considered by our laws, in some respects, as persons, and in other respects as property...The federal Constitution, therefore, decides with great propriety on the case of our slaves, when it views them in the mixed character of persons and of property. This is in fact their true character. It is the character bestowed on them by the laws under which they live; and it will not be denied, that these are the proper criterion\"\n",
    "\n",
    "Would the convention have been impartial or consistent, if they had rejected the slaves from the list of inhabitants, when the shares of representation were to be calculated, and inserted them on the lists when the tariff of contributions was to be adjusted? Could it be reasonably expected, that the Southern States would concur in a system, which considered their slaves in some degree as men, when burdens were to be imposed, but refused to consider them in the same light, when advantages were to be conferred?\n",
    "\n",
    "The qualifications on which the right of suffrage depend are not, perhaps, the same in any two States...In every State, a certain proportion of inhabitants are deprived of this right by the constitution of the State, who will be included in the census by which the federal Constitution apportions the representatives. \n",
    "\n",
    "In this point of view the Southern States might retort...that the slaves, as inhabitants, should have been admitted into the census according to their full number, in like manner with other inhabitants, who, by the policy of other States, are not admitted to all the rights of citizens. A rigorous adherence, however, to this principle, is waived by those who would be gainers by it. All that they ask is that equal moderation be shown on the other side. \n",
    "\n",
    "Let the case of the slaves be considered, as it is in truth, a peculiar one. Let the compromising expedient of the Constitution be mutually adopted, which regards them as inhabitants, but as debased by servitude below the equal level of free inhabitants, which regards the SLAVE as divested of two fifths of the MAN. \n",
    "\n",
    "After all, may not another ground be taken on which this article of the Constitution will admit of a still more ready defense? We have hitherto proceeded on the idea that representation related to persons only, and not at all to property. But is it a just idea? Government is instituted no less for protection of the property, than of the persons, of individuals. The one as well as the other, therefore, may be considered as represented by those who are charged with the government.\n",
    "\n",
    "For another reason, the votes allowed in the federal legislature to the people of each State, ought to bear some proportion to the comparative wealth of the States. States have not, like individuals, an influence over each other, arising from superior advantages of fortune. If the law allows an opulent citizen but a single vote in the choice of his representative, the respect and consequence which he derives from his fortunate situation very frequently guide the votes of others to the objects of his choice; and through this imperceptible channel the rights of property are conveyed into the public representation. A State possesses no such influence over other States...As far, therefore, as their superior wealth and weight may justly entitle them to any advantage, it ought to be secured to them by a superior share of representation. \n",
    "\n",
    "Such is the reasoning which an advocate for the Southern interests might employ on this subject; and although it may appear to be a little strained in some points, yet, on the whole, I must confess that it fully reconciles me to the scale of representation which the convention have established. In one respect, the establishment of a common measure for representation and taxation will have a very salutary effect.\n",
    "\n",
    "As the accuracy of the census to be obtained by the Congress will necessarily depend, in a considerable degree on the disposition, if not on the co-operation, of the States, it is of great importance that the States should feel as little bias as possible, to swell or to reduce the amount of their numbers. Were their share of representation alone to be governed by this rule, they would have an interest in exaggerating their inhabitants. Were the rule to decide their share of taxation alone, a contrary temptation would prevail. By extending the rule to both objects, the States will have opposite interests, which will control and balance each other, and produce the requisite impartiality. \n"
   ]
  },
  {
   "cell_type": "markdown",
   "metadata": {},
   "source": [
    "### Federalist 55: The Total Number of the House of Representatives (Hamilton or Madison)"
   ]
  },
  {
   "cell_type": "markdown",
   "metadata": {},
   "source": [
    "THE number of which the House of Representatives is to consist, forms another and a very interesting point of view, under which this branch of the federal legislature may be contemplated. \n",
    "\n",
    "The charges exhibited against it are, first, that so small a number of representatives will be an unsafe depositary of the public interests; secondly, that they will not possess a proper knowledge of the local circumstances of their numerous constituents; thirdly, that they will be taken from that class of citizens which will sympathize least with the feelings of the mass of the people, and be most likely to aim at a permanent elevation of the few on the depression of the many; fourthly, that defective as the number will be in the first instance, it will be more and more disproportionate, by the increase of the people, and the obstacles which will prevent a correspondent increase of the representatives. \n",
    "\n",
    "In general it may be remarked on this subject, that no political problem is less susceptible of a precise solution than that which relates to the number most convenient for a representative legislature...Nothing can be more fallacious than to found our political calculations on arithmetical principles...The truth is, that in all cases a certain number at least seems to be necessary to secure the benefits of free consultation and discussion, and to guard against too easy a combination for improper purposes; as, on the other hand, the number ought at most to be kept within a certain limit, in order to avoid the confusion and intemperance of a multitude. In all very numerous assemblies, of whatever character composed, passion never fails to wrest the sceptre from reason. Had every Athenian citizen been a Socrates, every Athenian assembly would still have been a mob. \n",
    "\n",
    "The number of which this branch of the legislature is to consist, at the outset of the government, will be sixtyfive. Within three years a census is to be taken, when the number may be augmented to one for every thirty thousand inhabitants; and within every successive period of ten years the census is to be renewed, and augmentations may continue to be made under the above limitation.\n",
    "\n",
    "I take for granted...that the number of representatives will be augmented from time to time in the manner provided by the Constitution...The true question to be decided then is, whether the smallness of the number, as a temporary regulation, be dangerous to the public liberty? I could not give a negative answer to this question, without first obliterating every impression which I have received with regard to the present genius of the people of America, the spirit which actuates the State legislatures, and the principles which are incorporated with the political character of every class of citizens.\n",
    "\n",
    "I am unable to conceive that the people of America, in their present temper, or under any circumstances which can speedily happen, will choose, and every second year repeat the choice of, sixty-five or a hundred men who would be disposed to form and pursue a scheme of tyranny or treachery. I am unable to conceive that the State legislatures, which must feel so many motives to watch, and which possess so many means of counteracting, the federal legislature, would fail either to detect or to defeat a conspiracy of the latter against the liberties of their common constituents. I am equally unable to conceive that there are at this time, or can be in any short time, in the United States, any sixty-five or a hundred men capable of recommending themselves to the choice of the people at large, who would either desire or dare, within the short space of two years, to betray the solemn trust committed to them. \n",
    "\n",
    "What change of circumstances, time, and a fuller population of our country may produce, requires a prophetic spirit to declare, which makes no part of my pretensions. But judging from the circumstances now before us, and from the probable state of them within a moderate period of time, I must pronounce that the liberties of America cannot be unsafe in the number of hands proposed by the federal Constitution.\n",
    "\n",
    "From what quarter can the danger proceed? Are we afraid of foreign gold? If foreign gold could so easily corrupt our federal rulers and enable them to ensnare and betray their constituents, how has it happened that we are at this time a free and independent nation? The Congress which conducted us through the Revolution was a less numerous body than their successors will be\n",
    "\n",
    "Is the danger apprehended from the other branches of the federal government? But where are the means to be found by the President, or the Senate, or both? Their emoluments of office, it is to be presumed, will not, and without a previous corruption of the House of Representatives cannot, more than suffice for very different purposes; their private fortunes, as they must all be American citizens, cannot possibly be sources of danger. The only means, then, which they can possess, will be in the dispensation of appointments. Is it here that suspicion rests her charge? Sometimes we are told that this fund of corruption is to be exhausted by the President in subduing the virtue of the Senate.\n",
    "\n",
    "The improbability of such a mercenary and perfidious combination of the several members of government, standing on as different foundations as republican principles will well admit, and at the same time accountable to the society over which they are placed, ought alone to quiet this apprehension. But, fortunately, the Constitution has provided a still further safeguard. The members of the Congress are rendered ineligible to any civil offices that may be created, or of which the emoluments may be increased, during the term of their election.\n",
    "\n",
    "As there is a degree of depravity in mankind which requires a certain degree of circumspection and distrust, so there are other qualities in human nature which justify a certain portion of esteem and confidence. Republican government presupposes the existence of these qualities in a higher degree than any other form. Were the pictures which have been drawn by the political jealousy of some among us faithful likenesses of the human character, the inference would be, that there is not sufficient virtue among men for self-government; and that nothing less than the chains of despotism can restrain them from destroying and devouring one another. \n"
   ]
  },
  {
   "cell_type": "markdown",
   "metadata": {},
   "source": [
    "### Federalist 56: The Same Subject Continued (The Total Number of the House of Representatives)  (Hamilton or Madison)"
   ]
  },
  {
   "cell_type": "markdown",
   "metadata": {},
   "source": [
    "THE SECOND charge against the House of Representatives is, that it will be too small to possess a due knowledge of the interests of its constituents.\n",
    "\n",
    "It is a sound and important principle that the representative ought to be acquainted with the interests and circumstances of his constituents. But this principle can extend no further than to those circumstances and interests to which the authority and care of the representative relate.\n",
    "\n",
    "In determining the extent of information required in the exercise of a particular authority, recourse then must be had to the objects within the purview of that authority. What are to be the objects of federal legislation? Those which are of most importance, and which seem most to require local knowledge, are commerce, taxation, and the militia. \n",
    "\n",
    "A proper regulation of commerce requires much information, as has been elsewhere remarked; but as far as this information relates to the laws and local situation of each individual State, a very few representatives would be very sufficient vehicles of it to the federal councils.\n",
    "\n",
    "Taxation will consist, in a great measure, of duties which will be involved in the regulation of commerce. So far the preceding remark is applicable to this object. As far as it may consist of internal collections, a more diffusive knowledge of the circumstances of the State may be necessary. But will not this also be possessed in sufficient degree by a very few intelligent men, diffusively elected within the State?...In every State there have been made, and must continue to be made, regulations on this subject which will, in many cases, leave little more to be done by the federal legislature, than to review the different laws, and reduce them in one general act. A skillful individual in his closet with all the local codes before him, might compile a law on some subjects of taxation for the whole union, without any aid from oral information\n",
    "\n",
    "The observations made on the subject of taxation apply with greater force to the case of the militia. For however different the rules of discipline may be in different States, they are the same throughout each particular State\n",
    "\n",
    "Taking each State by itself, its laws are the same, and its interests but little diversified. A few men, therefore, will possess all the knowledge requisite for a proper representation of them. Were the interests and affairs of each individual State perfectly simple and uniform, a knowledge of them in one part would involve a knowledge of them in every other, and the whole State might be competently represented by a single member taken from any part of it.\n",
    "\n",
    "The experience of Great Britain...corroborates the result of the reflections which we have just made...in the House of Commons...there will be one representative only to maintain the rights and explain the situation OF TWENTY-EIGHT THOUSAND SIX HUNDRED AND SEVENTY constitutents, in an assembly exposed to the whole force of executive influence, and extending its authority to every object of legislation within a nation whose affairs are in the highest degree diversified and complicated.\n",
    "\n",
    "Allowing to this case the weight which is due to it, and comparing it with that of the House of Representatives as above explained it seems to give the fullest assurance, that a representative for every THIRTY THOUSAND INHABITANTS will render the latter both a safe and competent guardian of the interests which will be confided to it. "
   ]
  },
  {
   "cell_type": "markdown",
   "metadata": {},
   "source": [
    "### Federalist 57: The Alleged Tendency of the New Plan to Elevate the Few at the Expense of the Many Considered in Connection with Representation (Hamilton or Madison)"
   ]
  },
  {
   "cell_type": "markdown",
   "metadata": {},
   "source": [
    "THE THIRD charge against the House of Representatives is, that it will be taken from that class of citizens which will have least sympathy with the mass of the people, and be most likely to aim at an ambitious sacrifice of the many to the aggrandizement of the few...Whilst the objection itself is levelled against a pretended oligarchy, the principle of it strikes at the very root of republican government. \n",
    "\n",
    "The aim of every political constitution is, or ought to be, first to obtain for rulers men who possess most wisdom to discern, and most virtue to pursue, the common good of the society; and in the next place, to take the most effectual precautions for keeping them virtuous whilst they continue to hold their public trust. \n",
    "\n",
    "The elective mode of obtaining rulers is the characteristic policy of republican government. The means relied on in this form of government for preventing their degeneracy are numerous and various. The most effectual one, is such a limitation of the term of appointments as will maintain a proper responsibility to the people. \n",
    "\n",
    "Let me now ask what circumstance there is in the constitution of the House of Representatives that...favors the elevation of the few on the ruins of the many?\n",
    "\n",
    "Who are to be the electors of the federal representatives? Not the rich, more than the poor; not the learned, more than the ignorant; not the haughty heirs of distinguished names, more than the humble sons of obscurity and unpropitious fortune. The electors are to be the great body of the people of the United States. They are to be the same who exercise the right in every State of electing the corresponding branch of the legislature of the State.\n",
    "\n",
    "Who are to be the objects of popular choice? Every citizen whose merit may recommend him to the esteem and confidence of his country. No qualification of wealth, of birth, of religious faith, or of civil profession is permitted to fetter the judgement or disappoint the inclination of the people.\n",
    "\n",
    "\n",
    "If we consider the situation of the men on whom the free suffrages of their fellow-citizens may confer the representative trust, we shall find it involving every security which can be devised or desired for their fidelity to their constituents...All these securities, however, would be found very insufficient without the restraint of frequent elections.\n",
    "\n",
    "Hence...the House of Representatives is so constituted as to support in the members an habitual recollection of their dependence on the people. Before the sentiments impressed on their minds by the mode of their elevation can be effaced by the exercise of power, they will be compelled to anticipate the moment when their power is to cease, when their exercise of it is to be reviewed, and when they must descend to the level from which they were raised\n",
    "\n",
    "I will add...that they can make no law which will not have its full operation on themselves and their friends, as well as on the great mass of the society. This has always been deemed one of the strongest bonds by which human policy can connect the rulers and the people together. It creates between them that communion of interests and sympathy of sentiments, of which few governments have furnished examples; but without which every government degenerates into tyranny.\n",
    "\n",
    "If it be asked, what is to restrain the House of Representatives from making legal discriminations in favor of themselves and a particular class of the society? I answer...a spirit which nourishes freedom, and in return is nourished by it. If this spirit shall ever be so far debased as to tolerate a law not obligatory on the legislature, as well as on the people, the people will be prepared to tolerate any thing but liberty. \n",
    "\n",
    "Such will be the relation between the House of Representatives and their constituents. Duty, gratitude, interest, ambition itself, are the chords by which they will be bound to fidelity and sympathy with the great mass of the people. It is possible that these may all be insufficient to control the caprice and wickedness of man. But are they not all that government will admit, and that human prudence can devise?\n",
    "\n",
    "What then are we to understand by the objection which this paper has combated?...Were the objection to be read by one who had not seen the mode prescribed by the Constitution for the choice of representatives, he could suppose nothing less than that some unreasonable qualification of property was annexed to the right of suffrage; or that the right of eligibility was limited to persons of particular families or fortunes; or at least that the mode prescribed by the State constitutions was in some respect or other, very grossly departed from. We have seen how far such a supposition would err, as to the two first points. Nor would it, in fact, be less erroneous as to the last. \n",
    "\n",
    "Has it appeared on trial that the senators of New Hampshire, Massachusetts, and New York, or the executive council of Pennsylvania, or the members of the Assembly in the two last States, have betrayed any peculiar disposition to sacrifice the many to the few...I leave every man to decide whether the result of any one of these experiments can be said to countenance a suspicion, that a diffusive mode of choosing representatives of the people tends to elevate traitors and to undermine the public liberty. \n"
   ]
  },
  {
   "cell_type": "markdown",
   "metadata": {},
   "source": [
    "### Federalist 58: Objection That The Number of Members Will Not Be Augmented as the Progress of Population Demands Considered  (Hamilton or Madison)"
   ]
  },
  {
   "cell_type": "markdown",
   "metadata": {},
   "source": [
    "THE remaining charge against the House of Representatives, which I am to examine, is grounded on a supposition that the number of members will not be augmented from time to time, as the progress of population may demand. It has been admitted, that this objection, if well supported, would have great weight. \n",
    "\n",
    "The following observations will show that, like most other objections against the Constitution, it can only proceed from a partial view of the subject, or from a jealousy which discolors and disfigures every object which is beheld. \n",
    "\n",
    "1. Those who urge the objection seem not to have recollected that the federal Constitution will not suffer by a comparison with the State constitutions, in the security provided for a gradual augmentation of the number of representatives...\n",
    "\n",
    "2. As far as experience has taken place on this subject, a gradual increase of representatives under the State constitutions has at least kept pace with that of the constituents, and it appears that the former have been as ready to concur in such measures as the latter have been to call for them.\n",
    "\n",
    "3. There is a peculiarity in the federal Constitution which insures a watchful attention in a majority both of the people and of their representatives to a constitutional augmentation of the latter. The peculiarity lies in this, that one branch of the legislature is a representation of citizens, the other of the States: in the former, consequently, the larger States will have most weight; in the latter, the advantage will be in favor of the smaller States. From this circumstance it may with certainty be inferred that the larger States will be strenuous advocates for increasing the number and weight of that part of the legislature in which their influence predominates.\n",
    "\n",
    "Should the representatives or people, therefore, of the smaller States oppose at any time a reasonable addition of members, a coalition of a very few States will be sufficient to overrule the opposition...It may be alleged, perhaps, that the Senate would be prompted by like motives to an adverse coalition; and as their concurrence would be indispensable, the just and constitutional views of the other branch might be defeated...\n",
    "\n",
    "a constitutional and infallible resource still remains with the larger States, by which they will be able at all times to accomplish their just purposes...The House of Representatives cannot only refuse, but they alone can propose, the supplies requisite for the support of government. \n",
    "\n",
    "They, in a word, hold the purse that powerful instrument by which we behold, in the history of the British Constitution, an infant and humble representation of the people gradually...reducing...all the overgrown prerogatives of the other branches of the government. This power over the purse may, in fact, be regarded as the most complete and effectual weapon with which any constitution can arm the immediate representatives of the people, for obtaining a redress of every grievance, and for carrying into effect every just and salutary measure. \n",
    "\n",
    "Those who represent the dignity of their country in the eyes of other nations, will be particularly sensible to every prospect of public danger, or of dishonorable stagnation in public affairs. To those causes we are to ascribe the continual triumph of the British House of Commons over the other branches of the government, whenever the engine of a money bill has been employed. An absolute inflexibility on the side of the latter, although it could not have failed to involve every department of the state in the general confusion, has neither been apprehended nor experienced. The utmost degree of firmness that can be displayed by the federal Senate or President, will not be more than equal to a resistance in which they will be supported by constitutional and patriotic principles.\n",
    "\n",
    "One observation, however, I must be permitted to add on this subject as claiming, in my judgment, a very serious attention. It is, that in all legislative assemblies the greater the number composing them may be, the fewer will be the men who will in fact direct their proceedings. In the first place, the more numerous an assembly may be, of whatever characters composed, the greater is known to be the ascendency of passion over reason. In the next place, the larger the number, the greater will be the proportion of members of limited information and of weak capacities. Now, it is precisely on characters of this description that the eloquence and address of the few are known to act with all their force. \n",
    "\n",
    "In the ancient republics, where the whole body of the people assembled in person, a single orator, or an artful statesman, was generally seen to rule with as complete a sway as if a sceptre had been placed in his single hand. On the same principle, the more multitudinous a representative assembly may be rendered, the more it will partake of the infirmities incident to collective meetings of the people. Ignorance will be the dupe of cunning, and passion the slave of sophistry and declamation. \n",
    "\n",
    "The people can never err more than in supposing that by multiplying their representatives beyond a certain limit, they strengthen the barrier against the government of a few. Experience will forever admonish them that, on the contrary, AFTER SECURING A SUFFICIENT NUMBER FOR THE PURPOSES OF SAFETY, OF LOCAL INFORMATION, AND OF DIFFUSIVE SYMPATHY WITH THE WHOLE SOCIETY, they will counteract their own views by every addition to their representatives. The countenance of the government may become more democratic, but the soul that animates it will be more oligarchic. The machine will be enlarged, but the fewer, and often the more secret, will be the springs by which its motions are directed.\n",
    "\n",
    "As connected with the objection against the number of representatives, may properly be here noticed, that which has been suggested against the number made competent for legislative business. It has been said that more than a majority ought to have been required for a quorum; and in particular cases, if not in all, more than a majority of a quorum for a decision. That some advantages might have resulted from such a precaution, cannot be denied. It might have been an additional shield to some particular interests, and another obstacle generally to hasty and partial measures. But these considerations are outweighed by the inconveniences in the opposite scale.\n",
    "\n",
    "In all cases where justice or the general good might require new laws to be passed, or active measures to be pursued, the fundamental principle of free government would be reversed. It would be no longer the majority that would rule: the power would be transferred to the minority. \n",
    "\n",
    "Were the defensive privilege limited to particular cases, an interested minority might take advantage of it to screen themselves from equitable sacrifices to the general weal, or, in particular emergencies, to extort unreasonable indulgences. \n",
    "\n",
    "Lastly, it would facilitate and foster the baneful practice of secessions; a practice which has shown itself even in States where a majority only is required; a practice subversive of all the principles of order and regular government; a practice which leads more directly to public convulsions, and the ruin of popular governments, than any other which has yet been displayed among us. "
   ]
  },
  {
   "cell_type": "markdown",
   "metadata": {},
   "source": [
    "### Federalist 59: Concerning the Power of Congress to Regulate the Election of Members (Hamilton)"
   ]
  },
  {
   "cell_type": "markdown",
   "metadata": {},
   "source": [
    "THE natural order of the subject leads us to consider, in this place, that provision of the Constitution which authorizes the national legislature to regulate, in the last resort, the election of its own members. \n",
    "\n",
    "It is in these words: \"The TIMES, PLACES, and MANNER of holding elections for senators and representatives shall be prescribed in each State by the legislature thereof; but the Congress may, at any time, by law, make or alter SUCH REGULATIONS, except as to the PLACES of choosing senators\".\n",
    "\n",
    "Its propriety rests upon the evidence of this plain proposition, that EVERY GOVERNMENT OUGHT TO CONTAIN IN ITSELF THE MEANS OF ITS OWN PRESERVATION. Every just reasoner will...not cease to regard and to regret a departure from so fundamental a principle, as a portion of imperfection in the system which may prove the seed of future weakness, and perhaps anarchy. \n",
    "\n",
    "It will not be alleged, that an election law could have been framed and inserted in the Constitution, which would have been always applicable to every probable change in the situation of the country; and it will therefore not be denied, that a discretionary power over elections ought to exist somewhere.\n",
    "\n",
    "the convention...have submitted the regulation of elections for the federal government, in the first instance, to the local administrations...but they have reserved to the national authority a right to interpose, whenever extraordinary circumstances might render that interposition necessary to its safety. \n",
    "\n",
    "Nothing can be more evident, than that an exclusive power of regulating elections for the national government, in the hands of the State legislatures, would leave the existence of the Union entirely at their mercy. They could at any moment annihilate it, by neglecting to provide for the choice of persons to administer its affairs. It is to little purpose to say, that a neglect or omission of this kind would not be likely to take place. The constitutional possibility of the thing, without an equivalent for the risk, is an unanswerable objection.\n",
    "\n",
    "If we are in a humor to presume abuses of power, it is as fair to presume them on the part of the State governments as on the part of the general government. And as it is more consonant to the rules of a just theory, to trust the Union with the care of its own existence, than to transfer that care to any other hands, if abuses of power are to be hazarded on the one side or on the other, it is more rational to hazard them where the power would naturally be placed, than where it would unnaturally be placed...An impartial view of the matter cannot fail to result in a conviction, that each, as far as possible, ought to depend on itself for its own preservation. \n",
    "\n",
    "As an objection to this position, it may be remarked that the constitution of the national Senate would involve, in its full extent, the danger which it is suggested might flow from an exclusive power in the State legislatures to regulate the federal elections...This argument, though specious, will not, upon examination, be found solid. It is certainly true that the State legislatures, by forbearing the appointment of senators, may destroy the national government. But it will not follow that, because they have a power to do this in one instance, they ought to have it in every other.\n",
    "\n",
    "So far as that construction may expose the Union to the possibility of injury from the State legislatures, it is an evil; but it is an evil which could not have been avoided without excluding the States, in their political capacities, wholly from a place in the organization of the national government. \n",
    "\n",
    "I shall not deny, that there is a degree of weight in the observation, that the interests of each State, to be represented in the federal councils, will be a security against the abuse of a power over its elections in the hands of the State legislatures. But the security will not be considered as complete, by those who attend to the force of an obvious distinction between the interest of the people in the public felicity, and the interest of their local rulers in the power and consequence of their offices...This diversity of sentiment between a majority of the people, and the individuals who have the greatest credit in their councils, is exemplified in some of the States at the present moment, on the present question.\n",
    "\n",
    "With so effectual a weapon in their hands as the exclusive power of regulating elections for the national government, a combination of a few such men, in a few of the most considerable States, where the temptation will always be the strongest, might accomplish the destruction of the Union, by seizing the opportunity of some casual dissatisfaction among the people (and which perhaps they may themselves have excited), to discontinue the choice of members for the federal House of Representatives.\n",
    "\n",
    "It ought never to be forgotten, that a firm union of this country, under an efficient government, will probably be an increasing object of jealousy to more than one nation of Europe; and that enterprises to subvert it will sometimes originate in the intrigues of foreign powers, and will seldom fail to be patronized and abetted by some of them. Its preservation, therefore ought in no case that can be avoided, to be committed to the guardianship of any but those whose situation will uniformly beget an immediate interest in the faithful and vigilant performance of the trust."
   ]
  },
  {
   "cell_type": "markdown",
   "metadata": {},
   "source": [
    "### Federalist 60: The Same Subject Continued (Concerning the Power of Congress to Regulate the Election of Members) (Hamilton)"
   ]
  },
  {
   "cell_type": "markdown",
   "metadata": {},
   "source": [
    "WE HAVE seen, that an uncontrollable power over the elections to the federal government could not, without hazard, be committed to the State legislatures. Let us now see, what would be the danger on the other side; that is, from confiding the ultimate right of regulating its own elections to the Union itself.\n",
    "\n",
    "it is alleged, that it might be employed in such a manner as to promote the election of some favorite class of men in exclusion of others, by confining the places of election to particular districts, and rendering it impracticable to the citizens at large to partake in the choice.\n",
    "\n",
    "The improbability of the attempt may be satisfactorily inferred from this single reflection, that it could never be made without causing an immediate revolt of the great body of the people, headed and directed by the State governments...that so fundamental a privilege, in a country so situated and enlightened, should be invaded to the prejudice of the great mass of the people, by the deliberate policy of the government, without occasioning a popular revolution, is altogether inconceivable and incredible. \n",
    "\n",
    "In addition to this general reflection, there are considerations of a more precise nature. The dissimilarity in the ingredients which will compose the national government...must form a powerful obstacle to a concert of views in any partial scheme of elections...The House of Representatives being to be elected immediately by the people, the Senate by the State legislatures, the President by electors chosen for that purpose by the people, there would be little probability of a common interest to cement these different branches in a predilection for any particular class of electors. \n",
    "\n",
    "what is to be the object of...capricious partiality in the national councils? Is it to be exercised in a discrimination between the different departments of industry, or between the different kinds of property, or between the different degrees of property? Will it lean in favor of the landed interest, or the moneyed interest, or the mercantile interest, or the manufacturing interest? Or, to speak in the fashionable language of the adversaries to the Constitution, will it court the elevation of \"the wealthy and the well-born\", to the exclusion and debasement of all the rest of the society? \n",
    "\n",
    "If this partiality is to be exerted in favor of those who are concerned in any particular description of industry or property, I presume it will readily be admitted, that the competition for it will lie between landed men and merchants...it is infinitely less likely that either of them should gain an ascendant in the national councils, than that the one or the other of them should predominate in all the local councils.\n",
    "\n",
    "The several States are in various degrees addicted to agriculture and commerce...In proportion as either prevails, it will be conveyed into the national representation; and for the very reason...it will be much less apt to espouse either of them with a decided partiality, than the representation of any single State. \n",
    "\n",
    "as I understand the meaning of the objectors, they contemplate a discrimination of another kind. They appear to have in view, as the objects of the preference with which they endeavor to alarm us, those whom they designate by the description of \"the wealthy and the well-born\". \n",
    "\n",
    "But upon what principle is the discrimination of the places of election to be made, in order to answer the purpose of the meditated preference? Are \"the wealthy and the well-born\", as they are called, confined to particular spots in the several States?\n",
    "\n",
    "The truth is, that there is no method of securing to the rich the preference apprehended, but by prescribing qualifications of property either for those who may elect or be elected. But this forms no part of the power to be conferred upon the national government. Its authority would be expressly restricted to the regulation of the TIMES, the PLACES, the MANNER of elections. The qualifications of the persons who may choose or be chosen, as has been remarked upon other occasions, are defined and fixed in the Constitution, and are unalterable by the legislature. \n",
    "\n",
    "et it, however, be admitted, for argument sake, that the expedient suggested might be successful... still I imagine it will hardly be pretended that they could ever hope to carry such an enterprise into execution without the aid of a military force sufficient to subdue the resistance of the great body of the people.\n",
    "\n",
    "The improbability of the existence of a force equal to that object has been discussed and demonstrated in different parts of these papers; but that the futility of the objection under consideration may appear in the strongest light, it shall be conceded for a moment that such a force might exist, and the national government shall be supposed to be in the actual possession of it. What will be the conclusion? \n",
    "\n",
    "With a disposition to invade the essential rights of the community, and with the means of gratifying that disposition, is it presumable that the persons who were actuated by it would amuse themselves in the ridiculous task of fabricating election laws for securing a preference to a favorite class of men? Would they not be likely to prefer a conduct better adapted to their own immediate aggrandizement? Would they not rather boldly resolve to perpetuate themselves in office by one decisive act of usurpation, than to trust to precarious expedients which, in spite of all the precautions that might accompany them, might terminate in the dismission, disgrace, and ruin of their authors?\n",
    "\n",
    "Would they not fear that citizens, not less tenacious than conscious of their rights, would flock from the remote extremes of their respective States to the places of election, to voerthrow their tyrants, and to substitute men who would be disposed to avenge the violated majesty of the people? "
   ]
  },
  {
   "cell_type": "markdown",
   "metadata": {},
   "source": [
    "### Federalist 61: The Same Subject Continued (Concerning the Power of Congress to Regulate the Election of Members) (Hamilton)"
   ]
  },
  {
   "cell_type": "markdown",
   "metadata": {},
   "source": [
    "THE more candid opposers of the provision respecting elections, contained in the plan of the convention, when pressed in argument, will sometimes concede the propriety of that provision; with this qualification, however, that it ought to have been accompanied with a declaration, that all elections should be had in the counties where the electors resided.\n",
    "\n",
    "This, say they, was a necessary precaution against an abuse of the power...But it would, in fact, have afforded little or no additional security against the danger apprehended...The different views taken of the subject in the two preceding papers must be sufficient to satisfy all dispassionate and discerning men, that if the public liberty should ever be the victim of the ambition of the national rulers, the power under examination, at least, will be guiltless of the sacrifice.\n",
    "\n",
    "If those who are inclined to consult their jealousy only, would exercise it in a careful inspection of the several State constitutions, they would find little less room for disquietude and alarm, from the latitude which most of them allow in respect to elections...I shall content myself with the single example of the State in which I write. \n",
    "\n",
    "The constitution of New York makes no other provision for LOCALITY of elections, than that the members of the Assembly shall be elected in the COUNTIES...It may readily be perceived that it would not be more difficult to the legislature of New York to defeat the suffrages of the citizens of New York, by confining elections to particular places, than for the legislature of the United States to defeat the suffrages of the citizens of the Union, by the like expedient. Suppose, for instance, the city of Albany was to be appointed the sole place of election for the county and district of which it is a part, would not the inhabitants of that city speedily become the only electors of the members both of the Senate and Assembly for that county and district?\n",
    "\n",
    "The alarming indifference discoverable in the exercise of so invaluable a privilege under the existing laws, which afford every facility to it, furnishes a ready answer to this question. And, abstracted from any experience on the subject, we can be at no loss to determine, that when the place of election is at an INCONVENIENT DISTANCE from the elector, the effect upon his conduct will be the same whether that distance be twenty miles or twenty thousand miles.\n",
    "\n",
    "Hence it must appear, that objections to the particular modification of the federal power of regulating elections will, in substance, apply with equal force to the modification of the like power in the constitution of this State; and for this reason it will be impossible to acquit the one, and to condemn the other.\n",
    "\n",
    "Hitherto my observations have only aimed at a vindication of the provision in question, on the ground of theoretic propriety, on that of the danger of placing the power elsewhere, and on that of the safety of placing it in the manner proposed. But there remains to be mentioned a positive advantage which will result from this disposition, and which could not as well have been obtained from any other: I allude to the circumstance of uniformity in the time of elections for the federal House of Representatives. It is more than possible that this uniformity may be found by experience to be of great importance to the public welfare, both as a security against the perpetuation of the same spirit in the body, and as a cure for the diseases of faction. If each State may choose its own time of election, it is possible there may be at least as many different periods as there are months in the year. The times of election in the several States, as they are now established for local purposes, vary between extremes as wide as March and November. The consequence of this diversity would be that there could never happen a total dissolution or renovation of the body at one time. If an improper spirit of any kind should happen to prevail in it, that spirit would be apt to infuse itself into the new members, as they come forward in succession. The mass would be likely to remain nearly the same, assimilating constantly to itself its gradual accretions. There is a contagion in example which few men have sufficient force of mind to resist. I am inclined to think that treble the duration in office, with the condition of a total dissolution of the body at the same time, might be less formidable to liberty than one third of that duration subject to gradual and successive alterations. \n",
    "\n",
    "It may be asked, Why, then, could not a time have been fixed in the Constitution? As the most zealous adversaries of the plan of the convention in this State are, in general, not less zealous admirers of the constitution of the State, the question may be retorted, and it may be asked, Why was not a time for the like purpose fixed in the constitution of this State? No better answer can be given than that it was a matter which might safely be entrusted to legislative discretion; and that if a time had been appointed, it might, upon experiment, have been found less convenient than some other time. The same answer may be given to the question put on the other side.\n",
    "\n",
    "And it may be added that the supposed danger of a gradual change being merely speculative, it would have been hardly advisable upon that speculation to establish, as a fundamental point, what would deprive several States of the convenience of havingdsvbg the elections for their own governments and for the national government at the same epochs."
   ]
  },
  {
   "cell_type": "markdown",
   "metadata": {},
   "source": [
    "### Federalist 62: The Senate  (Hamilton or Madison)"
   ]
  },
  {
   "cell_type": "markdown",
   "metadata": {},
   "source": [
    "HAVING examined the constitution of the House of Representatives, and answered such of the objections against it as seemed to merit notice, I enter next on the examination of the Senate. \n",
    "\n",
    "The heads into which this member of the government may be considered are: \n",
    "\n",
    "I. The qualification of senators;\n",
    "II. The appointment of them by the State legislatures;\n",
    "III. The equality of representation in the Senate;\n",
    "IV. The number of senators, and the term for which they are to be elected;\n",
    "V. The powers vested in the Senate. \n",
    "\n",
    "I. The qualifications proposed for senators, as distinguished from those of representatives, consist in a more advanced age and a longer period of citizenship. A senator must be thirty years of age at least; as a representative must be twenty-five. And the former must have been a citizen nine years; as seven years are required for the latter. The propriety of these distinctions is explained by the nature of the senatorial trust, which, requiring greater extent of information and tability of character, requires at the same time that the senator should have reached a period of life most likely to supply these advantages; and which, participating immediately in transactions with foreign nations, ought to be exercised by none who are not thoroughly weaned from the prepossessions and habits incident to foreign birth and education. The term of nine years appears to be a prudent mediocrity between a total exclusion of adopted citizens, whose merits and talents may claim a share in the public confidence, and an indiscriminate and hasty admission of them, which might create a channel for foreign influence on the national councils.\n",
    "\n",
    "II. Among the various modes which might have been devised for constituting this branch of the government, that which has been proposed by the convention is probably the most congenial with the public opinion. It is recommended by the double advantage of favoring a select appointment, and of giving to the State governments such an agency in the formation of the federal government as must secure the authority of the former, and may form a convenient link between the two systems. \n",
    "\n",
    "III. If indeed it be right, that among a people thoroughly incorporated into one nation, every district ought to have a PROPORTIONAL share in the government, and that among independent and sovereign States, bound together by a simple league, the parties, however unequal in size, ought to have an EQUAL share in the common councils, it does not appear to be without some reason that in a compound republic, partaking both of the national and federal character, the government ought to be founded on a mixture of the principles of proportional and equal representation...A government founded on principles more consonant to the wishes of the larger States, is not likely to be obtained from the smaller States. The only option, then, for the former, lies between the proposed government and a government still more objectionable. Under this alternative, the advice of prudence must be to embrace the lesser evil\n",
    "\n",
    "Another advantage accruing from this ingredient in the constitution of the Senate is, the additional impediment it must prove against improper acts of legislation. No law or resolution can now be passed without the concurrence, first, of a majority of the people, and then, of a majority of the States. It must be acknowledged that this complicated check on legislation may in some instances be injurious as well as beneficial...But as the larger States will always be able, by their power over the supplies, to defeat unreasonable exertions of this prerogative of the lesser States, and as the faculty and excess of law-making seem to be the diseases to which our governments are most liable, it is not impossible that this part of the Constitution may be more convenient in practice than it appears to many in contemplation. \n",
    "\n",
    "IV. The number of senators, and the duration of their appointment, come next to be considered. In order to form an accurate judgment on both of these points, it will be proper to inquire into the purposes which are to be answered by a senate; and in order to ascertain these, it will be necessary to review the inconveniences which a republic must suffer from the want of such an institution.\n",
    "\n",
    "First. It is a misfortune incident to republican government, though in a less degree than to other governments, that those who administer it may forget their obligations to their constituents, and prove unfaithful to their important trust. In this point of view, a senate, as a second branch of the legislative assembly, distinct from, and dividing the power with, a first, must be in all cases a salutary check on the government. It doubles the security to the people, by requiring the concurrence of two distinct bodies in schemes of usurpation or perfidy, where the ambition or corruption of one would otherwise be sufficient...as the improbability of sinister combinations will be in proportion to the dissimilarity in the genius of the two bodies, it must be politic to distinguish them from each other by every circumstance which will consist with a due harmony in all proper measures, and with the genuine principles of republican government.\n",
    "\n",
    "Secondly. The necessity of a senate is not less indicated by the propensity of all single and numerous assemblies to yield to the impulse of sudden and violent passions, and to be seduced by factious leaders into intemperate and pernicious resolutions...a body which is to correct this infirmity ought itself to be free from it, and consequently ought to be less numerous. It ought, moreover, to possess great firmness, and consequently ought to hold its authority by a tenure of considerable duration. \n",
    "\n",
    "Thirdly. Another defect to be supplied by a senate lies in a want of due acquaintance with the objects and principles of legislation. It is not possible that an assembly of men called for the most part from pursuits of a private nature, continued in appointment for a short time, and led by no permanent motive to devote the intervals of public occupation to a study of the laws, the affairs, and the comprehensive interests of their country, should, if left wholly to themselves, escape a variety of important errors in the exercise of their legislative trust.\n",
    "\n",
    "A good government implies two things: first, fidelity to the object of government, which is the happiness of the people; secondly, a knowledge of the means by which that object can be best attained. Some governments are deficient in both these qualities; most governments are deficient in the first. I scruple not to assert, that in American governments too little attention has been paid to the last. The federal Constitution avoids this error; and what merits particular notice, it provides for the last in a mode which increases the security for the first.\n",
    "\n",
    "Fourthly. The mutability in the public councils arising from a rapid succession of new members, however qualified they may be, points out, in the strongest manner, the necessity of some stable institution in the government. Every new election in the States is found to change one half of the representatives. From this change of men must proceed a change of opinions; and from a change of opinions, a change of measures. But a continual change even of good measures is inconsistent with every rule of prudence and every prospect of success.\n",
    "\n",
    "In the first place, it forfeits the respect and confidence of other nations, and all the advantages connected with national character. An individual who is observed to be inconstant to his plans, or perhaps to carry on his affairs without any plan at all, is marked at once, by all prudent people, as a speedy victim to his own unsteadiness and folly. His more friendly neighbors may pity him, but all will decline to connect their fortunes with his; and not a few will seize the opportunity of making their fortunes out of his.\n",
    "\n",
    "The internal effects of a mutable policy are still more calamitous. It poisons the blessing of liberty itself. It will be of little avail to the people, that the laws are made by men of their own choice, if the laws be so voluminous that they cannot be read, or so incoherent that they cannot be understood...Law is defined to be a rule of action; but how can that be a rule, which is little known, and less fixed? \n",
    "\n",
    "Another effect of public instability is the unreasonable advantage it gives to the sagacious, the enterprising, and the moneyed few over the industrious and uniformed mass of the people. Every new regulation concerning commerce or revenue, or in any way affecting the value of the different species of property, presents a new harvest to those who watch the change, and can trace its consequences; a harvest, reared not by themselves, but by the toils and cares of the great body of their fellow-citizens. This is a state of things in which it may be said with some truth that laws are made for the FEW, not for the MANY.\n",
    "\n",
    "In another point of view, great injury results from an unstable government. The want of confidence in the public councils damps every useful undertaking, the success and profit of which may depend on a continuance of existing arrangements...In a word, no great improvement or laudable enterprise can go forward which requires the auspices of a steady system of national policy.\n",
    "\n",
    "But the most deplorable effect of all is that diminution of attachment and reverence which steals into the hearts of the people, towards a political system which betrays so many marks of infirmity, and disappoints so many of their flattering hopes. No government, any more than an individual, will long be respected without being truly respectable; nor be truly respectable, without possessing a certain portion of order and stability. "
   ]
  },
  {
   "cell_type": "markdown",
   "metadata": {},
   "source": [
    "### Federalist 63: The Senate Continued (Hamilton or Madison)"
   ]
  },
  {
   "cell_type": "markdown",
   "metadata": {},
   "source": [
    "A FIFTH desideratum, illustrating the utility of a senate, is the want of a due sense of national character. Without a select and stable member of the government...the national councils will not possess that sensibility to the opinion of the world, which is perhaps not less necessary in order to merit, than it is to obtain, its respect and confidence.\n",
    "\n",
    "An attention to the judgment of other nations is important to every government for two reasons: the one is, that, independently of the merits of any particular plan or measure, it is desirable, on various accounts, that it should appear to other nations as the offspring of a wise and honorable policy; the second is, that in doubtful cases, particularly where the national councils may be warped by some strong passion or momentary interest, the presumed or known opinion of the impartial world may be the best guide that can be followed. What has not America lost by her want of character with foreign nations...Yet however requisite a sense of national character may be, it is evident that it can never be sufficiently possessed by a numerous and changeable body. \n",
    "\n",
    "I add, as a SIXTH defect the want, in some important cases, of a due responsibility in the government to the people, arising from that frequency of elections which in other cases produces this responsibility.\n",
    "\n",
    "Responsibility, in order to be reasonable, must be limited to objects within the power of the responsible party, and in order to be effectual, must relate to operations of that power, of which a ready and proper judgment can be formed by the constituents. The objects of government may be divided into two general classes: the one depending on measures which have singly an immediate and sensible operation; the other depending on a succession of well-chosen and well-connected measures, which have a gradual and perhaps unobserved operation.\n",
    "\n",
    "The importance of the latter description to the collective and permanent welfare of every country, needs no explanation. And yet it is evident that an assembly elected for so short a term as to be unable to provide more than one or two links in a chain of measures, on which the general welfare may essentially depend, ought not to be answerable for the final result, any more than a steward or tenant, engaged for one year, could be justly made to answer for places or improvements which could not be accomplished in less than half a dozen years.\n",
    "\n",
    "The proper remedy for this defect must be an additional body in the legislative department, which, having sufficient permanency to provide for such objects as require a continued attention, and a train of measures, may be justly and effectually answerable for the attainment of those objects.\n",
    "\n",
    "I shall not scruple to add, that such an institution may be sometimes necessary as a defense to the people against their own temporary errors and delusions...What bitter anguish would not the people of Athens have often escaped if their government had contained so provident a safeguard against the tyranny of their own passions? Popular liberty might then have escaped the indelible reproach of decreeing to the same citizens the hemlock on one day and statues on the next. \n",
    "\n",
    "In answer to all these arguments, suggested by reason, illustrated by examples, and enforced by our own experience, the jealous adversary of the Constitution will probably content himself with repeating, that a senate appointed not immediately by the people, and for the term of six years, must gradually acquire a dangerous pre-eminence in the government, and finally transform it into a tyrannical aristocracy. \n",
    "\n",
    "To this general answer, the general reply ought to be sufficient, that liberty may be endangered by the abuses of liberty as well as by the abuses of power...But a more particular reply may be given. \n",
    "\n",
    "Before such a revolution can be effected, the Senate, it is to be observed, must in the first place corrupt itself; must next corrupt the State legislatures; must then corrupt the House of Representatives; and must finally corrupt the people at large. It is evident that the Senate must be first corrupted before it can attempt an establishment of tyranny. Without corrupting the State legislatures, it cannot prosecute the attempt, because the periodical change of members would otherwise regenerate the whole body. Without exerting the means of corruption with equal success on the House of Representatives, the opposition of that coequal branch of the government would inevitably defeat the attempt; and without corrupting the people themselves, a succession of new representatives would speedily restore all things to their pristine order. Is there any man who can seriously persuade himself that the proposed Senate can, by any possible means within the compass of human address, arrive at the object of a lawless ambition, through all these obstructions? \n",
    "\n",
    "If reason condemns the suspicion, the same sentence is pronounced by experience. The constitution of Maryland furnishes the most apposite example...But if any thing could silence the jealousies on this subject, it ought to be the British example. The Senate there...is an hereditary assembly of opulent nobles. The House of Representatives...is elected for seven years...by a very small proportion of the people.\n",
    "\n",
    "Here, unquestionably, ought to be seen in full display the aristocratic usurpations and tyranny which are at some future period to be exemplified in the United States. Unfortunately, however, for the anti-federal argument, the British history informs us that this hereditary assembly has not been able to defend itself against the continual encroachments of the House of Representatives; and that it no sooner lost the support of the monarch, than it was actually crushed by the weight of the popular branch.\n",
    "\n",
    "As far as antiquity can instruct us on this subject, its examples support the reasoning which we have employed...It proves the irresistible force possessed by that branch of a free government, which has the people on its side.\n",
    "\n",
    "Besides the conclusive evidence resulting from this assemblage of facts, that the federal Senate will never be able to transform itself, by gradual usurpations, into an independent and aristocratic body, we are warranted in believing, that if such a revolution should ever happen from causes which the foresight of man cannot guard against, the House of Representatives, with the people on their side, will at all times be able to bring back the Constitution to its primitive form and principles. \n",
    "\n",
    "Against the force of the immediate representatives of the people, nothing will be able to maintain even the constitutional authority of the Senate, but such a display of enlightened policy, and attachment to the public good, as will divide with that branch of the legislature the affections and support of the entire body of the people themselves. \n",
    "\n",
    "\n"
   ]
  },
  {
   "cell_type": "markdown",
   "metadata": {},
   "source": [
    "### Federalist 64: The Powers of the Senate (Jay)"
   ]
  },
  {
   "cell_type": "markdown",
   "metadata": {},
   "source": [
    "IT IS a just and not a new observation, that enemies to particular persons, and opponents to particular measures, seldom confine their censures to such things only in either as are worthy of blame. \n",
    "\n",
    "The second section gives power to the President, \"BY AND WITH THE ADVICE AND CONSENT OF THE SENATE, TO MAKE TREATIES, PROVIDED TWO THIRDS OF THE SENATORS PRESENT CONCUR\".\n",
    "\n",
    "The power of making treaties is an important one, especially as it relates to war, peace, and commerce; and it should not be delegated but in such a mode, and with such precautions, as will afford the highest security that it will be exercised by men the best qualified for the purpose, and in the manner most conducive to the public good.\n",
    "\n",
    "The convention appears to have been attentive to both these points: they have directed the President to be chosen by select bodies of electors, to be deputed by the people for that express purpose; and they have committed the appointment of senators to the State legislatures.\n",
    "\n",
    "As the select assemblies for choosing the President, as well as the State legislatures who appoint the senators, will in general be composed of the most enlightened and respectable citizens, there is reason to presume that their attention and their votes will be directed to those men only who have become the most distinguished by their abilities and virtue, and in whom the people perceive just grounds for confidence. \n",
    "\n",
    "The Constitution manifests very particular attention to this object. By excluding men under thirty-five from the first office, and those under thirty from the second, it confines the electors to men of whom the people have had time to form a judgment, and with respect to whom they will not be liable to be deceived by those brilliant appearances of genius and patriotism, which, like transient meteors, sometimes mislead as well as dazzle.\n",
    "\n",
    "The inference which naturally results from these considerations is this, that the President and senators so chosen will always be of the number of those who best understand our national interests, whether considered in relation to the several States or to foreign nations, who are best able to promote those interests, and whose reputation for integrity inspires and merits confidence. With such men the power of making treaties may be safely lodged. \n",
    "\n",
    "It seldom happens in the negotiation of treaties, of whatever nature, but that perfect SECRECY and immediate DESPATCH are sometimes requisite. These are cases where the most useful intelligence may be obtained, if the persons possessing it can be relieved from apprehensions of discovery. \n",
    "\n",
    "Those apprehensions will operate on those persons whether they are actuated by mercenary or friendly motives; and there doubtless are many of both descriptions, who would rely on the secrecy of the President, but who would not confide in that of the Senate, and still less in that of a large popular Assembly. The convention have done well, therefore, in so disposing of the power of making treaties, that although the President must, in forming them, act by the advice and consent of the Senate, yet he will be able to manage the business of intelligence in such a manner as prudence may suggest. \n",
    "\n",
    "They who have turned their attention to the affairs of men, must have perceived that there are tides in them; tides very irregular in their duration, strength, and direction, and seldom found to run twice exactly in the same manner or measure. To discern and to profit by these tides in national affairs is the business of those who preside over them\n",
    "\n",
    "there frequently are occasions when days, nay, even when hours, are precious. The loss of a battle, the death of a prince, the removal of a minister, or other circumstances intervening to change the present posture and aspect of affairs, may turn the most favorable tide into a course opposite to our wishes. As in the field, so in the cabinet, there are moments to be seized as they pass, and they who preside in either should be left in capacity to improve them.\n",
    "\n",
    "For these, the President will find no difficulty to provide; and should any circumstance occur which requires the advice and consent of the Senate, he may at any time convene them. Thus we see that the Constitution provides that our negotiations for treaties shall have every advantage which can be derived from talents, information, integrity, and deliberate investigations, on the one hand, and from secrecy and despatch on the other. \n",
    "\n",
    "But to this plan, as to most others that have ever appeared, objections are contrived and urged. Some are displeased with it...because, as the treaties, when made, are to have the force of laws, they should be made only by men invested with legislative authority. \n",
    "\n",
    "These gentlemen seem not to consider that the judgments of our courts, and the commissions constitutionally given by our governor, are as valid and as binding on all persons whom they concern, as the laws passed by our legislature. All constitutional acts of power, whether in the executive or in the judicial department, have as much legal validity and obligation as if they proceeded from the legislature. It surely does not follow, that because they have given the power of making laws to the legislature, that therefore they should likewise give them the power to do every other act of sovereignty by which the citizens are to be bound and affected.\n",
    "\n",
    "Others, though content that treaties should be made in the mode proposed, are averse to their being the SUPREME laws of the land...These gentlemen would do well to reflect that a treaty is only another name for a bargain, and that it would be impossible to find a nation who would make any bargain with us, which should be binding on them ABSOLUTELY, but on us only so long and so far as we may think proper to be bound by it...The proposed Constitution, therefore, has not in the least extended the obligation of treaties. They are just as binding, and just as far beyond the lawful reach of legislative acts now, as they will be at any future period, or under any form of government. \n",
    "\n",
    "Others suspect that two thirds will oppress the remaining third, and ask whether those gentlemen are made sufficiently responsible for their conduct; whether, if they act corruptly, they can be punished; and if they make disadvantageous treaties, how are we to get rid of those treaties? \n",
    "\n",
    "In proportion as the United States assume a national form and a national character, so will the good of the whole be more and more an object of attention, and the government must be a weak one indeed, if it should forget that the good of the whole can only be promoted by advancing the good of each of the parts or members which compose the whole. It will not be in the power of the President and Senate to make any treaties by which they and their families and estates will not be equally bound and affected with the rest of the community; and, having no private interests distinct from that of the nation, they will be under no temptations to neglect the latter. \n",
    "\n",
    "As to corruption, the case is not supposable...But in such a case, if it should ever happen, the treaty so obtained from us would, like all other fraudulent contracts, be null and void by the law of nations. \n",
    "\n",
    "With respect to their responsibility, it is difficult to conceive how it could be increased...In short, as the Constitution has taken the utmost care that they shall be men of talents and integrity, we have reason to be persuaded that the treaties they make will be as advantageous as, all circumstances considered, could be made; and so far as the fear of punishment and disgrace can operate, that motive to good behavior is amply afforded by the article on the subject of impeachments.\n",
    "\n"
   ]
  },
  {
   "cell_type": "markdown",
   "metadata": {},
   "source": [
    "### Federalist 65: The Powers of the Senate Continued (Hamilton)"
   ]
  },
  {
   "cell_type": "markdown",
   "metadata": {},
   "source": [
    "THE remaining powers which the plan of the convention allots to the Senate, in a distinct capacity, are comprised in their participation with the executive in the appointment to offices, and in their judicial character as a court for the trial of impeachments. \n",
    "\n",
    "As in the business of appointments the executive will be the principal agent, the provisions relating to it will most properly be discussed in the examination of that department. We will, therefore, conclude this head with a view of the judicial character of the Senate. \n",
    "\n",
    "A well-constituted court for the trial of impeachments is an object not more to be desired than difficult to be obtained in a government wholly elective. The subjects of its jurisdiction are those offenses which proceed from the misconduct of public men, or, in other words, from the abuse or violation of some public trust. They are of a nature which may with peculiar propriety be denominated POLITICAL, as they relate chiefly to injuries done immediately to the society itself.\n",
    "\n",
    "The prosecution of them, for this reason, will seldom fail to agitate the passions of the whole community, and to divide it into parties more or less friendly or inimical to the accused. In many cases it will connect itself with the pre-existing factions, and will enlist all their animosities, partialities, influence, and interest on one side or on the other; and in such cases there will always be the greatest danger that the decision will be regulated more by the comparative strength of parties, than by the real demonstrations of innocence or guilt.\n",
    "\n",
    "The convention, it appears, thought the Senate the most fit depositary of this important trust. What, it may be asked, is the true spirit of the institution itself? Is it not designed as a method of NATIONAL INQUEST into the conduct of public men? If this be the design of it, who can so properly be the inquisitors for the nation as the representatives of the nation themselves?\n",
    "\n",
    "It is not disputed that the power of originating the inquiry, or, in other words, of preferring the impeachment, ought to be lodged in the hands of one branch of the legislative body. Will not the reasons which indicate the propriety of this arrangement strongly plead for an admission of the other branch of that body to a share of the inquiry?...In Great Britain it is the province of the House of Commons to prefer the impeachment, and of the House of Lords to decide upon it. Several of the State constitutions have followed the example. As well the latter, as the former, seem to have regarded the practice of impeachments as a bridle in the hands of the legislative body upon the executive servants of the government. Is not this the true light in which it ought to be regarded? \n",
    "\n",
    "Where else than in the Senate could have been found a tribunal sufficiently dignified, or sufficiently independent? What other body would be likely to feel CONFIDENCE ENOUGH IN ITS OWN SITUATION, to preserve, unawed and uninfluenced, the necessary impartiality between an INDIVIDUAL accused, and the REPRESENTATIVES OF THE PEOPLE, HIS ACCUSERS?\n",
    "\n",
    "Could the Supreme Court have been relied upon as answering this description? It is much to be doubted, whether the members of that tribunal would at all times be endowed with so eminent a portion of fortitude, as would be called for in the execution of so difficult a task; and it is still more to be doubted, whether they would possess the degree of credit and authority, which might, on certain occasions, be indispensable towards reconciling the people to a decision that should happen to clash with an accusation brought by their immediate representatives. A deficiency in the first, would be fatal to the accused; in the last, dangerous to the public tranquillity.\n",
    "\n",
    "The necessity of a numerous court for the trial of impeachments, is equally dictated by the nature of the proceeding. This can never be tied down by such strict rules, either in the delineation of the offense by the prosecutors, or in the construction of it by the judges, as in common cases serve to limit the discretion of courts in favor of personal security. There will be no jury to stand between the judges who are to pronounce the sentence of the law, and the party who is to receive or suffer it. The awful discretion which a court of impeachments must necessarily have, to doom to honor or to infamy the most confidential and the most distinguished characters of the community, forbids the commitment of the trust to a small number of persons. \n",
    "\n",
    "The punishment which may be the consequence of conviction upon impeachment, is not to terminate the chastisement of the offender. After having been sentenced to a prepetual ostracism from the esteem and confidence, and honors and emoluments of his country, he will still be liable to prosecution and punishment in the ordinary course of law. Would it be proper that the persons who had disposed of his fame, and his most valuable rights as a citizen in one trial, should, in another trial, for the same offense, be also the disposers of his life and his fortune?...The loss of life and estate would often be virtually included in a sentence which, in its terms, imported nothing more than dismission from a present, and disqualification for a future, office.\n",
    "\n",
    "Would it have been an improvement of the plan, to have united the Supreme Court with the Senate, in the formation of the court of impeachments?...To a certain extent, the benefits of that union will be obtained from making the chief justice of the Supreme Court the president of the court of impeachments, as is proposed to be done in the plan of the convention; while the inconveniences of an entire incorporation of the former into the latter will be substantially avoided. This was perhaps the prudent mean.\n",
    "\n",
    "Would it have been desirable to have composed the court for the trial of impeachments, of persons wholly distinct from the other departments of the government?...it could tend to increase the complexity of the political machine, and to add a new spring to the government, the utility of which would at best be questionable...a court formed upon such a plan, would either be attended with a heavy expense, or might in practice be subject to a variety of casualties and inconveniences. \n",
    "\n",
    "It must either consist of permanent officers, stationary at the seat of government, and of course entitled to fixed and regular stipends, or of certain officers of the State governments to be called upon whenever an impeachment was actually depending. As the court, for reasons already given, ought to be numerous, the first scheme will be reprobated by every man who can compare the extent of the public wants with the means of supplying them. The second will be espoused with caution by those who will seriously consider the difficulty of collecting men dispersed over the whole Union\n",
    "\n",
    "But though one or the other of the substitutes which have been examined, or some other that might be devised, should be thought preferable to the plan in this respect, reported by the convention, it will not follow that the Constitution ought for this reason to be rejected. If mankind were to resolve to agree in no institution of government, until every part of it had been adjusted to the most exact standard of perfection, society would soon become a general scene of anarchy, and the world a desert.\n",
    "\n",
    "To answer the purpose of the adversaries of the Constitution, they ought to prove, not merely that particular provisions in it are not the best which might have been imagined, but that the plan upon the whole is bad and pernicious. \n"
   ]
  },
  {
   "cell_type": "markdown",
   "metadata": {},
   "source": [
    "### Federalist 66: Objections to the Power of the Senate To Set as a Court for Impeachments Further Considered (Hamilton)"
   ]
  },
  {
   "cell_type": "markdown",
   "metadata": {},
   "source": [
    "A REVIEW of the principal objections that have appeared against the proposed court for the trial of impeachments, will not improbably eradicate the remains of any unfavorable impressions which may still exist in regard to this matter.\n",
    "\n",
    "The FIRST of these objections is, that the provision in question confounds legislative and judiciary authorities in the same body, in violation of that important and well-established maxim which requires a separation between the different departments of power...This partial intermixture is even, in some cases, not only proper but necessary to the mutual defense of the several members of the government against each other. \n",
    "\n",
    "An absolute or qualified negative in the executive upon the acts of the legislative body, is admitted, by the ablest adepts in political science, to be an indispensable barrier against the encroachments of the latter upon the former. And it may, perhaps, with no less reason be contended, that the powers relating to impeachments are, as before intimated, an essential check in the hands of that body upon the encroachments of the executive. \n",
    "\n",
    "A SECOND objection to the Senate, as a court of impeachments, is, that it contributes to an undue accumulation of power in that body, tending to give to the government a countenance too aristocratic. The Senate, it is observed, is to have concurrent authority with the Executive in the formation of treaties and in the appointment to offices: if, say the objectors, to these prerogatives is added that of deciding in all cases of impeachment, it will give a decided predominancy to senatorial influence.\n",
    "\n",
    "To an objection so little precise in itself, it is not easy to find a very precise answer...Will it not be more safe, as well as more simple, to dismiss such vague and uncertain calculations, to examine each power by itself, and to decide, on general principles, where it may be deposited with most advantage and least inconvenience? \n",
    "\n",
    "But this hypothesis, such as it is, has already been refuted in the remarks applied to the duration in office prescribed for the senators...the most POPULAR branch of every government, partaking of the republican genius, by being generally the favorite of the people, will be as generally a full match, if not an overmatch, for every other member of the Government. \n",
    "\n",
    "A THIRD objection to the Senate as a court of impeachments, is drawn from the agency they are to have in the appointments to office. It is imagined that they would be too indulgent judges of the conduct of men, in whose official creation they had participated. The principle of this objection would condemn a practice, which is to be seen in all the State governments, if not in all the governments with which we are acquainted: I mean that of rendering those who hold offices during pleasure, dependent on the pleasure of those who appoint them.\n",
    "\n",
    "If any further arguments were necessary to evince the improbability of such a bias, it might be found in the nature of the agency of the Senate in the business of appointments. It will be the office of the President to NOMINATE, and, with the advice and consent of the Senate, to APPOINT. There will, of course, be no exertion of CHOICE on the part of the Senate. They may defeat one choice of the Executive, and oblige him to make another; but they cannot themselves CHOOSE, they can only ratify or reject the choice of the President...Thus it could hardly happen, that the majority of the Senate would feel any other complacency towards the object of an appointment than such as the appearances of merit might inspire, and the proofs of the want of it destroy. \n",
    "\n",
    "A FOURTH objection to the Senate in the capacity of a court of impeachments, is derived from its union with the Executive in the power of making treaties. This, it has been said, would constitute the senators their own judges, in every case of a corrupt or perfidious execution of that trust.\n",
    "\n",
    "The security essentially intended by the Constitution against corruption and treachery in the formation of treaties, is to be sought for in the numbers and characters of those who are to make them. The JOINT AGENCY of the Chief Magistrate of the Union, and of two thirds of the members of a body selected by the collective wisdom of the legislatures of the several States, is designed to be the pledge for the fidelity of the national councils in this particular.\n",
    "\n",
    "The truth is, that in all such cases it is essential to the freedom and to the necessary independence of the deliberations of the body, that the members of it should be exempt from punishment for acts done in a collective capacity; and the security to the society must depend on the care which is taken to confide the trust to proper hands, to make it their interest to execute it with fidelity, and to make it as difficult as possible for them to combine in any interest opposite to that of the public good. \n",
    "\n",
    "So far as might concern the misbehavior of the Executive in perverting the instructions or contravening the views of the Senate, we need not be apprehensive of the want of a disposition in that body to punish the abuse of their confidence or to vindicate their own authority. We may thus far count upon their pride, if not upon their virtue. \n",
    "\n",
    "And so far even as might concern the corruption of leading members...the usual propensity of human nature will warrant us in concluding that there would be commonly no defect of inclination in the body to divert the public resentment from themselves by a ready sacrifice of the authors of their mismanagement and disgrace. "
   ]
  },
  {
   "cell_type": "markdown",
   "metadata": {},
   "source": [
    "### Federalist 67: The Executive Department (Hamilton)"
   ]
  },
  {
   "cell_type": "markdown",
   "metadata": {},
   "source": [
    "THE constitution of the executive department of the proposed government, claims next our attention. \n",
    "\n",
    "Here the writers against the Constitution seem to have taken pains to signalize their talent of misrepresentation. Calculating upon the aversion of the people to monarchy, they have endeavored to enlist all their jealousies and apprehensions in opposition to the intended President of the United States; not merely as the embryo, but as the full-grown progeny, of that detested parent. \n",
    "\n",
    "The authorities of a magistrate, in few instances greater, in some instances less, than those of a governor of New York, have been magnified into more than royal prerogatives...It is impossible not to bestow the imputation of deliberate imposture and deception upon the gross pretense of a similitude between a king of Great Britain and a magistrate of the character marked out for that of the President of the United States.\n",
    "\n",
    "In one instance, which I cite as a sample of the general spirit, the temerity has proceeded so far as to ascribe to the President of the United States a power which by the instrument reported is EXPRESSLY allotted to the Executives of the individual States. I mean the power of filling casual vacancies in the Senate. \n",
    "\n",
    "The second clause of the second section of the second article empowers the President of the United States \"to nominate, and by and with the advice and consent of the Senate, to appoint ambassadors, other public ministers and consuls, judges of the Supreme Court, and all other OFFICERS of United States whose appointments are NOT in the Constitution OTHERWISE PROVIDED FOR, and WHICH SHALL BE ESTABLISHED BY LAW\". Immediately after this clause follows another in these words: \"The President shall have power to fill up ?? VACANCIES that may happen DURING THE RECESS OF THE SENATE, by granting commissions which shall EXPIRE AT THE END OF THEIR NEXT SESSION\". It is from this last provision that the pretended power of the President to fill vacancies in the Senate has been deduced. A slight attention to the connection of the clauses, and to the obvious meaning of the terms, will satisfy us that the deduction is not even colorable. \n",
    "\n",
    "The first of these two clauses, it is clear, only provides a mode for appointing such officers, \"whose appointments are NOT OTHERWISE PROVIDED FOR in the Constitution, and which SHALL BE ESTABLISHED BY LAW\"; of course it cannot extend to the appointments of senators, whose appointments are OTHERWISE PROVIDED FOR in the Constitution, and who are ESTABLISHED BY THE CONSTITUTION, and will not require a future establishment by law. This position will hardly be contested. \n",
    "\n",
    "The last of these two clauses, it is equally clear, cannot be understood to comprehend the power of filling vacancies in the Senate...as the national Senate is the body, whose situation is alone contemplated in the clause upon which the suggestion under examination has been founded, the vacancies to which it alludes can only be deemed to respect those officers in whose appointment that body has a concurrent agency with the President.\n",
    "\n",
    "Here is an express power given, in clear and unambiguous terms, to the State Executives, to fill casual vacancies in the Senate, by temporary appointments; which not only invalidates the supposition, that the clause before considered could have been intended to confer that power upon the President of the United States, but proves that this supposition, destitute as it is even of the merit of plausibility, must have originated in an intention to deceive the people, too palpable to be obscured by sophistry, too atrocious to be palliated by hypocrisy. \n",
    "\n",
    "I have taken the pains to select this instance of misrepresentation, and to place it in a clear and strong light, as an unequivocal proof of the unwarrantable arts which are practiced to prevent a fair and impartial judgment of the real merits of the Constitution submitted to the consideration of the people."
   ]
  },
  {
   "cell_type": "markdown",
   "metadata": {},
   "source": [
    "### Federalist 68: The Mode of Electing the President (Hamilton)"
   ]
  },
  {
   "cell_type": "markdown",
   "metadata": {},
   "source": [
    "THE mode of appointment of the Chief Magistrate of the United States is almost the only part of the system, of any consequence, which has escaped without severe censure, or which has received the slightest mark of approbation from its opponents.\n",
    "\n",
    "It was desirable that the sense of the people should operate in the choice of the person to whom so important a trust was to be confided. This end will be answered by committing the right of making it, not to any preestablished body, but to men chosen by the people for the special purpose, and at the particular conjuncture. \n",
    "\n",
    "It was equally desirable, that the immediate election should be made by men most capable of analyzing the qualities adapted to the station, and acting under circumstances favorable to deliberation, and to a judicious combination of all the reasons and inducements which were proper to govern their choice. A small number of persons, selected by their fellow-citizens from the general mass, will be most likely to possess the information and discernment requisite to such complicated investigations. \n",
    "\n",
    "It was also peculiarly desirable to afford as little opportunity as possible to tumult and disorder...The choice of SEVERAL, to form an intermediate body of electors, will be much less apt to convulse the community with any extraordinary or violent movements, than the choice of ONE who was himself to be the final object of the public wishes.\n",
    "\n",
    "Nothing was more to be desired than that every practicable obstacle should be opposed to cabal, intrigue, and corruption. These most deadly adversaries of republican government might naturally have been expected to make their approaches from more than one querter, but chiefly from the desire in foreign powers to gain an improper ascendant in our councils. How could they better gratify this, than by raising a creature of their own to the chief magistracy of the Union?\n",
    "\n",
    "But the convention have guarded against all danger of this sort...They have not made the appointment of the President to depend on any preexisting bodies of men, who might be tampered with beforehand to prostitute their votes; but they have referred it in the first instance to an immediate act of the people of America, to be exerted in the choice of persons for the temporary and sole purpose of making the appointment...Thus without corrupting the body of the people, the immediate agents in the election will at least enter upon the task free from any sinister bias.\n",
    "\n",
    "Another and no less important desideratum was, that the Executive should be independent for his continuance in office on all but the people themselves. He might otherwise be tempted to sacrifice his duty to his complaisance for those whose favor was necessary to the duration of his official consequence. This advantage will also be secured, by making his re-election to depend on a special body of representatives, deputed by the society for the single purpose of making the important choice. \n",
    "\n",
    "All these advantages will happily combine in the plan devised by the convention; which is, that the people of each State shall choose a number of persons as electors, equal to the number of senators and representatives of such State in the national government, who shall assemble within the State, and vote for some fit person as President. \n",
    "\n",
    "Their votes, thus given, are to be transmitted to the seat of the national government, and the person who may happen to have a majority of the whole number of votes will be the President. But as a majority of the votes might not always happen to centre in one man, and as it might be unsafe to permit less than a majority to be conclusive, it is provided that, in such a contingency, the House of Representatives shall select out of the candidates who shall have the five highest number of votes, the man who in their opinion may be best qualified for the office. \n",
    "\n",
    "The process of election affords a moral certainty, that the office of President will never fall to the lot of any man who is not in an eminent degree endowed with the requisite qualifications. Talents for low intrigue, and the little arts of popularity, may alone suffice to elevate a man to the first honors in a single State; but it will require other talents, and a different kind of merit, to establish him in the esteem and confidence of the whole Union\n",
    "\n",
    "The Vice-President is to be chosen in the same manner with the President; with this difference, that the Senate is to do, in respect to the former, what is to be done by the House of Representatives, in respect to the latter. \n",
    "\n",
    "The appointment of an extraordinary person, as Vice-President, has been objected to as superfluous, if not mischievous...But...as the Vice-President may occasionally become a substitute for the President, in the supreme executive magistracy, all the reasons which recommend the mode of election prescribed for the one, apply with great if not with equal force to the manner of appointing the other.\n"
   ]
  },
  {
   "cell_type": "markdown",
   "metadata": {},
   "source": [
    "### Federalist 69: The Real Character of the Executive (Hamilton)"
   ]
  },
  {
   "cell_type": "markdown",
   "metadata": {},
   "source": [
    "I PROCEED now to trace the real characters of the proposed Executive, as they are marked out in the plan of the convention.\n",
    "\n",
    "The first thing which strikes our attention is, that the executive authority, with few exceptions, is to be vested in a single magistrate...if, in this particular, there be a resemblance to the king of Great Britain, there is not less a resemblance to the Grand Seignior, to the khan of Tartary, to the Man of the Seven Mountains, or to the governor of New York.\n",
    "\n",
    "The President of the United States would be liable to be impeached, tried, and, upon conviction of treason, bribery, or other high crimes or misdemeanors, removed from office; and would afterwards be liable to prosecution and punishment in the ordinary course of law...In this delicate and important circumstance of personal responsibility, the President of Confederated America would stand upon no better ground than a governor of New York, and upon worse ground than the governors of Maryland and Delaware. \n",
    "\n",
    "The President of the United States is to have power to return a bill, which shall have passed the two branches of the legislature, for reconsideration; and the bill so returned is to become a law, if, upon that reconsideration, it be approved by two thirds of both houses. The king of Great Britain, on his part, has an absolute negative upon the acts of the two houses of Parliament...The qualified negative of the President differs widely from this absolute negative of the British sovereign\n",
    "\n",
    "The President is to be the \"commander-in-chief of the army and navy of the United States, and of the militia of the several States, when called into the actual service of the United States. He is to have power to grant reprieves and pardons for offenses against the United States, EXCEPT IN CASES OF IMPEACHMENT; to recommend to the consideration of Congress such measures as he shall judge necessary and expedient; to convene, on extraordinary occasions, both houses of the legislature, or either of them, and, in case of disagreement between them WITH RESPECT TO THE TIME OF ADJOURNMENT, to adjourn them to such time as he shall think proper; to take care that the laws be faithfully executed; and to commission all officers of the United States\". In most of these particulars, the power of the President will resemble equally that of the king of Great Britain and of the governor of New York. The most material points of difference are these:\n",
    "\n",
    "First. The President will have only the occasional command of such part of the militia of the nation as by legislative provision may be called into the actual service of the Union. The king of Great Britain and the governor of New York have at all times the entire command of all the militia within their several jurisdictions. In this article, therefore, the power of the President would be inferior to that of either the monarch or the governor. \n",
    "\n",
    "Secondly. The President is to be commander-in-chief of the army and navy of the United States. In this respect his authority would be nominally the same with that of the king of Great Britain, but in substance much inferior to it. It would amount to nothing more than the supreme command and direction of the military and naval forces, as first General and admiral of the Confederacy; while that of the British king extends to the DECLARING of war and to the RAISING and REGULATING of fleets and armies, all which, by the Constitution under consideration, would appertain to the legislature.\n",
    "\n",
    "Thirdly. The power of the President, in respect to pardons, would extend to all cases, EXCEPT THOSE OF IMPEACHMENT. The governor of New York may pardon in all cases, even in those of impeachment, except for treason and murder. Is not the power of the governor, in this article, on a calculation of political consequences, greater than that of the President?\n",
    "\n",
    "Fourthly. The President can only adjourn the national legislature in the single case of disagreement about the time of adjournment. The British monarch may prorogue or even dissolve the Parliament. The governor of New York may also prorogue the legislature of this State for a limited time; a power which, in certain situations, may be employed to very important purposes. \n",
    "\n",
    "The President is to have power, with the advice and consent of the Senate, to make treaties, provided two thirds of the senators present concur. The king of Great Britain is the sole and absolute representative of the nation in all foreign transactions. He can of his own accord make treaties of peace, commerce, alliance, and of every other description...In this respect, therefore, there is no comparison between the intended power of the President and the actual power of the British sovereign. The one can perform alone what the other can do only with the concurrence of a branch of the legislature. It must be admitted, that, in this instance, the power of the federal Executive would exceed that of any State Executive. But this arises naturally from the sovereign power which relates to treaties. If the Confederacy were to be dissolved, it would become a question, whether the Executives of the several States were not solely invested with that delicate and important prerogative. \n",
    "\n",
    "The President is also to be authorized to receive ambassadors and other public ministers. This, though it has been a rich theme of declamation, is more a matter of dignity than of authority. It is a circumstance which will be without consequence in the administration of the government; and it was far more convenient that it should be arranged in this manner\n",
    "\n",
    "The President is to nominate, and, WITH THE ADVICE AND CONSENT OF THE SENATE, to appoint ambassadors and other public ministers, judges of the Supreme Court, and in general all officers of the United States established by law, and whose appointments are not otherwise provided for by the Constitution. The king of Great Britain is emphatically and truly styled the fountain of honor. He not only appoints to all offices, but can create offices. He can confer titles of nobility at pleasure; and has the disposal of an immense number of church preferments. There is evidently a great inferiority in the power of the President, in this particular, to that of the British king; nor is it equal to that of the governor of New York, if we are to interpret the meaning of the constitution of the State by the practice which has obtained under it.\n",
    "\n",
    "Hence it appears that, except as to the concurrent authority of the President in the article of treaties, it would be difficult to determine whether that magistrate would, in the aggregate, possess more or less power than the Governor of New York. And it appears yet more unequivocally, that there is no pretense for the parallel which has been attempted between him and the king of Great Britain.\n",
    "\n",
    "The President of the United States would be an officer elected by the people for FOUR years; the king of Great Britain is a perpetual and HEREDITARY prince. The one would be amenable to personal punishment and disgrace; the person of the other is sacred and inviolable. The one would have a QUALIFIED negative upon the acts of the legislative body; the other has an ABSOLUTE negative. The one would have a right to command the military and naval forces of the nation; the other, in addition to this right, possesses that of DECLARING war, and of RAISING and REGULATING fleets and armies by his own authority. The one would have a concurrent power with a branch of the legislature in the formation of treaties; the other is the SOLE POSSESSOR of the power of making treaties. The one would have a like concurrent authority in appointing to offices; the other is the sole author of all appointments. The one can confer no privileges whatever; the other can make denizens of aliens, noblemen of commoners; can erect corporations with all the rights incident to corporate bodies. The one can prescribe no rules concerning the commerce or currency of the nation; the other is in several respects the arbiter of commerce, and in this capacity can establish markets and fairs, can regulate weights and measures, can lay embargoes for a limited time, can coin money, can authorize or prohibit the circulation of foreign coin. The one has no particle of spiritual jurisdiction; the other is the supreme head and governor of the national church! What answer shall we give to those who would persuade us that things so unlike resemble each other? The same that ought to be given to those who tell us that a government, the whole power of which would be in the hands of the elective and periodical servants of the people, is an aristocracy, a monarchy, and a despotism. "
   ]
  },
  {
   "cell_type": "markdown",
   "metadata": {},
   "source": [
    "### Federalist 70: The Executive Department Further Considered (Hamilton)"
   ]
  },
  {
   "cell_type": "markdown",
   "metadata": {},
   "source": [
    "THERE is an idea, which is not without its advocates, that a vigorous Executive is inconsistent with the genius of republican government.\n",
    "\n",
    "Energy in the Executive is a leading character in the definition of good government. It is essential to the protection of the community against foreign attacks; it is not less essential to the steady administration of the laws; to the protection of property against those irregular and high-handed combinations which sometimes interrupt the ordinary course of justice; to the security of liberty against the enterprises and assaults of ambition, of faction, and of anarchy. \n",
    "\n",
    "A feeble Executive implies a feeble execution of the government. A feeble execution is but another phrase for a bad execution; and a government ill executed, whatever it may be in theory, must be, in practice, a bad government.\n",
    "\n",
    "Taking it for granted, therefore, that all men of sense will agree in the necessity of an energetic Executive, it will only remain to inquire, what are the ingredients which constitute this energy? How far can they be combined with those other ingredients which constitute safety in the republican sense? And how far does this combination characterize the plan which has been reported by the convention? \n",
    "\n",
    "The ingredients which constitute energy in the Executive are, first, unity; secondly, duration; thirdly, an adequate provision for its support; fourthly, competent powers. The ingredients which constitute safety in the republican sense are, first, a due dependence on the people, secondly, a due responsibility. \n",
    "\n",
    "That unity is conducive to energy will not be disputed. Decision, activity, secrecy, and despatch will generally characterize the proceedings of one man in a much more eminent degree than the proceedings of any greater number; and in proportion as the number is increased, these qualities will be diminished.\n",
    "\n",
    "This unity may be destroyed in two ways: either by vesting the power in two or more magistrates of equal dignity and authority; or by vesting it ostensibly in one man, subject, in whole or in part, to the control and co-operation of others, in the capacity of counsellors to him.\n",
    "\n",
    "The experience of other nations will afford little instruction on this head. As far, however, as it teaches any thing, it teaches us not to be enamoured of plurality in the Executive...But quitting the dim light of historical research, attaching ourselves purely to the dictates of reason and good se se, we shall discover much greater cause to reject than to approve the idea of plurality in the Executive, under any modification whatever.\n",
    "\n",
    "Upon the principles of a free government, inconveniences from the source just mentioned must necessarily be submitted to in the formation of the legislature; but it is unnecessary, and therefore unwise, to introduce them into the constitution of the Executive...In the conduct of war, in which the energy of the Executive is the bulwark of the national security, every thing would be to be apprehended from its plurality. \n",
    "\n",
    "But one of the weightiest objections to a plurality in the Executive...is, that it tends to conceal faults and destroy responsibility...Man, in public trust, will much oftener act in such a manner as to render him unworthy of being any longer trusted, than in such a manner as to make him obnoxious to legal punishment. But the multiplication of the Executive adds to the difficulty of detection in either case. It often becomes impossible, amidst mutual accusations, to determine on whom the blame or the punishment of a pernicious measure, or series of pernicious measures, ought really to fall.\n",
    "\n",
    "It is evident from these considerations, that the plurality of the Executive tends to deprive the people of the two greatest securities they can have for the faithful exercise of any delegated power, first, the restraints of public opinion, which lose their efficacy, as well on account of the division of the censure attendant on bad measures among a number, as on account of the uncertainty on whom it ought to fall; and, secondly, the opportunity of discovering with facility and clearness the misconduct of the persons they trust, in order either to their removal from office or to their actual punishment in cases which admit of it\n",
    "\n",
    "In England, the king is a perpetual magistrate; and it is a maxim which has obtained for the sake of the public peace, that he is unaccountable for his administration, and his person sacred. Nothing, therefore, can be wiser in that kingdom, than to annex to the king a constitutional council, who may be responsible to the nation for the advice they give. Without this, there would be no responsibility whatever in the executive department an idea inadmissible in a free government. \n",
    "\n",
    "But in a republic, where every magistrate ought to be personally responsible for his behavior in office the reason which in the British Constitution dictates the propriety of a council, not only ceases to apply, but turns against the institution...In the American republic, it would serve to destroy, or would greatly diminish, the intended and necessary responsibility of the Chief Magistrate himself. "
   ]
  },
  {
   "cell_type": "markdown",
   "metadata": {},
   "source": [
    "### Federalist 71: The Duration in Office of the Executive (Hamilton)"
   ]
  },
  {
   "cell_type": "markdown",
   "metadata": {},
   "source": [
    "DURATION in office has been mentioned as the second requisite to the energy of the Executive authority. This has relation to two objects: to the personal firmness of the executive magistrate, in the employment of his constitutional powers; and to the stability of the system of administration which may have been adopted under his auspices.\n",
    "\n",
    "It is a general principle of human nature, that a man will be interested in whatever he possesses, in proportion to the firmness or precariousness of the tenure by which he holds it; will be less attached to what he holds by a momentary or uncertain title, than to what he enjoys by a durable or certain title; and, of course, will be willing to risk more for the sake of the one, than for the sake of the other.\n",
    "\n",
    "The inference from it is, that a man acting in the capacity of chief magistrate, under a consciousness that in a very short time he MUST lay down his office, will be apt to feel himself too little interested in it to hazard any material censure or perplexity, from the independent exertion of his powers...If the case should only be, that he MIGHT lay it down, unless continued by a new choice, and if he should be desirous of being continued, his wishes, conspiring with his fears, would tend still more powerfully to corrupt his integrity, or debase his fortitude. In either case, feebleness and irresolution must be the characteristics of the station.\n",
    "\n",
    "There are some who would be inclined to regard the servile pliancy of the Executive to a prevailing current, either in the community or in the legislature, as its best recommendation. \n",
    "\n",
    "The republican principle...does not require an unqualified complaisance to every sudden breeze of passion, or to every transient impulse which the people may receive from the arts of men, who flatter their prejudices to betray their interests. It is a just observation, that the people commonly INTEND the PUBLIC GOOD. This often applies to their very errors. But their good sense would despise the adulator who should pretend that they always REASON RIGHT about the MEANS of promoting it. They know from experience that they sometimes err; and the wonder is that they so seldom err as they do, beset, as they continually are..by the artifices of men who possess their confidence more than they deserve it, and of those who seek to possess rather than to deserve it.\n",
    "\n",
    "When occasions present themselves, in which the interests of the people are at variance with their inclinations, it is the duty of the persons whom they have appointed to be the guardians of those interests, to withstand the temporary delusion, in order to give them time and opportunity for more cool and sedate reflection...it is certainly desirable that the Executive should be in a situation to dare to act his own opinion with vigor and decision. \n",
    "\n",
    "The same rule which teaches the propriety of a partition between the various branches of power, teaches us likewise that this partition ought to be so contrived as to render the one independent of the other. To what purpose separate the executive or the judiciary from the legislative, if both the executive and the judiciary are so constituted as to be at the absolute devotion of the legislative?...It is one thing to be subordinate to the laws, and another to be dependent on the legislative body. The first comports with, the last violates, the fundamental principles of good government; and, whatever may be the forms of the Constitution, unites all power in the same hands.\n",
    "\n",
    "It may be asked also, whether a duration of four years would answer the end proposed...It cannot be affirmed, that a duration of four years, or any other limited duration, would completely answer the end proposed; but it would contribute towards it in a degree which would have a material influence upon the spirit and character of the government. Between the commencement and termination of such a period, there would always be a considerable interval, in which the prospect of annihilation would be sufficiently remote, not to have an improper effect upon the conduct of a man indued with a tolerable portion of fortitude..\n",
    "\n",
    "As, on the one hand, a duration of four years will contribute to the firmness of the Executive in a sufficient degree to render it a very valuable ingredient in the composition; so, on the other, it is not enough to justify any alarm for the public liberty. If a British House of Commons, from the most feeble beginnings...have been able, in one instance, to abolish both the royalty and the aristocracy, and to overturn all the ancient establishments, as well in the Church as State...what would be to be feared from an elective magistrate of four years' duration, with the confined authorities of a President of the United States?"
   ]
  },
  {
   "cell_type": "markdown",
   "metadata": {},
   "source": [
    "### Federalist 72: The Same Subject Continued, and Re-Eligibility of the Executive Considered (Hamilton)"
   ]
  },
  {
   "cell_type": "markdown",
   "metadata": {},
   "source": [
    "THE administration of government, in its largest sense, comprehends all the operations of the body politic, whether legislative, executive, or judiciary; but in its most usual, and perhaps its most precise signification. it is limited to executive details, and falls peculiarly within the province of the executive department.\n",
    "\n",
    "The actual conduct of foreign negotiations, the preparatory plans of finance, the application and disbursement of the public moneys in conformity to the general appropriations of the legislature, the arrangement of the army and navy, the directions of the operations of war, these, and other matters of a like nature, constitute what seems to be most properly understood by the administration of government.\n",
    "\n",
    "The persons, therefore, to whose immediate management these different matters are committed, ought to be considered as the assistants or deputies of the chief magistrate, and on this account, they ought to derive their offices from his appointment, at least from his nomination, and ought to be subject to his superintendence. This view of the subject will at once suggest to us the intimate connection between the duration of the executive magistrate in office and the stability of the system of administration.\n",
    "\n",
    "To reverse and undo what has been done by a predecessor, is very often considered by a successor as the best proof he can give of his own capacity...and...the person substituted is warranted in supposing that the dismission of his predecessor has proceeded from a dislike to his measures; and that the less he resembles him, the more he will recommend himself to the favor of his constituents.\n",
    "\n",
    "These considerations, and the influence of personal confidences and attachments, would be likely to induce every new President to promote a change of men to fill the subordinate stations; and these causes together could not fail to occasion a disgraceful and ruinous mutability in the administration of the government. \n",
    "\n",
    "Nothing appears more plausible at first sight, nor more ill-founded upon close inspection, than...continuing the chief magistrate in office for a certain time, and then excluding him from it, either for a limited period or forever after.\n",
    "\n",
    "One ill effect of the exclusion would be a diminution of the inducements to good behavior...This position will not be disputed so long as it is admitted that the desire of reward is one of the strongest incentives of human conduct; or that the best security for the fidelity of mankind is to make their interests coincide with their duty...The most to be expected from the generality of men, in such a situation, is the negative merit of not doing harm, instead of the positive merit of doing good. \n",
    "\n",
    "Another ill effect of the exclusion would be the temptation to sordid views, to peculation, and, in some instances, to usurpation. An avaricious man, who might...make the best use of the opportunity he enjoyed while it lasted, and might not scruple to have recourse to the most corrupt expedients to make the harvest as abundant as it was transitory; though the same man, probably, with a different prospect before him...might even be unwilling to risk the consequences of an abuse of his opportunities.\n",
    "\n",
    "His avarice might be a guard upon his avarice. Add to this that the same man might be vain or ambitious, as well as avaricious. And if he could expect to prolong his honors by his good conduct, he might hesitate to sacrifice his appetite for them to his appetite for gain. But with the prospect before him of approaching an inevitable annihilation, his avarice would be likely to get the victory over his caution, his vanity, or his ambition. \n",
    "\n",
    "An ambitious man, too, when he found himself seated on the summit of his country's honors, when he looked forward to the time at which he must descend from the exalted eminence for ever...would be much more violently tempted to embrace a favorable conjuncture for attempting the prolongation of his power, at every personal hazard, than if he had the probability of answering the same end by doing his duty. \n",
    "\n",
    "Would it promote the peace of the community, or the stability of the government to have half a dozen men who had had credit enough to be raised to the seat of the supreme magistracy, wandering among the people like discontented ghosts, and sighing for a place which they were destined never more to possess? \n",
    "\n",
    "A third ill effect of the exclusion would be, the depriving the community of the advantage of the experience gained by the chief magistrate in the exercise of his office...Can it be wise to put this desirable and essential quality under the ban of the Constitution...? This, nevertheless, is the precise import of all those regulations which exclude men from serving their country, by the choice of their fellow citizens\n",
    "\n",
    "A fourth ill effect of the exclusion would be the banishing men from stations in which, in certain emergencies of the state, their presence might be of the greatest moment to the public interest or safety. There is no nation which has not, at one period or another, experienced an absolute necessity of the services of particular men in particular situations\n",
    "\n",
    "A fifth ill effect of the exclusion would be, that it would operate as a constitutional interdiction of stability in the administration. By NECESSITATING a change of men, in the first office of the nation, it would necessitate a mutability of measures. \n",
    "\n",
    "These are some of the disadvantages which would flow from the principle of exclusion...What are the advantages promised to counterbalance these disadvantages? \n",
    "\n",
    "They are represented to be: 1st, greater independence in the magistrate; 2d, greater security to the people. \n",
    "\n",
    "Unless the exclusion be perpetual, there will be no pretense to infer the first advantage. But even in that case, may he have no object beyond his present station, to which he may sacrifice his independence? May he have no connections, no friends, for whom he may sacrifice it?...It is not an easy point to determine whether his independence would be most promoted or impaired by such an arrangement.\n",
    "\n",
    "As to the second supposed advantage, there is still greater reason to entertain doubts concerning it. If the exclusion were to be perpetual, a man of irregular ambition...would, with infinite reluctance...leave forever of a post in which his passion for power and pre-eminence had acquired the force of habit....There may be conceived circumstances in which...disgust of the people, seconding the thwarted ambition of...a favorite, might occasion greater danger to liberty, than could ever reasonably be dreaded from the possibility of a perpetuation in office, by the voluntary suffrages of the community, exercising a constitutional privilege. "
   ]
  },
  {
   "cell_type": "markdown",
   "metadata": {},
   "source": [
    "### Federalist 73: The Provision For The Support of the Executive, and the Veto Power (Hamilton)"
   ]
  },
  {
   "cell_type": "markdown",
   "metadata": {},
   "source": [
    "THE third ingredient towards constituting the vigor of the executive authority, is an adequate provision for its support. \n",
    "\n",
    "It is evident that, without proper attention to this article, the separation of the executive from the legislative department would be merely nominal and nugatory. The legislature, with a discretionary power over the salary and emoluments of the Chief Magistrate, could render him as obsequious to their will as they might think proper to make him. \n",
    "\n",
    "It is not easy, therefore, to commend too highly the judicious attention which has been paid to this subject in the proposed Constitution. It is there provided that \"The President of the United States shall, at stated times, receive for his services a compensation WHICH SHALL NEITHER BE INCREASED NOR DIMINISHED DURING THE PERIOD FOR WHICH HE SHALL HAVE BEEN ELECTED; and he SHALL NOT RECEIVE WITHIN THAT PERIOD ANY OTHER EMOLUMENT from the United States, or any of them\"...The legislature, on the appointment of a President, is once for all to declare what shall be the compensation for his services during the time for which he shall have been elected. This done, they will have no power to alter it, either by increase or diminution, till a new period of service by a new election commences...He can, of course, have no pecuniary inducement to renounce or desert the independence intended for him by the Constitution.\n",
    "\n",
    "The last of the requisites to energy, which have been enumerated, are competent powers. Let us proceed to consider those which are proposed to be vested in the President of the United States. \n",
    "\n",
    "The first thing that offers itself to our observation, is the qualified negative of the President upon the acts or resolutions of the two houses of the legislature; or, in other words, his power of returning all bills with objections, to have the effect of preventing their becoming laws, unless they should afterwards be ratified by two thirds of each of the component members of the legislative body. \n",
    "\n",
    "The propensity of the legislative department to intrude upon the rights, and to absorb the powers, of the other departments, has been already suggested and repeated; the insufficiency of a mere parchment delineation of the boundaries of each, has also been remarked upon; and the necessity of furnishing each with constitutional arms for its own defense, has been inferred and proved...If even no propensity had ever discovered itself in the legislative body to invade the rights of the Executive, the rules of just reasoning and theoretic propriety would of themselves teach us, that the one ought not to be left to the mercy of the other, but ought to possess a constitutional and effectual power of selfdefense. \n",
    "\n",
    "It may perhaps be said that the power of preventing bad laws includes that of preventing good ones; and may be used to the one purpose as well as to the other...The injury which may possibly be done by defeating a few good laws, will be amply compensated by the advantage of preventing a number of bad ones. \n",
    "\n",
    "Nor is this all. The superior weight and influence of the legislative body in a free government, and the hazard to the Executive in a trial of strength with that body, afford a satisfactory security that the negative would generally be employed with great caution; and there would oftener be room for a charge of timidity than of rashness in the exercise of it.\n",
    "\n",
    "A king of Great Britain, with all his train of sovereign attributes, and with all the influence he draws from a thousand sources, would, at this day, hesitate to put a negative upon the joint resolutions of the two houses of Parliament...If a magistrate so powerful and so well fortified as a British monarch, would have scruples about the exercise of the power under consideration, how much greater caution may be reasonably expected in a President of the United States, clothed for the short period of four years with the executive authority of a government wholly and purely republican? \n",
    "\n",
    "But the convention have pursued a mean in this business, which will both facilitate the exercise of the power vested in this respect in the executive magistrate, and make its efficacy to depend on the sense of a considerable part of the legislative body. Instead of an absolute negative, it is proposed to give the Executive the qualified negative already described. This is a power which would be much more readily exercised than the other. A man who might be afraid to defeat a law by his single VETO, might not scruple to return it for reconsideration\n",
    "\n",
    "A direct and categorical negative has something in the appearance of it more harsh, and more apt to irritate, than the mere suggestion of argumentative objections to be approved or disapproved by those to whom they are addressed. In proportion as it would be less apt to offend, it would be more apt to be exercised; and for this very reason, it may in practice be found more effectual.\n",
    "\n",
    "A power of this nature in the Executive, will often have a silent and unperceived, though forcible, operation. When men, engaged in unjustifiable pursuits, are aware that obstructions may come from a quarter which they cannot control, they will often be restrained by the bare apprehension of opposition, from doing what they would with eagerness rush into, if no such external impediments were to be feared. \n",
    "\n",
    "This qualified negative, as has been elsewhere remarked, is in this State vested in a council, consisting of the governor, with the chancellor and judges of the Supreme Court, or any two of them...the convention, in the formation of this part of their plan, had departed from the model of the constitution of this State...strong reasons may be imagined for this preference...judges, who are to be the interpreters of the law...being often associated with the Executive...might be induced to embark too far in the political views of that magistrate, and thus a dangerous combination might by degrees be cemented between the executive and judiciary departments. \n",
    "\n",
    "It is impossible to keep the judges too distinct from every other avocation than that of expounding the laws. It is peculiarly dangerous to place them in a situation to be either corrupted or influenced by the Executive. "
   ]
  },
  {
   "cell_type": "markdown",
   "metadata": {},
   "source": [
    "### Federalist 74: The Command of the Military and Naval Forces, and the Pardoning Power of the Executive (Hamilton)"
   ]
  },
  {
   "cell_type": "markdown",
   "metadata": {},
   "source": [
    "THE President of the United States is to be \"commander-in-chief of the army and navy of the United States, and of the militia of the several States WHEN CALLED INTO THE ACTUAL SERVICE of the United States\".\n",
    "\n",
    "Of all the cares or concerns of government, the direction of war most peculiarly demands those qualities which distinguish the exercise of power by a single hand. The direction of war implies the direction of the common strength; and the power of directing and employing the common strength, forms a usual and essential part in the definition of the executive authority. \n",
    "\n",
    "\"The President may require the opinion, in writing, of the principal officer in each of the executive departments, upon any subject relating to the duties of their respective officers\". \n",
    "\n",
    "This I consider as a mere redundancy in the plan, as the right for which it provides would result of itself from the office. \n",
    "\n",
    "He is also to be authorized to grant \"reprieves and pardons for offenses against the United States, EXCEPT IN CASES OF IMPEACHMENT\". \n",
    "\n",
    "Humanity and good policy conspire to dictate, that the benign prerogative of pardoning should be as little as possible fettered or embarrassed. The criminal code of every country partakes so much of necessary severity, that without an easy access to exceptions in favor of unfortunate guilt, justice would wear a countenance too sanguinary and cruel.\n",
    "\n",
    "The expediency of vesting the power of pardoning in the President has, if I mistake not, been only contested in relation to the crime of treason...As treason is a crime levelled at the immediate being of the society, when the laws have once ascertained the guilt of the offender, there seems a fitness in referring the expediency of an act of mercy towards him to the judgment of the legislature. And this ought the rather to be the case, as the supposition of the connivance of the Chief Magistrate ought not to be entirely excluded\n",
    "\n",
    "But there are also strong objections to such a plan...It deserves particular attention, that treason will often be connected with seditions which embrace a large proportion of the community; as lately happened in Massachusetts. In every such case, we might expect to see the representation of the people tainted with the same spirit which had given birth to the offense...when the sedition had proceeded from causes which had inflamed the resentments of the major party, they might often be found obstinate and inexorable, when policy demanded a conduct of forbearance and clemency. \n",
    "\n",
    "But the principal argument for reposing the power of pardoning in this case to the Chief Magistrate is this: in seasons of insurrection or rebellion, there are often critical moments, when a welltimed offer of pardon to the insurgents or rebels may restore the tranquillity of the commonwealth; and which, if suffered to pass unimproved, it may never be possible afterwards to recall. The dilatory process of convening the legislature, or one of its branches, for the purpose of obtaining its sanction to the measure, would frequently be the occasion of letting slip the golden opportunity. The loss of a week, a day, an hour, may sometimes be fatal."
   ]
  },
  {
   "cell_type": "markdown",
   "metadata": {},
   "source": [
    "### Federalist 75: The Treaty-Making Power of the Executive (Hamilton)"
   ]
  },
  {
   "cell_type": "markdown",
   "metadata": {},
   "source": [
    "THE President is to have power, \"by and with the advice and consent of the Senate, to make treaties, provided two thirds of the senators present concur\".\n",
    "\n",
    "this provision has been assailed, on different grounds, with no small degree of vehemence...One ground of objection is the trite topic of the intermixture of powers; some contending that the President ought alone to possess the power of making treaties; others, that it ought to have been exclusively deposited in the Senate. Another source of objection is derived from the small number of persons by whom a treaty may be made. Of those who espouse this objection, a part are of opinion that the House of Representatives ought to have been associated in the business, while another part seem to think that nothing more was necessary than to have substituted two thirds of ALL the members of the Senate, to two thirds of the members PRESENT.\n",
    "\n",
    "\n",
    "With regard to the intermixture of powers...the union of the Executive with the Senate, in the article of treaties, is no infringement of that rule.\n",
    "\n",
    "I venture to add, that the particular nature of the power of making treaties indicates a peculiar propriety in that union. Though several writers on the subject of government place that power in the class of executive authorities, yet this is evidently an arbitrary disposition; for if we attend carefully to its operation, it will be found to partake more of the legislative than of the executive character, though it does not seem strictly to fall within the definition of either of them. The essence of the legislative authority is to enact laws, or, in other words, to prescribe rules for the regulation of the society; while the execution of the laws, and the employment of the common strength, either for this purpose or for the common defense, seem to comprise all the functions of the executive magistrate. The power of making treaties is, plainly, neither the one nor the other. It relates neither to the execution of the subsisting laws, nor to the enaction of new ones; and still less to an exertion of the common strength. Its objects are CONTRACTS with foreign nations, which have the force of law, but derive it from the obligations of good faith. They are not rules prescribed by the sovereign to the subject, but agreements between sovereign and sovereign. The power in question seems therefore to form a distinct department, and to belong, properly, neither to the legislative nor to the executive.\n",
    "\n",
    "The qualities elsewhere detailed as indispensable in the management of foreign negotiations, point out the Executive as the most fit agent in those transactions; while the vast importance of the trust, and the operation of treaties as laws, plead strongly for the participation of the whole or a portion of the legislative body in the office of making them.\n",
    "\n",
    "However proper or safe it may be in governments where the executive magistrate is an hereditary monarch, to commit to him the entire power of making treaties, it would be utterly unsafe and improper to intrust that power to an elective magistrate of four years' duration...a man raised from the station of a private citizen to the rank of chief magistrate, possessed of a moderate or slender fortune, and looking forward to a period not very remote when he may probably be obliged to return to the station from which he was taken, might sometimes be under temptations to sacrifice his duty to his interest, which it would require superlative virtue to withstand. An avaricious man might be tempted to betray the interests of the state to the acquisition of wealth. An ambitious man might make his own aggrandizement, by the aid of a foreign power, the price of his treachery to his constituents.\n",
    "\n",
    "To have intrusted the power of making treaties to the Senate alone, would have been to relinquish the benefits of the constitutional agency of the President in the conduct of foreign negotiations...Though it would be imprudent to confide in him solely so important a trust, yet it cannot be doubted that his participation would materially add to the safety of the society. It must indeed be clear to a demonstration that the joint possession of the power in question, by the President and Senate, would afford a greater prospect of security, than the separate possession of it by either of them.\n",
    "\n",
    "The remarks made in a former number, which have been alluded to in another part of this paper, will apply with conclusive force against the admission of the House of Representatives to a share in the formation of treaties. The fluctuating and, taking its future increase into the account, the multitudinous composition of that body, forbid us to expect in it those qualities which are essential to the proper execution of such a trust.\n",
    "\n",
    "The only objection which remains to be canvassed, is that which would substitute the proportion of two thirds of all the members composing the senatorial body, to that of two thirds of the members PRESENT...If two thirds of the whole number of members had been required, it would, in many cases, from the non-attendance of a part, amount in practice to a necessity of unanimity. And the history of every political establishment in which this principle has prevailed, is a history of impotence, perplexity, and disorder.\n",
    "\n",
    "To require a fixed proportion of the whole body would not, in all probability, contribute to the advantages of a numerous agency, better then merely to require a proportion of the attending members. The former, by making a determinate number at all times requisite to a resolution, diminishes the motives to punctual attendance. The latter, by making the capacity of the body to depend on a PROPORTION which may be varied by the absence or presence of a single member, has the contrary effect. \n",
    "\n",
    "When, in addition to these considerations, we take into view the co-operation of the President, we shall not hesitate to infer that the people of America would have greater security against an improper use of the power of making treaties, under the new Constitution, than they now enjoy under the Confederation."
   ]
  },
  {
   "cell_type": "markdown",
   "metadata": {},
   "source": [
    "### Federalist 76: The Appointing Power of the Executive (Hamilton)"
   ]
  },
  {
   "cell_type": "markdown",
   "metadata": {},
   "source": [
    "THE President is \"to NOMINATE, and, by and with the advice and consent of the Senate, to appoint ambassadors, other public ministers and consuls, judges of the Supreme Court, and all other officers of the United States whose appointments are not otherwise provided for in the Constitution. But the Congress may by law vest the appointment of such inferior officers as they think proper, in the President alone, or in the courts of law, or in the heads of departments. The President shall have power to fill up ALL VACANCIES which may happen DURING THE RECESS OF THE SENATE, by granting commissions which shall EXPIRE at the end of their next session\".\n",
    "\n",
    "It is not easy to conceive a plan better calculated than this to promote a judicious choice of men for filling the offices of the Union; and it will not need proof, that on this point must essentially depend the character of its administration. \n",
    "\n",
    "It will be agreed on all hands, that the power of appointment, in ordinary cases, ought to be modified in one of three ways. It ought either to be vested in a single man, or in a SELECT assembly of a moderate number; or in a single man, with the concurrence of such an assembly. The exercise of it by the people at large will be readily admitted to be impracticable; as waiving every other consideration, it would leave them little time to do anything else.\n",
    "\n",
    "I proceed to lay it down as a rule, that one man of discernment is better fitted to analyze and estimate the peculiar qualities adapted to particular offices, than a body of men of equal or perhaps even of superior discernment. \n",
    "\n",
    "The truth of the principles here advanced seems to have been felt by the most intelligent of those who have found fault with the provision made, in this respect, by the convention. They contend that the President ought solely to have been authorized to make the appointments under the federal government. But it is easy to show, that every advantage to be expected from such an arrangement would, in substance, be derived from the power of NOMINATION, which is proposed to be conferred upon him; while several disadvantages which might attend the absolute power of appointment in the hands of that officer would be avoided. \n",
    "\n",
    "In the act of nomination, his judgment alone would be exercised; and as it would be his sole duty to point out the man who, with the approbation of the Senate, should fill an office, his responsibility would be as complete as if he were to make the final appointment.\n",
    "\n",
    "But might not his nomination be overruled? I grant it might, yet this could only be to make place for another nomination by himself...It is also not very probable that his nomination would often be overruled. The Senate...could not even be certain, that a future nomination would present a candidate in any degree more acceptable to them; and as their dissent might cast a kind of stigma upon the individual rejected, and might have the appearance of a reflection upon the judgment of the chief magistrate, it is not likely that their sanction would often be refused, where there were not special and strong reasons for the refusal. \n",
    "\n",
    "To what purpose then require the co-operation of the Senate? I answer, that the necessity of their concurrence would have a powerful, though, in general, a silent operation. It would be an excellent check upon a spirit of favoritism in the President, and would tend greatly to prevent the appointment of unfit characters from State prejudice, from family connection, from personal attachment, or from a view to popularity.\n",
    "\n",
    "It will readily be comprehended, that...The possibility of rejection would be a strong motive to care in proposing...candidates who had no other merit than that of coming from the same State to which he particularly belonged, or of being in some way or other personally allied to him, or of possessing the necessary insignificance and pliancy to render them the obsequious instruments of his pleasure.\n",
    "\n",
    "To this reasoning it has been objected that the President, by the influence of the power of nomination, may secure the complaisance of the Senate to his views.\n",
    "\n",
    "The institution of delegated power implies, that there is a portion of virtue and honor among mankind, which may be a reasonable foundation of confidence; and experience justifies the theory. It has been found to exist in the most corrupt periods of the most corrupt governments...Though it might therefore be allowable to suppose that the Executive might occasionally influence some individuals in the Senate, yet the supposition, that he could in general purchase the integrity of the whole body, would be forced and improbable. \n",
    "\n",
    "A man disposed to view human nature as it is, without either flattering its virtues or exaggerating its vices, will see sufficient ground of confidence in the probity of the Senate, to rest satisfied, not only that it will be impracticable to the Executive to corrupt or seduce a majority of its members, but that the necessity of its co-operation, in the business of appointments, will be a considerable and salutary restraint upon the conduct of that magistrate."
   ]
  },
  {
   "cell_type": "markdown",
   "metadata": {},
   "source": [
    "### Federalist 77: The Appointing Power of the Executive (Hamilton)"
   ]
  },
  {
   "cell_type": "markdown",
   "metadata": {},
   "source": [
    "IT HAS been mentioned as one of the advantages to be expected from the co-operation of the Senate, in the business of appointments, that it would contribute to the stability of the administration. \n",
    "\n",
    "The consent of that body would be necessary to displace as well as to appoint. A change of the Chief Magistrate, therefore, would not occasion so violent or so general a revolution in the officers of the government as might be expected, if he were the sole disposer of offices.\n",
    "\n",
    "To this union of the Senate with the President, in the article of appointments, it has in some cases been suggested that it would serve to give the President an undue influence over the Senate, and in others that it would have an opposite tendency, a strong proof that neither suggestion is true. \n",
    "\n",
    "To state the first in its proper form, is to refute it. It amounts to this: the President would have an improper INFLUENCE OVER the Senate, because the Senate would have the power of RESTRAINING him...Let us take a view of the converse of the proposition: \"the Senate would influence the Executive\". \n",
    "\n",
    "The power of influencing a person, in the sense in which it is here used, must imply a power of conferring a benefit upon him. How could the Senate confer a benefit upon the President by the manner of employing their right of negative upon his nominations? \n",
    "\n",
    "If it be said they might sometimes gratify him by an acquiescence in a favorite choice, when public motives might dictate a different conduct, I answer, that the instances in which the President could be personally interested in the result, would be too few to admit of his being materially affected by the compliances of the Senate...The blame of a bad nomination would fall upon the President singly and absolutely.\n",
    "\n",
    "The reverse of all this characterizes...Every mere council of appointment, however constituted... \n",
    "\n",
    "Such a council, in fine, as a substitute for the plan of the convention, would be productive of an increase of expense, a multiplication of the evils which spring from favoritism and intrigue in the distribution of public honors, a decrease of stability in the administration of the government, and a diminution of the security against an undue influence of the Executive.\n",
    "\n",
    "The only remaining powers of the Executive are comprehended in giving information to Congress of the state of the Union; in recommending to their consideration such measures as he shall judge expedient; in convening them, or either branch, upon extraordinary occasions; in adjourning them when they cannot themselves agree upon the time of adjournment; in receiving ambassadors and other public ministers; in faithfully executing the laws; and in commissioning all the officers of the United States. \n",
    "\n",
    "Except some cavils about the power of convening EITHER house of the legislature, and that of receiving ambassadors, no objection has been made to this class of authorities...\n",
    "\n",
    "In regard to the power of convening either house of the legislature...AS this body has a concurrent power with the Executive in the article of treaties, it might often be necessary to call it together with a view to this object, when it would be unnecessary and improper to convene the House of Representatives. As to the reception of ambassadors, what I have said in a former paper will furnish a sufficient answer. \n",
    "\n",
    "We have now completed a survey of the structure and powers of the executive department, which, I have endeavored to show, combines, as far as republican principles will admit, all the requisites to energy. The remaining inquiry is: Does it also combine the requisites to safety, in a republican sense, a due dependence on the people, a due responsibility?\n",
    "\n",
    "The answer to this question has been anticipated in the investigation of its other characteristics, and is satisfactorily deducible from these circumstances; from the election of the President once in four years by persons immediately chosen by the people for that purpose; and from his being at all times liable to impeachment, trial, dismission from office, incapacity to serve in any other, and to forfeiture of life and estate by subsequent prosecution in the common course of law. \n",
    "\n",
    "But these precautions, great as they are, are not the only ones which the plan of the convention has provided in favor of the public security. In the only instances in which the abuse of the executive authority was materially to be feared, the Chief Magistrate of the United States would, by that plan, be subjected to the control of a branch of the legislative body. What more could be desired by an enlightened and reasonable people? "
   ]
  },
  {
   "cell_type": "markdown",
   "metadata": {},
   "source": [
    "### Federalist 78: The Judiciary Department (Hamilton)"
   ]
  },
  {
   "cell_type": "markdown",
   "metadata": {},
   "source": [
    "WE PROCEED now to an examination of the judiciary department of the proposed government. \n",
    "\n",
    "In unfolding the defects of the existing Confederation, the utility and necessity of a federal judicature have been clearly pointed out. It is the less necessary to recapitulate the considerations there urged, as the propriety of the institution in the abstract is not disputed; the only questions which have been raised being relative to the manner of constituting it, and to its extent. To these points, therefore, our observations shall be confined. \n",
    "\n",
    "The manner of constituting it seems to embrace these several objects: 1st. The mode of appointing the judges. 2d. The tenure by which they are to hold their places. 3d. The partition of the judiciary authority between different courts, and their relations to each other. \n",
    "\n",
    "First. As to the mode of appointing the judges; this is the same with that of appointing the officers of the Union in general, and has been so fully discussed in the two last numbers, that nothing can be said here which would not be useless repetition. \n",
    "\n",
    "Second. As to the tenure by which the judges are to hold their places; this chiefly concerns their duration in office; the provisions for their support; the precautions for their responsibility. \n",
    "\n",
    "According to the plan of the convention, all judges who may be appointed by the United States are to hold their offices DURING GOOD BEHAVIOR...The standard of good behavior for the continuance in office of the judicial magistracy, is certainly one of the most valuable of the modern improvements in the practice of government. In a monarchy it is an excellent barrier to the despotism of the prince; in a republic it is a no less excellent barrier to the encroachments and oppressions of the representative body. And it is the best expedient which can be devised in any government, to secure a steady, upright, and impartial administration of the laws. \n",
    "\n",
    "Whoever attentively considers the different departments of power must perceive, that, in a government in which they are separated from each other, the judiciary, from the nature of its functions, will always be the least dangerous to the political rights of the Constitution; because it will be least in a capacity to annoy or injure them.\n",
    "\n",
    "The Executive not only dispenses the honors, but holds the sword of the community. The legislature not only commands the purse, but prescribes the rules by which the duties and rights of every citizen are to be regulated. The judiciary, on the contrary, has no influence over either the sword or the purse; no direction either of the strength or of the wealth of the society; and can take no active resolution whatever. It may truly be said to have neither FORCE nor WILL, but merely judgment; and must ultimately depend upon the aid of the executive arm even for the efficacy of its judgments. \n",
    "\n",
    "This simple view of the matter...proves, that though individual oppression may now and then proceed from the courts of justice, the general liberty of the people can never be endangered from that quarter; I mean so long as the judiciary remains truly distinct from both the legislature and the Executive. For I agree, that \"there is no liberty, if the power of judging be not separated from the legislative and executive powers\". \n",
    "\n",
    "And it proves, in the last place, that as liberty can have nothing to fear from the judiciary alone, but would have every thing to fear from its union with either of the other departments...permanency in office...may therefore be justly regarded as an indispensable ingredient in its constitution, and, in a great measure, as the citadel of the public justice and the public security.\n",
    "\n",
    "The complete independence of the courts of justice is peculiarly essential in a limited Constitution. By a limited Constitution, I understand one which contains certain specified exceptions to the legislative authority; such, for instance, as that it shall pass no bills of attainder, no ex-post-facto laws, and the like. Limitations of this kind can be preserved in practice no other way than through the medium of courts of justice, whose duty it must be to declare all acts contrary to the manifest tenor of the Constitution void.\n",
    "\n",
    "Some perplexity respecting the rights of the courts to pronounce legislative acts void, because contrary to the Constitution, has arisen from an imagination that the doctrine would imply a superiority of the judiciary to the legislative power.\n",
    "\n",
    "There is no position which depends on clearer principles, than that every act of a delegated authority, contrary to the tenor of the commission under which it is exercised, is void. No legislative act, therefore, contrary to the Constitution, can be valid. To deny this, would be to affirm...that the representatives of the people are superior to the people themselves; that men acting by virtue of powers, may do not only what their powers do not authorize, but what they forbid. \n",
    "\n",
    "If it be said that the legislative body are themselves the constitutional judges of their own powers, and that the construction they put upon them is conclusive upon the other departments, it may be answered, that this cannot be the natural presumption, where it is not to be collected from any particular provisions in the Constitution.\n",
    "\n",
    "It is far more rational to suppose, that the courts were designed to be an intermediate body between the people and the legislature, in order, among other things, to keep the latter within the limits assigned to their authority. The interpretation of the laws is the proper and peculiar province of the courts. A constitution is, in fact, and must be regarded by the judges, as a fundamental law. It therefore belongs to them to ascertain its meaning, as well as the meaning of any particular act proceeding from the legislative body. If there should happen to be an irreconcilable variance between the two...the Constitution ought to be preferred to the statute, the intention of the people to the intention of their agents. \n",
    "\n",
    "Nor does this conclusion by any means suppose a superiority of the judicial to the legislative power. It only supposes that the power of the people is superior to both; and that where the will of the legislature, declared in its statutes, stands in opposition to that of the people, declared in the Constitution, the judges ought to be governed by the latter rather than the former.\n",
    "\n",
    "This exercise of judicial discretion, in determining between two contradictory laws...is the province of the courts to liquidate and fix their meaning and operation. So far as they can, by any fair construction, be reconciled to each other, reason and law conspire to dictate that this should be done; where this is impracticable, it becomes a matter of necessity to give effect to one, in exclusion of the other.\n",
    "\n",
    "The rule which has obtained in the courts for determining their relative validity is, that the last in order of time shall be preferred to the first. But this is a mere rule of construction, not derived from any positive law, but from the nature and reason of the thing. It is a rule not enjoined upon the courts by legislative provision, but adopted by themselves, as consonant to truth and propriety, for the direction of their conduct as interpreters of the law. They thought it reasonable, that between the interfering acts of an EQUAL authority, that which was the last indication of its will should have the preference. \n",
    "\n",
    "But in regard to the interfering acts of a superior and subordinate authority...They teach us that the prior act of a superior ought to be preferred to the subsequent act of an inferior and subordinate authority; and that accordingly, whenever a particular statute contravenes the Constitution, it will be the duty of the judicial tribunals to adhere to the latter and disregard the former. \n",
    "\n",
    "It can be of no weight to say that the courts, on the pretense of a repugnancy, may substitute their own pleasure to the constitutional intentions of the legislature. This might as well happen in the case of two contradictory statutes; or it might as well happen in every adjudication upon any single statute. The courts must declare the sense of the law; and if they should be disposed to exercise WILL instead of JUDGMENT, the consequence would equally be the substitution of their pleasure to that of the legislative body. The observation, if it prove any thing, would prove that there ought to be no judges distinct from that body. \n",
    "\n",
    "If, then, the courts of justice are to be considered as the bulwarks of a limited Constitution against legislative encroachments, this consideration will afford a strong argument for the permanent tenure of judicial offices, since nothing will contribute so much as this to that independent spirit in the judges which must be essential to the faithful performance of so arduous a duty. \n",
    "\n",
    "This independence of the judges is equally requisite to guard the Constitution and the rights of individuals from the effects of those ill humors which...occasion dangerous innovations in the government, and serious oppressions of the minor party in the community...it is easy to see, that it would require an uncommon portion of fortitude in the judges to do their duty as faithful guardians of the Constitution, where legislative invasions of it had been instigated by the major voice of the community. \n",
    "\n",
    "But it is not with a view to infractions of the Constitution only, that the independence of the judges may be an essential safeguard against the effects of occasional ill humors in the society. These sometimes extend no farther than to the injury of the private rights of particular classes of citizens, by unjust and partial laws...Considerate men, of every description, ought to prize whatever will tend to beget or fortify that temper in the courts: as no man can be sure that he may not be to-morrow the victim of a spirit of injustice, by which he may be a gainer to-day. And every man must now feel, that the inevitable tendency of such a spirit is to sap the foundations of public and private confidence, and to introduce in its stead universal distrust and distress. \n",
    "\n",
    "That inflexible and uniform adherence to the rights of the Constitution, and of individuals, which we perceive to be indispensable in the courts of justice, can certainly not be expected from judges who hold their offices by a temporary commission. There is yet a further and a weightier reason for the permanency of the judicial offices, which is deducible from the nature of the qualifications they require.\n",
    "\n",
    "It has been frequently remarked, with great propriety, that a voluminous code of laws is one of the inconveniences necessarily connected with the advantages of a free government. To avoid an arbitrary discretion in the courts, it is indispensable that they should be bound down by strict rules and precedents, which serve to define and point out their duty in every particular case that comes before them; and it will readily be conceived from the variety of controversies which grow out of the folly and wickedness of mankind, that the records of those precedents must unavoidably swell to a very considerable bulk, and must demand long and laborious study to acquire a competent knowledge of them. Hence it is, that there can be but few men in the society who will...unite the requisite integrity with the requisite knowledge. \n",
    "\n",
    "These considerations apprise us...that a temporary duration in office, which would naturally discourage such characters from quitting a lucrative line of practice to accept a seat on the bench, would have a tendency to throw the administration of justice into hands less able, and less well qualified, to conduct it with utility and dignity.\n",
    "\n",
    "Upon the whole, there can be no room to doubt that the convention acted wisely in copying from the models of those constitutions which have established GOOD BEHAVIOR as the tenure of their judicial offices, in point of duration"
   ]
  },
  {
   "cell_type": "markdown",
   "metadata": {},
   "source": [
    "### Federalist 79: The Judiciary Department (Hamilton)"
   ]
  },
  {
   "cell_type": "markdown",
   "metadata": {},
   "source": [
    "NEXT to permanency in office, nothing can contribute more to the independence of the judges than a fixed provision for their support. \n",
    "\n",
    "The remark made in relation to the President is equally applicable here. In the general course of human nature, A POWER OVER A MAN's SUBSISTENCE AMOUNTS TO A POWER OVER HIS WILL. And we can never hope to see realized in practice, the complete separation of the judicial from the legislative power, in any system which leaves the former dependent for pecuniary resources on the occasional grants of the latter...The plan of the convention accordingly has provided that the judges of the United States \"shall at STATED TIMES receive for their services a compensation which shall not be DIMINISHED during their continuance in office\".\n",
    "\n",
    "It will readily be understood that the fluctuations in the value of money and in the state of society rendered a fixed rate of compensation in the Constitution inadmissible. What might be extravagant to-day, might in half a century become penurious and inadequate. It was therefore necessary to leave it to the discretion of the legislature to vary its provisions in conformity to the variations in circumstances, yet under such restrictions as to put it out of the power of that body to change the condition of the individual for the worse.\n",
    "\n",
    "This provision for the support of the judges bears every mark of prudence and efficacy; and it may be safely affirmed that, together with the permanent tenure of their offices, it affords a better prospect of their independence than is discoverable in the constitutions of any of the States in regard to their own judges. \n",
    "\n",
    "The precautions for their responsibility are comprised in the article respecting impeachments. They are liable to be impeached for malconduct by the House of Representatives, and tried by the Senate; and, if convicted, may be dismissed from office, and disqualified for holding any other.\n",
    "\n",
    "The want of a provision for removing the judges on account of inability has been a subject of complaint...The mensuration of the faculties of the mind has, I believe, no place in the catalogue of known arts. An attempt to fix the boundary between the regions of ability and inability, would much oftener give scope to personal and party attachments and enmities than advance the interests of justice or the public good. The result, except in the case of insanity, must for the most part be arbitrary; and insanity, without any formal or express provision, may be safely pronounced to be a virtual disqualification.\n",
    "\n"
   ]
  },
  {
   "cell_type": "markdown",
   "metadata": {},
   "source": [
    "### Federalist 80: The Powers of the Judiciary (Hamilton)"
   ]
  },
  {
   "cell_type": "markdown",
   "metadata": {},
   "source": [
    "To JUDGE with accuracy of the proper extent of the federal judicature, it will be necessary to consider, in the first place, what are its proper objects. \n",
    "\n",
    "the judicary authority of the Union ought to extend to these several descriptions of cases: 1st, to all those which arise out of the laws of the United States, passed in pursuance of their just and constitutional powers of legislation; 2d, to all those which concern the execution of the provisions expressly contained in the articles of Union; 3d, to all those in which the United States are a party; 4th, to all those which involve the PEACE of the CONFEDERACY, whether they relate to the intercourse between the United States and foreign nations, or to that between the States themselves; 5th, to all those which originate on the high seas, and are of admiralty or maritime jurisdiction; and, lastly, to all those in which the State tribunals cannot be supposed to be impartial and unbiased.\n",
    "\n",
    "The first point depends upon this obvious consideration, that there ought always to be a constitutional method of giving efficacy to constitutional provisions...This power must either be a direct negative on the State laws, or an authority in the federal courts to overrule such as might be in manifest contravention of the articles of Union. There is no third course that I can imagine. The latter appears to have been thought by the convention preferable to the former, and, I presume, will be most agreeable to the States. \n",
    "\n",
    "As to the second point, it is impossible, by any argument or comment, to make it clearer than it is in itself. If there are such things as political axioms, the propriety of the judicial power of a government being coextensive with its legislative, may be ranked among the number. The mere necessity of uniformity in the interpretation of the national laws, decides the question.\n",
    "\n",
    "Still less need be said in regard to the third point. Controversies between the nation and its members or citizens, can only be properly referred to the national tribunals.\n",
    "\n",
    "The fourth point rests on this plain proposition, that the peace of the WHOLE ought not to be left at the disposal of a PART. The Union will undoubtedly be answerable to foreign powers for the conduct of its members...A distinction may perhaps be imagined between cases arising upon treaties and the laws of nations and those which may stand merely on the footing of the municipal law. The former kind may be supposed proper for the federal jurisdiction, the latter for that of the States...But it is at least problematical, whether an unjust sentence against a foreigner...would not, if unredressed, be an aggression upon his sovereign, as well as one which violated the stipulations of a treaty or the general law of nations. And a still greater objection to the distinction would result from the immense difficulty, if not impossibility, of a practical discrimination between the cases of one complexion and those of the other. So great a proportion of the cases in which foreigners are parties, involve national questions, that it is by far most safe and most expedient to refer all those in which they are concerned to the national tribunals. \n",
    "\n",
    "The power of determining causes between two States, between one State and the citizens of another, and between the citizens of different States, is perhaps not less essential to the peace of the Union than that which has been just examined...It may be esteemed the basis of the Union, that \"the citizens of each State shall be entitled to all the privileges and immunities of citizens of the several States\". And if it be a just principle that every government OUGHT TO POSSESS THE MEANS OF EXECUTING ITS OWN PROVISIONS BY ITS OWN AUTHORITY, it will follow, that in order to the inviolable maintenance of that equality of privileges and immunities to which the citizens of the Union will be entitled, the national judiciary ought to preside in all cases in which one State or its citizens are opposed to another State or its citizens. To secure the full effect of so fundamental a provision...its construction should be committed to that tribunal which, having no local attachments, will be likely to be impartial between the different States and their citizens, and which, owing its official existence to the Union, will never be likely to feel any bias inauspicious to the principles on which it is founded.\n",
    "\n",
    "The fifth point will demand little animadversion. The most bigoted idolizers of State authority have not thus far shown a disposition to deny the national judiciary the cognizances of maritime causes. These so generally depend on the laws of nations, and so commonly affect the rights of foreigners, that they fall within the considerations which are relative to the public peace.\n",
    "\n",
    "The reasonableness of the agency of the national courts in cases in which the State tribunals cannot be supposed to be impartial, speaks for itself. No man ought certainly to be a judge in his own cause, or in any cause in respect to which he has the least interest or bias...The courts of neither of the granting States could be expected to be unbiased. The laws may have even prejudged the question, and tied the courts down to decisions in favor of the grants of the State to which they belonged. And even where this had not been done, it would be natural that the judges, as men, should feel a strong predilection to the claims of their own government. \n",
    "\n",
    "Having thus laid down and discussed the principles which ought to regulate the constitution of the federal judiciary, we will proceed to test, by these principles, the particular powers of which, according to the plan of the convention, it is to be composed. \n",
    "\n",
    "It is to comprehend \"all cases in law and equity arising under the Constitution, the laws of the United States, and treaties made, or which shall be made, under their authority; to all cases affecting ambassadors, other public ministers, and consuls; to all cases of admiralty and maritime jurisdiction; to controversies to which the United States shall be a party; to controversies between two or more States; between a State and citizens of another State; between citizens of different States; between citizens of the same State claiming lands and grants of different States; and between a State or the citizens thereof and foreign states, citizens, and subjects\". This constitutes the entire mass of the judicial authority of the Union. Let us now review it in detail. It is, then, to extend: \n",
    "\n",
    "First. To all cases in law and equity, ARISING UNDER THE CONSTITUTION and THE LAWS OF THE UNITED STATES. This corresponds with the two first classes of causes, which have been enumerated, as proper for the jurisdiction of the United States.\n",
    "\n",
    "It has been asked, what is meant by \"cases arising under the Constitution\" in contradiction from those \"arising under the laws of the United States\"?...All the restrictions upon the authority of the State legislatures furnish examples of it. They are not, for instance, to emit paper money; but the interdiction results from the Constitution, and will have no connection with any law of the United States. \n",
    "\n",
    "It has also been asked, what need of the word \"equity\". What equitable causes can grow out of the Constitution and laws of the United States? There is hardly a subject of litigation between individuals, which may not involve those ingredients of FRAUD, ACCIDENT, TRUST, or HARDSHIP, which would render the matter an object of equitable rather than of legal jurisdiction, as the distinction is known and established in several of the States...In such cases, where foreigners were concerned on either side, it would be impossible for the federal judicatories to do justice without an equitable as well as a legal jurisdiction...This reasoning may not be so palpable in those States where the formal and technical distinction between LAW and EQUITY is not maintained\n",
    "\n",
    "The judiciary authority of the Union is to extend:\n",
    "\n",
    "Second. To treaties made, or which shall be made, under the authority of the United States, and to all cases affecting ambassadors, other public ministers, and consuls. These belong to the fourth class of the enumerated cases, as they have an evident connection with the preservation of the national peace. \n",
    "\n",
    "Third. To cases of admiralty and maritime jurisdiction. These form, altogether, the fifth of the enumerated classes of causes proper for the cognizance of the national courts.\n",
    "\n",
    "Fourth. To controversies to which the United States shall be a party. These constitute the third of those classes.\n",
    "\n",
    "Fifth. To controversies between two or more States; between a State and citizens of another State; between citizens of different States. These belong to the fourth of those classes, and partake, in some measure, of the nature of the last. \n",
    "\n",
    "Sixth. To cases between the citizens of the same State, CLAIMING LANDS UNDER GRANTS OF DIFFERENT STATES. These fall within the last class, and ARE THE ONLY INSTANCES IN WHICH THE PROPOSED CONSTITUTION DIRECTLY CONTEMPLATES THE COGNIZANCE OF DISPUTES BETWEEN THE CITIZENS OF THE SAME STATE. \n",
    "\n",
    "Seventh. To cases between a State and the citizens thereof, and foreign States, citizens, or subjects. These have been already explained to belong to the fourth of the enumerated classes, and have been shown to be, in a peculiar manner, the proper subjects of the national judicature. \n",
    "\n",
    "From this review of the particular powers of the federal judiciary, as marked out in the Constitution, it appears that they are all conformable to the principles which ought to have governed the structure of that department, and which were necessary to the perfection of the system.\n",
    "\n",
    "If some partial inconviences should appear to be connected with the incorporation of any of them into the plan, it ought to be recollected that the national legislature will have ample authority to make such EXCEPTIONS, and to prescribe such regulations as will be calculated to obviate or remove these inconveniences. The possibility of particular mischiefs can never be viewed, by a wellinformed mind, as a solid objection to a general principle, which is calculated to avoid general mischiefs and to obtain general advantages. "
   ]
  },
  {
   "cell_type": "markdown",
   "metadata": {},
   "source": [
    "### Federalist 81: The Judiciary Continued, and the Distribution of the Judicial Authority (Hamilton)"
   ]
  },
  {
   "cell_type": "markdown",
   "metadata": {},
   "source": [
    "LET US now return to the partition of the judiciary authority between different courts, and their relations to each other, \"The judicial power of the United States is\" (by the plan of the convention) \"to be vested in one Supreme Court, and in such inferior courts as the Congress may, from time to time, ordain and establish\".\n",
    "\n",
    "That there ought to be one court of supreme and final jurisdiction, is a proposition which is not likely to be contested...The only question that seems to have been raised concerning it...may be thought to consist in the particular organization of the Supreme Court; in its being composed of a distinct body of magistrates, instead of being one of the branches of the legislature, as in the government of Great Britain and that of the State.\n",
    "\n",
    "From a body which had even a partial agency in passing bad laws, we could rarely expect a disposition to temper and moderate them in the application. The same spirit which had operated in making them, would be too apt in interpreting them...Nor is this all. Every reason which recommends the tenure of good behavior for judicial offices, militates against placing the judiciary power, in the last resort, in a body composed of men chosen for a limited period......there will be great reason to apprehend all the ill consequences of defective information...there will be no less reason to fear that the pestilential breath of faction may poison the fountains of justice. The habit of being continually marshalled on opposite sides will be too apt to stifle the voice both of law and of equity. \n",
    "\n",
    "These considerations teach us to applaud the wisdom of those States who have committed the judicial power, in the last resort, not to a part of the legislature, but to distinct and independent bodies of men. Contrary to the supposition of those who have represented the plan of the convention, in this respect, as novel and unprecedented, it is but a copy of the constitutions of New Hampshire, Massachusetts, Pennsylvania, Delaware, Maryland, Virginia, North Carolina, South Carolina, and Georgia\n",
    "\n",
    "It is not true, in the second place, that the Parliament of Great Britain, or the legislatures of the particular States, can rectify the exceptionable decisions of their respective courts, in any other sense than might be done by a future legislature of the United States. Nor is there any thing in the proposed Constitution, more than in either of them, by which it is forbidden. In the former, as well as in the latter, the impropriety of the thing, on the general principles of law and reason, is the sole obstacle. A legislature, without exceeding its province, cannot reverse a determination once made in a particular case; though it may prescribe a new rule for future cases. This is the principle, and it applies in all its consequences, exactly in the same manner and extent, to the State governments, as to the national government now under consideration. Not the least difference can be pointed out in any view of the subject. \n",
    "\n",
    "It may in the last place be observed that the supposed danger of judiciary encroachments on the legislative authority, which has been upon many occasions reiterated, is in reality a phantom. Particular misconstructions and contraventions of the will of the legislature may now and then happen; but they can never be so extensive as to amount to an inconvenience, or in any sensible degree to affect the order of the political system.\n",
    "\n",
    "This may be inferred with certainty, from the general nature of the judicial power, from the objects to which it relates, from the manner in which it is exercised, from its comparative weakness, and from its total incapacity to support its usurpations by force. And the inference is greatly fortified by the consideration of the important constitutional check which the power of instituting impeachments in one part of the legislative body, and of determining upon them in the other, would give to that body upon the members of the judicial department. This is alone a complete security. There never can be danger that the judges, by a series of deliberate usurpations on the authority of the legislature, would hazard the united resentment of the body intrusted with it, while this body was possessed of the means of punishing their presumption, by degrading them from their stations. While this ought to remove all apprehensions on the subject, it affords, at the same time, a cogent argument for constituting the Senate a court for the trial of impeachments. \n",
    "\n",
    "Having now examined, and, I trust, removed the objections to the distinct and independent organization of the Supreme Court, I proceed to consider the propriety of the power of constituting inferior courts, and the relations which will subsist between these and the former. \n",
    "\n",
    "The power of constituting inferior courts is evidently calculated to obviate the necessity of having recourse to the Supreme Court in every case of federal cognizance...But why, it is asked, might not the same purpose have been accomplished by the instrumentality of the State courts?...There are, in my opinion, substantial reasons against such a provision: the most discerning cannot foresee how far the prevalency of a local spirit may be found to disqualify the local tribunals for the jurisdiction of national causes; whilst every man may discover, that courts constituted like those of some of the States would be improper channels of the judicial authority of the Union. State judges, holding their offices during pleasure, or from year to year, will be too little independent to be relied upon for an inflexible execution of the national laws. \n",
    "\n",
    "And if there was a necessity for confiding the original cognizance of causes arising under those laws to them there would be a correspondent necessity for leaving the door of appeal as wide as possible. In proportion to the grounds of confidence in, or distrust of, the subordinate tribunals, ought to be the facility or difficulty of appeals. And well satisfied as I am of the propriety of the appellate jurisdiction, in the several classes of causes to which it is extended by the plan of the convention. I should consider every thing calculated to give, in practice, an UNRESTRAINED COURSE to appeals, as a source of public and private inconvenience. \n",
    "\n",
    "I am not sure, but that it will be found highly expedient and useful, to divide the United States into four or five or half a dozen districts; and to institute a federal court in each district, in lieu of one in every State. The judges of these courts, with the aid of the State judges, may hold circuits for the trial of causes in the several parts of the respective districts. Justice through them may be administered with ease and despatch; and appeals may be safely circumscribed within a narrow compass.\n",
    "\n",
    "These reasons seem sufficient to satisfy a candid mind, that the want of such a power would have been a great defect in the plan. Let us now examine in what manner the judicial authority is to be distributed between the supreme and the inferior courts of the Union. \n",
    "\n",
    "The Supreme Court is to be invested with original jurisdiction, only \"in cases affecting ambassadors, other public ministers, and consuls, and those in which A STATE shall be a party\".\n",
    "\n",
    "Public ministers of every class are the immediate representatives of their sovereigns. All questions in which they are concerned are so directly connected with the public peace, that, as well for the preservation of this, as out of respect to the sovereignties they represent, it is both expedient and proper that such questions should be submitted in the first instance to the highest judicatory of the nation. Though consuls have not in strictness a diplomatic character, yet as they are the public agents of the nations to which they belong, the same observation is in a great measure applicable to them. In cases in which a State might happen to be a party, it would ill suit its dignity to be turned over to an inferior tribunal. \n",
    "\n",
    "It has been suggested that an assignment of the public securities of one State to the citizens of another, would enable them to prosecute that State in the federal courts for the amount of those securities; a suggestion which the following considerations prove to be without foundation. \n",
    "\n",
    "It is inherent in the nature of sovereignty not to be amenable to the suit of an individual WITHOUT ITS CONSENT. This is the general sense, and the general practice of mankind; and the exemption, as one of the attributes of sovereignty, is now enjoyed by the government of every State in the Union. Unless, therefore, there is a surrender of this immunity in the plan of the convention, it will remain with the States, and the danger intimated must be merely ideal. \n",
    "\n",
    "The contracts between a nation and individuals are only binding on the conscience of the sovereign, and have no pretensions to a compulsive force. They confer no right of action, independent of the sovereign will. To what purpose would it be to authorize suits against States for the debts they owe? How could recoveries be enforced? It is evident, it could not be done without waging war against the contracting State; and to ascribe to the federal courts, by mere implication, and in destruction of a pre-existing right of the State governments, a power which would involve such a consequence, would be altogether forced and unwarrantable. \n",
    "\n",
    "We have seen that the original jurisdiction of the Supreme Court would be confined to two classes of causes, and those of a nature rarely to occur. In all other cases of federal cognizance, the original jurisdiction would appertain to the inferior tribunals; and the Supreme Court would have nothing more than an appellate jurisdiction, \"with such EXCEPTIONS and under such REGULATIONS as the Congress shall make\".\n",
    "\n",
    "The propriety of this appellate jurisdiction has been scarcely called in question in regard to matters of law; but the clamors have been loud against it as applied to matters of fact. Some well-intentioned men in this State, deriving their notions from the language and forms which obtain in our courts, have been induced to consider it as an implied supersedure of the trial by jury, in favor of the civil-law mode of trial...A technical sense has been affixed to the term \"appellate\", which, in our law parlance, is commonly used in reference to appeals in the course of the civil law...The expression, taken in the abstract, denotes nothing more than the power of one tribunal to review the proceedings of another, either as to the law or fact, or both. \n",
    "\n",
    "The mode of doing it may depend on ancient custom or legislative provision (in a new government it must depend on the latter), and may be with or without the aid of a jury, as may be judged advisable. If, therefore, the re-examination of a fact once determined by a jury, should in any case be admitted under the proposed Constitution, it may be so regulated as to be done by a second jury, either by remanding the cause to the court below for a second trial of the fact, or by directing an issue immediately out of the Supreme Court. \n",
    "\n",
    "But it does not follow that the re-examination of a fact once ascertained by a jury, will be permitted in the Supreme Court. Why may not it be said, with the strictest propriety, when a writ of error is brought from an inferior to a superior court of law in this State, that the latter has jurisdiction of the fact as well as the law? It is true it cannot institute a new inquiry concerning the fact, but it takes cognizance of it as it appears upon the record, and pronounces the law arising upon it. This is jurisdiction of both fact and law; nor is it even possible to separate them.\n",
    "\n",
    "The following train of ideas may well be imagined to have influenced the convention, in relation to this particular provision. The appellate jurisdiction of the Supreme Court (it may have been argued) will extend to causes determinable in different modes, some in the course of the COMMON LAW, others in the course of the CIVIL LAW. In the former, the revision of the law only will be, generally speaking, the proper province of the Supreme Court; in the latter, the re-examination of the fact is agreeable to usage, and in some cases, of which prize causes are an example, might be essential to the preservation of the public peace...To avoid all inconveniencies, it will be safest to declare generally, that the Supreme Court shall possess appellate jurisdiction both as to law and FACT, and that this jurisdiction shall be subject to such EXCEPTIONS and regulations as the national legislature may prescribe. This will enable the government to modify it in such a manner as will best answer the ends of public justice and security. \n",
    "\n",
    "The legislature of the United States would certainly have full power to provide, that in appeals to the Supreme Court there should be no re-examination of facts where they had been tried in the original causes by juries. This would certainly be an authorized exception; but if, for the reason already intimated, it should be thought too extensive, it might be qualified with a limitation to such causes only as are determinable at common law in that mode of trial. \n",
    "\n",
    "The amount of the observations hitherto made on the authority of the judicial department is this: that it has been carefully restricted to those causes which are manifestly proper for the cognizance of the national judicature; that in the partition of this authority a very small portion of original jurisdiction has been preserved to the Supreme Court, and the rest consigned to the subordinate tribunals; that the Supreme Court will possess an appellate jurisdiction, both as to law and fact, in all the cases referred to them, both subject to any EXCEPTIONS and REGULATIONS which may be thought advisable; that this appellate jurisdiction does, in no case, ABOLISH the trial by jury; and that an ordinary degree of prudence and integrity in the national councils will insure us solid advantages from the establishment of the proposed judiciary, without exposing us to any of the inconveniences which have been predicted from that source. \n"
   ]
  },
  {
   "cell_type": "markdown",
   "metadata": {},
   "source": [
    "### Federalist 82: The Judiciary Continued, and the Distribution of the Judicial Authority (Hamilton)"
   ]
  },
  {
   "cell_type": "markdown",
   "metadata": {},
   "source": [
    "THE erection of a new government, whatever care or wisdom may distinguish the work, cannot fail to originate questions of intricacy and nicety; and these may, in a particular manner, be expected to flow from the establishment of a constitution founded upon the total or partial incorporation of a number of distinct sovereignties. 'Tis time only that can mature and perfect so compound a system, can liquidate the meaning of all the parts, and can adjust them to each other in a harmonious and consistent WHOLE. \n",
    "\n",
    "Such questions, accordingly, have arisen upon the plan proposed by the convention, and particularly concerning the judiciary department. The principal of these respect the situation of the State courts in regard to those causes which are to be submitted to federal jurisdiction. Is this to be exclusive, or are those courts to possess a concurrent jurisdiction? If the latter, in what relation will they stand to the national tribunals? These are inquiries which we meet with in the mouths of men of sense, and which are certainly entitled to attention. \n",
    "\n",
    "The principles established in a former paper1 teach us that the States will retain all PRE-EXISTING authorities which may not be exclusively delegated to the federal head; and that this exclusive delegation can only exist in one of three cases: where an exclusive authority is, in express terms, granted to the Union; or where a particular authority is granted to the Union, and the exercise of a like authority is prohibited to the States; or where an authority is granted to the Union, with which a similar authority in the States would be utterly incompatible. I shall lay it down as a rule, that the State courts will RETAIN the jurisdiction they now have, unless it appears to be taken away in one of the enumerated modes. \n",
    "\n",
    "The only thing in the proposed Constitution, which wears the appearance of confining the causes of federal cognizance to the federal courts, is contained in this passage: \"The JUDICIAL POWER of the United States SHALL BE VESTED in one Supreme Court, and in SUCH inferior courts as the Congress shall from time to time ordain and establish\".\n",
    "\n",
    "This might either be construed to signify, that the supreme and subordinate courts of the Union should alone have the power of deciding those causes to which their authority is to extend; or simply to denote...that the United States should exercise the judicial power with which they are to be invested, through one supreme tribunal, and a certain number of inferior ones, to be instituted by them. The first excludes, the last admits, the concurrent jurisdiction of the State tribunals; and as the first would amount to an alienation of State power by implication, the last appears to me the most natural and the most defensible construction. \n",
    "\n",
    "I hold that the State courts will be divested of no part of their primitive jurisdiction, further than may relate to an appeal; and I am even of opinion that in every case in which they were not expressly excluded by the future acts of the national legislature, they will of course take cognizance of the causes to which those acts may give birth....When in addition to this we consider the State governments and the national governments, as they truly are, in the light of kindred systems, and as parts of ONE WHOLE, the inference seems to be conclusive, that the State courts would have a concurrent jurisdiction in all cases arising under the laws of the Union, where it was not expressly prohibited. \n",
    "\n",
    "Here another question occurs: What relation would subsist between the national and State courts in these instances of concurrent jurisdiction? I answer, that an appeal would certainly lie from the latter, to the Supreme Court of the United States. \n",
    "\n",
    "The Constitution in direct terms gives an appellate jurisdiction to the Supreme Court in all the enumerated cases of federal cognizance in which it is not to have an original one, without a single expression to confine its operation to the inferior federal courts. The objects of appeal, not the tribunals from which it is to be made, are alone contemplated...Agreeably to the remark already made, the national and State systems are to be regarded as ONE WHOLE. The courts of the latter will of course be natural auxiliaries to the execution of the laws of the Union, and an appeal from them will as naturally lie to that tribunal which is destined to unite and assimilate the principles of national justice and the rules of national decisions. \n",
    "\n",
    "But could an appeal be made to lie from the State courts to the subordinate federal judicatories?...I perceive at present no impediment to the establishment of an appeal from the State courts to the subordinate national tribunals; and many advantages attending the power of doing it may be imagined. \n",
    "\n",
    "It would diminish the motives to the multiplication of federal courts, and would admit of arrangements calculated to contract the appellate jurisdiction of the Supreme Court. The State tribunals may then be left with a more entire charge of federal causes; and appeals, in most cases in which they may be deemed proper, instead of being carried to the Supreme Court, may be made to lie from the State courts to district courts of the Union. "
   ]
  },
  {
   "cell_type": "markdown",
   "metadata": {},
   "source": [
    "### Federalist 83: The Judiciary Continued in Relation to Trial by Jury (Hamilton)"
   ]
  },
  {
   "cell_type": "markdown",
   "metadata": {},
   "source": [
    "THE objection to the plan of the convention, which has met with most success in this State, and perhaps in several of the other States, is THAT RELATIVE TO THE WANT OF A CONSTITUTIONAL PROVISION for the trial by jury in civil case....The mere silence of the Constitution in regard to CIVIL CAUSES, is represented as an abolition of the trial by jury...extending not only to every species of civil, but even to CRIMINAL CAUSES. \n",
    "\n",
    "Every man of discernment must at once perceive the wide difference between SILENCE and ABOLITION. But as the inventors of this fallacy have attempted to support it by certain LEGAL MAXIMS of interpretation, which they have perverted from their true meaning, it may not be wholly useless to explore the ground they have taken. \n",
    "\n",
    "The maxims on which they rely are of this nature: \"A specification of particulars is an exclusion of generals''; or, \"The expression of one thing is the exclusion of another\". Hence, say they, as the Constitution has established the trial by jury in criminal cases, and is silent in respect to civil, this silence is an implied prohibition of trial by jury in regard to the latter. \n",
    "\n",
    "The rules of legal interpretation are rules of COMMONSENSE, adopted by the courts in the construction of the laws. The true test, therefore, of a just application of them is its conformity to the source from which they are derived...Is it natural to suppose, that a command to do one thing is a prohibition to the doing of another, which there was a previous power to do, and which is not incompatible with the thing commanded to be done? If such a supposition would be unnatural and unreasonable, it cannot be rational to maintain that an injunction of the trial by jury in certain cases is an interdiction of it in others. \n",
    "\n",
    "if nothing was said in the Constitution on the subject of juries, the legislature would be at liberty either to adopt that institution or to let it alone. This discretion, in regard to criminal causes, is abridged by the express injunction of trial by jury in all such cases; but it is, of course, left at large in relation to civil causes, there being a total silence on this head...The pretense, therefore, that the national legislature would not be at full liberty to submit all the civil causes of federal cognizance to the determination of juries, is a pretense destitute of all just foundation.\n",
    "\n",
    "From these observations this conclusion results: that the trial by jury in civil cases would not be abolished; and that the use attempted to be made of the maxims which have been quoted, is contrary to reason and common-sense, and therefore not admissible...Having now seen that the maxims relied upon will not bear the use made of them, let us endeavor to ascertain their proper use and true meaning. This will be best done by examples. \n",
    "\n",
    "The plan of the convention declares that the power of Congress, or, in other words, of the NATIONAL LEGISLATURE, shall extend to certain enumerated cases. This specification of particulars evidently excludes all pretension to a general legislative authority, because an affirmative grant of special powers would be absurd, as well as useless, if a general authority was intended.\n",
    "\n",
    "In like manner the judicial authority of the federal judicatures is declared by the Constitution to comprehend certain cases particularly specified. The expression of those cases marks the precise limits, beyond which the federal courts cannot extend their jurisdiction, because the objects of their cognizance being enumerated, the specification would be nugatory if it did not exclude all ideas of more extensive authority. \n",
    "\n",
    "From these observations it must appear unquestionably true, that trial by jury is in no case abolished by the proposed Constitution, and it is equally true, that in those controversies between individuals in which the great body of the people are likely to be interested, that institution will remain precisely in the same situation in which it is placed by the State constitutions, and will be in no degree altered or influenced by the adoption of the plan under consideration...All land causes, except where claims under the grants of different States come into question, and all other controversies between the citizens of the same State, unless where they depend upon positive violations of the articles of union, by acts of the State legislatures, will belong exclusively to the jurisdiction of the State tribunals.\n",
    "\n",
    "The friends and adversaries of the plan of the convention, if they agree in nothing else, concur at least in the value they set upon the trial by jury; or if there is any difference between them it consists in this: the former regard it as a valuable safeguard to liberty; the latter represent it as the very palladium of free government...I must acknowledge that I cannot readily discern the inseparable connection between the existence of liberty, and the trial by jury in civil cases. \n",
    "\n",
    "Arbitrary impeachments, arbitrary methods of prosecuting pretended offenses, and arbitrary punishments upon arbitrary convictions, have ever appeared to me to be the great engines of judicial despotism; and these have all relation to criminal proceedings. The trial by jury in criminal cases, aided by the habeas-corpus act, seems therefore to be alone concerned in the question. And both of these are provided for, in the most ample manner, in the plan of the convention.\n",
    "\n",
    "It has been observed, that trial by jury is a safeguard against an oppressive exercise of the power of taxation. This observation deserves to be canvassed. \n",
    "\n",
    "It is evident that it can have no influence upon the legislature, in regard to the AMOUNT of taxes to be laid, to the OBJECTS upon which they are to be imposed, or to the RULE by which they are to be apportioned. If it can have any influence, therefore, it must be upon the mode of collection, and the conduct of the officers intrusted with the execution of the revenue laws. \n",
    "\n",
    "As to the mode of collection in this State, under our own Constitution, the trial by jury is in most cases out of use...And it is acknowledged on all hands, that this is essential to the efficacy of the revenue laws. The dilatory course of a trial at law to recover the taxes imposed on individuals...would often occasion an accumulation of costs, more burdensome than the original sum of the tax to be levied. \n",
    "\n",
    "And as to the conduct of the officers of the revenue, the provision in favor of trial by jury in criminal cases, will afford the security aimed at. Wilful abuses of a public authority, to the oppression of the subject, and every species of official extortion, are offenses against the government, for which the persons who commit them may be indicted and punished according to the circumstances of the case. \n",
    "\n",
    "The excellence of the trial by jury in civil cases appears to depend on circumstances foreign to the preservation of liberty. The strongest argument in its favor is, that it is a security against corruption. As there is always more time and better opportunity to tamper with a standing body of magistrates than with a jury summoned for the occasion, there is room to suppose that a corrupt influence would more easily find its way to the former than to the latter. \n",
    "\n",
    "The force of this consideration is, however, diminished by others. The sheriff, who is the summoner of ordinary juries, and the clerks of courts, who have the nomination of special juries, are themselves standing officers, and, acting individually, may be supposed more accessible to the touch of corruption than the judges, who are a collective body. It is not difficult to see, that it would be in the power of those officers to select jurors who would serve the purpose of the party as well as a corrupted bench. \n",
    "\n",
    "But making every deduction for these considerations, the trial by jury must still be a valuable check upon corruption. It greatly multiplies the impediments to its success. As matters now stand, it would be necessary to corrupt both court and jury...Here then is a double security; and it will readily be perceived that this complicated agency tends to preserve the purity of both institutions. By increasing the obstacles to success, it discourages attempts to seduce the integrity of either\n",
    "\n",
    "Notwithstanding, therefore, the doubts I have expressed, as to the essentiality of trial by jury in civil cases to liberty, I admit that it is in most cases, under proper regulations, an excellent method of determining questions of property; and that on this account alone it would be entitled to a constitutional provision in its favor if it were possible to fix the limits within which it ought to be comprehended...For my own part, at every new view I take of the subject, I become more convinced of the reality of the obstacles which, we are authoritatively informed, prevented the insertion of a provision on this head in the plan of the convention. \n",
    "\n",
    "no general rule could have been fixed upon by the convention which would have corresponded with the circumstances of all the States...Whether the cause should be tried with or without a jury, would depend, in a great number of cases, on the accidental situation of the court and parties. But this is not, in my estimation, the greatest objection. \n",
    "\n",
    "I feel a deep and deliberate conviction that there are many cases in which the trial by jury is an ineligible one. I think it so particularly in cases which concern the public peace with foreign nations that is, in most cases where the question turns wholly on the laws of nations. Of this nature, among others, are all prize causes...There would of course be always danger that the rights of other nations might be infringed by their decisions, so as to afford occasions of reprisal and war.\n",
    "\n",
    "My convictions are equally strong that great advantages result from the separation of the equity from the law jurisdiction...the circumstances that constitute cases proper for courts of equity are in many instances so nice and intricate, that they are incompatible with the genius of trials by jury...The simplicity and expedition which form the distinguishing characters of this mode of trial require that the matter to be decided should be reduced to some single and obvious point; while the litigations usual in chancery frequently comprehend a long train of minute and independent particulars. \n",
    "\n",
    "To avoid the embarrassments of a definition of the cases which the trial by jury ought to embrace, it is sometimes suggested by men of enthusiastic tempers, that a provision might have been inserted for establishing it in all cases whatsoever. For this I believe, no precedent is to be found in any member of the Union; and the considerations which have been stated...must satisfy every sober mind that the establishment of the trial by jury in ALL cases would have been an unpardonable error in the plan. \n",
    "\n",
    "The best judges of the matter will be the least anxious for a constitutional establishment of the trial by jury in civil cases, and will be the most ready to admit that the changes which are continually happening in the affairs of society may render a different mode of determining questions of property preferable in many cases in which that mode of trial now prevails.\n",
    "\n",
    "It certainly sounds not a little harsh and extraordinary to affirm that there is no security for liberty in a Constitution which expressly establishes the trial by jury in criminal cases, because it does not do it in civil also\n"
   ]
  },
  {
   "cell_type": "markdown",
   "metadata": {},
   "source": [
    "### Federalist 84: Certain General and Miscellaneous Objections to the Constitution Considered and Answered  (Hamilton)"
   ]
  },
  {
   "cell_type": "markdown",
   "metadata": {},
   "source": [
    "IN THE course of the foregoing review of the Constitution, I have taken notice of, and endeavored to answer most of the objections which have appeared against it. There, however, remain a few which either did not fall naturally under any particular head or were forgotten in their proper places. These shall now be discussed\n",
    "\n",
    "The most considerable of the remaining objections is that the plan of the convention contains no bill of rights...\n",
    "\n",
    "the opposers of the new system, in this State...To justify their zeal in this matter...allege two things: one is that, though the constitution of New York has no bill of rights prefixed to it, yet it contains, in the body of it, various provisions in favor of particular privileges and rights, which, in substance amount to the same thing; the other is, that the Constitution adopts, in their full extent, the common and statute law of Great Britain, by which many other rights, not expressed in it, are equally secured. \n",
    "\n",
    "To the first I answer, that the Constitution proposed by the convention contains, as well as the constitution of this State, a number of such provisions...It may well be a question, whether these are not, upon the whole, of equal importance with any which are to be found in the constitution of this State. The establishment of the writ of habeas corpus, the prohibition of ex-post-facto laws, and of TITLES OF NOBILITY, TO WHICH WE HAVE NO CORRESPONDING PROVISION IN OUR CONSTITUTION, are perhaps greater securities to liberty and republicanism than any it contains. \n",
    "\n",
    "The creation of crimes after the commission of the fact, or, in other words, the subjecting of men to punishment for things which, when they were done, were breaches of no law, and the practice of arbitrary imprisonments, have been, in all ages, the favorite and most formidable instruments of tyranny...the importance of the prohibition of titles of nobility...may truly be denominated the corner-stone of republican government; for so long as they are excluded, there can never be serious danger that the government will be any other than that of the people.\n",
    "\n",
    "To the second that is, to the pretended establishment of the common and state law by the Constitution, I answer, that they are expressly made subject \"to such alterations and provisions as the legislature shall from time to time make concerning the same\". They are therefore at any moment liable to repeal by the ordinary legislative power, and of course have no constitutional sanction. The only use of the declaration was to recognize the ancient law and to remove doubts which might have been occasioned by the Revolution. This consequently can be considered as no part of a declaration of rights, which under our constitutions must be intended as limitations of the power of the government itself. \n",
    "\n",
    "It has been several times truly remarked that bills of rights are, in their origin, stipulations between kings and their subjects, abridgements of prerogative in favor of privilege, reservations of rights not surrendered to the prince. Such was MAGNA CHARTA, obtained by the barons, sword in hand, from King John. Such were the subsequent confirmations of that charter by succeeding princes. Such was the PETITION OF RIGHT assented to by Charles I., in the beginning of his reign. Such, also, was the Declaration of Right presented by the Lords and Commons to the Prince of Orange in 1688, and afterwards thrown into the form of an act of parliament called the Bill of Rights. \n",
    "\n",
    "It is evident, therefore, that, according to their primitive signification, they have no application to constitutions professedly founded upon the power of the people, and executed by their immediate representatives and servants. Here, in strictness, the people surrender nothing; and as they retain every thing they have no need of particular reservations. \"WE, THE PEOPLE of the United States, to secure the blessings of liberty to ourselves and our posterity, do ORDAIN and ESTABLISH this Constitution for the United States of America\". Here is a better recognition of popular rights, than volumes of those aphorisms which make the principal figure in several of our State bills of rights, and which would sound much better in a treatise of ethics than in a constitution of government. \n",
    "\n",
    "I go further, and affirm that bills of rights, in the sense and to the extent in which they are contended for, are not only unnecessary in the proposed Constitution, but would even be dangerous. They would contain various exceptions to powers not granted; and, on this very account, would afford a colorable pretext to claim more than were granted. For why declare that things shall not be done which there is no power to do? Why, for instance, should it be said that the liberty of the press shall not be restrained, when no power is given by which restrictions may be imposed?...I will not contend that such a provision would confer a regulating power; but it is evident that it would furnish, to men disposed to usurp, a plausible pretense for claiming that power.\n",
    "\n",
    "On the subject of the liberty of the press...I observe, that there is not a syllable concerning it in the constitution of this State...What signifies a declaration, that \"the liberty of the press shall be inviolably preserved\"? What is the liberty of the press? Who can give it any definition which would not leave the utmost latitude for evasion? I hold it to be impracticable; and from this I infer, that its security, whatever fine declarations may be inserted in any constitution respecting it, must altogether depend on public opinion, and on the general spirit of the people and of the government.\n",
    "\n",
    "There remains but one other view of this matter to conclude the point. The truth is, after all the declamations we have heard, that the Constitution is itself, in every rational sense, and to every useful purpose, A BILL OF RIGHTS...Is it one object of a bill of rights to declare and specify the political privileges of the citizens in the structure and administration of the government? This is done in the most ample and precise manner in the plan of the convention...Is another object of a bill of rights to define certain immunities and modes of proceeding, which are relative to personal and private concerns? This we have seen has also been attended to, in a variety of cases, in the same plan...Adverting therefore to the substantial meaning of a bill of rights, it is absurd to allege that it is not to be found in the work of the convention. It may be said that it does not go far enough, though it will not be easy to make this appear; but it can with no propriety be contended that there is no such thing.\n",
    "\n",
    "Another objection which has been made, and which, from the frequency of its repetition, it is to be presumed is relied on, is of this nature: \"It is improper\" say the objectors \"to confer such large powers, as are proposed, upon the national government, because the seat of that government must of necessity be too remote from many of the States to admit of a proper knowledge on the part of the constituent, of the conduct of the representative body\". \n",
    "\n",
    "This argument, if it proves any thing, proves that there ought to be no general government whatever...But there are satisfactory reasons to show that the objection is in reality not well founded.\n",
    "\n",
    "What are the sources of information by which the people in Montgomery County must regulate their judgment of the conduct of their representatives in the State legislature? Of personal observation they can have no benefit...They must therefore depend on the information...from the complexion of public measures, from the public prints, from correspondences with their representatives, and with other persons who reside at the place of their deliberations. This does not apply to Montgomery County only, but to all the counties at any considerable distance from the seat of government. \n",
    "\n",
    "It is equally evident that the same sources of information would be open to the people in relation to the conduct of their representatives in the general government, and the impediments to a prompt communication which distance may be supposed to create, will be overbalanced by the effects of the vigilance of the State governments. The executive and legislative bodies of each State will...never be at a loss to know the behavior of those who represent their constituents in the national councils, and can readily communicate the same knowledge to the people.\n",
    "\n",
    "It ought also to be remembered that the citizens who inhabit the country at and near the seat of government will, in all questions that affect the general liberty and prosperity, have the same interest with those who are at a distance, and that they will stand ready to sound the alarm when necessary, and to point out the actors in any pernicious project. The public papers will be expeditious messengers of intelligence to the most remote inhabitants of the Union.\n",
    "\n",
    "Among the many curious objections which have appeared against the proposed Constitution, the most extraordinary and the least colorable is derived from the want of some provision respecting the debts due TO the United States...In addition to the remarks I have made upon the subject in another place, I shall only observe that as it is a plain dictate of common-sense, so it is also an established doctrine of political law, that \"STATES NEITHER LOSE ANY OF THEIR RIGHTS, NOR ARE DISCHARGED FROM ANY OF THEIR OBLIGATIONS, BY A CHANGE IN THE FORM OF THEIR CIVIL GOVERNMENT\".\n",
    "\n",
    "The last objection of any consequence, which I at present recollect, turns upon the article of expense. If it were even true, that the adoption of the proposed government would occasion a considerable increase of expense, it would be an objection that ought to have no weight against the plan. \n",
    "\n",
    "The great bulk of the citizens of America are with reason convinced, that Union is the basis of their political happiness. Men of sense of all parties now, with few exceptions, agree that it cannot be preserved under the present system, nor without radical alterations; that new and extensive powers ought to be granted to the national head, and that these require a different organization of the federal government a single body being an unsafe depositary of such ample authorities. In conceding all this, the question of expense must be given up; for it is impossible, with any degree of safety, to narrow the foundation upon which the system is to stand. \n",
    "\n",
    "Whence is the dreaded augmentation of expense to spring? One source indicated, is the multiplication of offices under the new government. Let us examine this a little.\n",
    "\n",
    "It is evident that the principal departments of the administration under the present government, are the same which will be required under the new. There are now a Secretary of War, a Secretary of Foreign Affairs, a Secretary for Domestic Affairs, a Board of Treasury, consisting of three persons, a Treasurer, assistants, clerks, etc. These officers are indispensable under any system, and will suffice under the new as well as the old. \n",
    "\n",
    "As to ambassadors and other ministers and agents in foreign countries, the proposed Constitution can make no other difference than to render their characters, where they reside, more respectable, and their services more useful. As to persons to be employed in the collection of the revenues, it is unquestionably true that these will form a very considerable addition to the number of federal officers; but it will not follow that this will occasion an increase of public expense. It will be in most cases nothing more than an exchange of State for national officers. \n",
    "\n",
    "The support of the judges will clearly be an extra expense, but to what extent will depend on the particular plan which may be adopted in regard to this matter. But upon no reasonable plan can it amount to a sum which will be an object of material consequence. \n",
    "\n",
    "Let us now see what there is to counterbalance any extra expense that may attend the establishment of the proposed government. The first thing which presents itself is that a great part of the business which now keeps Congress sitting through the year will be transacted by the President. Even the management of foreign negotiations will naturally devolve upon him, according to general principles concerted with the Senate, and subject to their final concurrence.\n",
    "\n",
    "But there is another circumstance of great importance in the view of economy. The business of the United States has hitherto occupied the State legislatures, as well as Congress...Hence it has happened that the sessions of the State legislatures have been protracted greatly beyond what was necessary for the execution of the mere local business of the States. More than half their time has been frequently employed in matters which related to the United States...The Congress under the proposed government will do all the business of the United States themselves, without the intervention of the State legislatures, who thenceforth will have only to attend to the affairs of their particular States...This difference in the time of the sessions of the State legislatures will be clear gain, and will alone form an article of saving, which may be regarded as an equivalent for any additional objects of expense that may be occasioned by the adoption of the new system. \n",
    "\n",
    "The result from these observations is that the sources of additional expense from the establishment of the proposed Constitution are much fewer than may have been imagined; that they are counterbalanced by considerable objects of saving; and that while it is questionable on which side the scale will preponderate, it is certain that a government less expensive would be incompetent to the purposes of the Union. \n"
   ]
  },
  {
   "cell_type": "markdown",
   "metadata": {},
   "source": [
    "### Federalist 85: Concluding Remarks (Hamilton)"
   ]
  },
  {
   "cell_type": "markdown",
   "metadata": {},
   "source": [
    "ACCORDING to the formal division of the subject of these papers, announced in my first number, there would appear still to remain for discussion two points: \"the analogy of the proposed government to your own State constitution\", and \"the additional security which its adoption will afford to republican government, to liberty, and to property\".\n",
    "\n",
    "But these heads have been so fully anticipated and exhausted in the progress of the work, that it would now scarcely be possible to do any thing more than repeat, in a more dilated form, what has been heretofore said\n",
    "\n",
    "It is remarkable, that the resemblance of the plan of the convention to the act which organizes the government of this State holds...Among the pretended defects are the re-eligibility of the Executive, the want of a council, the omission of a formal bill of rights, the omission of a provision respecting the liberty of the press. These...are as much chargeable on the existing constitution of this State, as on the one proposed for the Union...can there be a better proof of the insincerity and affectation of some of the zealous adversaries of the plan of the convention among us...than the fury with which they have attacked that plan, for matters in regard to which our own constitution is equally or perhaps more vulnerable.\n",
    "\n",
    "The additional securities to republican government, to liberty and to property, to be derived from the adoption of the plan under consideration, consist chiefly in the restraints which the preservation of the Union will impose on local factions and insurrections, and on the ambition of powerful individuals...who may...become the despots of the people; in the diminution of the opportunities to foreign intrigue, which the dissolution of the Confederacy would invite and facilitate; in the prevention of extensive military establishments, which could not fail to grow out of wars between the States in a disunited situation; in the express guaranty of a republican form of government to each; in the absolute and universal exclusion of titles of nobility; and in the precautions against the repetition of those practices on the part of the State governments which have undermined the foundations of property and credit, have planted mutual distrust in the breasts of all classes of citizens, and have occasioned an almost universal prostration of morals.\n",
    "\n",
    "Thus have I, fellow-citizens, executed the task I had assigned to myself; with what success, your conduct must determine...I have addressed myself purely to your judgments, and have studiously avoided those asperities...provoked by the language and conduct of the opponents of the Constitution....The charge of a conspiracy against the liberties of the people, which has been indiscriminately brought against the advocates of the plan...and...The perpetual changes which have been rung upon the wealthy, the well-born, and the great, have been such as to inspire the disgust of all sensible men.\n",
    "\n",
    "It is not impossible that these circumstances may have occasionally betrayed me into intemperances of expression which I did not intend; it is certain that I have frequently felt a struggle between sensibility and moderation; and if the former has in some instances prevailed, it must be my excuse that it has been neither often nor much. \n",
    "\n",
    "Let us now pause and ask ourselves whether, in the course of these papers, the proposed Constitution has not been satisfactorily vindicated from the aspersions thrown upon it; and whether it has not been shown to be worthy of the public approbation, and necessary to the public safety and prosperity...I am persuaded that it is the best which our political situation, habits, and opinions will admit, and superior to any the revolution has produced. \n",
    "\n",
    "Concessions on the part of the friends of the plan, that it has not a claim to absolute perfection, have afforded matter of no small triumph to its enemies...They have been stated as amounting to an admission that the plan is radically defective, and that without material alterations the rights and the interests of the community cannot be safely confided to it. This, as far as I have understood the meaning of those who make the concessions, is an entire perversion of their sense. \n",
    "\n",
    "No advocate of the measure can be found, who will not declare as his sentiment, that the system, though it may not be perfect in every part, is, upon the whole, a good one; is the best that the present views and circumstances of the country will permit; and is such an one as promises every species of security which a reasonable people can desire. I answer in the next place, that...I never expect to see a perfect work from imperfect man...How can perfection spring from such materials?\n",
    "\n",
    "There is, however, one point of light in which the subject of amendments still remains to be considered, and in which it has not yet been exhibited to public view. I cannot resolve to conclude without first taking a survey of it in this aspect. \n",
    "\n",
    "It appears to me...that it will be far more easy to obtain subsequent than previous amendments to the Constitution. The moment an alteration is made in the present plan, it becomes, to the purpose of adoption, a new one, and must undergo a new decision of each State...If, on the contrary, the Constitution proposed should once be ratified by all the States as it stands, alterations in it may at any time be effected by nine States.\n",
    "\n",
    "This is not all. Every Constitution for the United States must inevitably consist of a great variety of particulars, in which thirteen independent States are to be accommodated in their interests or opinions of interest...and hence, also, an immense multiplication of difficulties and casualties in obtaining the collective assent to a final act. The degree of that multiplication must evidently be in a ratio to the number of particulars and the number of parties. But every amendment to the Constitution, if once established, would be a single proposition, and might be brought forward singly. There would then be no necessity for management or compromise, in relation to any other point no giving nor taking. The will of the requisite number would at once bring the matter to a decisive issue. \n",
    "\n",
    "In opposition to the probability of subsequent amendments, it has been urged that the persons delegated to the administration of the national government will always be disinclined to yield up any portion of the authority of which they were once possessed. For my own part I acknowledge a thorough conviction that any amendments which may, upon mature consideration, be thought useful, will be applicable to the organization of the government, not to the mass of its powers; and on this account alone, I think there is no weight in the observation just stated. I also think there is little weight in it on another account. \n",
    "\n",
    "We may safely rely on the disposition of the State legislatures to erect barriers against the encroachments of the national authority...it is, in my conception, one of those rare instances in which a political truth can be brought to the test of a mathematical demonstration. Those who see the matter in the same light with me, however zealous they may be for amendments, must agree in the propriety of a previous adoption, as the most direct road to their own object. \n",
    "\n",
    "The zeal for attempts to amend, prior to the establishment of the Constitution, must abate in every man who is ready to accede to the truth of the following observations of a writer equally solid and ingenious: \"To balance a large state or society\", says he, \"whether monarchical or republican, on general laws, is a work of so great difficulty, that no human genius, however comprehensive, is able, by the mere dint of reason and reflection, to effect it. The judgments of many must unite in the work; experience must guide their labor; time must bring it to perfection, and the feeling of inconveniences must correct the mistakes which they INEVITABLY fall into in their first trials and experiments\".\n",
    "\n",
    "These judicious reflections contain a lesson of moderation to all the sincere lovers of the Union, and ought to put them upon their guard against hazarding anarchy, civil war, a perpetual alienation of the States from each other, and perhaps the military despotism of a victorious demagogue, in the pursuit of what they are not likely to obtain, but from time and experience.\n",
    "\n",
    "It may be in me a defect of political fortitude, but I acknowledge that I cannot entertain an equal tranquillity with those who affect to treat the dangers of a longer continuance in our present situation as imaginary. A nation, without a national government, is, in my view, an awful spectacle.\n",
    "\n",
    "The establishment of a Constitution, in time of profound peace, by the voluntary consent of a whole people, is a prodigy, to the completion of which I look forward with trembling anxiety...I dread the more the consequences of new attempts, because I know that powerful individuals, in this and in other States, are enemies to a general national government in every possible shape. "
   ]
  },
  {
   "cell_type": "code",
   "execution_count": null,
   "metadata": {},
   "outputs": [],
   "source": []
  }
 ],
 "metadata": {
  "kernelspec": {
   "display_name": "Python 3",
   "language": "python",
   "name": "python3"
  },
  "language_info": {
   "codemirror_mode": {
    "name": "ipython",
    "version": 3
   },
   "file_extension": ".py",
   "mimetype": "text/x-python",
   "name": "python",
   "nbconvert_exporter": "python",
   "pygments_lexer": "ipython3",
   "version": "3.7.3"
  }
 },
 "nbformat": 4,
 "nbformat_minor": 2
}
